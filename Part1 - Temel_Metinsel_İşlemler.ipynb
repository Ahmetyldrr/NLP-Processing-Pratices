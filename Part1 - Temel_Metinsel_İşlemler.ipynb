{
  "nbformat": 4,
  "nbformat_minor": 0,
  "metadata": {
    "colab": {
      "provenance": [],
      "collapsed_sections": [
        "MjpLlNs4SvyO",
        "dGO45bD1RHR6",
        "wg2YUe5eShP-",
        "fTflybFtHa-i"
      ],
      "toc_visible": true,
      "authorship_tag": "ABX9TyOqq9X6SfbRlGl4CC0TNn5K",
      "include_colab_link": true
    },
    "kernelspec": {
      "name": "python3",
      "display_name": "Python 3"
    },
    "language_info": {
      "name": "python"
    },
    "widgets": {
      "application/vnd.jupyter.widget-state+json": {
        "7733efb47c9d43f389ba525cf1f8fcfa": {
          "model_module": "@jupyter-widgets/controls",
          "model_name": "HBoxModel",
          "model_module_version": "1.5.0",
          "state": {
            "_dom_classes": [],
            "_model_module": "@jupyter-widgets/controls",
            "_model_module_version": "1.5.0",
            "_model_name": "HBoxModel",
            "_view_count": null,
            "_view_module": "@jupyter-widgets/controls",
            "_view_module_version": "1.5.0",
            "_view_name": "HBoxView",
            "box_style": "",
            "children": [
              "IPY_MODEL_b6db5321982a4b5fb44fad370df121de",
              "IPY_MODEL_a8a5a24331d741b68402c9f0ecb1d491",
              "IPY_MODEL_33a0dc2db5cc4a288b31a108c47f8d1e"
            ],
            "layout": "IPY_MODEL_94c8f2f0bcc945c7b2d9b7dbbb57d0c6"
          }
        },
        "b6db5321982a4b5fb44fad370df121de": {
          "model_module": "@jupyter-widgets/controls",
          "model_name": "HTMLModel",
          "model_module_version": "1.5.0",
          "state": {
            "_dom_classes": [],
            "_model_module": "@jupyter-widgets/controls",
            "_model_module_version": "1.5.0",
            "_model_name": "HTMLModel",
            "_view_count": null,
            "_view_module": "@jupyter-widgets/controls",
            "_view_module_version": "1.5.0",
            "_view_name": "HTMLView",
            "description": "",
            "description_tooltip": null,
            "layout": "IPY_MODEL_617af5e2f37a42f6acc1325ea36617c4",
            "placeholder": "​",
            "style": "IPY_MODEL_2478e89b3bf845588f1a1bb5ebe08606",
            "value": "tokenizer_config.json: 100%"
          }
        },
        "a8a5a24331d741b68402c9f0ecb1d491": {
          "model_module": "@jupyter-widgets/controls",
          "model_name": "FloatProgressModel",
          "model_module_version": "1.5.0",
          "state": {
            "_dom_classes": [],
            "_model_module": "@jupyter-widgets/controls",
            "_model_module_version": "1.5.0",
            "_model_name": "FloatProgressModel",
            "_view_count": null,
            "_view_module": "@jupyter-widgets/controls",
            "_view_module_version": "1.5.0",
            "_view_name": "ProgressView",
            "bar_style": "success",
            "description": "",
            "description_tooltip": null,
            "layout": "IPY_MODEL_93f7cc07f4f24a679a6007e710b00008",
            "max": 48,
            "min": 0,
            "orientation": "horizontal",
            "style": "IPY_MODEL_1d25207fa7c74056954057c4a8cd9063",
            "value": 48
          }
        },
        "33a0dc2db5cc4a288b31a108c47f8d1e": {
          "model_module": "@jupyter-widgets/controls",
          "model_name": "HTMLModel",
          "model_module_version": "1.5.0",
          "state": {
            "_dom_classes": [],
            "_model_module": "@jupyter-widgets/controls",
            "_model_module_version": "1.5.0",
            "_model_name": "HTMLModel",
            "_view_count": null,
            "_view_module": "@jupyter-widgets/controls",
            "_view_module_version": "1.5.0",
            "_view_name": "HTMLView",
            "description": "",
            "description_tooltip": null,
            "layout": "IPY_MODEL_2046dfd4ee0641c7858fa6149803a895",
            "placeholder": "​",
            "style": "IPY_MODEL_2e54cc3cba334b3a8794ae19df23e12b",
            "value": " 48.0/48.0 [00:00&lt;00:00, 3.97kB/s]"
          }
        },
        "94c8f2f0bcc945c7b2d9b7dbbb57d0c6": {
          "model_module": "@jupyter-widgets/base",
          "model_name": "LayoutModel",
          "model_module_version": "1.2.0",
          "state": {
            "_model_module": "@jupyter-widgets/base",
            "_model_module_version": "1.2.0",
            "_model_name": "LayoutModel",
            "_view_count": null,
            "_view_module": "@jupyter-widgets/base",
            "_view_module_version": "1.2.0",
            "_view_name": "LayoutView",
            "align_content": null,
            "align_items": null,
            "align_self": null,
            "border": null,
            "bottom": null,
            "display": null,
            "flex": null,
            "flex_flow": null,
            "grid_area": null,
            "grid_auto_columns": null,
            "grid_auto_flow": null,
            "grid_auto_rows": null,
            "grid_column": null,
            "grid_gap": null,
            "grid_row": null,
            "grid_template_areas": null,
            "grid_template_columns": null,
            "grid_template_rows": null,
            "height": null,
            "justify_content": null,
            "justify_items": null,
            "left": null,
            "margin": null,
            "max_height": null,
            "max_width": null,
            "min_height": null,
            "min_width": null,
            "object_fit": null,
            "object_position": null,
            "order": null,
            "overflow": null,
            "overflow_x": null,
            "overflow_y": null,
            "padding": null,
            "right": null,
            "top": null,
            "visibility": null,
            "width": null
          }
        },
        "617af5e2f37a42f6acc1325ea36617c4": {
          "model_module": "@jupyter-widgets/base",
          "model_name": "LayoutModel",
          "model_module_version": "1.2.0",
          "state": {
            "_model_module": "@jupyter-widgets/base",
            "_model_module_version": "1.2.0",
            "_model_name": "LayoutModel",
            "_view_count": null,
            "_view_module": "@jupyter-widgets/base",
            "_view_module_version": "1.2.0",
            "_view_name": "LayoutView",
            "align_content": null,
            "align_items": null,
            "align_self": null,
            "border": null,
            "bottom": null,
            "display": null,
            "flex": null,
            "flex_flow": null,
            "grid_area": null,
            "grid_auto_columns": null,
            "grid_auto_flow": null,
            "grid_auto_rows": null,
            "grid_column": null,
            "grid_gap": null,
            "grid_row": null,
            "grid_template_areas": null,
            "grid_template_columns": null,
            "grid_template_rows": null,
            "height": null,
            "justify_content": null,
            "justify_items": null,
            "left": null,
            "margin": null,
            "max_height": null,
            "max_width": null,
            "min_height": null,
            "min_width": null,
            "object_fit": null,
            "object_position": null,
            "order": null,
            "overflow": null,
            "overflow_x": null,
            "overflow_y": null,
            "padding": null,
            "right": null,
            "top": null,
            "visibility": null,
            "width": null
          }
        },
        "2478e89b3bf845588f1a1bb5ebe08606": {
          "model_module": "@jupyter-widgets/controls",
          "model_name": "DescriptionStyleModel",
          "model_module_version": "1.5.0",
          "state": {
            "_model_module": "@jupyter-widgets/controls",
            "_model_module_version": "1.5.0",
            "_model_name": "DescriptionStyleModel",
            "_view_count": null,
            "_view_module": "@jupyter-widgets/base",
            "_view_module_version": "1.2.0",
            "_view_name": "StyleView",
            "description_width": ""
          }
        },
        "93f7cc07f4f24a679a6007e710b00008": {
          "model_module": "@jupyter-widgets/base",
          "model_name": "LayoutModel",
          "model_module_version": "1.2.0",
          "state": {
            "_model_module": "@jupyter-widgets/base",
            "_model_module_version": "1.2.0",
            "_model_name": "LayoutModel",
            "_view_count": null,
            "_view_module": "@jupyter-widgets/base",
            "_view_module_version": "1.2.0",
            "_view_name": "LayoutView",
            "align_content": null,
            "align_items": null,
            "align_self": null,
            "border": null,
            "bottom": null,
            "display": null,
            "flex": null,
            "flex_flow": null,
            "grid_area": null,
            "grid_auto_columns": null,
            "grid_auto_flow": null,
            "grid_auto_rows": null,
            "grid_column": null,
            "grid_gap": null,
            "grid_row": null,
            "grid_template_areas": null,
            "grid_template_columns": null,
            "grid_template_rows": null,
            "height": null,
            "justify_content": null,
            "justify_items": null,
            "left": null,
            "margin": null,
            "max_height": null,
            "max_width": null,
            "min_height": null,
            "min_width": null,
            "object_fit": null,
            "object_position": null,
            "order": null,
            "overflow": null,
            "overflow_x": null,
            "overflow_y": null,
            "padding": null,
            "right": null,
            "top": null,
            "visibility": null,
            "width": null
          }
        },
        "1d25207fa7c74056954057c4a8cd9063": {
          "model_module": "@jupyter-widgets/controls",
          "model_name": "ProgressStyleModel",
          "model_module_version": "1.5.0",
          "state": {
            "_model_module": "@jupyter-widgets/controls",
            "_model_module_version": "1.5.0",
            "_model_name": "ProgressStyleModel",
            "_view_count": null,
            "_view_module": "@jupyter-widgets/base",
            "_view_module_version": "1.2.0",
            "_view_name": "StyleView",
            "bar_color": null,
            "description_width": ""
          }
        },
        "2046dfd4ee0641c7858fa6149803a895": {
          "model_module": "@jupyter-widgets/base",
          "model_name": "LayoutModel",
          "model_module_version": "1.2.0",
          "state": {
            "_model_module": "@jupyter-widgets/base",
            "_model_module_version": "1.2.0",
            "_model_name": "LayoutModel",
            "_view_count": null,
            "_view_module": "@jupyter-widgets/base",
            "_view_module_version": "1.2.0",
            "_view_name": "LayoutView",
            "align_content": null,
            "align_items": null,
            "align_self": null,
            "border": null,
            "bottom": null,
            "display": null,
            "flex": null,
            "flex_flow": null,
            "grid_area": null,
            "grid_auto_columns": null,
            "grid_auto_flow": null,
            "grid_auto_rows": null,
            "grid_column": null,
            "grid_gap": null,
            "grid_row": null,
            "grid_template_areas": null,
            "grid_template_columns": null,
            "grid_template_rows": null,
            "height": null,
            "justify_content": null,
            "justify_items": null,
            "left": null,
            "margin": null,
            "max_height": null,
            "max_width": null,
            "min_height": null,
            "min_width": null,
            "object_fit": null,
            "object_position": null,
            "order": null,
            "overflow": null,
            "overflow_x": null,
            "overflow_y": null,
            "padding": null,
            "right": null,
            "top": null,
            "visibility": null,
            "width": null
          }
        },
        "2e54cc3cba334b3a8794ae19df23e12b": {
          "model_module": "@jupyter-widgets/controls",
          "model_name": "DescriptionStyleModel",
          "model_module_version": "1.5.0",
          "state": {
            "_model_module": "@jupyter-widgets/controls",
            "_model_module_version": "1.5.0",
            "_model_name": "DescriptionStyleModel",
            "_view_count": null,
            "_view_module": "@jupyter-widgets/base",
            "_view_module_version": "1.2.0",
            "_view_name": "StyleView",
            "description_width": ""
          }
        },
        "8bcaa6ccefdb4b3fb9668eb9ed08aac4": {
          "model_module": "@jupyter-widgets/controls",
          "model_name": "HBoxModel",
          "model_module_version": "1.5.0",
          "state": {
            "_dom_classes": [],
            "_model_module": "@jupyter-widgets/controls",
            "_model_module_version": "1.5.0",
            "_model_name": "HBoxModel",
            "_view_count": null,
            "_view_module": "@jupyter-widgets/controls",
            "_view_module_version": "1.5.0",
            "_view_name": "HBoxView",
            "box_style": "",
            "children": [
              "IPY_MODEL_cf28e1da9e124555a889b7882d7b2703",
              "IPY_MODEL_75c40f4ed730461c9936c63d0da77b73",
              "IPY_MODEL_53ca0b5c9c9a4d71a699c6cfc8efb4b8"
            ],
            "layout": "IPY_MODEL_218bcb7861184e43beba7b04003a70c1"
          }
        },
        "cf28e1da9e124555a889b7882d7b2703": {
          "model_module": "@jupyter-widgets/controls",
          "model_name": "HTMLModel",
          "model_module_version": "1.5.0",
          "state": {
            "_dom_classes": [],
            "_model_module": "@jupyter-widgets/controls",
            "_model_module_version": "1.5.0",
            "_model_name": "HTMLModel",
            "_view_count": null,
            "_view_module": "@jupyter-widgets/controls",
            "_view_module_version": "1.5.0",
            "_view_name": "HTMLView",
            "description": "",
            "description_tooltip": null,
            "layout": "IPY_MODEL_180076eb099f4b009ad998822e5bc8e3",
            "placeholder": "​",
            "style": "IPY_MODEL_f2d770befe514aad8b90fe5dfa0a08bb",
            "value": "vocab.txt: 100%"
          }
        },
        "75c40f4ed730461c9936c63d0da77b73": {
          "model_module": "@jupyter-widgets/controls",
          "model_name": "FloatProgressModel",
          "model_module_version": "1.5.0",
          "state": {
            "_dom_classes": [],
            "_model_module": "@jupyter-widgets/controls",
            "_model_module_version": "1.5.0",
            "_model_name": "FloatProgressModel",
            "_view_count": null,
            "_view_module": "@jupyter-widgets/controls",
            "_view_module_version": "1.5.0",
            "_view_name": "ProgressView",
            "bar_style": "success",
            "description": "",
            "description_tooltip": null,
            "layout": "IPY_MODEL_ddf79a6c2afb4570bf4497db834ae46c",
            "max": 231508,
            "min": 0,
            "orientation": "horizontal",
            "style": "IPY_MODEL_89466be60beb4383bce1fd49f1bc4319",
            "value": 231508
          }
        },
        "53ca0b5c9c9a4d71a699c6cfc8efb4b8": {
          "model_module": "@jupyter-widgets/controls",
          "model_name": "HTMLModel",
          "model_module_version": "1.5.0",
          "state": {
            "_dom_classes": [],
            "_model_module": "@jupyter-widgets/controls",
            "_model_module_version": "1.5.0",
            "_model_name": "HTMLModel",
            "_view_count": null,
            "_view_module": "@jupyter-widgets/controls",
            "_view_module_version": "1.5.0",
            "_view_name": "HTMLView",
            "description": "",
            "description_tooltip": null,
            "layout": "IPY_MODEL_35c81b039beb4bbb9c4b11d0a35ce891",
            "placeholder": "​",
            "style": "IPY_MODEL_55b2a3f978084d4a8c8405c49cdf61e6",
            "value": " 232k/232k [00:00&lt;00:00, 3.10MB/s]"
          }
        },
        "218bcb7861184e43beba7b04003a70c1": {
          "model_module": "@jupyter-widgets/base",
          "model_name": "LayoutModel",
          "model_module_version": "1.2.0",
          "state": {
            "_model_module": "@jupyter-widgets/base",
            "_model_module_version": "1.2.0",
            "_model_name": "LayoutModel",
            "_view_count": null,
            "_view_module": "@jupyter-widgets/base",
            "_view_module_version": "1.2.0",
            "_view_name": "LayoutView",
            "align_content": null,
            "align_items": null,
            "align_self": null,
            "border": null,
            "bottom": null,
            "display": null,
            "flex": null,
            "flex_flow": null,
            "grid_area": null,
            "grid_auto_columns": null,
            "grid_auto_flow": null,
            "grid_auto_rows": null,
            "grid_column": null,
            "grid_gap": null,
            "grid_row": null,
            "grid_template_areas": null,
            "grid_template_columns": null,
            "grid_template_rows": null,
            "height": null,
            "justify_content": null,
            "justify_items": null,
            "left": null,
            "margin": null,
            "max_height": null,
            "max_width": null,
            "min_height": null,
            "min_width": null,
            "object_fit": null,
            "object_position": null,
            "order": null,
            "overflow": null,
            "overflow_x": null,
            "overflow_y": null,
            "padding": null,
            "right": null,
            "top": null,
            "visibility": null,
            "width": null
          }
        },
        "180076eb099f4b009ad998822e5bc8e3": {
          "model_module": "@jupyter-widgets/base",
          "model_name": "LayoutModel",
          "model_module_version": "1.2.0",
          "state": {
            "_model_module": "@jupyter-widgets/base",
            "_model_module_version": "1.2.0",
            "_model_name": "LayoutModel",
            "_view_count": null,
            "_view_module": "@jupyter-widgets/base",
            "_view_module_version": "1.2.0",
            "_view_name": "LayoutView",
            "align_content": null,
            "align_items": null,
            "align_self": null,
            "border": null,
            "bottom": null,
            "display": null,
            "flex": null,
            "flex_flow": null,
            "grid_area": null,
            "grid_auto_columns": null,
            "grid_auto_flow": null,
            "grid_auto_rows": null,
            "grid_column": null,
            "grid_gap": null,
            "grid_row": null,
            "grid_template_areas": null,
            "grid_template_columns": null,
            "grid_template_rows": null,
            "height": null,
            "justify_content": null,
            "justify_items": null,
            "left": null,
            "margin": null,
            "max_height": null,
            "max_width": null,
            "min_height": null,
            "min_width": null,
            "object_fit": null,
            "object_position": null,
            "order": null,
            "overflow": null,
            "overflow_x": null,
            "overflow_y": null,
            "padding": null,
            "right": null,
            "top": null,
            "visibility": null,
            "width": null
          }
        },
        "f2d770befe514aad8b90fe5dfa0a08bb": {
          "model_module": "@jupyter-widgets/controls",
          "model_name": "DescriptionStyleModel",
          "model_module_version": "1.5.0",
          "state": {
            "_model_module": "@jupyter-widgets/controls",
            "_model_module_version": "1.5.0",
            "_model_name": "DescriptionStyleModel",
            "_view_count": null,
            "_view_module": "@jupyter-widgets/base",
            "_view_module_version": "1.2.0",
            "_view_name": "StyleView",
            "description_width": ""
          }
        },
        "ddf79a6c2afb4570bf4497db834ae46c": {
          "model_module": "@jupyter-widgets/base",
          "model_name": "LayoutModel",
          "model_module_version": "1.2.0",
          "state": {
            "_model_module": "@jupyter-widgets/base",
            "_model_module_version": "1.2.0",
            "_model_name": "LayoutModel",
            "_view_count": null,
            "_view_module": "@jupyter-widgets/base",
            "_view_module_version": "1.2.0",
            "_view_name": "LayoutView",
            "align_content": null,
            "align_items": null,
            "align_self": null,
            "border": null,
            "bottom": null,
            "display": null,
            "flex": null,
            "flex_flow": null,
            "grid_area": null,
            "grid_auto_columns": null,
            "grid_auto_flow": null,
            "grid_auto_rows": null,
            "grid_column": null,
            "grid_gap": null,
            "grid_row": null,
            "grid_template_areas": null,
            "grid_template_columns": null,
            "grid_template_rows": null,
            "height": null,
            "justify_content": null,
            "justify_items": null,
            "left": null,
            "margin": null,
            "max_height": null,
            "max_width": null,
            "min_height": null,
            "min_width": null,
            "object_fit": null,
            "object_position": null,
            "order": null,
            "overflow": null,
            "overflow_x": null,
            "overflow_y": null,
            "padding": null,
            "right": null,
            "top": null,
            "visibility": null,
            "width": null
          }
        },
        "89466be60beb4383bce1fd49f1bc4319": {
          "model_module": "@jupyter-widgets/controls",
          "model_name": "ProgressStyleModel",
          "model_module_version": "1.5.0",
          "state": {
            "_model_module": "@jupyter-widgets/controls",
            "_model_module_version": "1.5.0",
            "_model_name": "ProgressStyleModel",
            "_view_count": null,
            "_view_module": "@jupyter-widgets/base",
            "_view_module_version": "1.2.0",
            "_view_name": "StyleView",
            "bar_color": null,
            "description_width": ""
          }
        },
        "35c81b039beb4bbb9c4b11d0a35ce891": {
          "model_module": "@jupyter-widgets/base",
          "model_name": "LayoutModel",
          "model_module_version": "1.2.0",
          "state": {
            "_model_module": "@jupyter-widgets/base",
            "_model_module_version": "1.2.0",
            "_model_name": "LayoutModel",
            "_view_count": null,
            "_view_module": "@jupyter-widgets/base",
            "_view_module_version": "1.2.0",
            "_view_name": "LayoutView",
            "align_content": null,
            "align_items": null,
            "align_self": null,
            "border": null,
            "bottom": null,
            "display": null,
            "flex": null,
            "flex_flow": null,
            "grid_area": null,
            "grid_auto_columns": null,
            "grid_auto_flow": null,
            "grid_auto_rows": null,
            "grid_column": null,
            "grid_gap": null,
            "grid_row": null,
            "grid_template_areas": null,
            "grid_template_columns": null,
            "grid_template_rows": null,
            "height": null,
            "justify_content": null,
            "justify_items": null,
            "left": null,
            "margin": null,
            "max_height": null,
            "max_width": null,
            "min_height": null,
            "min_width": null,
            "object_fit": null,
            "object_position": null,
            "order": null,
            "overflow": null,
            "overflow_x": null,
            "overflow_y": null,
            "padding": null,
            "right": null,
            "top": null,
            "visibility": null,
            "width": null
          }
        },
        "55b2a3f978084d4a8c8405c49cdf61e6": {
          "model_module": "@jupyter-widgets/controls",
          "model_name": "DescriptionStyleModel",
          "model_module_version": "1.5.0",
          "state": {
            "_model_module": "@jupyter-widgets/controls",
            "_model_module_version": "1.5.0",
            "_model_name": "DescriptionStyleModel",
            "_view_count": null,
            "_view_module": "@jupyter-widgets/base",
            "_view_module_version": "1.2.0",
            "_view_name": "StyleView",
            "description_width": ""
          }
        },
        "8d7d1c3f798b4a6881d6b975a5783eba": {
          "model_module": "@jupyter-widgets/controls",
          "model_name": "HBoxModel",
          "model_module_version": "1.5.0",
          "state": {
            "_dom_classes": [],
            "_model_module": "@jupyter-widgets/controls",
            "_model_module_version": "1.5.0",
            "_model_name": "HBoxModel",
            "_view_count": null,
            "_view_module": "@jupyter-widgets/controls",
            "_view_module_version": "1.5.0",
            "_view_name": "HBoxView",
            "box_style": "",
            "children": [
              "IPY_MODEL_aafb6b11316341a1bc6f94e5fe32db4c",
              "IPY_MODEL_7f5b830a6560419e82766ec29ae9b190",
              "IPY_MODEL_348f82c1a61b4435b4e15223f981ade0"
            ],
            "layout": "IPY_MODEL_1dbf7a31dc414437b26b244b326d0275"
          }
        },
        "aafb6b11316341a1bc6f94e5fe32db4c": {
          "model_module": "@jupyter-widgets/controls",
          "model_name": "HTMLModel",
          "model_module_version": "1.5.0",
          "state": {
            "_dom_classes": [],
            "_model_module": "@jupyter-widgets/controls",
            "_model_module_version": "1.5.0",
            "_model_name": "HTMLModel",
            "_view_count": null,
            "_view_module": "@jupyter-widgets/controls",
            "_view_module_version": "1.5.0",
            "_view_name": "HTMLView",
            "description": "",
            "description_tooltip": null,
            "layout": "IPY_MODEL_ef7ecc7c86824936bc07976bc471745e",
            "placeholder": "​",
            "style": "IPY_MODEL_6e2903725fe5439d8cb3a2ef5d09f256",
            "value": "tokenizer.json: 100%"
          }
        },
        "7f5b830a6560419e82766ec29ae9b190": {
          "model_module": "@jupyter-widgets/controls",
          "model_name": "FloatProgressModel",
          "model_module_version": "1.5.0",
          "state": {
            "_dom_classes": [],
            "_model_module": "@jupyter-widgets/controls",
            "_model_module_version": "1.5.0",
            "_model_name": "FloatProgressModel",
            "_view_count": null,
            "_view_module": "@jupyter-widgets/controls",
            "_view_module_version": "1.5.0",
            "_view_name": "ProgressView",
            "bar_style": "success",
            "description": "",
            "description_tooltip": null,
            "layout": "IPY_MODEL_6532de3bc61f4e96af1397dc3d681fe2",
            "max": 466062,
            "min": 0,
            "orientation": "horizontal",
            "style": "IPY_MODEL_b184253b08cf491bbbb536a2cd99b214",
            "value": 466062
          }
        },
        "348f82c1a61b4435b4e15223f981ade0": {
          "model_module": "@jupyter-widgets/controls",
          "model_name": "HTMLModel",
          "model_module_version": "1.5.0",
          "state": {
            "_dom_classes": [],
            "_model_module": "@jupyter-widgets/controls",
            "_model_module_version": "1.5.0",
            "_model_name": "HTMLModel",
            "_view_count": null,
            "_view_module": "@jupyter-widgets/controls",
            "_view_module_version": "1.5.0",
            "_view_name": "HTMLView",
            "description": "",
            "description_tooltip": null,
            "layout": "IPY_MODEL_06337c5e1ca840b58e7ed3671987d37b",
            "placeholder": "​",
            "style": "IPY_MODEL_47c32b6fb44b43069c8354e78f07070c",
            "value": " 466k/466k [00:00&lt;00:00, 6.45MB/s]"
          }
        },
        "1dbf7a31dc414437b26b244b326d0275": {
          "model_module": "@jupyter-widgets/base",
          "model_name": "LayoutModel",
          "model_module_version": "1.2.0",
          "state": {
            "_model_module": "@jupyter-widgets/base",
            "_model_module_version": "1.2.0",
            "_model_name": "LayoutModel",
            "_view_count": null,
            "_view_module": "@jupyter-widgets/base",
            "_view_module_version": "1.2.0",
            "_view_name": "LayoutView",
            "align_content": null,
            "align_items": null,
            "align_self": null,
            "border": null,
            "bottom": null,
            "display": null,
            "flex": null,
            "flex_flow": null,
            "grid_area": null,
            "grid_auto_columns": null,
            "grid_auto_flow": null,
            "grid_auto_rows": null,
            "grid_column": null,
            "grid_gap": null,
            "grid_row": null,
            "grid_template_areas": null,
            "grid_template_columns": null,
            "grid_template_rows": null,
            "height": null,
            "justify_content": null,
            "justify_items": null,
            "left": null,
            "margin": null,
            "max_height": null,
            "max_width": null,
            "min_height": null,
            "min_width": null,
            "object_fit": null,
            "object_position": null,
            "order": null,
            "overflow": null,
            "overflow_x": null,
            "overflow_y": null,
            "padding": null,
            "right": null,
            "top": null,
            "visibility": null,
            "width": null
          }
        },
        "ef7ecc7c86824936bc07976bc471745e": {
          "model_module": "@jupyter-widgets/base",
          "model_name": "LayoutModel",
          "model_module_version": "1.2.0",
          "state": {
            "_model_module": "@jupyter-widgets/base",
            "_model_module_version": "1.2.0",
            "_model_name": "LayoutModel",
            "_view_count": null,
            "_view_module": "@jupyter-widgets/base",
            "_view_module_version": "1.2.0",
            "_view_name": "LayoutView",
            "align_content": null,
            "align_items": null,
            "align_self": null,
            "border": null,
            "bottom": null,
            "display": null,
            "flex": null,
            "flex_flow": null,
            "grid_area": null,
            "grid_auto_columns": null,
            "grid_auto_flow": null,
            "grid_auto_rows": null,
            "grid_column": null,
            "grid_gap": null,
            "grid_row": null,
            "grid_template_areas": null,
            "grid_template_columns": null,
            "grid_template_rows": null,
            "height": null,
            "justify_content": null,
            "justify_items": null,
            "left": null,
            "margin": null,
            "max_height": null,
            "max_width": null,
            "min_height": null,
            "min_width": null,
            "object_fit": null,
            "object_position": null,
            "order": null,
            "overflow": null,
            "overflow_x": null,
            "overflow_y": null,
            "padding": null,
            "right": null,
            "top": null,
            "visibility": null,
            "width": null
          }
        },
        "6e2903725fe5439d8cb3a2ef5d09f256": {
          "model_module": "@jupyter-widgets/controls",
          "model_name": "DescriptionStyleModel",
          "model_module_version": "1.5.0",
          "state": {
            "_model_module": "@jupyter-widgets/controls",
            "_model_module_version": "1.5.0",
            "_model_name": "DescriptionStyleModel",
            "_view_count": null,
            "_view_module": "@jupyter-widgets/base",
            "_view_module_version": "1.2.0",
            "_view_name": "StyleView",
            "description_width": ""
          }
        },
        "6532de3bc61f4e96af1397dc3d681fe2": {
          "model_module": "@jupyter-widgets/base",
          "model_name": "LayoutModel",
          "model_module_version": "1.2.0",
          "state": {
            "_model_module": "@jupyter-widgets/base",
            "_model_module_version": "1.2.0",
            "_model_name": "LayoutModel",
            "_view_count": null,
            "_view_module": "@jupyter-widgets/base",
            "_view_module_version": "1.2.0",
            "_view_name": "LayoutView",
            "align_content": null,
            "align_items": null,
            "align_self": null,
            "border": null,
            "bottom": null,
            "display": null,
            "flex": null,
            "flex_flow": null,
            "grid_area": null,
            "grid_auto_columns": null,
            "grid_auto_flow": null,
            "grid_auto_rows": null,
            "grid_column": null,
            "grid_gap": null,
            "grid_row": null,
            "grid_template_areas": null,
            "grid_template_columns": null,
            "grid_template_rows": null,
            "height": null,
            "justify_content": null,
            "justify_items": null,
            "left": null,
            "margin": null,
            "max_height": null,
            "max_width": null,
            "min_height": null,
            "min_width": null,
            "object_fit": null,
            "object_position": null,
            "order": null,
            "overflow": null,
            "overflow_x": null,
            "overflow_y": null,
            "padding": null,
            "right": null,
            "top": null,
            "visibility": null,
            "width": null
          }
        },
        "b184253b08cf491bbbb536a2cd99b214": {
          "model_module": "@jupyter-widgets/controls",
          "model_name": "ProgressStyleModel",
          "model_module_version": "1.5.0",
          "state": {
            "_model_module": "@jupyter-widgets/controls",
            "_model_module_version": "1.5.0",
            "_model_name": "ProgressStyleModel",
            "_view_count": null,
            "_view_module": "@jupyter-widgets/base",
            "_view_module_version": "1.2.0",
            "_view_name": "StyleView",
            "bar_color": null,
            "description_width": ""
          }
        },
        "06337c5e1ca840b58e7ed3671987d37b": {
          "model_module": "@jupyter-widgets/base",
          "model_name": "LayoutModel",
          "model_module_version": "1.2.0",
          "state": {
            "_model_module": "@jupyter-widgets/base",
            "_model_module_version": "1.2.0",
            "_model_name": "LayoutModel",
            "_view_count": null,
            "_view_module": "@jupyter-widgets/base",
            "_view_module_version": "1.2.0",
            "_view_name": "LayoutView",
            "align_content": null,
            "align_items": null,
            "align_self": null,
            "border": null,
            "bottom": null,
            "display": null,
            "flex": null,
            "flex_flow": null,
            "grid_area": null,
            "grid_auto_columns": null,
            "grid_auto_flow": null,
            "grid_auto_rows": null,
            "grid_column": null,
            "grid_gap": null,
            "grid_row": null,
            "grid_template_areas": null,
            "grid_template_columns": null,
            "grid_template_rows": null,
            "height": null,
            "justify_content": null,
            "justify_items": null,
            "left": null,
            "margin": null,
            "max_height": null,
            "max_width": null,
            "min_height": null,
            "min_width": null,
            "object_fit": null,
            "object_position": null,
            "order": null,
            "overflow": null,
            "overflow_x": null,
            "overflow_y": null,
            "padding": null,
            "right": null,
            "top": null,
            "visibility": null,
            "width": null
          }
        },
        "47c32b6fb44b43069c8354e78f07070c": {
          "model_module": "@jupyter-widgets/controls",
          "model_name": "DescriptionStyleModel",
          "model_module_version": "1.5.0",
          "state": {
            "_model_module": "@jupyter-widgets/controls",
            "_model_module_version": "1.5.0",
            "_model_name": "DescriptionStyleModel",
            "_view_count": null,
            "_view_module": "@jupyter-widgets/base",
            "_view_module_version": "1.2.0",
            "_view_name": "StyleView",
            "description_width": ""
          }
        },
        "c1704c4b531946a19a9d6c3645258229": {
          "model_module": "@jupyter-widgets/controls",
          "model_name": "HBoxModel",
          "model_module_version": "1.5.0",
          "state": {
            "_dom_classes": [],
            "_model_module": "@jupyter-widgets/controls",
            "_model_module_version": "1.5.0",
            "_model_name": "HBoxModel",
            "_view_count": null,
            "_view_module": "@jupyter-widgets/controls",
            "_view_module_version": "1.5.0",
            "_view_name": "HBoxView",
            "box_style": "",
            "children": [
              "IPY_MODEL_558882a08a604264a7bee04485472451",
              "IPY_MODEL_6cf1799d3bb247189549b45755b28a54",
              "IPY_MODEL_981c20806dc54153b8afa730ab1feba4"
            ],
            "layout": "IPY_MODEL_42d293a9482a4807bf6b5341998691de"
          }
        },
        "558882a08a604264a7bee04485472451": {
          "model_module": "@jupyter-widgets/controls",
          "model_name": "HTMLModel",
          "model_module_version": "1.5.0",
          "state": {
            "_dom_classes": [],
            "_model_module": "@jupyter-widgets/controls",
            "_model_module_version": "1.5.0",
            "_model_name": "HTMLModel",
            "_view_count": null,
            "_view_module": "@jupyter-widgets/controls",
            "_view_module_version": "1.5.0",
            "_view_name": "HTMLView",
            "description": "",
            "description_tooltip": null,
            "layout": "IPY_MODEL_acb769c76d8041d29ac7266c6647519a",
            "placeholder": "​",
            "style": "IPY_MODEL_6df176a21e86436db42f782ff2a3153e",
            "value": "config.json: 100%"
          }
        },
        "6cf1799d3bb247189549b45755b28a54": {
          "model_module": "@jupyter-widgets/controls",
          "model_name": "FloatProgressModel",
          "model_module_version": "1.5.0",
          "state": {
            "_dom_classes": [],
            "_model_module": "@jupyter-widgets/controls",
            "_model_module_version": "1.5.0",
            "_model_name": "FloatProgressModel",
            "_view_count": null,
            "_view_module": "@jupyter-widgets/controls",
            "_view_module_version": "1.5.0",
            "_view_name": "ProgressView",
            "bar_style": "success",
            "description": "",
            "description_tooltip": null,
            "layout": "IPY_MODEL_c5b6aff8eefa48ca95cba1313d9f1dc3",
            "max": 570,
            "min": 0,
            "orientation": "horizontal",
            "style": "IPY_MODEL_8c1e323e5cfe431b8585ac97618f9cee",
            "value": 570
          }
        },
        "981c20806dc54153b8afa730ab1feba4": {
          "model_module": "@jupyter-widgets/controls",
          "model_name": "HTMLModel",
          "model_module_version": "1.5.0",
          "state": {
            "_dom_classes": [],
            "_model_module": "@jupyter-widgets/controls",
            "_model_module_version": "1.5.0",
            "_model_name": "HTMLModel",
            "_view_count": null,
            "_view_module": "@jupyter-widgets/controls",
            "_view_module_version": "1.5.0",
            "_view_name": "HTMLView",
            "description": "",
            "description_tooltip": null,
            "layout": "IPY_MODEL_c905316867fe40fa8556d14652ec08f2",
            "placeholder": "​",
            "style": "IPY_MODEL_91dffb1746884945b8f9c13f4f558d13",
            "value": " 570/570 [00:00&lt;00:00, 46.5kB/s]"
          }
        },
        "42d293a9482a4807bf6b5341998691de": {
          "model_module": "@jupyter-widgets/base",
          "model_name": "LayoutModel",
          "model_module_version": "1.2.0",
          "state": {
            "_model_module": "@jupyter-widgets/base",
            "_model_module_version": "1.2.0",
            "_model_name": "LayoutModel",
            "_view_count": null,
            "_view_module": "@jupyter-widgets/base",
            "_view_module_version": "1.2.0",
            "_view_name": "LayoutView",
            "align_content": null,
            "align_items": null,
            "align_self": null,
            "border": null,
            "bottom": null,
            "display": null,
            "flex": null,
            "flex_flow": null,
            "grid_area": null,
            "grid_auto_columns": null,
            "grid_auto_flow": null,
            "grid_auto_rows": null,
            "grid_column": null,
            "grid_gap": null,
            "grid_row": null,
            "grid_template_areas": null,
            "grid_template_columns": null,
            "grid_template_rows": null,
            "height": null,
            "justify_content": null,
            "justify_items": null,
            "left": null,
            "margin": null,
            "max_height": null,
            "max_width": null,
            "min_height": null,
            "min_width": null,
            "object_fit": null,
            "object_position": null,
            "order": null,
            "overflow": null,
            "overflow_x": null,
            "overflow_y": null,
            "padding": null,
            "right": null,
            "top": null,
            "visibility": null,
            "width": null
          }
        },
        "acb769c76d8041d29ac7266c6647519a": {
          "model_module": "@jupyter-widgets/base",
          "model_name": "LayoutModel",
          "model_module_version": "1.2.0",
          "state": {
            "_model_module": "@jupyter-widgets/base",
            "_model_module_version": "1.2.0",
            "_model_name": "LayoutModel",
            "_view_count": null,
            "_view_module": "@jupyter-widgets/base",
            "_view_module_version": "1.2.0",
            "_view_name": "LayoutView",
            "align_content": null,
            "align_items": null,
            "align_self": null,
            "border": null,
            "bottom": null,
            "display": null,
            "flex": null,
            "flex_flow": null,
            "grid_area": null,
            "grid_auto_columns": null,
            "grid_auto_flow": null,
            "grid_auto_rows": null,
            "grid_column": null,
            "grid_gap": null,
            "grid_row": null,
            "grid_template_areas": null,
            "grid_template_columns": null,
            "grid_template_rows": null,
            "height": null,
            "justify_content": null,
            "justify_items": null,
            "left": null,
            "margin": null,
            "max_height": null,
            "max_width": null,
            "min_height": null,
            "min_width": null,
            "object_fit": null,
            "object_position": null,
            "order": null,
            "overflow": null,
            "overflow_x": null,
            "overflow_y": null,
            "padding": null,
            "right": null,
            "top": null,
            "visibility": null,
            "width": null
          }
        },
        "6df176a21e86436db42f782ff2a3153e": {
          "model_module": "@jupyter-widgets/controls",
          "model_name": "DescriptionStyleModel",
          "model_module_version": "1.5.0",
          "state": {
            "_model_module": "@jupyter-widgets/controls",
            "_model_module_version": "1.5.0",
            "_model_name": "DescriptionStyleModel",
            "_view_count": null,
            "_view_module": "@jupyter-widgets/base",
            "_view_module_version": "1.2.0",
            "_view_name": "StyleView",
            "description_width": ""
          }
        },
        "c5b6aff8eefa48ca95cba1313d9f1dc3": {
          "model_module": "@jupyter-widgets/base",
          "model_name": "LayoutModel",
          "model_module_version": "1.2.0",
          "state": {
            "_model_module": "@jupyter-widgets/base",
            "_model_module_version": "1.2.0",
            "_model_name": "LayoutModel",
            "_view_count": null,
            "_view_module": "@jupyter-widgets/base",
            "_view_module_version": "1.2.0",
            "_view_name": "LayoutView",
            "align_content": null,
            "align_items": null,
            "align_self": null,
            "border": null,
            "bottom": null,
            "display": null,
            "flex": null,
            "flex_flow": null,
            "grid_area": null,
            "grid_auto_columns": null,
            "grid_auto_flow": null,
            "grid_auto_rows": null,
            "grid_column": null,
            "grid_gap": null,
            "grid_row": null,
            "grid_template_areas": null,
            "grid_template_columns": null,
            "grid_template_rows": null,
            "height": null,
            "justify_content": null,
            "justify_items": null,
            "left": null,
            "margin": null,
            "max_height": null,
            "max_width": null,
            "min_height": null,
            "min_width": null,
            "object_fit": null,
            "object_position": null,
            "order": null,
            "overflow": null,
            "overflow_x": null,
            "overflow_y": null,
            "padding": null,
            "right": null,
            "top": null,
            "visibility": null,
            "width": null
          }
        },
        "8c1e323e5cfe431b8585ac97618f9cee": {
          "model_module": "@jupyter-widgets/controls",
          "model_name": "ProgressStyleModel",
          "model_module_version": "1.5.0",
          "state": {
            "_model_module": "@jupyter-widgets/controls",
            "_model_module_version": "1.5.0",
            "_model_name": "ProgressStyleModel",
            "_view_count": null,
            "_view_module": "@jupyter-widgets/base",
            "_view_module_version": "1.2.0",
            "_view_name": "StyleView",
            "bar_color": null,
            "description_width": ""
          }
        },
        "c905316867fe40fa8556d14652ec08f2": {
          "model_module": "@jupyter-widgets/base",
          "model_name": "LayoutModel",
          "model_module_version": "1.2.0",
          "state": {
            "_model_module": "@jupyter-widgets/base",
            "_model_module_version": "1.2.0",
            "_model_name": "LayoutModel",
            "_view_count": null,
            "_view_module": "@jupyter-widgets/base",
            "_view_module_version": "1.2.0",
            "_view_name": "LayoutView",
            "align_content": null,
            "align_items": null,
            "align_self": null,
            "border": null,
            "bottom": null,
            "display": null,
            "flex": null,
            "flex_flow": null,
            "grid_area": null,
            "grid_auto_columns": null,
            "grid_auto_flow": null,
            "grid_auto_rows": null,
            "grid_column": null,
            "grid_gap": null,
            "grid_row": null,
            "grid_template_areas": null,
            "grid_template_columns": null,
            "grid_template_rows": null,
            "height": null,
            "justify_content": null,
            "justify_items": null,
            "left": null,
            "margin": null,
            "max_height": null,
            "max_width": null,
            "min_height": null,
            "min_width": null,
            "object_fit": null,
            "object_position": null,
            "order": null,
            "overflow": null,
            "overflow_x": null,
            "overflow_y": null,
            "padding": null,
            "right": null,
            "top": null,
            "visibility": null,
            "width": null
          }
        },
        "91dffb1746884945b8f9c13f4f558d13": {
          "model_module": "@jupyter-widgets/controls",
          "model_name": "DescriptionStyleModel",
          "model_module_version": "1.5.0",
          "state": {
            "_model_module": "@jupyter-widgets/controls",
            "_model_module_version": "1.5.0",
            "_model_name": "DescriptionStyleModel",
            "_view_count": null,
            "_view_module": "@jupyter-widgets/base",
            "_view_module_version": "1.2.0",
            "_view_name": "StyleView",
            "description_width": ""
          }
        },
        "ff6f1f5fcbe740c1a877ee7691ec3480": {
          "model_module": "@jupyter-widgets/controls",
          "model_name": "HBoxModel",
          "model_module_version": "1.5.0",
          "state": {
            "_dom_classes": [],
            "_model_module": "@jupyter-widgets/controls",
            "_model_module_version": "1.5.0",
            "_model_name": "HBoxModel",
            "_view_count": null,
            "_view_module": "@jupyter-widgets/controls",
            "_view_module_version": "1.5.0",
            "_view_name": "HBoxView",
            "box_style": "",
            "children": [
              "IPY_MODEL_41c130fbc30c4a49ba8013c4970a12eb",
              "IPY_MODEL_c08697699dba4f908c74b540e94400f3",
              "IPY_MODEL_f1111ebe96ea42c2a99cdfdd0200ac09"
            ],
            "layout": "IPY_MODEL_af6a994d0fe741639bd1a8acb32c4a54"
          }
        },
        "41c130fbc30c4a49ba8013c4970a12eb": {
          "model_module": "@jupyter-widgets/controls",
          "model_name": "HTMLModel",
          "model_module_version": "1.5.0",
          "state": {
            "_dom_classes": [],
            "_model_module": "@jupyter-widgets/controls",
            "_model_module_version": "1.5.0",
            "_model_name": "HTMLModel",
            "_view_count": null,
            "_view_module": "@jupyter-widgets/controls",
            "_view_module_version": "1.5.0",
            "_view_name": "HTMLView",
            "description": "",
            "description_tooltip": null,
            "layout": "IPY_MODEL_d56291e8a9364d62a69592d8ee6950b1",
            "placeholder": "​",
            "style": "IPY_MODEL_d82ee661d5d04d8ca90dc6520c055df6",
            "value": "model.safetensors: 100%"
          }
        },
        "c08697699dba4f908c74b540e94400f3": {
          "model_module": "@jupyter-widgets/controls",
          "model_name": "FloatProgressModel",
          "model_module_version": "1.5.0",
          "state": {
            "_dom_classes": [],
            "_model_module": "@jupyter-widgets/controls",
            "_model_module_version": "1.5.0",
            "_model_name": "FloatProgressModel",
            "_view_count": null,
            "_view_module": "@jupyter-widgets/controls",
            "_view_module_version": "1.5.0",
            "_view_name": "ProgressView",
            "bar_style": "success",
            "description": "",
            "description_tooltip": null,
            "layout": "IPY_MODEL_7ed828cc3de94a5280a73fc7cc5219ce",
            "max": 440449768,
            "min": 0,
            "orientation": "horizontal",
            "style": "IPY_MODEL_30606e5b1105466c8dbe2bbb78022dde",
            "value": 440449768
          }
        },
        "f1111ebe96ea42c2a99cdfdd0200ac09": {
          "model_module": "@jupyter-widgets/controls",
          "model_name": "HTMLModel",
          "model_module_version": "1.5.0",
          "state": {
            "_dom_classes": [],
            "_model_module": "@jupyter-widgets/controls",
            "_model_module_version": "1.5.0",
            "_model_name": "HTMLModel",
            "_view_count": null,
            "_view_module": "@jupyter-widgets/controls",
            "_view_module_version": "1.5.0",
            "_view_name": "HTMLView",
            "description": "",
            "description_tooltip": null,
            "layout": "IPY_MODEL_678139656c1c4c2095ba787e8796cc10",
            "placeholder": "​",
            "style": "IPY_MODEL_1d73567a4713403b8c84eb61265f72b1",
            "value": " 440M/440M [00:03&lt;00:00, 154MB/s]"
          }
        },
        "af6a994d0fe741639bd1a8acb32c4a54": {
          "model_module": "@jupyter-widgets/base",
          "model_name": "LayoutModel",
          "model_module_version": "1.2.0",
          "state": {
            "_model_module": "@jupyter-widgets/base",
            "_model_module_version": "1.2.0",
            "_model_name": "LayoutModel",
            "_view_count": null,
            "_view_module": "@jupyter-widgets/base",
            "_view_module_version": "1.2.0",
            "_view_name": "LayoutView",
            "align_content": null,
            "align_items": null,
            "align_self": null,
            "border": null,
            "bottom": null,
            "display": null,
            "flex": null,
            "flex_flow": null,
            "grid_area": null,
            "grid_auto_columns": null,
            "grid_auto_flow": null,
            "grid_auto_rows": null,
            "grid_column": null,
            "grid_gap": null,
            "grid_row": null,
            "grid_template_areas": null,
            "grid_template_columns": null,
            "grid_template_rows": null,
            "height": null,
            "justify_content": null,
            "justify_items": null,
            "left": null,
            "margin": null,
            "max_height": null,
            "max_width": null,
            "min_height": null,
            "min_width": null,
            "object_fit": null,
            "object_position": null,
            "order": null,
            "overflow": null,
            "overflow_x": null,
            "overflow_y": null,
            "padding": null,
            "right": null,
            "top": null,
            "visibility": null,
            "width": null
          }
        },
        "d56291e8a9364d62a69592d8ee6950b1": {
          "model_module": "@jupyter-widgets/base",
          "model_name": "LayoutModel",
          "model_module_version": "1.2.0",
          "state": {
            "_model_module": "@jupyter-widgets/base",
            "_model_module_version": "1.2.0",
            "_model_name": "LayoutModel",
            "_view_count": null,
            "_view_module": "@jupyter-widgets/base",
            "_view_module_version": "1.2.0",
            "_view_name": "LayoutView",
            "align_content": null,
            "align_items": null,
            "align_self": null,
            "border": null,
            "bottom": null,
            "display": null,
            "flex": null,
            "flex_flow": null,
            "grid_area": null,
            "grid_auto_columns": null,
            "grid_auto_flow": null,
            "grid_auto_rows": null,
            "grid_column": null,
            "grid_gap": null,
            "grid_row": null,
            "grid_template_areas": null,
            "grid_template_columns": null,
            "grid_template_rows": null,
            "height": null,
            "justify_content": null,
            "justify_items": null,
            "left": null,
            "margin": null,
            "max_height": null,
            "max_width": null,
            "min_height": null,
            "min_width": null,
            "object_fit": null,
            "object_position": null,
            "order": null,
            "overflow": null,
            "overflow_x": null,
            "overflow_y": null,
            "padding": null,
            "right": null,
            "top": null,
            "visibility": null,
            "width": null
          }
        },
        "d82ee661d5d04d8ca90dc6520c055df6": {
          "model_module": "@jupyter-widgets/controls",
          "model_name": "DescriptionStyleModel",
          "model_module_version": "1.5.0",
          "state": {
            "_model_module": "@jupyter-widgets/controls",
            "_model_module_version": "1.5.0",
            "_model_name": "DescriptionStyleModel",
            "_view_count": null,
            "_view_module": "@jupyter-widgets/base",
            "_view_module_version": "1.2.0",
            "_view_name": "StyleView",
            "description_width": ""
          }
        },
        "7ed828cc3de94a5280a73fc7cc5219ce": {
          "model_module": "@jupyter-widgets/base",
          "model_name": "LayoutModel",
          "model_module_version": "1.2.0",
          "state": {
            "_model_module": "@jupyter-widgets/base",
            "_model_module_version": "1.2.0",
            "_model_name": "LayoutModel",
            "_view_count": null,
            "_view_module": "@jupyter-widgets/base",
            "_view_module_version": "1.2.0",
            "_view_name": "LayoutView",
            "align_content": null,
            "align_items": null,
            "align_self": null,
            "border": null,
            "bottom": null,
            "display": null,
            "flex": null,
            "flex_flow": null,
            "grid_area": null,
            "grid_auto_columns": null,
            "grid_auto_flow": null,
            "grid_auto_rows": null,
            "grid_column": null,
            "grid_gap": null,
            "grid_row": null,
            "grid_template_areas": null,
            "grid_template_columns": null,
            "grid_template_rows": null,
            "height": null,
            "justify_content": null,
            "justify_items": null,
            "left": null,
            "margin": null,
            "max_height": null,
            "max_width": null,
            "min_height": null,
            "min_width": null,
            "object_fit": null,
            "object_position": null,
            "order": null,
            "overflow": null,
            "overflow_x": null,
            "overflow_y": null,
            "padding": null,
            "right": null,
            "top": null,
            "visibility": null,
            "width": null
          }
        },
        "30606e5b1105466c8dbe2bbb78022dde": {
          "model_module": "@jupyter-widgets/controls",
          "model_name": "ProgressStyleModel",
          "model_module_version": "1.5.0",
          "state": {
            "_model_module": "@jupyter-widgets/controls",
            "_model_module_version": "1.5.0",
            "_model_name": "ProgressStyleModel",
            "_view_count": null,
            "_view_module": "@jupyter-widgets/base",
            "_view_module_version": "1.2.0",
            "_view_name": "StyleView",
            "bar_color": null,
            "description_width": ""
          }
        },
        "678139656c1c4c2095ba787e8796cc10": {
          "model_module": "@jupyter-widgets/base",
          "model_name": "LayoutModel",
          "model_module_version": "1.2.0",
          "state": {
            "_model_module": "@jupyter-widgets/base",
            "_model_module_version": "1.2.0",
            "_model_name": "LayoutModel",
            "_view_count": null,
            "_view_module": "@jupyter-widgets/base",
            "_view_module_version": "1.2.0",
            "_view_name": "LayoutView",
            "align_content": null,
            "align_items": null,
            "align_self": null,
            "border": null,
            "bottom": null,
            "display": null,
            "flex": null,
            "flex_flow": null,
            "grid_area": null,
            "grid_auto_columns": null,
            "grid_auto_flow": null,
            "grid_auto_rows": null,
            "grid_column": null,
            "grid_gap": null,
            "grid_row": null,
            "grid_template_areas": null,
            "grid_template_columns": null,
            "grid_template_rows": null,
            "height": null,
            "justify_content": null,
            "justify_items": null,
            "left": null,
            "margin": null,
            "max_height": null,
            "max_width": null,
            "min_height": null,
            "min_width": null,
            "object_fit": null,
            "object_position": null,
            "order": null,
            "overflow": null,
            "overflow_x": null,
            "overflow_y": null,
            "padding": null,
            "right": null,
            "top": null,
            "visibility": null,
            "width": null
          }
        },
        "1d73567a4713403b8c84eb61265f72b1": {
          "model_module": "@jupyter-widgets/controls",
          "model_name": "DescriptionStyleModel",
          "model_module_version": "1.5.0",
          "state": {
            "_model_module": "@jupyter-widgets/controls",
            "_model_module_version": "1.5.0",
            "_model_name": "DescriptionStyleModel",
            "_view_count": null,
            "_view_module": "@jupyter-widgets/base",
            "_view_module_version": "1.2.0",
            "_view_name": "StyleView",
            "description_width": ""
          }
        }
      }
    }
  },
  "cells": [
    {
      "cell_type": "markdown",
      "metadata": {
        "id": "view-in-github",
        "colab_type": "text"
      },
      "source": [
        "<a href=\"https://colab.research.google.com/github/Ahmetyldrr/NLP-Processing-Pratices/blob/main/Temel_Metinsel_%C4%B0%C5%9Flemler.ipynb\" target=\"_parent\"><img src=\"https://colab.research.google.com/assets/colab-badge.svg\" alt=\"Open In Colab\"/></a>"
      ]
    },
    {
      "cell_type": "markdown",
      "source": [
        "# **Bölüm 1: NLP'ye Giriş**"
      ],
      "metadata": {
        "id": "MjpLlNs4SvyO"
      }
    },
    {
      "cell_type": "markdown",
      "source": [
        "\n",
        "Heyecan verici Doğal Dil İşleme (NLP) dünyasına hoş geldiniz. Bu bölüm, NLP'nin temel kavramlarını ve temel unsurlarını anlamak için bir geçit görevi görür. Bu yolculuğa çıkarken, NLP'nin ne olduğunu, neden önemli olduğunu ve çeşitli alanlarda nasıl uygulandığını keşfedeceğiz. Bu bölümün sonunda, NLP'nin temel prensipleri hakkında sağlam bir anlayışa sahip olacak ve daha teknik yönlere derinlemesine dalmaya hazır olacaksınız.\n",
        "NLP, dilbilim, bilgisayar bilimi ve yapay zekayı harmanlayan büyüleyici bir alandır. Makinelerin insan dilini değerli bir şekilde yorumlamasını, anlamasını ve yanıtlamasını sağlar. Günümüzün veri odaklı dünyasında NLP, arama motorlarından ve çeviri hizmetlerinden sohbet robotlarına ve duygu analizi araçlarına kadar birçok uygulamanın kritik bir bileşeni haline gelmiştir.\n",
        "Bu bölüm temel bir soruyla başlıyor: Doğal Dil İşleme Nedir? NLP'nin tanımını, kapsamını ve uygulamalarını inceleyerek, takip edecek daha detaylı tartışmalar için sahneyi hazırlayan kapsamlı bir genel bakış sunacağız."
      ],
      "metadata": {
        "id": "Xp70bITzSs53"
      }
    },
    {
      "cell_type": "markdown",
      "source": [
        "# **Bölüm 2: Temel Metin İşlemleri**\n"
      ],
      "metadata": {
        "id": "dGO45bD1RHR6"
      }
    },
    {
      "cell_type": "markdown",
      "source": [
        "## **2.1 Metin Verilerini Anlamak**"
      ],
      "metadata": {
        "id": "wg2YUe5eShP-"
      }
    },
    {
      "cell_type": "markdown",
      "source": [
        "Metin verileri doğası gereği yapılandırılmamıştır ve makaleler, sosyal medya gönderileri, e-postalar, sohbet mesajları, incelemeler ve daha fazlası gibi çeşitli biçimlerde olabilir. Yapılandırılmış yapısı nedeniyle makineler tarafından kolayca analiz edilebilen sayısal verilerin aksine, metin verileri yapılandırılmış bir biçime dönüştürmek için özel işleme ve işleme teknikleri gerektirir.\n",
        "Bu dönüşüm, algoritmaların metinde yer alan bilgileri verimli bir şekilde işleyebilmesi ve anlayabilmesi için olmazsa olmazdır. Nüansları, deyimleri ve çeşitli sözdizimleriyle insan dilinin karmaşıklığı, bu göreve ek bir zorluk katmanı ekler.\n",
        "Bu nedenle, metin verilerinden anlam çıkarmak ve anlamlı çıkarımlar yapmak için doğal dil işleme (NLP), makine öğrenmesi teknikleri ve çeşitli metin madenciliği stratejileri gibi gelişmiş yöntemler kullanılmaktadır.\n",
        "Bu yöntemler, mevcut metinsel bilgilere dayanarak eğilimleri kategorize etmeye, özetlemeye ve hatta tahmin etmeye yardımcı olur."
      ],
      "metadata": {
        "id": "cyYLV8JASYUc"
      }
    },
    {
      "cell_type": "markdown",
      "source": [
        "## **2.2 Metin Temizleme: Durdurma Sözcüğü Kaldırma, Köklendirme, Lemmatizasyon**"
      ],
      "metadata": {
        "id": "nQSOcClvSQzt"
      }
    },
    {
      "cell_type": "markdown",
      "source": [
        "Metinlerin içinde bir çok karakter noktalama ve farklı durumlar vardır. Veri ön işleme aşamalarında temizleme yapılması gerekmektedir.\n",
        "Metin verilerinden anlam çıkarmak ve anlamlı içgörüler çıkarmak için kullanılır. Bu yöntemler, mevcut metinsel bilgilere dayanarak eğilimleri kategorize etmeye, özetlemeye ve tahmin etmeye yardımcı olur.\n",
        "\n",
        "\n",
        "\n"
      ],
      "metadata": {
        "id": "mpw55RgjRPYC"
      }
    },
    {
      "cell_type": "markdown",
      "source": [
        "Metin verilerinin ön işlenmesi, herhangi bir Doğal Dil İşleme (NLP) kanalında kritik bir adımdır. Uygun ön işleme, metnin temiz, tutarlı ve makine öğrenimi modelleri tarafından kolayca analiz edilebilecek bir formatta olmasını sağlar. Bu adım, ham metin verilerini daha fazla analiz için hazırlamak üzere çeşitli teknikler ve yöntemler içerir. Metnin ön işlenmesinin temel nedenleri şunlardır"
      ],
      "metadata": {
        "id": "XYWkBEEzSW5u"
      }
    },
    {
      "cell_type": "markdown",
      "source": [
        "**Gürültü Azaltma**"
      ],
      "metadata": {
        "id": "yXc0BZcTSfJw"
      }
    },
    {
      "cell_type": "markdown",
      "source": [
        "1 - Noktalama İşaretlerinin Kaldırılması"
      ],
      "metadata": {
        "id": "LFLRiojPSisA"
      }
    },
    {
      "cell_type": "markdown",
      "source": [
        "2 - Durdurma Sözcüklerinin Kaldırılması ( the , is , in, and )"
      ],
      "metadata": {
        "id": "tfuZ5hSZSm65"
      }
    },
    {
      "cell_type": "markdown",
      "source": [],
      "metadata": {
        "id": "FeKcMreQWPaZ"
      }
    },
    {
      "cell_type": "markdown",
      "source": [
        "3 - Özel Öğrelerin Kaldırılması ( HTML , kodlar vs )"
      ],
      "metadata": {
        "id": "ZWyc-6ArSvfR"
      }
    },
    {
      "cell_type": "markdown",
      "source": [
        "For example, when text data is free from unnecessary noise, tokenization, stemming, and lemmatization processes become more efficient and accurate <br>\n",
        "Text gereksiz gürültüden kurtulduğunda işlemlerin doğruluk payı artmaktadır\n"
      ],
      "metadata": {
        "id": "bwKl5Oq9S-5S"
      }
    },
    {
      "cell_type": "markdown",
      "source": [
        "**Standartizasyon**"
      ],
      "metadata": {
        "id": "5cagsh8yTTRS"
      }
    },
    {
      "cell_type": "markdown",
      "source": [
        "1 - Küçük harf"
      ],
      "metadata": {
        "id": "RsIOsPpbWLHi"
      }
    },
    {
      "cell_type": "markdown",
      "source": [
        "2 - Köklendirme\n",
        "\n",
        "Mesela running kelimesini run olarak almak\n",
        "\n"
      ],
      "metadata": {
        "id": "sGZehL5pWNSd"
      }
    },
    {
      "cell_type": "markdown",
      "source": [
        "3 - Lemmatizasyon\n",
        "\n",
        "Mesela \"daha iyi\" kelimesini \"iyi\" şeklinde alınmasıdır."
      ],
      "metadata": {
        "id": "UtcmBFA_WP-_"
      }
    },
    {
      "cell_type": "markdown",
      "source": [
        "**Özellik Çıkarımı**"
      ],
      "metadata": {
        "id": "WT3-PocSWpxb"
      }
    },
    {
      "cell_type": "markdown",
      "source": [
        "Ham metni özelliklere çıkarmak makine öğrenmesi açısından en önemli parçalardan bir tanesidir.\n",
        "Bu kalıpların çıkarılması metin verilerine dayalı sınıflandırmalar veya tahminler için kullanılır."
      ],
      "metadata": {
        "id": "d2ZQH5DEWtwX"
      }
    },
    {
      "cell_type": "markdown",
      "source": [
        "1 - Tokenleştirme\n",
        "\n",
        "Verileri daha küçük parçalar halinde gösterme işlemidir."
      ],
      "metadata": {
        "id": "aqt1KrMVZ3Ak"
      }
    },
    {
      "cell_type": "markdown",
      "source": [
        "2 - Vektörleştirme\n",
        "\n",
        "Verileri makinenin anlayabileceği sayısal verilere dönüştürme işlemidir.\n",
        "\n",
        " Techniques such as Bag of Words (BoW), Term Frequency-Inverse Document Frequency (TF-IDF), and Word2Vec are commonly employed for this conversion.\n",
        "\n",
        " Bu dönüşüm için genellikle Kelime Torbası (BoW), Terim Frekansı-Ters Belge Frekansı (TF-IDF) ve Word2Vec gibi teknikler kullanılır. Bu sayısal gösterimler kritik öneme sahiptir çünkü makine öğrenimi algoritmalarının metin verileri üzerinde karmaşık matematiksel işlemler gerçekleştirmesini sağlayarak daha derin analiz ve içgörüler sağlar."
      ],
      "metadata": {
        "id": "F9qNVGmCaGi5"
      }
    },
    {
      "cell_type": "markdown",
      "source": [
        "3 - Embedding\n",
        "\n",
        "Bu işlem kelimeleri ya da cümleleri daha yüksek boyutlu vektörlere eşlendiği durumu ifade eder.\n",
        "\n",
        "Word2Vec, GloVe ve BERT gibi popüler yöntemler bu gömmeleri oluşturmak için sıklıkla kullanılır.\n",
        "\n"
      ],
      "metadata": {
        "id": "6-Ld1rC7ab4r"
      }
    },
    {
      "cell_type": "markdown",
      "source": [
        "Ham metni bu özelliklere dönüştürerek, makine öğrenimi modelleri verileri daha iyi anlayabilir ve yorumlayabilir. Bu işlem sırasında çıkarılan özellikler, algoritmaların metinden öğrenmesi için gerekli girdiyi sağlar ve bu sayede kalıpları tanımalarını, doğru tahminlerde bulunmalarını ve duygu analizi, metin sınıflandırması ve dil çevirisi gibi çeşitli NLP görevlerini gerçekleştirmelerini sağlar."
      ],
      "metadata": {
        "id": "aQCOXVv8bBRu"
      }
    },
    {
      "cell_type": "markdown",
      "source": [
        "**Ham Metin Verilerini Keşfetme**"
      ],
      "metadata": {
        "id": "xvE9vNZubJQm"
      }
    },
    {
      "cell_type": "code",
      "source": [
        "text = \"Natural Language Processing (NLP) enables computers to understand human language.\""
      ],
      "metadata": {
        "id": "RMGeh9R7bPHk"
      },
      "execution_count": null,
      "outputs": []
    },
    {
      "cell_type": "code",
      "source": [
        "print(\"\\\\\\\\nLength of the text:\", len(text))"
      ],
      "metadata": {
        "colab": {
          "base_uri": "https://localhost:8080/"
        },
        "id": "XU6M3xG9bRHQ",
        "outputId": "68597881-b478-4a3c-abe7-bdcd6a636a46"
      },
      "execution_count": null,
      "outputs": [
        {
          "output_type": "stream",
          "name": "stdout",
          "text": [
            "\\\\nLength of the text: 81\n"
          ]
        }
      ]
    },
    {
      "cell_type": "code",
      "source": [
        "unique_characters = set(text)\n",
        "print(\"\\\\\\\\nUnique characters:\", unique_characters)"
      ],
      "metadata": {
        "colab": {
          "base_uri": "https://localhost:8080/"
        },
        "id": "6ZgpaWn9bUWi",
        "outputId": "4561beb6-00c5-4f53-bc7b-3ba1aa822688"
      },
      "execution_count": null,
      "outputs": [
        {
          "output_type": "stream",
          "name": "stdout",
          "text": [
            "\\\\nUnique characters: {'u', 'P', 'd', ' ', 'h', 'L', 'm', 's', 't', 'o', 'b', 'r', 'p', '(', 'N', 'i', 'n', '.', 'e', 'a', 'l', ')', 'c', 'g'}\n"
          ]
        }
      ]
    },
    {
      "cell_type": "code",
      "source": [
        "words = text.split()\n",
        "print(\"\\\\\\\\nNumber of words:\", len(words))"
      ],
      "metadata": {
        "colab": {
          "base_uri": "https://localhost:8080/"
        },
        "id": "Y4alcS9fbaWY",
        "outputId": "7217f3a5-3746-4df0-a7f8-5a791d4c9b8e"
      },
      "execution_count": null,
      "outputs": [
        {
          "output_type": "stream",
          "name": "stdout",
          "text": [
            "\\\\nNumber of words: 10\n"
          ]
        }
      ]
    },
    {
      "cell_type": "markdown",
      "source": [
        "**Metin Verileri ile ilgili Zorluklar**"
      ],
      "metadata": {
        "id": "UCb5HJiXbhoa"
      }
    },
    {
      "cell_type": "markdown",
      "source": [
        "1 - Belirsizlik - Ambiguity\n",
        "\n",
        "Bazı kelimeler birden fazla anlama sahip olabilir.Dilin bu özelliği algoritmalar için anlam sorunu oluşturabilir.Bu nedenle bağlamsal bilgi olmadan algoritma bunu yanlış değerlendirebilir.\n"
      ],
      "metadata": {
        "id": "WDpZmx-gbmtx"
      }
    },
    {
      "cell_type": "markdown",
      "source": [
        "2 - Değişkenlik -  Variability\n"
      ],
      "metadata": {
        "id": "xC7a7U7XcHnu"
      }
    },
    {
      "cell_type": "markdown",
      "source": [
        "Bazen sosyal medya gönderimleri kısaltma ,argo vb özellikte olabilir.\n",
        "\n",
        "Ek olarak, metnin yazıldığı bağlam, yapısını ve anlamını etkileyebilir. Örneğin, \"bankayı kırmak\" gibi bir ifade, finansal bir bağlamda aşırı harcama anlamına gelebilir, ancak farklı bir bağlamda, bir bankaya girmenin fiziksel bir eylemini ifade edebilir. Bu bağlamsal nüansları anlamak, doğru metin analizi için esastır."
      ],
      "metadata": {
        "id": "0gFmYjHXcMBT"
      }
    },
    {
      "cell_type": "markdown",
      "source": [
        "3 - Gürültülü Veri - Noisy Data"
      ],
      "metadata": {
        "id": "BQdvHih3cu9x"
      }
    },
    {
      "cell_type": "markdown",
      "source": [
        "İnternetten aldığımız veriler örnek olarak HTML gibi etiketler içeriyor olabilir.\n",
        "\n",
        "Düzgün bir şekilde temizlenip filtrelenmezlerse, gürültülü veriler NLP modellerinin performansını önemli ölçüde engelleyebilir\n",
        "\n",
        "İlgisiz bilgilerin varlığı, modellerin sahte desenler ve korelasyonlar öğrenmesine yol açabilir ve böylece etkinliklerini ve doğruluklarını azaltabilir."
      ],
      "metadata": {
        "id": "rkKAO3FUc5eg"
      }
    },
    {
      "cell_type": "markdown",
      "source": [
        "4 - Yüksek Boyutluluk -  High Dimensionality\n",
        "\n",
        "Yüksek boyut hesaplama karmaşıklığına neden olabilir.Aşırı uyum ve başka zorluklara neden olabilir.\n",
        "\n",
        "a - Hesaplama Karmaşıklığı - Computational Complexity\n",
        "\n",
        "b - Aşırı Uyum - Overfitting\n",
        "\n",
        "c - Boyutluluk Laneti - Curse of Dimensionality\n",
        "\n",
        "boyut sayısı arttıkça veri noktalarının seyrek hale gelmesidir. Bu seyreklik, algoritmaların verilerde anlamlı örüntüler ve ilişkiler bulmasını zorlaştırır. Ek olarak, veri noktaları arasındaki mesafe daha az bilgilendirici hale gelir ve kümeleme ve en yakın komşu araması gibi görevleri karmaşık hale getirir.\n",
        "\n",
        "d - Özellik Seçimi ve Mühendisliği - Feature Selection and Engineering\n",
        "\n",
        "Terim Frekansı-Ters Belge Frekansı (TF-IDF), Temel Bileşen Analizi (PCA) ve Word2Vec ve BERT gibi çeşitli yerleştirme yöntemleri gibi teknikler, boyutluluğu azaltmaya ve makine öğrenimi modellerinin performansını iyileştirmeye yardımcı olabilir.\n",
        "\n",
        "e -  Depolama ve Ölçeklenebilirlik - Storage and Scalability\n",
        "\n",
        "Yüksek boyutlu verileri depolamak ve yönetmek, özellikle büyük ölçekli metin korpuslarıyla uğraşırken zorlu olabilir\n",
        "\n",
        "Bununla başa çıkmak için bazı işlemler yapılabilir.\n",
        "\n",
        "a - Boyut Azaltma - Dimensionality Reduction\n",
        "\n",
        "Methods such as PCA, Singular Value Decomposition (SVD), and t-Distributed Stochastic Neighbor Embedding (t-SNE) can reduce the number of dimensions while preserving the most important information.\n",
        "\n",
        "PCA , SVD ve t-SNE gibi yöntemler kullanılabilir.\n",
        "\n",
        "b - Düzenleme -  Regularization\n",
        "\n",
        "L1 ve L2 düzenlemesi gibi teknikler, modeldeki büyük katsayılar için ceza ekleyerek aşırı uyumu önlemeye yardımcı olabilir.\n",
        "\n",
        "c - Gelişmiş Gömmeler - Advanced Embeddings\n",
        "\n",
        "Word2Vec, GloVe ve BERT gibi gelişmiş kelime gömme tekniklerini kullanmak, kelimeler arasındaki anlamsal ilişkileri yakalayabilir ve özellik alanının boyutluluğunu azaltabilir.\n",
        "\n",
        " **Duygu ve Öznellik - Sentiment and Subjectivity**\n",
        "\n",
        " Metinler genellikle duygular içerir. bu anlamda metnin pozitif mi , negatif mi , nötr mü olduğunu belirlemek önemlidir. Bazen kelimenin temel anlamı olumsuz olmasına rağmen temelde olumlu bir cümle yaratabilir. Mesela \"fena değil\"\n",
        "\n",
        " Alaycılık ve ironi genellikle ton, bağlam ve paylaşılan kültürel bilgiye dayanır.\n",
        "\n",
        " Bu zorlukların üstesinden gelmek için gelişmiş NLP teknikleri ve modelleri kullanılır. Belirteçleştirme, durdurma sözcüğü kaldırma, köklendirme ve lemmatizasyon gibi teknikler, metni ön işleme tabi tutmaya ve standartlaştırmaya yardımcı olarak analiz etmeyi kolaylaştırır. BERT ve GPT-3 gibi gelişmiş modeller, kelimeler arasındaki bağlamı ve bağımlılıkları anlamak ve duygu analizinin doğruluğunu artırmak için tasarlanmıştır.\n",
        "Metindeki duygu ve öznelliğin analizi, insan dilinin nüanslı ve çeşitli doğası nedeniyle karmaşık bir görevdir. Altta yatan duyguları doğru bir şekilde yakalamak için etkili ön işleme ve gelişmiş modelleme esastır.\n",
        "\n",
        "\n",
        " **Bağlam ve Bağımlılık -  Context and Dependency**\n",
        "\n",
        " Bir metnin anlamını anlamak genellikle bağlamı ve kelimeler arasındaki bağımlılıkları dikkate almayı gerektirir. Örneğin, \"fena değil\" ifadesini ele alalım. İlk bakışta, \"kötü\" kelimesi olumsuz bir duyguyu çağrıştırır. Ancak, \"değil\" ile eşleştirildiğinde, ifade aslında olumlu bir duyguyu iletir ve bir şeyin tatmin edici veya hatta iyi olduğunu gösterir. Bu örnek, tek tek kelimelerin bağlamlarına bağlı olarak nasıl farklı anlamlar taşıyabileceğini göstermektedir."
      ],
      "metadata": {
        "id": "-tSNEmoWiLed"
      }
    },
    {
      "cell_type": "markdown",
      "source": [
        "Bu bağımlılıkları ve bağlamı yakalamak, doğru metin analizi için olmazsa olmazdır. Doğal dil işlemede (NLP), bu yalnızca kelimelerin kendilerini değil, bir cümle veya daha büyük bir metin gövdesi içinde birbirleriyle nasıl ilişkilendiklerini anlamak anlamına gelir."
      ],
      "metadata": {
        "id": "EVGu_WtX8jF_"
      }
    },
    {
      "cell_type": "markdown",
      "source": [
        "**Dil Çeşitliliği - Language Diversity**"
      ],
      "metadata": {
        "id": "xcXRkPFZ8ntV"
      }
    },
    {
      "cell_type": "markdown",
      "source": [
        "Dil çeşitliliği, her biri kendine özgü dil bilgisi kuralları, kelime bilgisi ve yazı sistemlerine sahip, dünya çapında çok sayıda dil ve lehçenin varlığına işaret eder. Bu çeşitlilik, Doğal Dil İşleme (NLP) alanında önemli bir zorluk teşkil eder. Odak noktasının tek bir dil olduğu tek dilli bir yaklaşımın aksine, birden fazla dili veya lehçeyi etkili bir şekilde işleyebilen NLP modelleri geliştirmek önemli miktarda çaba ve kaynak gerektirir."
      ],
      "metadata": {
        "id": "_w7Q9hrR8yMO"
      }
    },
    {
      "cell_type": "markdown",
      "source": [
        "**Alaycılık ve İroni - Sarcasm and Irony**"
      ],
      "metadata": {
        "id": "bvOLJ7279Aq-"
      }
    },
    {
      "cell_type": "markdown",
      "source": [
        "Metindeki alaycılığı ve ironiyi tespit etmek bir diğer önemli zorluktur. Bu ifade biçimleri genellikle algoritmaların doğru bir şekilde yorumlamasının zor olduğu ton, bağlam ve kültürel bilgiye dayanır."
      ],
      "metadata": {
        "id": "PKqv1ZYZ9JU0"
      }
    },
    {
      "cell_type": "markdown",
      "source": [
        "**Temel Metin Ön İşleme Adımları**"
      ],
      "metadata": {
        "id": "3L6Kw5pT9Nb1"
      }
    },
    {
      "cell_type": "code",
      "source": [
        "text = \"Natural Language Processing (NLP) enables computers to understand human language.\""
      ],
      "metadata": {
        "id": "LAJNufhYDbTq"
      },
      "execution_count": null,
      "outputs": []
    },
    {
      "cell_type": "code",
      "source": [
        "text.lower()"
      ],
      "metadata": {
        "colab": {
          "base_uri": "https://localhost:8080/",
          "height": 36
        },
        "id": "QhsBuP9XDipS",
        "outputId": "e31e2f4f-e768-4c09-fe85-515ec7461e63"
      },
      "execution_count": null,
      "outputs": [
        {
          "output_type": "execute_result",
          "data": {
            "text/plain": [
              "'natural language processing (nlp) enables computers to understand human language.'"
            ],
            "application/vnd.google.colaboratory.intrinsic+json": {
              "type": "string"
            }
          },
          "metadata": {},
          "execution_count": 8
        }
      ]
    },
    {
      "cell_type": "code",
      "source": [
        "import string\n",
        "text1 = text.translate(str.maketrans('', '', string.punctuation))\n",
        "text1"
      ],
      "metadata": {
        "colab": {
          "base_uri": "https://localhost:8080/",
          "height": 36
        },
        "id": "UbzsBd9uDlZN",
        "outputId": "c7bbc0f0-7a74-4b93-ffb9-e528ae2989f8"
      },
      "execution_count": null,
      "outputs": [
        {
          "output_type": "execute_result",
          "data": {
            "text/plain": [
              "'Natural Language Processing NLP enables computers to understand human language'"
            ],
            "application/vnd.google.colaboratory.intrinsic+json": {
              "type": "string"
            }
          },
          "metadata": {},
          "execution_count": 9
        }
      ]
    },
    {
      "cell_type": "code",
      "source": [
        "text1.split()"
      ],
      "metadata": {
        "colab": {
          "base_uri": "https://localhost:8080/"
        },
        "id": "jJ49CuVbDu9R",
        "outputId": "c7002e5d-f2e7-47f7-c3ab-fee5bf3a9c57"
      },
      "execution_count": null,
      "outputs": [
        {
          "output_type": "execute_result",
          "data": {
            "text/plain": [
              "['Natural',\n",
              " 'Language',\n",
              " 'Processing',\n",
              " 'NLP',\n",
              " 'enables',\n",
              " 'computers',\n",
              " 'to',\n",
              " 'understand',\n",
              " 'human',\n",
              " 'language']"
            ]
          },
          "metadata": {},
          "execution_count": 11
        }
      ]
    },
    {
      "cell_type": "markdown",
      "source": [
        "**2.2.1 Stop Word Removal - Durdurma Sözcüğünün Kaldırılması**"
      ],
      "metadata": {
        "id": "_ZWZ4TQHD7Cr"
      }
    },
    {
      "cell_type": "markdown",
      "source": [
        "Durdurma sözcüklerinin kaldırılması  \"the\", \"is\", \"in\", \"and\" vb."
      ],
      "metadata": {
        "id": "t9uIKcv7EBGd"
      }
    },
    {
      "cell_type": "code",
      "source": [
        "import nltk\n",
        "from nltk.corpus import stopwords\n",
        "nltk.download('stopwords')\n"
      ],
      "metadata": {
        "colab": {
          "base_uri": "https://localhost:8080/"
        },
        "id": "T_Wpor73EOZV",
        "outputId": "86985cbe-4690-4b31-901e-51b8e5067cd8"
      },
      "execution_count": null,
      "outputs": [
        {
          "output_type": "stream",
          "name": "stderr",
          "text": [
            "[nltk_data] Downloading package stopwords to /root/nltk_data...\n",
            "[nltk_data]   Unzipping corpora/stopwords.zip.\n"
          ]
        },
        {
          "output_type": "execute_result",
          "data": {
            "text/plain": [
              "True"
            ]
          },
          "metadata": {},
          "execution_count": 13
        }
      ]
    },
    {
      "cell_type": "code",
      "source": [
        "text = \"Natural Language Processing enables computers to understand human language.\""
      ],
      "metadata": {
        "id": "pPnBICm3Eb_V"
      },
      "execution_count": null,
      "outputs": []
    },
    {
      "cell_type": "code",
      "source": [
        "tokens = text.split()\n",
        "tokens"
      ],
      "metadata": {
        "colab": {
          "base_uri": "https://localhost:8080/"
        },
        "id": "CzmBm7EMEdni",
        "outputId": "7cf063ec-7840-4724-fff2-3d1ab0d8fed3"
      },
      "execution_count": null,
      "outputs": [
        {
          "output_type": "execute_result",
          "data": {
            "text/plain": [
              "['Natural',\n",
              " 'Language',\n",
              " 'Processing',\n",
              " '(NLP)',\n",
              " 'enables',\n",
              " 'computers',\n",
              " 'to',\n",
              " 'understand',\n",
              " 'human',\n",
              " 'language.']"
            ]
          },
          "metadata": {},
          "execution_count": 14
        }
      ]
    },
    {
      "cell_type": "code",
      "source": [
        "stop_words = set(stopwords.words('english'))\n",
        "filtered_tokens = [word for word in tokens if word.lower() not in stop_words]\n",
        "filtered_tokens"
      ],
      "metadata": {
        "colab": {
          "base_uri": "https://localhost:8080/"
        },
        "id": "8mS9WytSEhKv",
        "outputId": "b1ea63b3-caa7-4552-d745-d52f09662c5b"
      },
      "execution_count": null,
      "outputs": [
        {
          "output_type": "execute_result",
          "data": {
            "text/plain": [
              "['Natural',\n",
              " 'Language',\n",
              " 'Processing',\n",
              " '(NLP)',\n",
              " 'enables',\n",
              " 'computers',\n",
              " 'understand',\n",
              " 'human',\n",
              " 'language.']"
            ]
          },
          "metadata": {},
          "execution_count": 18
        }
      ]
    },
    {
      "cell_type": "markdown",
      "source": [
        "Burada \"to\" ifadesi atıldı."
      ],
      "metadata": {
        "id": "kZhcjD6jE2v9"
      }
    },
    {
      "cell_type": "markdown",
      "source": [
        "**2.2.2 Köklendirme - Stemming**"
      ],
      "metadata": {
        "id": "Fmiz4ju9E9Qd"
      }
    },
    {
      "cell_type": "markdown",
      "source": [
        "Köklendirme Nasıl Çalışır\n",
        "\n",
        "Köklendirme, kelimelerden ekleri, önekleri veya diğer ekleri kaldırarak elde edilir. En yaygın kullanılan köklendirme algoritması, Martin Porter tarafından 1980'de geliştirilen Porter Stemmer'dır. Bu algoritma, kelimeleri köklerine dönüştürmek için bir dizi kural uygular."
      ],
      "metadata": {
        "id": "Xx6atg6jFD4J"
      }
    },
    {
      "cell_type": "code",
      "source": [
        "from nltk.stem import PorterStemmer\n",
        "text = \"Natural Language Processing enables computers to understand human language.\"\n",
        "tokens = text.split()\n",
        "tokens"
      ],
      "metadata": {
        "colab": {
          "base_uri": "https://localhost:8080/"
        },
        "id": "iSRqqUaiFIGE",
        "outputId": "6153712a-1492-4828-9d38-628112f236cc"
      },
      "execution_count": null,
      "outputs": [
        {
          "output_type": "execute_result",
          "data": {
            "text/plain": [
              "['Natural',\n",
              " 'Language',\n",
              " 'Processing',\n",
              " 'enables',\n",
              " 'computers',\n",
              " 'to',\n",
              " 'understand',\n",
              " 'human',\n",
              " 'language.']"
            ]
          },
          "metadata": {},
          "execution_count": 20
        }
      ]
    },
    {
      "cell_type": "code",
      "source": [
        "stemmer = PorterStemmer()"
      ],
      "metadata": {
        "id": "E8fkCgLxFRsn"
      },
      "execution_count": null,
      "outputs": []
    },
    {
      "cell_type": "code",
      "source": [
        "stemmed_tokens = [stemmer.stem(word) for word in tokens]\n",
        "stemmed_tokens"
      ],
      "metadata": {
        "colab": {
          "base_uri": "https://localhost:8080/"
        },
        "id": "DiLoP18RFUHU",
        "outputId": "8a044a11-3a3d-4fd2-a0f7-a99347350918"
      },
      "execution_count": null,
      "outputs": [
        {
          "output_type": "execute_result",
          "data": {
            "text/plain": [
              "['natur',\n",
              " 'languag',\n",
              " 'process',\n",
              " 'enabl',\n",
              " 'comput',\n",
              " 'to',\n",
              " 'understand',\n",
              " 'human',\n",
              " 'language.']"
            ]
          },
          "metadata": {},
          "execution_count": 22
        }
      ]
    },
    {
      "cell_type": "markdown",
      "source": [
        "bu işlemler diğer dillerde kullanımı uygun olmayabişlir ayrıca köklendirme işlemi çok agresif olduğunda bu soruna neden olabilir. Türk.e için bu konuda çok fazla ek vs olmasından kaynaklı bu tekniğin kullanılması sorunlara neden olur.Bu konuda yeni yöntemler vs denenmesi gerekmektedir."
      ],
      "metadata": {
        "id": "FzrX5YQHF4Rk"
      }
    },
    {
      "cell_type": "markdown",
      "source": [
        "**2.2.3 Lemmatizasyon - Lemmatizasyon**"
      ],
      "metadata": {
        "id": "ZoR8hVf5GKAu"
      }
    },
    {
      "cell_type": "markdown",
      "source": [
        "Lemmatizasyon, doğal dil işlemede (NLP) sözcükleri lemma olarak bilinen temel veya kök biçimlerine dönüştüren önemli bir tekniktir. Genellikle önekleri veya sonekleri kesen köklendirmenin aksine, lemmatizasyon daha karmaşıktır ve bağlamı ve sözcük türünü dikkate alarak sözcükleri sözlük biçimlerine indirgemeyi içerir. Bu, lemmatizasyonu çeşitli NLP görevleri için daha doğru ve anlamlı hale getirir."
      ],
      "metadata": {
        "id": "SgVhUFRuGVb-"
      }
    },
    {
      "cell_type": "markdown",
      "source": [
        "Lemmatizasyon Nasıl Çalışır\n",
        "\n",
        "Lemmatizasyon, kelimelerin temel biçimini döndürmek için bir sözlük ve morfolojik analiz kullanmayı içerir. İşlem genellikle doğru olması için kelimenin sözcük türünün bilinmesini gerektirir. Örneğin, \"saw\" kelimesi bir isim veya fiil olabilir ve lemmatizasyon bu kullanımlar arasında ayrım yapabilir."
      ],
      "metadata": {
        "id": "ykV9xL2DGakP"
      }
    },
    {
      "cell_type": "code",
      "source": [
        "from nltk.stem import WordNetLemmatizer"
      ],
      "metadata": {
        "id": "yYgbHFPCGeWU"
      },
      "execution_count": null,
      "outputs": []
    },
    {
      "cell_type": "code",
      "source": [
        "import nltk\n",
        "nltk.download('wordnet')\n",
        "nltk.download('omw-1.4')"
      ],
      "metadata": {
        "colab": {
          "base_uri": "https://localhost:8080/"
        },
        "id": "m1yBCyi2GhRk",
        "outputId": "008a7bee-55be-43b2-a2f6-94a35f880e19"
      },
      "execution_count": null,
      "outputs": [
        {
          "output_type": "stream",
          "name": "stderr",
          "text": [
            "[nltk_data] Downloading package wordnet to /root/nltk_data...\n",
            "[nltk_data] Downloading package omw-1.4 to /root/nltk_data...\n"
          ]
        },
        {
          "output_type": "execute_result",
          "data": {
            "text/plain": [
              "True"
            ]
          },
          "metadata": {},
          "execution_count": 24
        }
      ]
    },
    {
      "cell_type": "code",
      "source": [
        "text = \"Natural Language Processing enables computers to understand human language.\""
      ],
      "metadata": {
        "id": "SBQrVEu0Gi5-"
      },
      "execution_count": null,
      "outputs": []
    },
    {
      "cell_type": "code",
      "source": [
        "tokens = text.split()"
      ],
      "metadata": {
        "id": "LuMAGjuPGkOX"
      },
      "execution_count": null,
      "outputs": []
    },
    {
      "cell_type": "code",
      "source": [
        "lemmatizer = WordNetLemmatizer()"
      ],
      "metadata": {
        "id": "WTktcW6gGl4L"
      },
      "execution_count": null,
      "outputs": []
    },
    {
      "cell_type": "code",
      "source": [
        "lemmatized_tokens = [lemmatizer.lemmatize(word) for word in tokens]\n",
        "lemmatized_tokens"
      ],
      "metadata": {
        "colab": {
          "base_uri": "https://localhost:8080/"
        },
        "id": "MtSjwDTDGnXu",
        "outputId": "a1ff67ef-5c83-4da1-c4bc-4cf92a6f7dee"
      },
      "execution_count": null,
      "outputs": [
        {
          "output_type": "execute_result",
          "data": {
            "text/plain": [
              "['Natural',\n",
              " 'Language',\n",
              " 'Processing',\n",
              " 'enables',\n",
              " 'computer',\n",
              " 'to',\n",
              " 'understand',\n",
              " 'human',\n",
              " 'language.']"
            ]
          },
          "metadata": {},
          "execution_count": 28
        }
      ]
    },
    {
      "cell_type": "code",
      "source": [
        "print(\"Original Tokens:\")\n",
        "print(tokens)\n",
        "print(\"\\\\\\\\nLemmatized Tokens:\")\n",
        "print(lemmatized_tokens)"
      ],
      "metadata": {
        "colab": {
          "base_uri": "https://localhost:8080/"
        },
        "id": "RSo56QqBGx1p",
        "outputId": "8faedae1-b592-4b31-e926-ace3bfe69cd3"
      },
      "execution_count": null,
      "outputs": [
        {
          "output_type": "stream",
          "name": "stdout",
          "text": [
            "Original Tokens:\n",
            "['Natural', 'Language', 'Processing', 'enables', 'computers', 'to', 'understand', 'human', 'language.']\n",
            "\\\\nLemmatized Tokens:\n",
            "['Natural', 'Language', 'Processing', 'enables', 'computer', 'to', 'understand', 'human', 'language.']\n"
          ]
        }
      ]
    },
    {
      "cell_type": "markdown",
      "source": [
        "## **2.3 Regular Expressions**"
      ],
      "metadata": {
        "id": "fTflybFtHa-i"
      }
    },
    {
      "cell_type": "markdown",
      "source": [
        "**2.3.1 Basics of Regular Expressions**"
      ],
      "metadata": {
        "id": "CGq8dFQmHj8Q"
      }
    },
    {
      "cell_type": "markdown",
      "source": [
        "Genellikle regex olarak kısaltılan düzenli ifade, metin içindeki karakter dizilerini eşleştirmek için kullanılan bir arama modelini tanımlayan bir karakter dizisidir. Bu güçlü araç, metnin bölümlerini bulmak, çıkarmak veya değiştirmek için kullanılabilen belirli modeller tanımlayarak karmaşık metin arama ve düzenlemesine olanak tanır."
      ],
      "metadata": {
        "id": "pckx4EDBH13x"
      }
    },
    {
      "cell_type": "code",
      "source": [
        "import re"
      ],
      "metadata": {
        "id": "6mgnPaPuH6qy"
      },
      "execution_count": null,
      "outputs": []
    },
    {
      "cell_type": "code",
      "source": [
        "text = \"The quick brown fox jumps over the lazy dog.\"\n"
      ],
      "metadata": {
        "id": "vjJGTmpOH8J1"
      },
      "execution_count": null,
      "outputs": []
    },
    {
      "cell_type": "code",
      "source": [
        "pattern = r'fox'\n",
        "pattern"
      ],
      "metadata": {
        "colab": {
          "base_uri": "https://localhost:8080/",
          "height": 36
        },
        "id": "7gQJwLJXIBpF",
        "outputId": "fc557169-d1a0-49b4-a121-15294de27b3b"
      },
      "execution_count": null,
      "outputs": [
        {
          "output_type": "execute_result",
          "data": {
            "text/plain": [
              "'fox'"
            ],
            "application/vnd.google.colaboratory.intrinsic+json": {
              "type": "string"
            }
          },
          "metadata": {},
          "execution_count": 34
        }
      ]
    },
    {
      "cell_type": "code",
      "source": [
        "match1 = re.search(pattern, text)\n",
        "match1"
      ],
      "metadata": {
        "colab": {
          "base_uri": "https://localhost:8080/"
        },
        "id": "FcdaOYAQIIFy",
        "outputId": "bce03a18-567b-474e-afa3-f27073d6d487"
      },
      "execution_count": null,
      "outputs": [
        {
          "output_type": "execute_result",
          "data": {
            "text/plain": [
              "<re.Match object; span=(16, 19), match='fox'>"
            ]
          },
          "metadata": {},
          "execution_count": 36
        }
      ]
    },
    {
      "cell_type": "code",
      "source": [
        "if match1:\n",
        "    print(\"Match found:\", match1.group())\n",
        "else:\n",
        "    print(\"No match found.\")"
      ],
      "metadata": {
        "colab": {
          "base_uri": "https://localhost:8080/"
        },
        "id": "ijod0uswIR1d",
        "outputId": "7eed8018-b379-42cc-b66c-d3bb48d56f80"
      },
      "execution_count": null,
      "outputs": [
        {
          "output_type": "stream",
          "name": "stdout",
          "text": [
            "Match found: fox\n"
          ]
        }
      ]
    },
    {
      "cell_type": "markdown",
      "source": [
        "**2.3.2 Yaygın Regex Desenleri ve Sözdizimi**"
      ],
      "metadata": {
        "id": "0Xuy1Sb-J65c"
      }
    },
    {
      "cell_type": "markdown",
      "source": [
        "**1. Nokta (.)**"
      ],
      "metadata": {
        "id": "qrAWSn0MMGSh"
      }
    },
    {
      "cell_type": "markdown",
      "source": [
        "Açıklama: Yeni satır karakteri hariç, herhangi bir tek karakterle eşleşir."
      ],
      "metadata": {
        "id": "0B60kO56MKKJ"
      }
    },
    {
      "cell_type": "code",
      "source": [
        "import re\n",
        "pattern = r'c.t'  # 'c' ile başlayıp, herhangi bir karakter ve 't' ile biten diziler\n",
        "text = \"catar cot cut bit\"\n",
        "matches = re.findall(pattern, text)\n",
        "print(matches)  # Çıktı: ['cat', 'cot', 'cut']"
      ],
      "metadata": {
        "colab": {
          "base_uri": "https://localhost:8080/"
        },
        "id": "Ze98efshMH-9",
        "outputId": "57ff1131-bf59-4ca4-db70-7cb8be6d57ab"
      },
      "execution_count": null,
      "outputs": [
        {
          "output_type": "stream",
          "name": "stdout",
          "text": [
            "['cat', 'cot', 'cut']\n"
          ]
        }
      ]
    },
    {
      "cell_type": "markdown",
      "source": [
        "**2. Şapka (^)**"
      ],
      "metadata": {
        "id": "f-aq-xbZMwhw"
      }
    },
    {
      "cell_type": "markdown",
      "source": [
        "Açıklama: Desenin, metnin başında yer aldığını belirtir."
      ],
      "metadata": {
        "id": "lURyqNA6Mzs-"
      }
    },
    {
      "cell_type": "code",
      "source": [
        "import re\n",
        "pattern = r'^Hello'\n",
        "text = \"Hello world, Hello Python\"\n",
        "match = re.search(pattern, text)\n",
        "if match:\n",
        "    print(\"Başlangıçta 'Hello' var.\")  # Çıktı: Başlangıçta 'Hello' var."
      ],
      "metadata": {
        "colab": {
          "base_uri": "https://localhost:8080/"
        },
        "id": "ia_4G3mAMyG5",
        "outputId": "c27dd9fd-7d94-40a8-c302-1b43e3ff78c8"
      },
      "execution_count": null,
      "outputs": [
        {
          "output_type": "stream",
          "name": "stdout",
          "text": [
            "Başlangıçta 'Hello' var.\n"
          ]
        }
      ]
    },
    {
      "cell_type": "markdown",
      "source": [
        "**3. Dolar İşareti ($)**"
      ],
      "metadata": {
        "id": "lRSGwVCwM6lS"
      }
    },
    {
      "cell_type": "markdown",
      "source": [
        "Açıklama: Desenin, metnin sonunda yer aldığını belirtir."
      ],
      "metadata": {
        "id": "o_1qAGetM7aJ"
      }
    },
    {
      "cell_type": "code",
      "source": [
        "import re\n",
        "pattern = r'Python$'\n",
        "text = \"Welcome to Python\"\n",
        "match = re.search(pattern, text)\n",
        "if match:\n",
        "    print(\"Metin 'Python' ile bitiyor.\")  # Çıktı: Metin 'Python' ile bitiyor."
      ],
      "metadata": {
        "colab": {
          "base_uri": "https://localhost:8080/"
        },
        "id": "empyoyqXM-sP",
        "outputId": "f8759b3b-292d-4db4-cec6-9c38a021f44b"
      },
      "execution_count": null,
      "outputs": [
        {
          "output_type": "stream",
          "name": "stdout",
          "text": [
            "Metin 'Python' ile bitiyor.\n"
          ]
        }
      ]
    },
    {
      "cell_type": "markdown",
      "source": [
        " **4. Yıldız (*)**"
      ],
      "metadata": {
        "id": "oDaOJ5ulNHJU"
      }
    },
    {
      "cell_type": "markdown",
      "source": [
        "Açıklama: Önceki karakterin sıfır veya daha fazla tekrarını eşleştirir."
      ],
      "metadata": {
        "id": "hYNQGYXENMPK"
      }
    },
    {
      "cell_type": "code",
      "source": [
        "import re\n",
        "pattern = r'ab*'  # 'a' ile başlayıp, ardından sıfır veya daha fazla 'b'\n",
        "text = \"a ab abb abbb kkkbb abb baaabb\"\n",
        "matches = re.findall(pattern, text)\n",
        "print(matches)  # Çıktı: ['a', 'ab', 'abb', 'abbb']"
      ],
      "metadata": {
        "colab": {
          "base_uri": "https://localhost:8080/"
        },
        "id": "qVPukB68NOXC",
        "outputId": "b1a0fcc8-ddd8-4b74-db0f-a0fa640c53f3"
      },
      "execution_count": null,
      "outputs": [
        {
          "output_type": "stream",
          "name": "stdout",
          "text": [
            "['a', 'ab', 'abb', 'abbb', 'abb', 'a', 'a', 'abb']\n"
          ]
        }
      ]
    },
    {
      "cell_type": "markdown",
      "source": [
        "**5. Artı (+)**"
      ],
      "metadata": {
        "id": "8F_uYOPLNkuC"
      }
    },
    {
      "cell_type": "markdown",
      "source": [
        "Açıklama: Önceki karakterin bir veya daha fazla tekrarını eşleştirir."
      ],
      "metadata": {
        "id": "stz-fe79NnFE"
      }
    },
    {
      "cell_type": "code",
      "source": [
        "import re\n",
        "pattern = r'ab+'  # 'a' ile başlayıp, ardından en az bir 'b'\n",
        "text = \"a ab abb abbb aabb aaa\"\n",
        "matches = re.findall(pattern, text)\n",
        "print(matches)  # Çıktı: ['ab', 'abb', 'abbb']\n"
      ],
      "metadata": {
        "colab": {
          "base_uri": "https://localhost:8080/"
        },
        "id": "H3gjm617NolR",
        "outputId": "f882e247-5401-4183-f365-ab2db7e99b4e"
      },
      "execution_count": null,
      "outputs": [
        {
          "output_type": "stream",
          "name": "stdout",
          "text": [
            "['ab', 'abb', 'abbb', 'abb']\n"
          ]
        }
      ]
    },
    {
      "cell_type": "markdown",
      "source": [
        "**6. Soru İşareti (?)**"
      ],
      "metadata": {
        "id": "TCr8BUTdNySn"
      }
    },
    {
      "cell_type": "markdown",
      "source": [
        "Açıklama: Önceki karakterin sıfır veya bir tekrarını eşleştirir; yani karakter opsiyoneldir."
      ],
      "metadata": {
        "id": "COp8T7nGN0s0"
      }
    },
    {
      "cell_type": "code",
      "source": [
        "import re\n",
        "pattern = r'ab?'  # 'a' ile başlayıp, ardından sıfır veya bir 'b'\n",
        "text = \"a ab abb baab\"\n",
        "matches = re.findall(pattern, text)\n",
        "print(matches)  # Çıktı: ['a', 'ab', 'ab']  # İlk 'abb' içinde yalnızca 'ab' eşleşir çünkü 'b' sadece bir kez kabul edilir\n"
      ],
      "metadata": {
        "colab": {
          "base_uri": "https://localhost:8080/"
        },
        "id": "srtofM7LN2J6",
        "outputId": "93bbb5f9-6ab0-44fc-9e36-b3fe3e3ec1fb"
      },
      "execution_count": null,
      "outputs": [
        {
          "output_type": "stream",
          "name": "stdout",
          "text": [
            "['a', 'ab', 'ab', 'a', 'ab']\n"
          ]
        }
      ]
    },
    {
      "cell_type": "markdown",
      "source": [
        "**7. Köşeli Parantezler ([])**"
      ],
      "metadata": {
        "id": "NZXcyoClOACK"
      }
    },
    {
      "cell_type": "markdown",
      "source": [
        "Açıklama: Köşeli parantezler içerisinde belirtilen karakter setlerinden herhangi biriyle eşleşir."
      ],
      "metadata": {
        "id": "fAa0w9fqOCOM"
      }
    },
    {
      "cell_type": "code",
      "source": [
        "import re\n",
        "pattern = r'[abc]'  # a, b veya c karakterlerinden herhangi biri\n",
        "text = \"def cab babad\"\n",
        "matches = re.findall(pattern, text)\n",
        "print(matches)  # Çıktı: ['c', 'a', 'b']\n"
      ],
      "metadata": {
        "colab": {
          "base_uri": "https://localhost:8080/"
        },
        "id": "-GZfgrGmODj9",
        "outputId": "e4dfcd66-4cf9-4ae4-e72e-27485ac95fe7"
      },
      "execution_count": null,
      "outputs": [
        {
          "output_type": "stream",
          "name": "stdout",
          "text": [
            "['c', 'a', 'b', 'b', 'a', 'b', 'a']\n"
          ]
        }
      ]
    },
    {
      "cell_type": "markdown",
      "source": [
        "**8. \\d**"
      ],
      "metadata": {
        "id": "xb32FCehOL7y"
      }
    },
    {
      "cell_type": "markdown",
      "source": [
        "Açıklama: Bir basamak (digit) ile eşleşir; [0-9] aralığındaki herhangi bir rakam."
      ],
      "metadata": {
        "id": "Gq3Omtg8OObG"
      }
    },
    {
      "cell_type": "code",
      "source": [
        "import re\n",
        "pattern = r'\\d+'  # Bir veya daha fazla rakam\n",
        "text = \"There are 12 apples and 30 oranges. 221 33\"\n",
        "matches = re.findall(pattern, text)\n",
        "print(matches)  # Çıktı: ['12', '30']\n"
      ],
      "metadata": {
        "colab": {
          "base_uri": "https://localhost:8080/"
        },
        "id": "6q5ywHM4OQYw",
        "outputId": "91259e46-abe6-4278-e71d-94e95c817ef2"
      },
      "execution_count": null,
      "outputs": [
        {
          "output_type": "stream",
          "name": "stdout",
          "text": [
            "['12', '30', '221', '33']\n"
          ]
        }
      ]
    },
    {
      "cell_type": "markdown",
      "source": [
        "**9. \\w**"
      ],
      "metadata": {
        "id": "1K66-MEGOZKO"
      }
    },
    {
      "cell_type": "markdown",
      "source": [
        "Açıklama: Herhangi bir alfasayısal karakter (harf, rakam, alt çizgi) ile eşleşir; [a-zA-Z0-9_] ile aynı anlama gelir."
      ],
      "metadata": {
        "id": "YTd3_yGjObsT"
      }
    },
    {
      "cell_type": "code",
      "source": [
        "import re\n",
        "pattern = r'\\w+'  # Bir veya daha fazla alfasayısal karakter\n",
        "text = \"Hello_world 123! smile_x world , a , __,.\"\n",
        "matches = re.findall(pattern, text)\n",
        "print(matches)  # Çıktı: ['Hello_world', '123']\n"
      ],
      "metadata": {
        "colab": {
          "base_uri": "https://localhost:8080/"
        },
        "id": "waAc1eVCOeLK",
        "outputId": "659c41cf-17ee-4ed4-b44e-70d08826d6d6"
      },
      "execution_count": null,
      "outputs": [
        {
          "output_type": "stream",
          "name": "stdout",
          "text": [
            "['Hello_world', '123', 'smile_x', 'world', 'a', '__']\n"
          ]
        }
      ]
    },
    {
      "cell_type": "markdown",
      "source": [
        "**10. \\s**"
      ],
      "metadata": {
        "id": "18d3LdC-O1Ej"
      }
    },
    {
      "cell_type": "markdown",
      "source": [
        "Açıklama: Bir boşluk karakteri ile eşleşir; boşluk, sekme, yeni satır gibi karakterleri kapsar."
      ],
      "metadata": {
        "id": "DO0CLYERO3P2"
      }
    },
    {
      "cell_type": "code",
      "source": [
        "import re\n",
        "pattern = r'\\s+'  # Bir veya daha fazla boşluk karakteri\n",
        "text = \"Hello   world\\tPython //m\"\n",
        "matches = re.findall(pattern, text)\n",
        "print(matches)  # Çıktı: ['   ', '\\t']\n"
      ],
      "metadata": {
        "colab": {
          "base_uri": "https://localhost:8080/"
        },
        "id": "wyxVgObKO6OE",
        "outputId": "c5aab639-3bd4-4c62-a246-a0eb284a8e69"
      },
      "execution_count": null,
      "outputs": [
        {
          "output_type": "stream",
          "name": "stdout",
          "text": [
            "['   ', '\\t', ' ']\n"
          ]
        }
      ]
    },
    {
      "cell_type": "markdown",
      "source": [
        "**11. Dikey Çizgi (|)**"
      ],
      "metadata": {
        "id": "MgesGk3zPCkq"
      }
    },
    {
      "cell_type": "markdown",
      "source": [
        "Açıklama: Alternatif (veya) operatörüdür; bir desen veya diğer desenle eşleşir."
      ],
      "metadata": {
        "id": "gf7U6ECTPFAS"
      }
    },
    {
      "cell_type": "code",
      "source": [
        "import re\n",
        "pattern = r'cat|dog'  # \"cat\" veya \"dog\" kelimelerinden herhangi biri\n",
        "text = \"I have a cat and a dog. cat and dogs\"\n",
        "matches = re.findall(pattern, text)\n",
        "print(matches)  # Çıktı: ['cat', 'dog']\n"
      ],
      "metadata": {
        "colab": {
          "base_uri": "https://localhost:8080/"
        },
        "id": "NGybVxCcPGWN",
        "outputId": "01d38f75-4736-45a5-9970-9e5047b0316c"
      },
      "execution_count": null,
      "outputs": [
        {
          "output_type": "stream",
          "name": "stdout",
          "text": [
            "['cat', 'dog', 'cat', 'dog']\n"
          ]
        }
      ]
    },
    {
      "cell_type": "markdown",
      "source": [
        "**12. Parantezler (())**"
      ],
      "metadata": {
        "id": "IyS3YzoKPL40"
      }
    },
    {
      "cell_type": "code",
      "source": [
        "import re\n",
        "pattern = r'(\\d+)-(\\d+)-(\\d+)'  # İki grup halinde rakamları yakalar, aralarında tire bulunan desen\n",
        "text = \"The serial number is 1232342-234-456344.\"\n",
        "match = re.search(pattern, text)\n",
        "if match:\n",
        "    print(\"Birinci grup:\", match.group(1))  # Çıktı: Birinci grup: 123\n",
        "    print(\"İkinci grup:\", match.group(2))   # Çıktı: İkinci grup: 456\n",
        "    print(\"üçüncü grup:\", match.group(3))   # Çıktı: İkinci grup: 456\n"
      ],
      "metadata": {
        "colab": {
          "base_uri": "https://localhost:8080/"
        },
        "id": "cLngXy6lPOir",
        "outputId": "c69fa490-41a4-4b44-d7a0-fb7c05600a1b"
      },
      "execution_count": null,
      "outputs": [
        {
          "output_type": "stream",
          "name": "stdout",
          "text": [
            "Birinci grup: 1232342\n",
            "İkinci grup: 234\n",
            "üçüncü grup: 456344\n"
          ]
        }
      ]
    },
    {
      "cell_type": "markdown",
      "source": [
        "**Mail Adreslerini ayıkla**"
      ],
      "metadata": {
        "id": "Wl0XTf1tQSbH"
      }
    },
    {
      "cell_type": "markdown",
      "source": [
        "Özetle, bu desen e-posta adreslerinde genellikle görülen formatı yakalamayı amaçlar:\n",
        "\n",
        "[geçerli karakterler]@[geçerli karakterler].[geçerli uzantı]"
      ],
      "metadata": {
        "id": "13BCk4mCQVxR"
      }
    },
    {
      "cell_type": "code",
      "source": [
        "import re\n",
        "# Sample text with email addresses\n",
        "text = \"Please contact us at support@example.com or sales@example.com for further information.\"\n",
        "# Correct regex pattern to match email addresses\n",
        "pattern = r\"\\b[A-Za-z0-9._%+-]+@[A-Za-z0-9.-]+\\.[A-Za-z]{2,}\\b\"\n",
        "# Use re.findall() to find all matches\n",
        "emails = re.findall(pattern, text)\n",
        "# Display the extracted email addresses\n",
        "print(\"Extracted Email Addresses:\")\n",
        "print(emails)\n"
      ],
      "metadata": {
        "colab": {
          "base_uri": "https://localhost:8080/"
        },
        "id": "oPfV4wGRPtho",
        "outputId": "00e81d99-dea1-4b86-8595-06c38b89b258"
      },
      "execution_count": null,
      "outputs": [
        {
          "output_type": "stream",
          "name": "stdout",
          "text": [
            "Extracted Email Addresses:\n",
            "['support@example.com', 'sales@example.com']\n"
          ]
        }
      ]
    },
    {
      "cell_type": "markdown",
      "source": [
        "**Telefon numaralarını ayıkla**"
      ],
      "metadata": {
        "id": "saZxcIP9Qjy3"
      }
    },
    {
      "cell_type": "markdown",
      "source": [
        "Desenin Açıklaması:\n",
        "\n",
        "\\( ve \\): Parantez karakterlerini (yani \"(\" ve \")\") aramak için kullanılır.\n",
        "\n",
        "\\d{3}: Üç basamaktan oluşan bir sayı dizisini temsil eder.\n",
        "\n",
        "(boşluk): Parantez kapandıktan sonra gelen boşluk karakterini eşleştirir.\n",
        "\n",
        "\\d{3}: Üç basamaklı ikinci sayı dizisini eşleştirir.\n",
        "\n",
        "-: Tire (-) karakterini eşleştirir.\n",
        "\n",
        "\\d{4}: Son dört basamaklı sayı dizisini eşleştirir.\n",
        "\n",
        "Bu şekilde kodu çalıştırdığınızda, beklenen telefon numarası listesini almanız gerekir."
      ],
      "metadata": {
        "id": "W-EQh__EQ0LV"
      }
    },
    {
      "cell_type": "code",
      "source": [
        "import re\n",
        "# Sample text with phone numbers\n",
        "text = \"Contact us at (123) 456-7890 or (987) 654-3210.\"\n",
        "# Correct regex pattern to match phone numbers\n",
        "pattern = r\"\\(\\d{3}\\) \\d{3}-\\d{4}\"\n",
        "# Use re.findall() to find all matches\n",
        "phone_numbers = re.findall(pattern, text)\n",
        "# Display the extracted phone numbers\n",
        "print(\"Extracted Phone Numbers:\")\n",
        "print(phone_numbers)\n"
      ],
      "metadata": {
        "colab": {
          "base_uri": "https://localhost:8080/"
        },
        "id": "AW2L8-2BQopL",
        "outputId": "6e93a762-e638-4f43-fafe-8bcebd9d669a"
      },
      "execution_count": null,
      "outputs": [
        {
          "output_type": "stream",
          "name": "stdout",
          "text": [
            "Extracted Phone Numbers:\n",
            "['(123) 456-7890', '(987) 654-3210']\n"
          ]
        }
      ]
    },
    {
      "cell_type": "markdown",
      "source": [
        "**Alt dizeleri değiştirme**"
      ],
      "metadata": {
        "id": "ghvR1E9iQ_10"
      }
    },
    {
      "cell_type": "code",
      "source": [
        "import re\n",
        "# Sample text\n",
        "text = \"The quick brown FOX jumps over the lazy dog. The fox is clever.\"\n",
        "# Define a pattern to match the word \"fox\"\n",
        "pattern = r\"FOX\"\n",
        "# Use re.sub() to replace \"fox\" with \"cat\"\n",
        "new_text = re.sub(pattern, \"XXX\", text)\n",
        "# Display the modified text\n",
        "print(\"Modified Text:\")\n",
        "print(new_text)"
      ],
      "metadata": {
        "colab": {
          "base_uri": "https://localhost:8080/"
        },
        "id": "edTVYg8SRE7s",
        "outputId": "d2f4f178-920b-43af-c8fd-3aa76edb8d15"
      },
      "execution_count": null,
      "outputs": [
        {
          "output_type": "stream",
          "name": "stdout",
          "text": [
            "Modified Text:\n",
            "The quick brown XXX jumps over the lazy dog. The fox is clever.\n"
          ]
        }
      ]
    },
    {
      "cell_type": "markdown",
      "source": [
        "**2.3.4 Gelişmiş Regex Teknikleri**"
      ],
      "metadata": {
        "id": "zjKZiKEoRWYI"
      }
    },
    {
      "cell_type": "markdown",
      "source": [
        "**Tarihleri ​​Çıkarma**"
      ],
      "metadata": {
        "id": "MKZzYMyfRaF0"
      }
    },
    {
      "cell_type": "code",
      "source": [
        "import re\n",
        "# Sample text with dates\n",
        "text = \"The event is scheduled for 2022-08-15. Another event is on 15/08/2022.\"\n",
        "# Correct regex pattern to match dates\n",
        "pattern = r\"\\b(?:\\d{4}-\\d{2}-\\d{2}|\\d{2}/\\d{2}/\\d{4})\\b\"\n",
        "# Use re.findall() to find all matches\n",
        "dates = re.findall(pattern, text)\n",
        "# Display the extracted dates\n",
        "print(\"Extracted Dates:\")\n",
        "print(dates)\n"
      ],
      "metadata": {
        "colab": {
          "base_uri": "https://localhost:8080/"
        },
        "id": "c7OPk-5-RdsQ",
        "outputId": "13d2b096-d4ec-4388-e6fa-cac8ceffd1e4"
      },
      "execution_count": null,
      "outputs": [
        {
          "output_type": "stream",
          "name": "stdout",
          "text": [
            "Extracted Dates:\n",
            "['2022-08-15', '15/08/2022']\n"
          ]
        }
      ]
    },
    {
      "cell_type": "markdown",
      "source": [
        "Desenin Açıklaması:\n",
        "\n",
        "\\b\n",
        "\n",
        "Kelime sınırını belirtir; tarih ifadesinin tam bir kelime olarak eşleşmesini sağlar.\n",
        "\n",
        "(?: ... )\n",
        "\n",
        "Non-capturing group: Parantez içindeki desen gruplamasını yapar, ancak yakalanan grup sonuçlara dahil edilmez.\n",
        "\n",
        "\\d{4}-\\d{2}-\\d{2}\n",
        "\n",
        "YYYY-AA-GG formatındaki tarihi yakalar.\n",
        "\n",
        "\\d{4}: 4 basamaklı yıl\n",
        "\n",
        "-: Tire karakteri\n",
        "\n",
        "\\d{2}: 2 basamaklı ay\n",
        "\n",
        "-: Tire karakteri\n",
        "\n",
        "\\d{2}: 2 basamaklı gün\n",
        "\n",
        "\\d{2}/\\d{2}/\\d{4}\n",
        "\n",
        "DD/AA/YYYY formatındaki tarihi yakalar.\n",
        "\n",
        "\n",
        "\\d{2}: 2 basamaklı gün\n",
        "\n",
        "/: Slash karakteri\n",
        "\n",
        "\\d{2}: 2 basamaklı ay\n",
        "\n",
        "/: Slash karakteri\n",
        "\n",
        "\\d{4}: 4 basamaklı yıl\n",
        "|\n",
        "Alternatif operatör; iki farklı tarih formatından birine eşleşmeyi sağlar.\n",
        "\n",
        "Bu şekilde kodu çalıştırdığınızda, metindeki her iki tarih formatı da doğru şekilde yakalanacaktır."
      ],
      "metadata": {
        "id": "nevNlAzvRr62"
      }
    },
    {
      "cell_type": "markdown",
      "source": [
        "## 2.4 Tokenleştirme"
      ],
      "metadata": {
        "id": "mtVaDX_sSDmJ"
      }
    },
    {
      "cell_type": "markdown",
      "source": [
        "Jetonlama, Doğal Dil İşleme (NLP) için metin ön işleme hattında temel bir adımdır. Bir metin parçasını jeton adı verilen daha küçük birimlere ayırmayı içerir. Bu jetonlar, söz konusu görevin belirli gereksinimlerine bağlı olarak kelimeler, cümleler veya hatta tek tek karakterler olabilir. Jetonlama, yapılandırılmamış metni, algoritmalar tarafından kolayca analiz edilebilen ve işlenebilen yapılandırılmış bir biçime dönüştürdüğü için önemlidir."
      ],
      "metadata": {
        "id": "VafRkBKBT0Qh"
      }
    },
    {
      "cell_type": "markdown",
      "source": [
        "**2.4.3 Word Tokenization**"
      ],
      "metadata": {
        "id": "4FuPNBQ6YMp2"
      }
    },
    {
      "cell_type": "code",
      "source": [
        "import nltk\n",
        "nltk.download('all')\n",
        "from nltk.tokenize import word_tokenize"
      ],
      "metadata": {
        "colab": {
          "base_uri": "https://localhost:8080/"
        },
        "collapsed": true,
        "id": "Doyc9pB2UBaY",
        "outputId": "109f5a21-9c58-49b8-ab6b-660537d21a35"
      },
      "execution_count": null,
      "outputs": [
        {
          "output_type": "stream",
          "name": "stderr",
          "text": [
            "[nltk_data] Downloading collection 'all'\n",
            "[nltk_data]    | \n",
            "[nltk_data]    | Downloading package abc to /root/nltk_data...\n",
            "[nltk_data]    |   Unzipping corpora/abc.zip.\n",
            "[nltk_data]    | Downloading package alpino to /root/nltk_data...\n",
            "[nltk_data]    |   Unzipping corpora/alpino.zip.\n",
            "[nltk_data]    | Downloading package averaged_perceptron_tagger to\n",
            "[nltk_data]    |     /root/nltk_data...\n",
            "[nltk_data]    |   Unzipping taggers/averaged_perceptron_tagger.zip.\n",
            "[nltk_data]    | Downloading package averaged_perceptron_tagger_eng to\n",
            "[nltk_data]    |     /root/nltk_data...\n",
            "[nltk_data]    |   Unzipping\n",
            "[nltk_data]    |       taggers/averaged_perceptron_tagger_eng.zip.\n",
            "[nltk_data]    | Downloading package averaged_perceptron_tagger_ru to\n",
            "[nltk_data]    |     /root/nltk_data...\n",
            "[nltk_data]    |   Unzipping\n",
            "[nltk_data]    |       taggers/averaged_perceptron_tagger_ru.zip.\n",
            "[nltk_data]    | Downloading package averaged_perceptron_tagger_rus to\n",
            "[nltk_data]    |     /root/nltk_data...\n",
            "[nltk_data]    |   Unzipping\n",
            "[nltk_data]    |       taggers/averaged_perceptron_tagger_rus.zip.\n",
            "[nltk_data]    | Downloading package basque_grammars to\n",
            "[nltk_data]    |     /root/nltk_data...\n",
            "[nltk_data]    |   Unzipping grammars/basque_grammars.zip.\n",
            "[nltk_data]    | Downloading package bcp47 to /root/nltk_data...\n",
            "[nltk_data]    | Downloading package biocreative_ppi to\n",
            "[nltk_data]    |     /root/nltk_data...\n",
            "[nltk_data]    |   Unzipping corpora/biocreative_ppi.zip.\n",
            "[nltk_data]    | Downloading package bllip_wsj_no_aux to\n",
            "[nltk_data]    |     /root/nltk_data...\n",
            "[nltk_data]    |   Unzipping models/bllip_wsj_no_aux.zip.\n",
            "[nltk_data]    | Downloading package book_grammars to\n",
            "[nltk_data]    |     /root/nltk_data...\n",
            "[nltk_data]    |   Unzipping grammars/book_grammars.zip.\n",
            "[nltk_data]    | Downloading package brown to /root/nltk_data...\n",
            "[nltk_data]    |   Unzipping corpora/brown.zip.\n",
            "[nltk_data]    | Downloading package brown_tei to /root/nltk_data...\n",
            "[nltk_data]    |   Unzipping corpora/brown_tei.zip.\n",
            "[nltk_data]    | Downloading package cess_cat to /root/nltk_data...\n",
            "[nltk_data]    |   Unzipping corpora/cess_cat.zip.\n",
            "[nltk_data]    | Downloading package cess_esp to /root/nltk_data...\n",
            "[nltk_data]    |   Unzipping corpora/cess_esp.zip.\n",
            "[nltk_data]    | Downloading package chat80 to /root/nltk_data...\n",
            "[nltk_data]    |   Unzipping corpora/chat80.zip.\n",
            "[nltk_data]    | Downloading package city_database to\n",
            "[nltk_data]    |     /root/nltk_data...\n",
            "[nltk_data]    |   Unzipping corpora/city_database.zip.\n",
            "[nltk_data]    | Downloading package cmudict to /root/nltk_data...\n",
            "[nltk_data]    |   Unzipping corpora/cmudict.zip.\n",
            "[nltk_data]    | Downloading package comparative_sentences to\n",
            "[nltk_data]    |     /root/nltk_data...\n",
            "[nltk_data]    |   Unzipping corpora/comparative_sentences.zip.\n",
            "[nltk_data]    | Downloading package comtrans to /root/nltk_data...\n",
            "[nltk_data]    | Downloading package conll2000 to /root/nltk_data...\n",
            "[nltk_data]    |   Unzipping corpora/conll2000.zip.\n",
            "[nltk_data]    | Downloading package conll2002 to /root/nltk_data...\n",
            "[nltk_data]    |   Unzipping corpora/conll2002.zip.\n",
            "[nltk_data]    | Downloading package conll2007 to /root/nltk_data...\n",
            "[nltk_data]    | Downloading package crubadan to /root/nltk_data...\n",
            "[nltk_data]    |   Unzipping corpora/crubadan.zip.\n",
            "[nltk_data]    | Downloading package dependency_treebank to\n",
            "[nltk_data]    |     /root/nltk_data...\n",
            "[nltk_data]    |   Unzipping corpora/dependency_treebank.zip.\n",
            "[nltk_data]    | Downloading package dolch to /root/nltk_data...\n",
            "[nltk_data]    |   Unzipping corpora/dolch.zip.\n",
            "[nltk_data]    | Downloading package europarl_raw to\n",
            "[nltk_data]    |     /root/nltk_data...\n",
            "[nltk_data]    |   Unzipping corpora/europarl_raw.zip.\n",
            "[nltk_data]    | Downloading package extended_omw to\n",
            "[nltk_data]    |     /root/nltk_data...\n",
            "[nltk_data]    | Downloading package floresta to /root/nltk_data...\n",
            "[nltk_data]    |   Unzipping corpora/floresta.zip.\n",
            "[nltk_data]    | Downloading package framenet_v15 to\n",
            "[nltk_data]    |     /root/nltk_data...\n",
            "[nltk_data]    |   Unzipping corpora/framenet_v15.zip.\n",
            "[nltk_data]    | Downloading package framenet_v17 to\n",
            "[nltk_data]    |     /root/nltk_data...\n",
            "[nltk_data]    |   Unzipping corpora/framenet_v17.zip.\n",
            "[nltk_data]    | Downloading package gazetteers to /root/nltk_data...\n",
            "[nltk_data]    |   Unzipping corpora/gazetteers.zip.\n",
            "[nltk_data]    | Downloading package genesis to /root/nltk_data...\n",
            "[nltk_data]    |   Unzipping corpora/genesis.zip.\n",
            "[nltk_data]    | Downloading package gutenberg to /root/nltk_data...\n",
            "[nltk_data]    |   Unzipping corpora/gutenberg.zip.\n",
            "[nltk_data]    | Downloading package ieer to /root/nltk_data...\n",
            "[nltk_data]    |   Unzipping corpora/ieer.zip.\n",
            "[nltk_data]    | Downloading package inaugural to /root/nltk_data...\n",
            "[nltk_data]    |   Unzipping corpora/inaugural.zip.\n",
            "[nltk_data]    | Downloading package indian to /root/nltk_data...\n",
            "[nltk_data]    |   Unzipping corpora/indian.zip.\n",
            "[nltk_data]    | Downloading package jeita to /root/nltk_data...\n",
            "[nltk_data]    | Downloading package kimmo to /root/nltk_data...\n",
            "[nltk_data]    |   Unzipping corpora/kimmo.zip.\n",
            "[nltk_data]    | Downloading package knbc to /root/nltk_data...\n",
            "[nltk_data]    | Downloading package large_grammars to\n",
            "[nltk_data]    |     /root/nltk_data...\n",
            "[nltk_data]    |   Unzipping grammars/large_grammars.zip.\n",
            "[nltk_data]    | Downloading package lin_thesaurus to\n",
            "[nltk_data]    |     /root/nltk_data...\n",
            "[nltk_data]    |   Unzipping corpora/lin_thesaurus.zip.\n",
            "[nltk_data]    | Downloading package mac_morpho to /root/nltk_data...\n",
            "[nltk_data]    |   Unzipping corpora/mac_morpho.zip.\n",
            "[nltk_data]    | Downloading package machado to /root/nltk_data...\n",
            "[nltk_data]    | Downloading package masc_tagged to /root/nltk_data...\n",
            "[nltk_data]    | Downloading package maxent_ne_chunker to\n",
            "[nltk_data]    |     /root/nltk_data...\n",
            "[nltk_data]    |   Unzipping chunkers/maxent_ne_chunker.zip.\n",
            "[nltk_data]    | Downloading package maxent_ne_chunker_tab to\n",
            "[nltk_data]    |     /root/nltk_data...\n",
            "[nltk_data]    |   Unzipping chunkers/maxent_ne_chunker_tab.zip.\n",
            "[nltk_data]    | Downloading package maxent_treebank_pos_tagger to\n",
            "[nltk_data]    |     /root/nltk_data...\n",
            "[nltk_data]    |   Unzipping taggers/maxent_treebank_pos_tagger.zip.\n",
            "[nltk_data]    | Downloading package maxent_treebank_pos_tagger_tab to\n",
            "[nltk_data]    |     /root/nltk_data...\n",
            "[nltk_data]    |   Unzipping\n",
            "[nltk_data]    |       taggers/maxent_treebank_pos_tagger_tab.zip.\n",
            "[nltk_data]    | Downloading package moses_sample to\n",
            "[nltk_data]    |     /root/nltk_data...\n",
            "[nltk_data]    |   Unzipping models/moses_sample.zip.\n",
            "[nltk_data]    | Downloading package movie_reviews to\n",
            "[nltk_data]    |     /root/nltk_data...\n",
            "[nltk_data]    |   Unzipping corpora/movie_reviews.zip.\n",
            "[nltk_data]    | Downloading package mte_teip5 to /root/nltk_data...\n",
            "[nltk_data]    |   Unzipping corpora/mte_teip5.zip.\n",
            "[nltk_data]    | Downloading package mwa_ppdb to /root/nltk_data...\n",
            "[nltk_data]    |   Unzipping misc/mwa_ppdb.zip.\n",
            "[nltk_data]    | Downloading package names to /root/nltk_data...\n",
            "[nltk_data]    |   Unzipping corpora/names.zip.\n",
            "[nltk_data]    | Downloading package nombank.1.0 to /root/nltk_data...\n",
            "[nltk_data]    | Downloading package nonbreaking_prefixes to\n",
            "[nltk_data]    |     /root/nltk_data...\n",
            "[nltk_data]    |   Unzipping corpora/nonbreaking_prefixes.zip.\n",
            "[nltk_data]    | Downloading package nps_chat to /root/nltk_data...\n",
            "[nltk_data]    |   Unzipping corpora/nps_chat.zip.\n",
            "[nltk_data]    | Downloading package omw to /root/nltk_data...\n",
            "[nltk_data]    | Downloading package omw-1.4 to /root/nltk_data...\n",
            "[nltk_data]    |   Package omw-1.4 is already up-to-date!\n",
            "[nltk_data]    | Downloading package opinion_lexicon to\n",
            "[nltk_data]    |     /root/nltk_data...\n",
            "[nltk_data]    |   Unzipping corpora/opinion_lexicon.zip.\n",
            "[nltk_data]    | Downloading package panlex_swadesh to\n",
            "[nltk_data]    |     /root/nltk_data...\n",
            "[nltk_data]    | Downloading package paradigms to /root/nltk_data...\n",
            "[nltk_data]    |   Unzipping corpora/paradigms.zip.\n",
            "[nltk_data]    | Downloading package pe08 to /root/nltk_data...\n",
            "[nltk_data]    |   Unzipping corpora/pe08.zip.\n",
            "[nltk_data]    | Downloading package perluniprops to\n",
            "[nltk_data]    |     /root/nltk_data...\n",
            "[nltk_data]    |   Unzipping misc/perluniprops.zip.\n",
            "[nltk_data]    | Downloading package pil to /root/nltk_data...\n",
            "[nltk_data]    |   Unzipping corpora/pil.zip.\n",
            "[nltk_data]    | Downloading package pl196x to /root/nltk_data...\n",
            "[nltk_data]    |   Unzipping corpora/pl196x.zip.\n",
            "[nltk_data]    | Downloading package porter_test to /root/nltk_data...\n",
            "[nltk_data]    |   Unzipping stemmers/porter_test.zip.\n",
            "[nltk_data]    | Downloading package ppattach to /root/nltk_data...\n",
            "[nltk_data]    |   Unzipping corpora/ppattach.zip.\n",
            "[nltk_data]    | Downloading package problem_reports to\n",
            "[nltk_data]    |     /root/nltk_data...\n",
            "[nltk_data]    |   Unzipping corpora/problem_reports.zip.\n",
            "[nltk_data]    | Downloading package product_reviews_1 to\n",
            "[nltk_data]    |     /root/nltk_data...\n",
            "[nltk_data]    |   Unzipping corpora/product_reviews_1.zip.\n",
            "[nltk_data]    | Downloading package product_reviews_2 to\n",
            "[nltk_data]    |     /root/nltk_data...\n",
            "[nltk_data]    |   Unzipping corpora/product_reviews_2.zip.\n",
            "[nltk_data]    | Downloading package propbank to /root/nltk_data...\n",
            "[nltk_data]    | Downloading package pros_cons to /root/nltk_data...\n",
            "[nltk_data]    |   Unzipping corpora/pros_cons.zip.\n",
            "[nltk_data]    | Downloading package ptb to /root/nltk_data...\n",
            "[nltk_data]    |   Unzipping corpora/ptb.zip.\n",
            "[nltk_data]    | Downloading package punkt to /root/nltk_data...\n",
            "[nltk_data]    |   Package punkt is already up-to-date!\n",
            "[nltk_data]    | Downloading package punkt_tab to /root/nltk_data...\n",
            "[nltk_data]    |   Unzipping tokenizers/punkt_tab.zip.\n",
            "[nltk_data]    | Downloading package qc to /root/nltk_data...\n",
            "[nltk_data]    |   Unzipping corpora/qc.zip.\n",
            "[nltk_data]    | Downloading package reuters to /root/nltk_data...\n",
            "[nltk_data]    | Downloading package rslp to /root/nltk_data...\n",
            "[nltk_data]    |   Unzipping stemmers/rslp.zip.\n",
            "[nltk_data]    | Downloading package rte to /root/nltk_data...\n",
            "[nltk_data]    |   Unzipping corpora/rte.zip.\n",
            "[nltk_data]    | Downloading package sample_grammars to\n",
            "[nltk_data]    |     /root/nltk_data...\n",
            "[nltk_data]    |   Unzipping grammars/sample_grammars.zip.\n",
            "[nltk_data]    | Downloading package semcor to /root/nltk_data...\n",
            "[nltk_data]    | Downloading package senseval to /root/nltk_data...\n",
            "[nltk_data]    |   Unzipping corpora/senseval.zip.\n",
            "[nltk_data]    | Downloading package sentence_polarity to\n",
            "[nltk_data]    |     /root/nltk_data...\n",
            "[nltk_data]    |   Unzipping corpora/sentence_polarity.zip.\n",
            "[nltk_data]    | Downloading package sentiwordnet to\n",
            "[nltk_data]    |     /root/nltk_data...\n",
            "[nltk_data]    |   Unzipping corpora/sentiwordnet.zip.\n",
            "[nltk_data]    | Downloading package shakespeare to /root/nltk_data...\n",
            "[nltk_data]    |   Unzipping corpora/shakespeare.zip.\n",
            "[nltk_data]    | Downloading package sinica_treebank to\n",
            "[nltk_data]    |     /root/nltk_data...\n",
            "[nltk_data]    |   Unzipping corpora/sinica_treebank.zip.\n",
            "[nltk_data]    | Downloading package smultron to /root/nltk_data...\n",
            "[nltk_data]    |   Unzipping corpora/smultron.zip.\n",
            "[nltk_data]    | Downloading package snowball_data to\n",
            "[nltk_data]    |     /root/nltk_data...\n",
            "[nltk_data]    | Downloading package spanish_grammars to\n",
            "[nltk_data]    |     /root/nltk_data...\n",
            "[nltk_data]    |   Unzipping grammars/spanish_grammars.zip.\n",
            "[nltk_data]    | Downloading package state_union to /root/nltk_data...\n",
            "[nltk_data]    |   Unzipping corpora/state_union.zip.\n",
            "[nltk_data]    | Downloading package stopwords to /root/nltk_data...\n",
            "[nltk_data]    |   Package stopwords is already up-to-date!\n",
            "[nltk_data]    | Downloading package subjectivity to\n",
            "[nltk_data]    |     /root/nltk_data...\n",
            "[nltk_data]    |   Unzipping corpora/subjectivity.zip.\n",
            "[nltk_data]    | Downloading package swadesh to /root/nltk_data...\n",
            "[nltk_data]    |   Unzipping corpora/swadesh.zip.\n",
            "[nltk_data]    | Downloading package switchboard to /root/nltk_data...\n",
            "[nltk_data]    |   Unzipping corpora/switchboard.zip.\n",
            "[nltk_data]    | Downloading package tagsets to /root/nltk_data...\n",
            "[nltk_data]    |   Unzipping help/tagsets.zip.\n",
            "[nltk_data]    | Downloading package tagsets_json to\n",
            "[nltk_data]    |     /root/nltk_data...\n",
            "[nltk_data]    |   Unzipping help/tagsets_json.zip.\n",
            "[nltk_data]    | Downloading package timit to /root/nltk_data...\n",
            "[nltk_data]    |   Unzipping corpora/timit.zip.\n",
            "[nltk_data]    | Downloading package toolbox to /root/nltk_data...\n",
            "[nltk_data]    |   Unzipping corpora/toolbox.zip.\n",
            "[nltk_data]    | Downloading package treebank to /root/nltk_data...\n",
            "[nltk_data]    |   Unzipping corpora/treebank.zip.\n",
            "[nltk_data]    | Downloading package twitter_samples to\n",
            "[nltk_data]    |     /root/nltk_data...\n",
            "[nltk_data]    |   Unzipping corpora/twitter_samples.zip.\n",
            "[nltk_data]    | Downloading package udhr to /root/nltk_data...\n",
            "[nltk_data]    |   Unzipping corpora/udhr.zip.\n",
            "[nltk_data]    | Downloading package udhr2 to /root/nltk_data...\n",
            "[nltk_data]    |   Unzipping corpora/udhr2.zip.\n",
            "[nltk_data]    | Downloading package unicode_samples to\n",
            "[nltk_data]    |     /root/nltk_data...\n",
            "[nltk_data]    |   Unzipping corpora/unicode_samples.zip.\n",
            "[nltk_data]    | Downloading package universal_tagset to\n",
            "[nltk_data]    |     /root/nltk_data...\n",
            "[nltk_data]    |   Unzipping taggers/universal_tagset.zip.\n",
            "[nltk_data]    | Downloading package universal_treebanks_v20 to\n",
            "[nltk_data]    |     /root/nltk_data...\n",
            "[nltk_data]    | Downloading package vader_lexicon to\n",
            "[nltk_data]    |     /root/nltk_data...\n",
            "[nltk_data]    | Downloading package verbnet to /root/nltk_data...\n",
            "[nltk_data]    |   Unzipping corpora/verbnet.zip.\n",
            "[nltk_data]    | Downloading package verbnet3 to /root/nltk_data...\n",
            "[nltk_data]    |   Unzipping corpora/verbnet3.zip.\n",
            "[nltk_data]    | Downloading package webtext to /root/nltk_data...\n",
            "[nltk_data]    |   Unzipping corpora/webtext.zip.\n",
            "[nltk_data]    | Downloading package wmt15_eval to /root/nltk_data...\n",
            "[nltk_data]    |   Unzipping models/wmt15_eval.zip.\n",
            "[nltk_data]    | Downloading package word2vec_sample to\n",
            "[nltk_data]    |     /root/nltk_data...\n",
            "[nltk_data]    |   Unzipping models/word2vec_sample.zip.\n",
            "[nltk_data]    | Downloading package wordnet to /root/nltk_data...\n",
            "[nltk_data]    |   Package wordnet is already up-to-date!\n",
            "[nltk_data]    | Downloading package wordnet2021 to /root/nltk_data...\n",
            "[nltk_data]    | Downloading package wordnet2022 to /root/nltk_data...\n",
            "[nltk_data]    |   Unzipping corpora/wordnet2022.zip.\n",
            "[nltk_data]    | Downloading package wordnet31 to /root/nltk_data...\n",
            "[nltk_data]    | Downloading package wordnet_ic to /root/nltk_data...\n",
            "[nltk_data]    |   Unzipping corpora/wordnet_ic.zip.\n",
            "[nltk_data]    | Downloading package words to /root/nltk_data...\n",
            "[nltk_data]    |   Unzipping corpora/words.zip.\n",
            "[nltk_data]    | Downloading package ycoe to /root/nltk_data...\n",
            "[nltk_data]    |   Unzipping corpora/ycoe.zip.\n",
            "[nltk_data]    | \n",
            "[nltk_data]  Done downloading collection all\n"
          ]
        }
      ]
    },
    {
      "cell_type": "code",
      "source": [
        "from nltk.tokenize import word_tokenize\n",
        "text = \"Natural Language Processing enables computers to understand human language.\"\n",
        "tokens = word_tokenize(text)\n",
        "print(\"Word Tokens:\")\n",
        "print(tokens)"
      ],
      "metadata": {
        "colab": {
          "base_uri": "https://localhost:8080/"
        },
        "id": "M8zTihXdVsAR",
        "outputId": "24fa62aa-292b-48ef-dde0-b8a83c15064c"
      },
      "execution_count": null,
      "outputs": [
        {
          "output_type": "stream",
          "name": "stdout",
          "text": [
            "Word Tokens:\n",
            "['Natural', 'Language', 'Processing', 'enables', 'computers', 'to', 'understand', 'human', 'language', '.']\n"
          ]
        }
      ]
    },
    {
      "cell_type": "markdown",
      "source": [
        "**Spacy ile**"
      ],
      "metadata": {
        "id": "FjFT96ZVYF1l"
      }
    },
    {
      "cell_type": "code",
      "source": [
        "import spacy\n",
        "# Load SpaCy model\n",
        "nlp = spacy.load(\"en_core_web_sm\")\n",
        "# Sample text\n",
        "text = \"Natural Language Processing enables computers to understand human language.\"\n",
        "# Perform word tokenization\n",
        "doc = nlp(text)\n",
        "tokens = [token.text for token in doc]\n",
        "print(\"Word Tokens:\")\n",
        "print(tokens)"
      ],
      "metadata": {
        "colab": {
          "base_uri": "https://localhost:8080/"
        },
        "id": "pFGzYQcrYWNg",
        "outputId": "dc579686-4869-4345-8ca0-35c53c241325"
      },
      "execution_count": null,
      "outputs": [
        {
          "output_type": "stream",
          "name": "stdout",
          "text": [
            "Word Tokens:\n",
            "['Natural', 'Language', 'Processing', 'enables', 'computers', 'to', 'understand', 'human', 'language', '.']\n"
          ]
        }
      ]
    },
    {
      "cell_type": "markdown",
      "source": [
        "**Kelime Simgeleştirmenin Uygulamaları**"
      ],
      "metadata": {
        "id": "Gv_D3LtOYkZH"
      }
    },
    {
      "cell_type": "markdown",
      "source": [
        "**Metin Sınıflandırması :** Bu, metni önceden tanımlanmış kategorilere ayırmayı içerir ve spam tespiti, konu etiketleme ve daha iyi erişim ve yönetim için içeriği düzenleme gibi çeşitli uygulamalarda yararlı olabilir.\n",
        "\n",
        "**Duygu Analizi :** Bu uygulama, bir metinde ifade edilen duygunun olumlu, olumsuz veya nötr olup olmadığını belirlemeyi içerir. Müşteri geri bildirim analizinde, sosyal medya izlemede ve kamuoyunun fikrini ve duygusunu ölçmek için pazar araştırmasında yaygın olarak kullanılır.\n",
        "\n",
        "**Adlandırılmış Varlık Tanıma (NER) :** Bu teknik, bir metindeki varlıkları, kişilerin, kuruluşların, yerlerin, tarihlerin ve diğer önemli varlıkların adları gibi önceden tanımlanmış kategorilere tanımlamak ve sınıflandırmak için kullanılır. NER, bilgi çıkarma, içerik kategorizasyonu ve belgelerin aranabilirliğini artırmak için çok önemlidir.\n",
        "\n",
        "**Makine Çevirisi :** Bu, dil engellerini aşmak ve diller arası iletişimi sağlamak için gerekli olan metni bir dilden diğerine çevirmeyi içerir. Çok dilli içerik oluşturma, belgeleri çevirme ve farklı dillerde gerçek zamanlı iletişimi kolaylaştırmada uygulamaları vardır.\n",
        "\n",
        "**Bilgi Alma :** Bu uygulama, kullanıcı sorgularına dayalı olarak büyük veri kümelerinden ilgili bilgileri bulmaya odaklanır. Arama motorlarının, dijital kütüphanelerin ve büyük miktardaki metin verilerinden bilgilerin verimli bir şekilde alınmasını gerektiren diğer sistemlerin omurgasıdır."
      ],
      "metadata": {
        "id": "gRAecDGiYn_z"
      }
    },
    {
      "cell_type": "markdown",
      "source": [
        "**2.4.4 Cümle Tokenizasyonu**"
      ],
      "metadata": {
        "id": "l4yEIXOlY1eT"
      }
    },
    {
      "cell_type": "code",
      "source": [
        "from nltk.tokenize import sent_tokenize\n",
        "# Sample text\n",
        "text = \"Natural Language Processing enables computers to understand human language. It is a fascinating field.\"\n",
        "# Perform sentence tokenization\n",
        "sentences = sent_tokenize(text)\n",
        "print(\"Sentences:\")\n",
        "print(sentences)"
      ],
      "metadata": {
        "colab": {
          "base_uri": "https://localhost:8080/"
        },
        "id": "uSL4Qqt0Y8jL",
        "outputId": "44710363-f51a-4709-dedc-de8343e4d2e5"
      },
      "execution_count": null,
      "outputs": [
        {
          "output_type": "stream",
          "name": "stdout",
          "text": [
            "Sentences:\n",
            "['Natural Language Processing enables computers to understand human language.', 'It is a fascinating field.']\n"
          ]
        }
      ]
    },
    {
      "cell_type": "markdown",
      "source": [
        "**Spacy ile**"
      ],
      "metadata": {
        "id": "53edNBoxZBjm"
      }
    },
    {
      "cell_type": "code",
      "source": [
        "import spacy\n",
        "# Load SpaCy model\n",
        "nlp = spacy.load(\"en_core_web_sm\")\n",
        "# Sample text\n",
        "text = \"Natural Language Processing enables computers to understand human language. It is a fascinating field.\"\n",
        "# Perform sentence tokenization\n",
        "doc = nlp(text)\n",
        "sentences = [sent.text for sent in doc.sents]\n",
        "print(\"Sentences:\")\n",
        "print(sentences)"
      ],
      "metadata": {
        "colab": {
          "base_uri": "https://localhost:8080/"
        },
        "id": "v5U4p79nZEIu",
        "outputId": "7c2ef550-472c-475d-adaa-a3753563a19c"
      },
      "execution_count": null,
      "outputs": [
        {
          "output_type": "stream",
          "name": "stdout",
          "text": [
            "Sentences:\n",
            "['Natural Language Processing enables computers to understand human language.', 'It is a fascinating field.']\n"
          ]
        }
      ]
    },
    {
      "cell_type": "markdown",
      "source": [
        "**2.4.5 Karakter Tokenizasyonu**"
      ],
      "metadata": {
        "id": "EKQoF0seZI9S"
      }
    },
    {
      "cell_type": "code",
      "source": [
        "text = \"Natural Language Processing\"\n",
        "# Perform character tokenization\n",
        "characters = list(text)\n",
        "print(\"Characters:\")\n",
        "print(characters)"
      ],
      "metadata": {
        "id": "qXrPSjxjZPaY",
        "outputId": "58049393-2e8c-4c62-aa09-75aeecbecea9",
        "colab": {
          "base_uri": "https://localhost:8080/"
        }
      },
      "execution_count": null,
      "outputs": [
        {
          "output_type": "stream",
          "name": "stdout",
          "text": [
            "Characters:\n",
            "['N', 'a', 't', 'u', 'r', 'a', 'l', ' ', 'L', 'a', 'n', 'g', 'u', 'a', 'g', 'e', ' ', 'P', 'r', 'o', 'c', 'e', 's', 's', 'i', 'n', 'g']\n"
          ]
        }
      ]
    },
    {
      "cell_type": "markdown",
      "source": [
        "# **Bölüm 3: NLP için Özellik Mühendisliği**"
      ],
      "metadata": {
        "id": "g1scQ3rzoOYm"
      }
    },
    {
      "cell_type": "markdown",
      "source": [
        "## **3.1 Kelime Torbası  - Bag of Words**"
      ],
      "metadata": {
        "id": "cS8173N_oYcx"
      }
    },
    {
      "cell_type": "markdown",
      "source": [
        "\"Bag of Words\" (BoW), doğal dil işlemede (NLP) metin gösterimi için kullanılan temel bir yöntemdir. Her bir belgeyi düzensiz bir kelime koleksiyonu olarak ele alarak, dilbilgisi, kelime sırası ve bağlamı göz ardı ederek ancak her bir kelimenin sıklığını koruyarak metni sayısal özelliklere dönüştürür."
      ],
      "metadata": {
        "id": "QZ8RV0Tkokde"
      }
    },
    {
      "cell_type": "markdown",
      "source": [
        "**3.1.1 Kelime Torbası Modelini Anlamak**"
      ],
      "metadata": {
        "id": "hEZAXPH4orlO"
      }
    },
    {
      "cell_type": "markdown",
      "source": [
        "**Metni Simgeleştirme - Metin Tokenizasyon**"
      ],
      "metadata": {
        "id": "bZ8sHmHHow2s"
      }
    },
    {
      "cell_type": "markdown",
      "source": [
        "Metni belirteçleme, metni ayrı ayrı kelimelere veya belirteçlere ayırma sürecini ifade eder. Bu, metin işleme ve analizinde ilk ve önemli adımdır. Belirteçleme, bir cümleyi, paragrafı veya tüm belgeyi onu oluşturan kelimelere veya alt kelimelere ayırmayı içerir. Örneğin, \"Doğal dil işleme eğlencelidir\" cümlesi, [\"Doğal\", \"dil\", \"işleme\", \"olmak\", \"eğlenceli\"] gibi bir kelime listesine belirteçlenir.\n",
        "Metni belirteçlere dönüştürerek, metin sınıflandırması, duygu analizi ve makine çevirisi gibi çeşitli doğal dil işleme (NLP) görevleri için verileri daha kolay analiz edebilir ve işleyebiliriz. Belirteçleştirme, kelime dağarcığının temelini oluşturacak sözcükleri ve model oluşturmadaki sonraki adımları belirlemeye yardımcı olur."
      ],
      "metadata": {
        "id": "gtQprj5IpCok"
      }
    },
    {
      "cell_type": "markdown",
      "source": [
        "**3.1.2 Python'da Kelime BOW Uygulama**"
      ],
      "metadata": {
        "id": "eiXPtJgZpZbC"
      }
    },
    {
      "cell_type": "code",
      "source": [
        "from sklearn.feature_extraction.text import CountVectorizer\n",
        "# Sample text corpus\n",
        "documents = [\n",
        "\"Natural language processing is fun\",\n",
        "\"Language Language \"\n",
        "]\n",
        "# Initialize the CountVectorizer\n",
        "vectorizer = CountVectorizer()\n",
        "# Fit the vectorizer on the text data\n",
        "X = vectorizer.fit_transform(documents)\n",
        "# Convert the result to an array\n",
        "bow_array = X.toarray()\n",
        "# Get the feature names (vocabulary)\n",
        "vocab = vectorizer.get_feature_names_out()\n",
        "print(\"Vocabulary:\")\n",
        "print(vocab)\n",
        "print(\"\\\\\\\\nBag of Words Array:\")\n",
        "print(bow_array)"
      ],
      "metadata": {
        "colab": {
          "base_uri": "https://localhost:8080/"
        },
        "id": "hBgZBoaKpmWr",
        "outputId": "43d05fcd-df63-4a85-cecc-8d46b591e8aa"
      },
      "execution_count": 2,
      "outputs": [
        {
          "output_type": "stream",
          "name": "stdout",
          "text": [
            "Vocabulary:\n",
            "['fun' 'is' 'language' 'natural' 'processing']\n",
            "\\\\nBag of Words Array:\n",
            "[[1 1 1 1 1]\n",
            " [0 0 2 0 0]]\n"
          ]
        }
      ]
    },
    {
      "cell_type": "markdown",
      "source": [
        "**3.1.4 Pratik Örnek: Kelime Torbasıyla Metin Sınıflandırması**"
      ],
      "metadata": {
        "id": "Tp0LEGFOGRD9"
      }
    },
    {
      "cell_type": "code",
      "source": [],
      "metadata": {
        "id": "G3q58eKtZj8I"
      },
      "execution_count": null,
      "outputs": []
    },
    {
      "cell_type": "code",
      "source": [
        "from sklearn.feature_extraction.text import CountVectorizer\n",
        "from sklearn.naive_bayes import MultinomialNB\n",
        "from sklearn.model_selection import train_test_split\n",
        "from sklearn.metrics import accuracy_score\n",
        "# Sample text corpus and labels\n",
        "documents = [\n",
        "\"Natural language processing is fun\",\n",
        "\"Language models are important in NLP\",\n",
        "\"I enjoy learning about artificial intelligence\",\n",
        "\"Machine learning and NLP are closely related\",\n",
        "\"Deep learning is a subset of machine learning\"\n",
        "]\n",
        "labels = [1, 1, 0, 1, 0]  # 1 for NLP-related, 0 for AI-related\n",
        "# Initialize the CountVectorizer\n",
        "vectorizer = CountVectorizer()\n",
        "# Transform the text data\n",
        "X = vectorizer.fit_transform(documents)\n",
        "# Split the data into training and testing sets\n",
        "X_train, X_test, y_train, y_test = train_test_split(X, labels, test_size=0.2, random_state=42)\n",
        "# Initialize the classifier\n",
        "classifier = MultinomialNB()\n",
        "# Train the classifier\n",
        "classifier.fit(X_train, y_train)\n",
        "# Predict the labels for the test set\n",
        "y_pred = classifier.predict(X_test)\n",
        "# Calculate the accuracy\n",
        "accuracy = accuracy_score(y_test, y_pred)\n",
        "print(\"Accuracy:\", accuracy)"
      ],
      "metadata": {
        "colab": {
          "base_uri": "https://localhost:8080/"
        },
        "id": "yXUVuGgbGRpI",
        "outputId": "751859ee-69c9-42f0-d4ad-1334a6fcc360"
      },
      "execution_count": 4,
      "outputs": [
        {
          "output_type": "stream",
          "name": "stdout",
          "text": [
            "Accuracy: 1.0\n"
          ]
        }
      ]
    },
    {
      "cell_type": "markdown",
      "source": [
        "**Parçalı Gösterim**"
      ],
      "metadata": {
        "id": "1pdGJqgcGoAf"
      }
    },
    {
      "cell_type": "code",
      "source": [
        "from sklearn.feature_extraction.text import CountVectorizer\n",
        "from sklearn.naive_bayes import MultinomialNB\n",
        "from sklearn.model_selection import train_test_split\n",
        "from sklearn.metrics import accuracy_score"
      ],
      "metadata": {
        "id": "lzZstXamGrLP"
      },
      "execution_count": 5,
      "outputs": []
    },
    {
      "cell_type": "code",
      "source": [
        "documents = [\n",
        "\"Natural language processing is fun\",\n",
        "\"Language models are important in NLP\",\n",
        "\"I enjoy learning about artificial intelligence\",\n",
        "\"Machine learning and NLP are closely related\",\n",
        "\"Deep learning is a subset of machine learning\"\n",
        "]\n",
        "labels = [1, 1, 0, 1, 0]  # 1 for NLP-related, 0 for AI-related"
      ],
      "metadata": {
        "id": "rjXZaUk1Gt9X"
      },
      "execution_count": 6,
      "outputs": []
    },
    {
      "cell_type": "code",
      "source": [
        "X = vectorizer.fit_transform(documents)\n",
        "X"
      ],
      "metadata": {
        "colab": {
          "base_uri": "https://localhost:8080/"
        },
        "id": "xf40h7OrGwh7",
        "outputId": "8ea45749-2680-4f84-95df-370ffa7f3bd3"
      },
      "execution_count": 7,
      "outputs": [
        {
          "output_type": "execute_result",
          "data": {
            "text/plain": [
              "<5x22 sparse matrix of type '<class 'numpy.int64'>'\n",
              "\twith 29 stored elements in Compressed Sparse Row format>"
            ]
          },
          "metadata": {},
          "execution_count": 7
        }
      ]
    },
    {
      "cell_type": "code",
      "source": [
        "X_train, X_test, y_train, y_test = train_test_split(X, labels, test_size=0.2, random_state=42)\n",
        "X_train"
      ],
      "metadata": {
        "colab": {
          "base_uri": "https://localhost:8080/"
        },
        "id": "fv_c55p1Gzt4",
        "outputId": "3926aef6-7960-41e1-8cc7-a46cb081bc62"
      },
      "execution_count": 8,
      "outputs": [
        {
          "output_type": "execute_result",
          "data": {
            "text/plain": [
              "<4x22 sparse matrix of type '<class 'numpy.int64'>'\n",
              "\twith 23 stored elements in Compressed Sparse Row format>"
            ]
          },
          "metadata": {},
          "execution_count": 8
        }
      ]
    },
    {
      "cell_type": "code",
      "source": [
        "classifier = MultinomialNB()"
      ],
      "metadata": {
        "id": "3tX5_kLqG3Bo"
      },
      "execution_count": 9,
      "outputs": []
    },
    {
      "cell_type": "code",
      "source": [
        "classifier.fit(X_train, y_train)"
      ],
      "metadata": {
        "colab": {
          "base_uri": "https://localhost:8080/",
          "height": 80
        },
        "id": "OirmXDfOG5GK",
        "outputId": "3d499756-bb20-4892-c19e-4b722350558b"
      },
      "execution_count": 10,
      "outputs": [
        {
          "output_type": "execute_result",
          "data": {
            "text/plain": [
              "MultinomialNB()"
            ],
            "text/html": [
              "<style>#sk-container-id-1 {\n",
              "  /* Definition of color scheme common for light and dark mode */\n",
              "  --sklearn-color-text: #000;\n",
              "  --sklearn-color-text-muted: #666;\n",
              "  --sklearn-color-line: gray;\n",
              "  /* Definition of color scheme for unfitted estimators */\n",
              "  --sklearn-color-unfitted-level-0: #fff5e6;\n",
              "  --sklearn-color-unfitted-level-1: #f6e4d2;\n",
              "  --sklearn-color-unfitted-level-2: #ffe0b3;\n",
              "  --sklearn-color-unfitted-level-3: chocolate;\n",
              "  /* Definition of color scheme for fitted estimators */\n",
              "  --sklearn-color-fitted-level-0: #f0f8ff;\n",
              "  --sklearn-color-fitted-level-1: #d4ebff;\n",
              "  --sklearn-color-fitted-level-2: #b3dbfd;\n",
              "  --sklearn-color-fitted-level-3: cornflowerblue;\n",
              "\n",
              "  /* Specific color for light theme */\n",
              "  --sklearn-color-text-on-default-background: var(--sg-text-color, var(--theme-code-foreground, var(--jp-content-font-color1, black)));\n",
              "  --sklearn-color-background: var(--sg-background-color, var(--theme-background, var(--jp-layout-color0, white)));\n",
              "  --sklearn-color-border-box: var(--sg-text-color, var(--theme-code-foreground, var(--jp-content-font-color1, black)));\n",
              "  --sklearn-color-icon: #696969;\n",
              "\n",
              "  @media (prefers-color-scheme: dark) {\n",
              "    /* Redefinition of color scheme for dark theme */\n",
              "    --sklearn-color-text-on-default-background: var(--sg-text-color, var(--theme-code-foreground, var(--jp-content-font-color1, white)));\n",
              "    --sklearn-color-background: var(--sg-background-color, var(--theme-background, var(--jp-layout-color0, #111)));\n",
              "    --sklearn-color-border-box: var(--sg-text-color, var(--theme-code-foreground, var(--jp-content-font-color1, white)));\n",
              "    --sklearn-color-icon: #878787;\n",
              "  }\n",
              "}\n",
              "\n",
              "#sk-container-id-1 {\n",
              "  color: var(--sklearn-color-text);\n",
              "}\n",
              "\n",
              "#sk-container-id-1 pre {\n",
              "  padding: 0;\n",
              "}\n",
              "\n",
              "#sk-container-id-1 input.sk-hidden--visually {\n",
              "  border: 0;\n",
              "  clip: rect(1px 1px 1px 1px);\n",
              "  clip: rect(1px, 1px, 1px, 1px);\n",
              "  height: 1px;\n",
              "  margin: -1px;\n",
              "  overflow: hidden;\n",
              "  padding: 0;\n",
              "  position: absolute;\n",
              "  width: 1px;\n",
              "}\n",
              "\n",
              "#sk-container-id-1 div.sk-dashed-wrapped {\n",
              "  border: 1px dashed var(--sklearn-color-line);\n",
              "  margin: 0 0.4em 0.5em 0.4em;\n",
              "  box-sizing: border-box;\n",
              "  padding-bottom: 0.4em;\n",
              "  background-color: var(--sklearn-color-background);\n",
              "}\n",
              "\n",
              "#sk-container-id-1 div.sk-container {\n",
              "  /* jupyter's `normalize.less` sets `[hidden] { display: none; }`\n",
              "     but bootstrap.min.css set `[hidden] { display: none !important; }`\n",
              "     so we also need the `!important` here to be able to override the\n",
              "     default hidden behavior on the sphinx rendered scikit-learn.org.\n",
              "     See: https://github.com/scikit-learn/scikit-learn/issues/21755 */\n",
              "  display: inline-block !important;\n",
              "  position: relative;\n",
              "}\n",
              "\n",
              "#sk-container-id-1 div.sk-text-repr-fallback {\n",
              "  display: none;\n",
              "}\n",
              "\n",
              "div.sk-parallel-item,\n",
              "div.sk-serial,\n",
              "div.sk-item {\n",
              "  /* draw centered vertical line to link estimators */\n",
              "  background-image: linear-gradient(var(--sklearn-color-text-on-default-background), var(--sklearn-color-text-on-default-background));\n",
              "  background-size: 2px 100%;\n",
              "  background-repeat: no-repeat;\n",
              "  background-position: center center;\n",
              "}\n",
              "\n",
              "/* Parallel-specific style estimator block */\n",
              "\n",
              "#sk-container-id-1 div.sk-parallel-item::after {\n",
              "  content: \"\";\n",
              "  width: 100%;\n",
              "  border-bottom: 2px solid var(--sklearn-color-text-on-default-background);\n",
              "  flex-grow: 1;\n",
              "}\n",
              "\n",
              "#sk-container-id-1 div.sk-parallel {\n",
              "  display: flex;\n",
              "  align-items: stretch;\n",
              "  justify-content: center;\n",
              "  background-color: var(--sklearn-color-background);\n",
              "  position: relative;\n",
              "}\n",
              "\n",
              "#sk-container-id-1 div.sk-parallel-item {\n",
              "  display: flex;\n",
              "  flex-direction: column;\n",
              "}\n",
              "\n",
              "#sk-container-id-1 div.sk-parallel-item:first-child::after {\n",
              "  align-self: flex-end;\n",
              "  width: 50%;\n",
              "}\n",
              "\n",
              "#sk-container-id-1 div.sk-parallel-item:last-child::after {\n",
              "  align-self: flex-start;\n",
              "  width: 50%;\n",
              "}\n",
              "\n",
              "#sk-container-id-1 div.sk-parallel-item:only-child::after {\n",
              "  width: 0;\n",
              "}\n",
              "\n",
              "/* Serial-specific style estimator block */\n",
              "\n",
              "#sk-container-id-1 div.sk-serial {\n",
              "  display: flex;\n",
              "  flex-direction: column;\n",
              "  align-items: center;\n",
              "  background-color: var(--sklearn-color-background);\n",
              "  padding-right: 1em;\n",
              "  padding-left: 1em;\n",
              "}\n",
              "\n",
              "\n",
              "/* Toggleable style: style used for estimator/Pipeline/ColumnTransformer box that is\n",
              "clickable and can be expanded/collapsed.\n",
              "- Pipeline and ColumnTransformer use this feature and define the default style\n",
              "- Estimators will overwrite some part of the style using the `sk-estimator` class\n",
              "*/\n",
              "\n",
              "/* Pipeline and ColumnTransformer style (default) */\n",
              "\n",
              "#sk-container-id-1 div.sk-toggleable {\n",
              "  /* Default theme specific background. It is overwritten whether we have a\n",
              "  specific estimator or a Pipeline/ColumnTransformer */\n",
              "  background-color: var(--sklearn-color-background);\n",
              "}\n",
              "\n",
              "/* Toggleable label */\n",
              "#sk-container-id-1 label.sk-toggleable__label {\n",
              "  cursor: pointer;\n",
              "  display: flex;\n",
              "  width: 100%;\n",
              "  margin-bottom: 0;\n",
              "  padding: 0.5em;\n",
              "  box-sizing: border-box;\n",
              "  text-align: center;\n",
              "  align-items: start;\n",
              "  justify-content: space-between;\n",
              "  gap: 0.5em;\n",
              "}\n",
              "\n",
              "#sk-container-id-1 label.sk-toggleable__label .caption {\n",
              "  font-size: 0.6rem;\n",
              "  font-weight: lighter;\n",
              "  color: var(--sklearn-color-text-muted);\n",
              "}\n",
              "\n",
              "#sk-container-id-1 label.sk-toggleable__label-arrow:before {\n",
              "  /* Arrow on the left of the label */\n",
              "  content: \"▸\";\n",
              "  float: left;\n",
              "  margin-right: 0.25em;\n",
              "  color: var(--sklearn-color-icon);\n",
              "}\n",
              "\n",
              "#sk-container-id-1 label.sk-toggleable__label-arrow:hover:before {\n",
              "  color: var(--sklearn-color-text);\n",
              "}\n",
              "\n",
              "/* Toggleable content - dropdown */\n",
              "\n",
              "#sk-container-id-1 div.sk-toggleable__content {\n",
              "  max-height: 0;\n",
              "  max-width: 0;\n",
              "  overflow: hidden;\n",
              "  text-align: left;\n",
              "  /* unfitted */\n",
              "  background-color: var(--sklearn-color-unfitted-level-0);\n",
              "}\n",
              "\n",
              "#sk-container-id-1 div.sk-toggleable__content.fitted {\n",
              "  /* fitted */\n",
              "  background-color: var(--sklearn-color-fitted-level-0);\n",
              "}\n",
              "\n",
              "#sk-container-id-1 div.sk-toggleable__content pre {\n",
              "  margin: 0.2em;\n",
              "  border-radius: 0.25em;\n",
              "  color: var(--sklearn-color-text);\n",
              "  /* unfitted */\n",
              "  background-color: var(--sklearn-color-unfitted-level-0);\n",
              "}\n",
              "\n",
              "#sk-container-id-1 div.sk-toggleable__content.fitted pre {\n",
              "  /* unfitted */\n",
              "  background-color: var(--sklearn-color-fitted-level-0);\n",
              "}\n",
              "\n",
              "#sk-container-id-1 input.sk-toggleable__control:checked~div.sk-toggleable__content {\n",
              "  /* Expand drop-down */\n",
              "  max-height: 200px;\n",
              "  max-width: 100%;\n",
              "  overflow: auto;\n",
              "}\n",
              "\n",
              "#sk-container-id-1 input.sk-toggleable__control:checked~label.sk-toggleable__label-arrow:before {\n",
              "  content: \"▾\";\n",
              "}\n",
              "\n",
              "/* Pipeline/ColumnTransformer-specific style */\n",
              "\n",
              "#sk-container-id-1 div.sk-label input.sk-toggleable__control:checked~label.sk-toggleable__label {\n",
              "  color: var(--sklearn-color-text);\n",
              "  background-color: var(--sklearn-color-unfitted-level-2);\n",
              "}\n",
              "\n",
              "#sk-container-id-1 div.sk-label.fitted input.sk-toggleable__control:checked~label.sk-toggleable__label {\n",
              "  background-color: var(--sklearn-color-fitted-level-2);\n",
              "}\n",
              "\n",
              "/* Estimator-specific style */\n",
              "\n",
              "/* Colorize estimator box */\n",
              "#sk-container-id-1 div.sk-estimator input.sk-toggleable__control:checked~label.sk-toggleable__label {\n",
              "  /* unfitted */\n",
              "  background-color: var(--sklearn-color-unfitted-level-2);\n",
              "}\n",
              "\n",
              "#sk-container-id-1 div.sk-estimator.fitted input.sk-toggleable__control:checked~label.sk-toggleable__label {\n",
              "  /* fitted */\n",
              "  background-color: var(--sklearn-color-fitted-level-2);\n",
              "}\n",
              "\n",
              "#sk-container-id-1 div.sk-label label.sk-toggleable__label,\n",
              "#sk-container-id-1 div.sk-label label {\n",
              "  /* The background is the default theme color */\n",
              "  color: var(--sklearn-color-text-on-default-background);\n",
              "}\n",
              "\n",
              "/* On hover, darken the color of the background */\n",
              "#sk-container-id-1 div.sk-label:hover label.sk-toggleable__label {\n",
              "  color: var(--sklearn-color-text);\n",
              "  background-color: var(--sklearn-color-unfitted-level-2);\n",
              "}\n",
              "\n",
              "/* Label box, darken color on hover, fitted */\n",
              "#sk-container-id-1 div.sk-label.fitted:hover label.sk-toggleable__label.fitted {\n",
              "  color: var(--sklearn-color-text);\n",
              "  background-color: var(--sklearn-color-fitted-level-2);\n",
              "}\n",
              "\n",
              "/* Estimator label */\n",
              "\n",
              "#sk-container-id-1 div.sk-label label {\n",
              "  font-family: monospace;\n",
              "  font-weight: bold;\n",
              "  display: inline-block;\n",
              "  line-height: 1.2em;\n",
              "}\n",
              "\n",
              "#sk-container-id-1 div.sk-label-container {\n",
              "  text-align: center;\n",
              "}\n",
              "\n",
              "/* Estimator-specific */\n",
              "#sk-container-id-1 div.sk-estimator {\n",
              "  font-family: monospace;\n",
              "  border: 1px dotted var(--sklearn-color-border-box);\n",
              "  border-radius: 0.25em;\n",
              "  box-sizing: border-box;\n",
              "  margin-bottom: 0.5em;\n",
              "  /* unfitted */\n",
              "  background-color: var(--sklearn-color-unfitted-level-0);\n",
              "}\n",
              "\n",
              "#sk-container-id-1 div.sk-estimator.fitted {\n",
              "  /* fitted */\n",
              "  background-color: var(--sklearn-color-fitted-level-0);\n",
              "}\n",
              "\n",
              "/* on hover */\n",
              "#sk-container-id-1 div.sk-estimator:hover {\n",
              "  /* unfitted */\n",
              "  background-color: var(--sklearn-color-unfitted-level-2);\n",
              "}\n",
              "\n",
              "#sk-container-id-1 div.sk-estimator.fitted:hover {\n",
              "  /* fitted */\n",
              "  background-color: var(--sklearn-color-fitted-level-2);\n",
              "}\n",
              "\n",
              "/* Specification for estimator info (e.g. \"i\" and \"?\") */\n",
              "\n",
              "/* Common style for \"i\" and \"?\" */\n",
              "\n",
              ".sk-estimator-doc-link,\n",
              "a:link.sk-estimator-doc-link,\n",
              "a:visited.sk-estimator-doc-link {\n",
              "  float: right;\n",
              "  font-size: smaller;\n",
              "  line-height: 1em;\n",
              "  font-family: monospace;\n",
              "  background-color: var(--sklearn-color-background);\n",
              "  border-radius: 1em;\n",
              "  height: 1em;\n",
              "  width: 1em;\n",
              "  text-decoration: none !important;\n",
              "  margin-left: 0.5em;\n",
              "  text-align: center;\n",
              "  /* unfitted */\n",
              "  border: var(--sklearn-color-unfitted-level-1) 1pt solid;\n",
              "  color: var(--sklearn-color-unfitted-level-1);\n",
              "}\n",
              "\n",
              ".sk-estimator-doc-link.fitted,\n",
              "a:link.sk-estimator-doc-link.fitted,\n",
              "a:visited.sk-estimator-doc-link.fitted {\n",
              "  /* fitted */\n",
              "  border: var(--sklearn-color-fitted-level-1) 1pt solid;\n",
              "  color: var(--sklearn-color-fitted-level-1);\n",
              "}\n",
              "\n",
              "/* On hover */\n",
              "div.sk-estimator:hover .sk-estimator-doc-link:hover,\n",
              ".sk-estimator-doc-link:hover,\n",
              "div.sk-label-container:hover .sk-estimator-doc-link:hover,\n",
              ".sk-estimator-doc-link:hover {\n",
              "  /* unfitted */\n",
              "  background-color: var(--sklearn-color-unfitted-level-3);\n",
              "  color: var(--sklearn-color-background);\n",
              "  text-decoration: none;\n",
              "}\n",
              "\n",
              "div.sk-estimator.fitted:hover .sk-estimator-doc-link.fitted:hover,\n",
              ".sk-estimator-doc-link.fitted:hover,\n",
              "div.sk-label-container:hover .sk-estimator-doc-link.fitted:hover,\n",
              ".sk-estimator-doc-link.fitted:hover {\n",
              "  /* fitted */\n",
              "  background-color: var(--sklearn-color-fitted-level-3);\n",
              "  color: var(--sklearn-color-background);\n",
              "  text-decoration: none;\n",
              "}\n",
              "\n",
              "/* Span, style for the box shown on hovering the info icon */\n",
              ".sk-estimator-doc-link span {\n",
              "  display: none;\n",
              "  z-index: 9999;\n",
              "  position: relative;\n",
              "  font-weight: normal;\n",
              "  right: .2ex;\n",
              "  padding: .5ex;\n",
              "  margin: .5ex;\n",
              "  width: min-content;\n",
              "  min-width: 20ex;\n",
              "  max-width: 50ex;\n",
              "  color: var(--sklearn-color-text);\n",
              "  box-shadow: 2pt 2pt 4pt #999;\n",
              "  /* unfitted */\n",
              "  background: var(--sklearn-color-unfitted-level-0);\n",
              "  border: .5pt solid var(--sklearn-color-unfitted-level-3);\n",
              "}\n",
              "\n",
              ".sk-estimator-doc-link.fitted span {\n",
              "  /* fitted */\n",
              "  background: var(--sklearn-color-fitted-level-0);\n",
              "  border: var(--sklearn-color-fitted-level-3);\n",
              "}\n",
              "\n",
              ".sk-estimator-doc-link:hover span {\n",
              "  display: block;\n",
              "}\n",
              "\n",
              "/* \"?\"-specific style due to the `<a>` HTML tag */\n",
              "\n",
              "#sk-container-id-1 a.estimator_doc_link {\n",
              "  float: right;\n",
              "  font-size: 1rem;\n",
              "  line-height: 1em;\n",
              "  font-family: monospace;\n",
              "  background-color: var(--sklearn-color-background);\n",
              "  border-radius: 1rem;\n",
              "  height: 1rem;\n",
              "  width: 1rem;\n",
              "  text-decoration: none;\n",
              "  /* unfitted */\n",
              "  color: var(--sklearn-color-unfitted-level-1);\n",
              "  border: var(--sklearn-color-unfitted-level-1) 1pt solid;\n",
              "}\n",
              "\n",
              "#sk-container-id-1 a.estimator_doc_link.fitted {\n",
              "  /* fitted */\n",
              "  border: var(--sklearn-color-fitted-level-1) 1pt solid;\n",
              "  color: var(--sklearn-color-fitted-level-1);\n",
              "}\n",
              "\n",
              "/* On hover */\n",
              "#sk-container-id-1 a.estimator_doc_link:hover {\n",
              "  /* unfitted */\n",
              "  background-color: var(--sklearn-color-unfitted-level-3);\n",
              "  color: var(--sklearn-color-background);\n",
              "  text-decoration: none;\n",
              "}\n",
              "\n",
              "#sk-container-id-1 a.estimator_doc_link.fitted:hover {\n",
              "  /* fitted */\n",
              "  background-color: var(--sklearn-color-fitted-level-3);\n",
              "}\n",
              "</style><div id=\"sk-container-id-1\" class=\"sk-top-container\"><div class=\"sk-text-repr-fallback\"><pre>MultinomialNB()</pre><b>In a Jupyter environment, please rerun this cell to show the HTML representation or trust the notebook. <br />On GitHub, the HTML representation is unable to render, please try loading this page with nbviewer.org.</b></div><div class=\"sk-container\" hidden><div class=\"sk-item\"><div class=\"sk-estimator fitted sk-toggleable\"><input class=\"sk-toggleable__control sk-hidden--visually\" id=\"sk-estimator-id-1\" type=\"checkbox\" checked><label for=\"sk-estimator-id-1\" class=\"sk-toggleable__label fitted sk-toggleable__label-arrow\"><div><div>MultinomialNB</div></div><div><a class=\"sk-estimator-doc-link fitted\" rel=\"noreferrer\" target=\"_blank\" href=\"https://scikit-learn.org/1.6/modules/generated/sklearn.naive_bayes.MultinomialNB.html\">?<span>Documentation for MultinomialNB</span></a><span class=\"sk-estimator-doc-link fitted\">i<span>Fitted</span></span></div></label><div class=\"sk-toggleable__content fitted\"><pre>MultinomialNB()</pre></div> </div></div></div></div>"
            ]
          },
          "metadata": {},
          "execution_count": 10
        }
      ]
    },
    {
      "cell_type": "code",
      "source": [
        "y_pred = classifier.predict(X_test)\n",
        "y_pred"
      ],
      "metadata": {
        "colab": {
          "base_uri": "https://localhost:8080/"
        },
        "id": "En1yX-dvG7hO",
        "outputId": "68bb9dfc-d6ea-4189-b6ba-586a7cec1a21"
      },
      "execution_count": 11,
      "outputs": [
        {
          "output_type": "execute_result",
          "data": {
            "text/plain": [
              "array([1])"
            ]
          },
          "metadata": {},
          "execution_count": 11
        }
      ]
    },
    {
      "cell_type": "code",
      "source": [
        "accuracy = accuracy_score(y_test, y_pred)\n",
        "print(\"Accuracy:\", accuracy)"
      ],
      "metadata": {
        "colab": {
          "base_uri": "https://localhost:8080/"
        },
        "id": "eFYWeF4VG_gy",
        "outputId": "1212763d-eac6-424f-e66e-a9eab3bb0f69"
      },
      "execution_count": 12,
      "outputs": [
        {
          "output_type": "stream",
          "name": "stdout",
          "text": [
            "Accuracy: 1.0\n"
          ]
        }
      ]
    },
    {
      "cell_type": "markdown",
      "source": [
        "**predict**"
      ],
      "metadata": {
        "id": "oHX9i2ngHKAD"
      }
    },
    {
      "cell_type": "code",
      "source": [
        "# Yeni metin örnekleri\n",
        "new_documents = [\n",
        "    \"I enjoy natural language processing\",\n",
        "    \"Deep learning has many applications\",\n",
        "    \"Natural language processing is fun\",\n",
        "    \"Machine learning enjoy application\"\n",
        "]\n",
        "\n",
        "# Yeni metinleri mevcut vectorizer ile dönüştürün\n",
        "new_X = vectorizer.transform(new_documents)\n",
        "\n",
        "# Yeni metinler için tahminleri alın\n",
        "new_predictions = classifier.predict(new_X)\n",
        "\n",
        "print(\"Yeni tahminler:\", new_predictions)\n"
      ],
      "metadata": {
        "colab": {
          "base_uri": "https://localhost:8080/"
        },
        "id": "WBji8qwQHHg3",
        "outputId": "3d8fb9bf-6a35-40f6-d115-31ef5ad5d57e"
      },
      "execution_count": 30,
      "outputs": [
        {
          "output_type": "stream",
          "name": "stdout",
          "text": [
            "Yeni tahminler: [1 0 1 0]\n"
          ]
        }
      ]
    },
    {
      "cell_type": "markdown",
      "source": [
        "## **3.2 TF-IDF**"
      ],
      "metadata": {
        "id": "LX4cc3kzS6rH"
      }
    },
    {
      "cell_type": "markdown",
      "source": [
        "Terim Frekansı-Ters Belge Frekansı anlamına gelen TF-IDF, Doğal Dil İşleme (NLP) alanında yaygın olarak kullanılan ve oldukça etkili bir özellik çıkarma tekniğidir"
      ],
      "metadata": {
        "id": "Rn-Zo7jgS8ze"
      }
    },
    {
      "cell_type": "markdown",
      "source": [
        "Bu yöntem, daha basit modellere kıyasla metin verilerini temsil etmede daha ayrıntılı bir yaklaşım sağladığı için tercih edilmektedir."
      ],
      "metadata": {
        "id": "IXHOXmHmTCJp"
      }
    },
    {
      "cell_type": "markdown",
      "source": [
        "Sadece kelimelerin anlamlılığını dikkate almadan sadece bulundukları yerleri sayan BOW modelinin aksine, TF-IDF her kelimenin tüm metin gövdesi içindeki önemini hesaba katar."
      ],
      "metadata": {
        "id": "yHl6EnmETFXZ"
      }
    },
    {
      "cell_type": "markdown",
      "source": [
        "Bu, metin gövdesinde benzersiz veya nadir olan terimlere daha yüksek ağırlıklar atayarak ve birden fazla belgede sıklıkla görünen ortak kelimelerin önemini küçümseyerek elde edilir."
      ],
      "metadata": {
        "id": "1PZUW3vlTNnb"
      }
    },
    {
      "cell_type": "markdown",
      "source": [
        "**3.2.1 TF-IDF'yi Anlamak**"
      ],
      "metadata": {
        "id": "rQRFjAMRTQhi"
      }
    },
    {
      "cell_type": "markdown",
      "source": [
        "**Terim Sıklığı (TF)** : Bu, bir terimin bir belgede ne sıklıkta göründüğünü ölçer. Bir terimin bir belgedeki terim sıklığı ttt ddd şu şekilde verilir:"
      ],
      "metadata": {
        "id": "GgHcra1WTWFE"
      }
    },
    {
      "cell_type": "markdown",
      "source": [
        "**Ters Belge Frekansı (IDF)** : Bu, bir terimin tüm korpusta ne kadar önemli olduğunu ölçer. Bir terimin t ters belge frekansı şu şekilde verilir:"
      ],
      "metadata": {
        "id": "cyP4rB6_Tb7p"
      }
    },
    {
      "cell_type": "markdown",
      "source": [
        "**Avantajlar**"
      ],
      "metadata": {
        "id": "nieCF9J_To7R"
      }
    },
    {
      "cell_type": "markdown",
      "source": [
        "**Önem Vurgulama :** TF-IDF, belirli bir belge için özellikle önemli olan kelimelere daha yüksek ağırlıklar atarken, birçok belgede görünen yaygın kelimelere daha düşük ağırlıklar atar. Bu, her belgenin benzersiz yönlerini ayırt etmeye yardımcı olur."
      ],
      "metadata": {
        "id": "bus7BpDxTreX"
      }
    },
    {
      "cell_type": "markdown",
      "source": [
        "**Gürültünün Azaltılması :** Sıkça görülen kelimelerin (örneğin, \"the\", \"is\", \"and\") önemini azaltarak, TF-IDF verilerdeki gürültüyü azaltır ve daha anlamlı kelimelerin öne çıkmasını sağlar"
      ],
      "metadata": {
        "id": "Tq90srOoTwhv"
      }
    },
    {
      "cell_type": "markdown",
      "source": [
        "**Nüanslı Temsil :** Basit kelime sayımı modellerinin aksine, TF-IDF hem bir belgedeki kelimelerin sıklığını hem de tüm metin boyunca sıklıklarını dikkate alır. Bu ikili değerlendirme, metnin daha nüanslı ve bilgilendirici bir temsilini sağlar."
      ],
      "metadata": {
        "id": "k5VNG4W6T3O5"
      }
    },
    {
      "cell_type": "markdown",
      "source": [
        "**Dengeli Ağırlıklandırma :** Bu yöntem, terim sıklığını ters belge sıklığıyla dengeleyerek, terimlerin korpus içindeki alaka ve benzersizliklerine göre uygun şekilde ağırlıklandırılmasını sağlar."
      ],
      "metadata": {
        "id": "9416GQcyT7Is"
      }
    },
    {
      "cell_type": "markdown",
      "source": [
        "**Çeşitli NLP Görevlerinde Uygulama :** TF-IDF, bilgi alma, metin sınıflandırması, kümeleme ve daha fazlası dahil olmak üzere çok çeşitli NLP görevlerine uygulanabilir. Çok yönlülüğü onu birçok farklı bağlamda değerli bir araç haline getirir."
      ],
      "metadata": {
        "id": "jQrtC95qUDIK"
      }
    },
    {
      "cell_type": "markdown",
      "source": [
        "**Makine Öğrenmesi Modelleriyle Uyumluluk :** Dönüştürülen metin verileri çeşitli makine öğrenmesi algoritmalarına kolayca beslenebilir ve iyi temsil edilmiş bir özellik seti sağlayarak performansları artırılabilir."
      ],
      "metadata": {
        "id": "wxBxjTb_UGhT"
      }
    },
    {
      "cell_type": "markdown",
      "source": [
        "**Daha İyi Sınıflandırma ve Kümeleme :** TF-IDF, metin verilerinin temsilini iyileştirerek, sınıflandırma ve kümeleme görevlerinde genellikle daha iyi performansa yol açar. Bunun nedeni, modelin her belgenin ayırt edici özelliklerini daha doğru bir şekilde yakalayabilmesidir."
      ],
      "metadata": {
        "id": "YXNwb91MUKhq"
      }
    },
    {
      "cell_type": "markdown",
      "source": [
        "**Yüksek Boyutluluğun Azaltılması :** Hem Kelime Torbası hem de TF-IDF yüksek boyutlu özellik vektörleriyle sonuçlanabilirken, TF-IDF'nin ağırlıklandırma şeması en alakalı terimlere odaklanarak yüksek boyutlulukla ilişkili sorunların bazılarını azaltmaya yardımcı olur."
      ],
      "metadata": {
        "id": "G4ot0UHSUPig"
      }
    },
    {
      "cell_type": "markdown",
      "source": [
        "**Kütüphanelerle Kullanım Kolaylığı :** TF-IDF, Python'daki scikit-learn gibi popüler kütüphaneler kullanılarak kolayca uygulanabilir. Bu, TF-IDF'yi metin verilerine hızla uygulamak isteyen uygulayıcılar ve araştırmacılar için erişilebilir hale getirir."
      ],
      "metadata": {
        "id": "6Oo1LaCUUS5V"
      }
    },
    {
      "cell_type": "markdown",
      "source": [
        "**3.2.3 Python'da TF-IDF'yi Uygulama**"
      ],
      "metadata": {
        "id": "thvgFOPLUVve"
      }
    },
    {
      "cell_type": "code",
      "source": [
        "from sklearn.feature_extraction.text import TfidfVectorizer\n",
        "# Sample text corpus\n",
        "documents = [\n",
        "\"Natural language processing is fun\",\n",
        "\"Language models are important in NLP\",\n",
        "\"I enjoy learning about artificial intelligence\",\n",
        "\"Machine learning and NLP are closely related\",\n",
        "\"Deep learning is a subset of machine learning test1 test2 test3\"\n",
        "]\n",
        "# Initialize the TfidfVectorizer\n",
        "vectorizer = TfidfVectorizer()\n",
        "# Fit the vectorizer on the text data\n",
        "X = vectorizer.fit_transform(documents)\n",
        "# Convert the result to an array\n",
        "tfidf_array = X.toarray()\n",
        "# Get the feature names (vocabulary)\n",
        "vocab = vectorizer.get_feature_names_out()\n",
        "print(\"Vocabulary:\")\n",
        "print(vocab)\n",
        "print(\"\\\\\\\\nTF-IDF Array:\")\n",
        "print(tfidf_array)"
      ],
      "metadata": {
        "colab": {
          "base_uri": "https://localhost:8080/"
        },
        "id": "HvGSD1LbUYoI",
        "outputId": "646a6a64-aebe-454a-a135-f4116488e3e1"
      },
      "execution_count": 39,
      "outputs": [
        {
          "output_type": "stream",
          "name": "stdout",
          "text": [
            "Vocabulary:\n",
            "['about' 'and' 'are' 'artificial' 'closely' 'deep' 'enjoy' 'fun'\n",
            " 'important' 'in' 'intelligence' 'is' 'language' 'learning' 'machine'\n",
            " 'models' 'natural' 'nlp' 'of' 'processing' 'related' 'subset' 'test1'\n",
            " 'test2' 'test3']\n",
            "\\\\nTF-IDF Array:\n",
            "[[0.         0.         0.         0.         0.         0.\n",
            "  0.         0.48214012 0.         0.         0.         0.38898761\n",
            "  0.38898761 0.         0.         0.         0.48214012 0.\n",
            "  0.         0.48214012 0.         0.         0.         0.\n",
            "  0.        ]\n",
            " [0.         0.         0.36252618 0.         0.         0.\n",
            "  0.         0.         0.44934185 0.44934185 0.         0.\n",
            "  0.36252618 0.         0.         0.44934185 0.         0.36252618\n",
            "  0.         0.         0.         0.         0.         0.\n",
            "  0.        ]\n",
            " [0.47412465 0.         0.         0.47412465 0.         0.\n",
            "  0.47412465 0.         0.         0.         0.47412465 0.\n",
            "  0.         0.3175268  0.         0.         0.         0.\n",
            "  0.         0.         0.         0.         0.         0.\n",
            "  0.        ]\n",
            " [0.         0.43028121 0.34714817 0.         0.43028121 0.\n",
            "  0.         0.         0.         0.         0.         0.\n",
            "  0.         0.28816434 0.34714817 0.         0.         0.34714817\n",
            "  0.         0.         0.43028121 0.         0.         0.\n",
            "  0.        ]\n",
            " [0.         0.         0.         0.         0.         0.33157171\n",
            "  0.         0.         0.         0.         0.         0.26750997\n",
            "  0.         0.44411488 0.26750997 0.         0.         0.\n",
            "  0.33157171 0.         0.         0.33157171 0.33157171 0.33157171\n",
            "  0.33157171]]\n"
          ]
        }
      ]
    },
    {
      "cell_type": "code",
      "source": [
        "print(vocab)\n",
        "print(len(vocab))"
      ],
      "metadata": {
        "colab": {
          "base_uri": "https://localhost:8080/"
        },
        "id": "Wk86sbD7UefG",
        "outputId": "76397049-3738-4bd9-fc89-ce702ccce1c0"
      },
      "execution_count": 40,
      "outputs": [
        {
          "output_type": "stream",
          "name": "stdout",
          "text": [
            "['about' 'and' 'are' 'artificial' 'closely' 'deep' 'enjoy' 'fun'\n",
            " 'important' 'in' 'intelligence' 'is' 'language' 'learning' 'machine'\n",
            " 'models' 'natural' 'nlp' 'of' 'processing' 'related' 'subset' 'test1'\n",
            " 'test2' 'test3']\n",
            "25\n"
          ]
        }
      ]
    },
    {
      "cell_type": "code",
      "source": [
        "tfidf_array.shape"
      ],
      "metadata": {
        "colab": {
          "base_uri": "https://localhost:8080/"
        },
        "id": "QOAIzFu8UsT2",
        "outputId": "d1387d5f-acb2-44bb-8598-b809c391ae15"
      },
      "execution_count": 41,
      "outputs": [
        {
          "output_type": "execute_result",
          "data": {
            "text/plain": [
              "(5, 25)"
            ]
          },
          "metadata": {},
          "execution_count": 41
        }
      ]
    },
    {
      "cell_type": "markdown",
      "source": [
        "yukarıdaki ifade 5 cümle 25 kelimeyi ifade etmektedir."
      ],
      "metadata": {
        "id": "w3aNbW0vUy_1"
      }
    },
    {
      "cell_type": "markdown",
      "source": [
        "TF -IDF Dizisi her belge için TF-IDF değerlerini gösterir. Her satır bir belgeye ve her sütun sözlükteki bir kelimeye karşılık gelir. Örneğin, ilk satır [0. 0. 0. 0. 0. 0. 0. 0. 0.46979135 0. 0. 0. 0.35872874 0.46979135 0. 0. 0. 0. 0. 0.46979135 0. 0. ] ilk belge \"Doğal dil işleme eğlencelidir\" için TF-IDF değerlerini temsil eder."
      ],
      "metadata": {
        "id": "NP9AcqpGVer7"
      }
    },
    {
      "cell_type": "markdown",
      "source": [
        "**Pratik Uygulama:**"
      ],
      "metadata": {
        "id": "Kg3yYNgbVkgN"
      }
    },
    {
      "cell_type": "markdown",
      "source": [
        "Uygulamada, bu TF-IDF dönüşümü Doğal Dil İşleme (NLP) için özellik mühendisliğinde temel bir adımdır.\n",
        "\n",
        "Ham metin verilerini sayısal özelliklere dönüştürerek, aşağıdakiler gibi çeşitli NLP sorunlarını çözmek için makine öğrenimi modellerinin uygulanmasını sağlar:\n",
        "\n",
        "**Metin Sınıflandırması** : Belgeleri önceden tanımlanmış kategorilere sınıflandırma.\n",
        "\n",
        "**Duygu Analizi** : Bir metinde ifade edilen duygu veya hissin belirlenmesi.\n",
        "\n",
        "**Bilgi Alma** : Büyük bir veri tabanından sorguya dayalı olarak ilgili belgelerin alınması.\n",
        "\n",
        "**Kümeleme**: Benzer belgeleri içeriklerine göre gruplandırmak.\n",
        "\n",
        "TF-IDF'yi anlamak ve etkili bir şekilde uygulamak, herhangi bir NLP uygulayıcısı için önemli bir beceridir, çünkü metin verilerinin temsilini önemli ölçüde iyileştirir ve çeşitli NLP görevlerinde makine öğrenimi modellerinin performansını iyileştirir."
      ],
      "metadata": {
        "id": "zyckAVRGVna3"
      }
    },
    {
      "cell_type": "code",
      "source": [
        "from sklearn.feature_extraction.text import TfidfVectorizer\n",
        "from sklearn.naive_bayes import MultinomialNB\n",
        "from sklearn.model_selection import train_test_split\n",
        "from sklearn.metrics import accuracy_score\n",
        "# Sample text corpus and labels\n",
        "documents = [\n",
        "\"Natural language processing is fun\",\n",
        "\"Language models are important in NLP\",\n",
        "\"I enjoy learning about artificial intelligence\",\n",
        "\"Machine learning and NLP are closely related\",\n",
        "\"Deep learning is a subset of machine learning\"\n",
        "]\n",
        "labels = [1, 1, 0, 1, 0]  # 1 for NLP-related, 0 for AI-related\n",
        "# Initialize the TfidfVectorizer\n",
        "vectorizer = TfidfVectorizer()\n",
        "# Transform the text data\n",
        "X = vectorizer.fit_transform(documents)\n",
        "# Split the data into training and testing sets\n",
        "X_train, X_test, y_train, y_test = train_test_split(X, labels, test_size=0.2, random_state=42)\n",
        "# Initialize the classifier\n",
        "classifier = MultinomialNB()\n",
        "# Train the classifier\n",
        "classifier.fit(X_train, y_train)\n",
        "# Predict the labels for the test set\n",
        "y_pred = classifier.predict(X_test)\n",
        "# Calculate the accuracy\n",
        "accuracy = accuracy_score(y_test, y_pred)\n",
        "print(\"Accuracy:\", accuracy)"
      ],
      "metadata": {
        "colab": {
          "base_uri": "https://localhost:8080/"
        },
        "id": "UUXpAPb8V3Vh",
        "outputId": "1e8a661b-ce23-49ef-dbd0-8041965f4322"
      },
      "execution_count": 42,
      "outputs": [
        {
          "output_type": "stream",
          "name": "stdout",
          "text": [
            "Accuracy: 1.0\n"
          ]
        }
      ]
    },
    {
      "cell_type": "markdown",
      "source": [
        "## **3.3 Kelime Yerleştirmeleri (Word2Vec, GloVe) - Word Embedding**"
      ],
      "metadata": {
        "id": "F_1UTE_0WG9j"
      }
    },
    {
      "cell_type": "markdown",
      "source": [
        "Kelime yerleştirmeleri, kelimelerin sürekli bir vektör uzayında vektörler olarak temsil edilmesine olanak tanıyan karmaşık bir kelime temsili türüdür. Bu yaklaşım, kelimelerin nüanslı anlamlarını etkili bir şekilde yakalayamayan seyrek ve yüksek boyutlu temsiller oluşturma eğiliminde olan Bag of Words ve TF-IDF gibi geleneksel modellere göre önemli bir avantaj sağlar.\n",
        "Öte yandan kelime yerleştirmeleri, kelimeler arasındaki anlamsal ilişkileri yakalamak için tasarlanmıştır ve benzer anlamlara sahip kelimelerin vektör uzayında benzer temsillere sahip olmasını sağlar. Bu özellik, kelime yerleştirmelerini, metinsel verilerin daha bilgilendirici ve kompakt bir temsilini sunarak, makineler tarafından dilin daha iyi anlaşılmasını ve işlenmesini kolaylaştırdığı için, çok çeşitli doğal dil işleme (NLP) uygulamalarında önemli bir bileşen haline getirir.\n",
        "Bu bölümde, iki popüler ve yaygın olarak kullanılan kelime yerleştirme tekniğini inceleyeceğiz: Word2Vec ve GloVe. Bu teknikleri etkili kılan temel prensipleri ve mekanizmaları inceleyeceğiz, çeşitli uygulamalarını keşfedeceğiz ve NLP projelerimizi geliştirmek için Python'da nasıl kullanılacağını anlayacağız."
      ],
      "metadata": {
        "id": "pBczs-99WVKn"
      }
    },
    {
      "cell_type": "markdown",
      "source": [
        "**3.3.1 Kelime Yerleştirmelerini Anlama**"
      ],
      "metadata": {
        "id": "Jr7-81CyWYCa"
      }
    },
    {
      "cell_type": "markdown",
      "source": [
        "**Anlamsal Benzerlik :** Kelime yerleştirmeleri, kelimeler arasındaki anlamsal ilişkileri yakalamak için tasarlanmıştır; böylece benzer bağlamlarda kullanılan kelimelerin benzer vektör gösterimlerine sahip olma eğilimi vardır."
      ],
      "metadata": {
        "id": "EQOIeZs0Weac"
      }
    },
    {
      "cell_type": "markdown",
      "source": [
        "Örneğin, \"kral\" ve \"kraliçe\" kelimeleri benzer vektörlere sahip olabilir çünkü genellikle kraliyet, yönetim veya tarihi anlatılar hakkındaki tartışmalar gibi benzer bağlamlarda görünürler. Vektörlerdeki bu benzerlik, dili daha etkili bir şekilde anlama ve işlemeye yardımcı olur."
      ],
      "metadata": {
        "id": "OH4p2Fl6WhlS"
      }
    },
    {
      "cell_type": "markdown",
      "source": [
        "**Boyut Azaltma :** Kelime yerleştirmeleri, aralarındaki anlamsal ilişkileri korurken kelime gösteriminin boyutsallığını azaltır. Boyutsallıktaki bu azalma, hesaplama açısından işlenmesi çok pahalı olan çok yüksek boyutlu vektörlerle sonuçlanabilen Bag of Words gibi yöntemlerle çeliştiği için önemlidir. Azaltılmış boyutlar, temel anlamsal bilgileri korurken kelimeleri analiz etmeyi ve işlemeyi kolaylaştırır."
      ],
      "metadata": {
        "id": "v_IjXM5bWm6S"
      }
    },
    {
      "cell_type": "markdown",
      "source": [
        "**Transfer Öğrenmesi :** Önceden eğitilmiş kelime yerleştirmeleri farklı NLP görevlerinde kullanılabilir ve zamandan ve hesaplama kaynaklarından etkili bir şekilde tasarruf sağlar. Bunun nedeni yerleştirmelerin duygu analizi, makine çevirisi ve metin sınıflandırması gibi çeşitli görevler için yararlı olan genel dil özelliklerini yakalamasıdır."
      ],
      "metadata": {
        "id": "tBE1O53fWtW_"
      }
    },
    {
      "cell_type": "markdown",
      "source": [
        "Kelime Yerleştirmeleri Nasıl Oluşturulur\n",
        "Kelime yerleştirmeleri genellikle kelimeler arasındaki anlamsal ilişkileri yakalamak için tasarlanmış karmaşık sinir ağı tabanlı modeller kullanılarak oluşturulur. Bu yerleştirmeler, çeşitli doğal dil işleme görevlerini kolaylaştırarak sürekli vektör uzaylarındaki kelimeleri temsil eder. Kelime yerleştirmeleri oluşturmak için en popüler ve yaygın olarak kullanılan yöntemlerden ikisi Word2Vec ve GloVe'dir."
      ],
      "metadata": {
        "id": "brUavfjcWzK4"
      }
    },
    {
      "cell_type": "markdown",
      "source": [
        "**Word2Vec**"
      ],
      "metadata": {
        "id": "6CKQxHCVW3UT"
      }
    },
    {
      "cell_type": "markdown",
      "source": [
        "Google tarafından geliştirilen Word2Vec, iki ana çeşidi bulunan çığır açıcı bir modeldir:"
      ],
      "metadata": {
        "id": "dkDFwezUW7fW"
      }
    },
    {
      "cell_type": "markdown",
      "source": [
        "**Continuous Bag of Words (CBOW)**\n",
        "\n",
        "**Skip-Gram**"
      ],
      "metadata": {
        "id": "J9bT62meW_BY"
      }
    },
    {
      "cell_type": "markdown",
      "source": [
        "Bu iki model, CBOW ve Skip-Gram, kelimeleri bağlamlarına göre etkili bir şekilde tahmin ederek yüksek kaliteli kelime yerleştirmelerini öğrenmeyi hedefler. Bu bağlamsal tahmin, modellerin metin içindeki ince anlamsal ilişkileri ve dilsel kalıpları yakalamasını sağlar."
      ],
      "metadata": {
        "id": "LeKyvESqXFwR"
      }
    },
    {
      "cell_type": "markdown",
      "source": [
        "**GloVe (Kelime Gösterimi için Küresel Vektörler)**"
      ],
      "metadata": {
        "id": "YPANj0rtXHj8"
      }
    },
    {
      "cell_type": "markdown",
      "source": [
        "Stanford'daki araştırmacılar tarafından geliştirilen GloVe, kelime yerleştirmeleri için bir diğer etkili modeldir. Yerel bağlama odaklanan Word2Vec'in aksine, GloVe kelime eş-oluşum matrislerinin matris çarpanlamasına dayanır.\n",
        "Bu yöntem, bir korpusta birlikte görünen kelime çiftlerinin sıklığını yakalayan büyük bir matris oluşturmayı içerir. Bu matrisi çarpanlara ayırarak, GloVe, kelimeleri sürekli bir vektör uzayında temsil eden tüm korpusun küresel istatistiksel bilgilerini yakalar.\n",
        "GloVe'nin yaklaşımı, kelimeler arasındaki hem yerel hem de küresel anlamsal ilişkileri etkili bir şekilde yakalamasını sağlar ve bu da onu çeşitli doğal dil işleme uygulamaları için güçlü bir araç haline getirir. GloVe'den elde edilen kelime vektörleri, metin sınıflandırması, duygu analizi ve daha fazlası gibi görevlerde makine öğrenimi modellerinin performansını artırmak için kullanılabilecek anlamlı temsiller sağlar."
      ],
      "metadata": {
        "id": "iDH_lNrQXPY4"
      }
    },
    {
      "cell_type": "markdown",
      "source": [
        "**3.3.2 Word2Vec**"
      ],
      "metadata": {
        "id": "Vz1zAyz_XTF6"
      }
    },
    {
      "cell_type": "markdown",
      "source": [
        "Word2Vec, Google tarafından geliştirilen ve doğal dil işleme ve makine öğrenimi alanlarını önemli ölçüde etkileyen yaygın olarak kullanılan bir kelime yerleştirme tekniğidir. Bu teknik, kelimeleri sayısal vektör gösterimlerine dönüştürmeye yardımcı olur ve algoritmaların insan dilini işlemesini ve anlamasını kolaylaştırır. Word2Vec, kelimeler arasındaki ilişkileri bağlamlarına göre yakalamak için tasarlanmış iki ana varyantta gelir:"
      ],
      "metadata": {
        "id": "Dcp5S5SeXXxK"
      }
    },
    {
      "cell_type": "markdown",
      "source": [
        "**Sürekli Kelime Torbası (CBOW) :** Bu değişken, bağlam sözcükleri verildiğinde hedef sözcüğü tahmin eder. Merkezi sözcüğü tahmin etmek için çevreleyen sözcükleri kullanarak yerleştirmeleri öğrenmeye odaklanır. Daha basit bir ifadeyle, CBOW bir dizi bağlam sözcüğünü girdi olarak alır ve bu bağlam sözcüklerinin ortasına en çok uyması muhtemel sözcüğü tahmin etmeye çalışır. Bu yöntem, benzer bağlamlarda sıklıkla görünen sözcükleri belirlemek ve böylece anlamsal benzerliklerini anlamak için etkilidir."
      ],
      "metadata": {
        "id": "eLPf3e7iXZ8g"
      }
    },
    {
      "cell_type": "markdown",
      "source": [
        "**Skip-Gram :** Öte yandan, Skip-Gram modeli hedef kelime verildiğinde bağlam kelimelerini tahmin eder. Çevreleyen kelimeleri tahmin etmek için merkezi bir kelime kullanarak yerleştirmeleri öğrenmeye odaklanır. Esasen, Skip-Gram tek bir kelimeyi girdi olarak alır ve belirli bir bağlam penceresi içinde etrafında görünme olasılığı olan kelimeleri tahmin etmeye çalışır. Bu yaklaşım özellikle nadir kelimeleri ve bunların bağlamlarını belirlemek için yararlıdır ve böylece modelin çeşitli dilsel bağlamlardaki kelime ilişkileri anlayışını zenginleştirir."
      ],
      "metadata": {
        "id": "VuMqWiIXXi7z"
      }
    },
    {
      "cell_type": "markdown",
      "source": [
        "Hem CBOW hem de Skip-Gram, kelimeler arasındaki karmaşık ilişkileri bağlamlarına göre yakalamayı ve böylece daha ayrıntılı ve sofistike dil modelleri sağlamayı amaçlamaktadır. Bu modeller, kelime semantiği ve bağlamsal kullanımları hakkında daha derin bir anlayış sağlayarak makine çevirisi, duygu analizi ve bilgi alma gibi çeşitli uygulamaları ilerletmede temel olmuştur."
      ],
      "metadata": {
        "id": "UXosiOLYXryT"
      }
    },
    {
      "cell_type": "markdown",
      "source": [
        "**Example: Training Word2Vec with Gensim**"
      ],
      "metadata": {
        "id": "0iVpOst-XumT"
      }
    },
    {
      "cell_type": "code",
      "source": [
        "from gensim.models import Word2Vec\n",
        "from nltk.tokenize import sent_tokenize, word_tokenize\n",
        "import nltk\n",
        "nltk.download('all')\n"
      ],
      "metadata": {
        "colab": {
          "base_uri": "https://localhost:8080/"
        },
        "collapsed": true,
        "id": "XVBatil0XxcV",
        "outputId": "deb2b635-c2f3-4719-dd88-fb2ab88d1823"
      },
      "execution_count": 44,
      "outputs": [
        {
          "output_type": "stream",
          "name": "stderr",
          "text": [
            "[nltk_data] Downloading collection 'all'\n",
            "[nltk_data]    | \n",
            "[nltk_data]    | Downloading package abc to /root/nltk_data...\n",
            "[nltk_data]    |   Unzipping corpora/abc.zip.\n",
            "[nltk_data]    | Downloading package alpino to /root/nltk_data...\n",
            "[nltk_data]    |   Unzipping corpora/alpino.zip.\n",
            "[nltk_data]    | Downloading package averaged_perceptron_tagger to\n",
            "[nltk_data]    |     /root/nltk_data...\n",
            "[nltk_data]    |   Unzipping taggers/averaged_perceptron_tagger.zip.\n",
            "[nltk_data]    | Downloading package averaged_perceptron_tagger_eng to\n",
            "[nltk_data]    |     /root/nltk_data...\n",
            "[nltk_data]    |   Unzipping\n",
            "[nltk_data]    |       taggers/averaged_perceptron_tagger_eng.zip.\n",
            "[nltk_data]    | Downloading package averaged_perceptron_tagger_ru to\n",
            "[nltk_data]    |     /root/nltk_data...\n",
            "[nltk_data]    |   Unzipping\n",
            "[nltk_data]    |       taggers/averaged_perceptron_tagger_ru.zip.\n",
            "[nltk_data]    | Downloading package averaged_perceptron_tagger_rus to\n",
            "[nltk_data]    |     /root/nltk_data...\n",
            "[nltk_data]    |   Unzipping\n",
            "[nltk_data]    |       taggers/averaged_perceptron_tagger_rus.zip.\n",
            "[nltk_data]    | Downloading package basque_grammars to\n",
            "[nltk_data]    |     /root/nltk_data...\n",
            "[nltk_data]    |   Unzipping grammars/basque_grammars.zip.\n",
            "[nltk_data]    | Downloading package bcp47 to /root/nltk_data...\n",
            "[nltk_data]    | Downloading package biocreative_ppi to\n",
            "[nltk_data]    |     /root/nltk_data...\n",
            "[nltk_data]    |   Unzipping corpora/biocreative_ppi.zip.\n",
            "[nltk_data]    | Downloading package bllip_wsj_no_aux to\n",
            "[nltk_data]    |     /root/nltk_data...\n",
            "[nltk_data]    |   Unzipping models/bllip_wsj_no_aux.zip.\n",
            "[nltk_data]    | Downloading package book_grammars to\n",
            "[nltk_data]    |     /root/nltk_data...\n",
            "[nltk_data]    |   Unzipping grammars/book_grammars.zip.\n",
            "[nltk_data]    | Downloading package brown to /root/nltk_data...\n",
            "[nltk_data]    |   Unzipping corpora/brown.zip.\n",
            "[nltk_data]    | Downloading package brown_tei to /root/nltk_data...\n",
            "[nltk_data]    |   Unzipping corpora/brown_tei.zip.\n",
            "[nltk_data]    | Downloading package cess_cat to /root/nltk_data...\n",
            "[nltk_data]    |   Unzipping corpora/cess_cat.zip.\n",
            "[nltk_data]    | Downloading package cess_esp to /root/nltk_data...\n",
            "[nltk_data]    |   Unzipping corpora/cess_esp.zip.\n",
            "[nltk_data]    | Downloading package chat80 to /root/nltk_data...\n",
            "[nltk_data]    |   Unzipping corpora/chat80.zip.\n",
            "[nltk_data]    | Downloading package city_database to\n",
            "[nltk_data]    |     /root/nltk_data...\n",
            "[nltk_data]    |   Unzipping corpora/city_database.zip.\n",
            "[nltk_data]    | Downloading package cmudict to /root/nltk_data...\n",
            "[nltk_data]    |   Unzipping corpora/cmudict.zip.\n",
            "[nltk_data]    | Downloading package comparative_sentences to\n",
            "[nltk_data]    |     /root/nltk_data...\n",
            "[nltk_data]    |   Unzipping corpora/comparative_sentences.zip.\n",
            "[nltk_data]    | Downloading package comtrans to /root/nltk_data...\n",
            "[nltk_data]    | Downloading package conll2000 to /root/nltk_data...\n",
            "[nltk_data]    |   Unzipping corpora/conll2000.zip.\n",
            "[nltk_data]    | Downloading package conll2002 to /root/nltk_data...\n",
            "[nltk_data]    |   Unzipping corpora/conll2002.zip.\n",
            "[nltk_data]    | Downloading package conll2007 to /root/nltk_data...\n",
            "[nltk_data]    | Downloading package crubadan to /root/nltk_data...\n",
            "[nltk_data]    |   Unzipping corpora/crubadan.zip.\n",
            "[nltk_data]    | Downloading package dependency_treebank to\n",
            "[nltk_data]    |     /root/nltk_data...\n",
            "[nltk_data]    |   Unzipping corpora/dependency_treebank.zip.\n",
            "[nltk_data]    | Downloading package dolch to /root/nltk_data...\n",
            "[nltk_data]    |   Unzipping corpora/dolch.zip.\n",
            "[nltk_data]    | Downloading package europarl_raw to\n",
            "[nltk_data]    |     /root/nltk_data...\n",
            "[nltk_data]    |   Unzipping corpora/europarl_raw.zip.\n",
            "[nltk_data]    | Downloading package extended_omw to\n",
            "[nltk_data]    |     /root/nltk_data...\n",
            "[nltk_data]    | Downloading package floresta to /root/nltk_data...\n",
            "[nltk_data]    |   Unzipping corpora/floresta.zip.\n",
            "[nltk_data]    | Downloading package framenet_v15 to\n",
            "[nltk_data]    |     /root/nltk_data...\n",
            "[nltk_data]    |   Unzipping corpora/framenet_v15.zip.\n",
            "[nltk_data]    | Downloading package framenet_v17 to\n",
            "[nltk_data]    |     /root/nltk_data...\n",
            "[nltk_data]    |   Unzipping corpora/framenet_v17.zip.\n",
            "[nltk_data]    | Downloading package gazetteers to /root/nltk_data...\n",
            "[nltk_data]    |   Unzipping corpora/gazetteers.zip.\n",
            "[nltk_data]    | Downloading package genesis to /root/nltk_data...\n",
            "[nltk_data]    |   Unzipping corpora/genesis.zip.\n",
            "[nltk_data]    | Downloading package gutenberg to /root/nltk_data...\n",
            "[nltk_data]    |   Unzipping corpora/gutenberg.zip.\n",
            "[nltk_data]    | Downloading package ieer to /root/nltk_data...\n",
            "[nltk_data]    |   Unzipping corpora/ieer.zip.\n",
            "[nltk_data]    | Downloading package inaugural to /root/nltk_data...\n",
            "[nltk_data]    |   Unzipping corpora/inaugural.zip.\n",
            "[nltk_data]    | Downloading package indian to /root/nltk_data...\n",
            "[nltk_data]    |   Unzipping corpora/indian.zip.\n",
            "[nltk_data]    | Downloading package jeita to /root/nltk_data...\n",
            "[nltk_data]    | Downloading package kimmo to /root/nltk_data...\n",
            "[nltk_data]    |   Unzipping corpora/kimmo.zip.\n",
            "[nltk_data]    | Downloading package knbc to /root/nltk_data...\n",
            "[nltk_data]    | Downloading package large_grammars to\n",
            "[nltk_data]    |     /root/nltk_data...\n",
            "[nltk_data]    |   Unzipping grammars/large_grammars.zip.\n",
            "[nltk_data]    | Downloading package lin_thesaurus to\n",
            "[nltk_data]    |     /root/nltk_data...\n",
            "[nltk_data]    |   Unzipping corpora/lin_thesaurus.zip.\n",
            "[nltk_data]    | Downloading package mac_morpho to /root/nltk_data...\n",
            "[nltk_data]    |   Unzipping corpora/mac_morpho.zip.\n",
            "[nltk_data]    | Downloading package machado to /root/nltk_data...\n",
            "[nltk_data]    | Downloading package masc_tagged to /root/nltk_data...\n",
            "[nltk_data]    | Downloading package maxent_ne_chunker to\n",
            "[nltk_data]    |     /root/nltk_data...\n",
            "[nltk_data]    |   Unzipping chunkers/maxent_ne_chunker.zip.\n",
            "[nltk_data]    | Downloading package maxent_ne_chunker_tab to\n",
            "[nltk_data]    |     /root/nltk_data...\n",
            "[nltk_data]    |   Unzipping chunkers/maxent_ne_chunker_tab.zip.\n",
            "[nltk_data]    | Downloading package maxent_treebank_pos_tagger to\n",
            "[nltk_data]    |     /root/nltk_data...\n",
            "[nltk_data]    |   Unzipping taggers/maxent_treebank_pos_tagger.zip.\n",
            "[nltk_data]    | Downloading package maxent_treebank_pos_tagger_tab to\n",
            "[nltk_data]    |     /root/nltk_data...\n",
            "[nltk_data]    |   Unzipping\n",
            "[nltk_data]    |       taggers/maxent_treebank_pos_tagger_tab.zip.\n",
            "[nltk_data]    | Downloading package moses_sample to\n",
            "[nltk_data]    |     /root/nltk_data...\n",
            "[nltk_data]    |   Unzipping models/moses_sample.zip.\n",
            "[nltk_data]    | Downloading package movie_reviews to\n",
            "[nltk_data]    |     /root/nltk_data...\n",
            "[nltk_data]    |   Unzipping corpora/movie_reviews.zip.\n",
            "[nltk_data]    | Downloading package mte_teip5 to /root/nltk_data...\n",
            "[nltk_data]    |   Unzipping corpora/mte_teip5.zip.\n",
            "[nltk_data]    | Downloading package mwa_ppdb to /root/nltk_data...\n",
            "[nltk_data]    |   Unzipping misc/mwa_ppdb.zip.\n",
            "[nltk_data]    | Downloading package names to /root/nltk_data...\n",
            "[nltk_data]    |   Unzipping corpora/names.zip.\n",
            "[nltk_data]    | Downloading package nombank.1.0 to /root/nltk_data...\n",
            "[nltk_data]    | Downloading package nonbreaking_prefixes to\n",
            "[nltk_data]    |     /root/nltk_data...\n",
            "[nltk_data]    |   Unzipping corpora/nonbreaking_prefixes.zip.\n",
            "[nltk_data]    | Downloading package nps_chat to /root/nltk_data...\n",
            "[nltk_data]    |   Unzipping corpora/nps_chat.zip.\n",
            "[nltk_data]    | Downloading package omw to /root/nltk_data...\n",
            "[nltk_data]    | Downloading package omw-1.4 to /root/nltk_data...\n",
            "[nltk_data]    | Downloading package opinion_lexicon to\n",
            "[nltk_data]    |     /root/nltk_data...\n",
            "[nltk_data]    |   Unzipping corpora/opinion_lexicon.zip.\n",
            "[nltk_data]    | Downloading package panlex_swadesh to\n",
            "[nltk_data]    |     /root/nltk_data...\n",
            "[nltk_data]    | Downloading package paradigms to /root/nltk_data...\n",
            "[nltk_data]    |   Unzipping corpora/paradigms.zip.\n",
            "[nltk_data]    | Downloading package pe08 to /root/nltk_data...\n",
            "[nltk_data]    |   Unzipping corpora/pe08.zip.\n",
            "[nltk_data]    | Downloading package perluniprops to\n",
            "[nltk_data]    |     /root/nltk_data...\n",
            "[nltk_data]    |   Unzipping misc/perluniprops.zip.\n",
            "[nltk_data]    | Downloading package pil to /root/nltk_data...\n",
            "[nltk_data]    |   Unzipping corpora/pil.zip.\n",
            "[nltk_data]    | Downloading package pl196x to /root/nltk_data...\n",
            "[nltk_data]    |   Unzipping corpora/pl196x.zip.\n",
            "[nltk_data]    | Downloading package porter_test to /root/nltk_data...\n",
            "[nltk_data]    |   Unzipping stemmers/porter_test.zip.\n",
            "[nltk_data]    | Downloading package ppattach to /root/nltk_data...\n",
            "[nltk_data]    |   Unzipping corpora/ppattach.zip.\n",
            "[nltk_data]    | Downloading package problem_reports to\n",
            "[nltk_data]    |     /root/nltk_data...\n",
            "[nltk_data]    |   Unzipping corpora/problem_reports.zip.\n",
            "[nltk_data]    | Downloading package product_reviews_1 to\n",
            "[nltk_data]    |     /root/nltk_data...\n",
            "[nltk_data]    |   Unzipping corpora/product_reviews_1.zip.\n",
            "[nltk_data]    | Downloading package product_reviews_2 to\n",
            "[nltk_data]    |     /root/nltk_data...\n",
            "[nltk_data]    |   Unzipping corpora/product_reviews_2.zip.\n",
            "[nltk_data]    | Downloading package propbank to /root/nltk_data...\n",
            "[nltk_data]    | Downloading package pros_cons to /root/nltk_data...\n",
            "[nltk_data]    |   Unzipping corpora/pros_cons.zip.\n",
            "[nltk_data]    | Downloading package ptb to /root/nltk_data...\n",
            "[nltk_data]    |   Unzipping corpora/ptb.zip.\n",
            "[nltk_data]    | Downloading package punkt to /root/nltk_data...\n",
            "[nltk_data]    |   Package punkt is already up-to-date!\n",
            "[nltk_data]    | Downloading package punkt_tab to /root/nltk_data...\n",
            "[nltk_data]    |   Unzipping tokenizers/punkt_tab.zip.\n",
            "[nltk_data]    | Downloading package qc to /root/nltk_data...\n",
            "[nltk_data]    |   Unzipping corpora/qc.zip.\n",
            "[nltk_data]    | Downloading package reuters to /root/nltk_data...\n",
            "[nltk_data]    | Downloading package rslp to /root/nltk_data...\n",
            "[nltk_data]    |   Unzipping stemmers/rslp.zip.\n",
            "[nltk_data]    | Downloading package rte to /root/nltk_data...\n",
            "[nltk_data]    |   Unzipping corpora/rte.zip.\n",
            "[nltk_data]    | Downloading package sample_grammars to\n",
            "[nltk_data]    |     /root/nltk_data...\n",
            "[nltk_data]    |   Unzipping grammars/sample_grammars.zip.\n",
            "[nltk_data]    | Downloading package semcor to /root/nltk_data...\n",
            "[nltk_data]    | Downloading package senseval to /root/nltk_data...\n",
            "[nltk_data]    |   Unzipping corpora/senseval.zip.\n",
            "[nltk_data]    | Downloading package sentence_polarity to\n",
            "[nltk_data]    |     /root/nltk_data...\n",
            "[nltk_data]    |   Unzipping corpora/sentence_polarity.zip.\n",
            "[nltk_data]    | Downloading package sentiwordnet to\n",
            "[nltk_data]    |     /root/nltk_data...\n",
            "[nltk_data]    |   Unzipping corpora/sentiwordnet.zip.\n",
            "[nltk_data]    | Downloading package shakespeare to /root/nltk_data...\n",
            "[nltk_data]    |   Unzipping corpora/shakespeare.zip.\n",
            "[nltk_data]    | Downloading package sinica_treebank to\n",
            "[nltk_data]    |     /root/nltk_data...\n",
            "[nltk_data]    |   Unzipping corpora/sinica_treebank.zip.\n",
            "[nltk_data]    | Downloading package smultron to /root/nltk_data...\n",
            "[nltk_data]    |   Unzipping corpora/smultron.zip.\n",
            "[nltk_data]    | Downloading package snowball_data to\n",
            "[nltk_data]    |     /root/nltk_data...\n",
            "[nltk_data]    | Downloading package spanish_grammars to\n",
            "[nltk_data]    |     /root/nltk_data...\n",
            "[nltk_data]    |   Unzipping grammars/spanish_grammars.zip.\n",
            "[nltk_data]    | Downloading package state_union to /root/nltk_data...\n",
            "[nltk_data]    |   Unzipping corpora/state_union.zip.\n",
            "[nltk_data]    | Downloading package stopwords to /root/nltk_data...\n",
            "[nltk_data]    |   Unzipping corpora/stopwords.zip.\n",
            "[nltk_data]    | Downloading package subjectivity to\n",
            "[nltk_data]    |     /root/nltk_data...\n",
            "[nltk_data]    |   Unzipping corpora/subjectivity.zip.\n",
            "[nltk_data]    | Downloading package swadesh to /root/nltk_data...\n",
            "[nltk_data]    |   Unzipping corpora/swadesh.zip.\n",
            "[nltk_data]    | Downloading package switchboard to /root/nltk_data...\n",
            "[nltk_data]    |   Unzipping corpora/switchboard.zip.\n",
            "[nltk_data]    | Downloading package tagsets to /root/nltk_data...\n",
            "[nltk_data]    |   Unzipping help/tagsets.zip.\n",
            "[nltk_data]    | Downloading package tagsets_json to\n",
            "[nltk_data]    |     /root/nltk_data...\n",
            "[nltk_data]    |   Unzipping help/tagsets_json.zip.\n",
            "[nltk_data]    | Downloading package timit to /root/nltk_data...\n",
            "[nltk_data]    |   Unzipping corpora/timit.zip.\n",
            "[nltk_data]    | Downloading package toolbox to /root/nltk_data...\n",
            "[nltk_data]    |   Unzipping corpora/toolbox.zip.\n",
            "[nltk_data]    | Downloading package treebank to /root/nltk_data...\n",
            "[nltk_data]    |   Unzipping corpora/treebank.zip.\n",
            "[nltk_data]    | Downloading package twitter_samples to\n",
            "[nltk_data]    |     /root/nltk_data...\n",
            "[nltk_data]    |   Unzipping corpora/twitter_samples.zip.\n",
            "[nltk_data]    | Downloading package udhr to /root/nltk_data...\n",
            "[nltk_data]    |   Unzipping corpora/udhr.zip.\n",
            "[nltk_data]    | Downloading package udhr2 to /root/nltk_data...\n",
            "[nltk_data]    |   Unzipping corpora/udhr2.zip.\n",
            "[nltk_data]    | Downloading package unicode_samples to\n",
            "[nltk_data]    |     /root/nltk_data...\n",
            "[nltk_data]    |   Unzipping corpora/unicode_samples.zip.\n",
            "[nltk_data]    | Downloading package universal_tagset to\n",
            "[nltk_data]    |     /root/nltk_data...\n",
            "[nltk_data]    |   Unzipping taggers/universal_tagset.zip.\n",
            "[nltk_data]    | Downloading package universal_treebanks_v20 to\n",
            "[nltk_data]    |     /root/nltk_data...\n",
            "[nltk_data]    | Downloading package vader_lexicon to\n",
            "[nltk_data]    |     /root/nltk_data...\n",
            "[nltk_data]    | Downloading package verbnet to /root/nltk_data...\n",
            "[nltk_data]    |   Unzipping corpora/verbnet.zip.\n",
            "[nltk_data]    | Downloading package verbnet3 to /root/nltk_data...\n",
            "[nltk_data]    |   Unzipping corpora/verbnet3.zip.\n",
            "[nltk_data]    | Downloading package webtext to /root/nltk_data...\n",
            "[nltk_data]    |   Unzipping corpora/webtext.zip.\n",
            "[nltk_data]    | Downloading package wmt15_eval to /root/nltk_data...\n",
            "[nltk_data]    |   Unzipping models/wmt15_eval.zip.\n",
            "[nltk_data]    | Downloading package word2vec_sample to\n",
            "[nltk_data]    |     /root/nltk_data...\n",
            "[nltk_data]    |   Unzipping models/word2vec_sample.zip.\n",
            "[nltk_data]    | Downloading package wordnet to /root/nltk_data...\n",
            "[nltk_data]    | Downloading package wordnet2021 to /root/nltk_data...\n",
            "[nltk_data]    | Downloading package wordnet2022 to /root/nltk_data...\n",
            "[nltk_data]    |   Unzipping corpora/wordnet2022.zip.\n",
            "[nltk_data]    | Downloading package wordnet31 to /root/nltk_data...\n",
            "[nltk_data]    | Downloading package wordnet_ic to /root/nltk_data...\n",
            "[nltk_data]    |   Unzipping corpora/wordnet_ic.zip.\n",
            "[nltk_data]    | Downloading package words to /root/nltk_data...\n",
            "[nltk_data]    |   Unzipping corpora/words.zip.\n"
          ]
        },
        {
          "output_type": "stream",
          "name": "stdout",
          "text": [
            "Vector representation of 'language':\n",
            "[ 8.1647830e-03 -4.4392534e-03  8.9852605e-03  8.2543846e-03\n",
            " -4.4353479e-03  3.0018380e-04  4.2772931e-03 -3.9227321e-03\n",
            " -5.5586640e-03 -6.5160277e-03 -6.6734268e-04 -2.9576739e-04\n",
            "  4.4631935e-03 -2.4747793e-03 -1.6972213e-04  2.4612199e-03\n",
            "  4.8704613e-03 -3.1922078e-05 -6.3433647e-03 -9.2599820e-03\n",
            "  2.7697855e-05  6.6637774e-03  1.4687976e-03 -8.9636538e-03\n",
            " -7.9432996e-03  6.5522329e-03 -3.7834151e-03  6.2565589e-03\n",
            " -6.6815778e-03  8.4790923e-03 -6.5186596e-03  3.2855824e-03\n",
            " -1.0585743e-03 -6.7872177e-03 -3.2887415e-03 -1.1553480e-03\n",
            " -5.4661031e-03 -1.2145373e-03 -7.5678900e-03  2.6507692e-03\n",
            "  9.0718893e-03 -2.3742754e-03 -9.7581628e-04  3.5141055e-03\n",
            "  8.6691538e-03 -5.9190691e-03 -6.8887942e-03 -2.9343485e-03\n",
            "  9.1488501e-03  8.6569443e-04 -8.6803576e-03 -1.4481951e-03\n",
            "  9.4766747e-03 -7.5529935e-03 -5.3584087e-03  9.3188183e-03\n",
            " -8.9710299e-03  3.8286408e-03  6.7009183e-04  6.6618081e-03\n",
            "  8.3130375e-03 -2.8512811e-03 -3.9896583e-03  8.8950079e-03\n",
            "  2.0921403e-03  6.2471251e-03 -9.4485292e-03  9.5937531e-03\n",
            " -1.3493883e-03 -6.0555749e-03  2.9935071e-03 -4.5763238e-04\n",
            "  4.7069234e-03 -2.2810646e-03 -4.1379612e-03  2.2782139e-03\n",
            "  8.3536915e-03 -4.9933954e-03  2.6652399e-03 -7.9932073e-03\n",
            " -6.7760893e-03 -4.6473576e-04 -8.7663606e-03  2.7916853e-03\n",
            "  1.5982877e-03 -2.3202309e-03  5.0066905e-03  9.7487774e-03\n",
            "  8.4545743e-03 -1.8833906e-03  2.0538520e-03 -4.0025222e-03\n",
            " -8.2429731e-03  6.2774643e-03 -1.9454330e-03 -6.6590559e-04\n",
            " -1.7698966e-03 -4.5383689e-03  4.0630628e-03 -4.2700218e-03]\n",
            "\\\\nMost similar words to 'language':\n",
            "[('artificial', 0.31914129853248596), ('I', 0.1746877282857895), ('enjoy', 0.11932589113712311), ('Language', 0.11120645701885223), ('exciting', 0.10893489420413971), ('machine', 0.10575925558805466), ('subset', 0.0964822843670845), ('.', 0.09334516525268555), ('of', 0.08080197125673294), ('related', 0.08039160817861557)]\n"
          ]
        },
        {
          "output_type": "stream",
          "name": "stderr",
          "text": [
            "[nltk_data]    | Downloading package ycoe to /root/nltk_data...\n",
            "[nltk_data]    |   Unzipping corpora/ycoe.zip.\n",
            "[nltk_data]    | \n",
            "[nltk_data]  Done downloading collection all\n"
          ]
        }
      ]
    },
    {
      "cell_type": "code",
      "source": [
        "from gensim.models import Word2Vec\n",
        "from nltk.tokenize import sent_tokenize, word_tokenize\n",
        "import nltk\n",
        "nltk.download('punkt')\n",
        "# Sample text corpus\n",
        "text = \"Natural language processing is fun and exciting. Language models are important in NLP. I enjoy learning about artificial intelligence. Machine learning and NLP are closely related. Deep learning is a subset of machine learning.\"\n",
        "# Tokenize the text into sentences\n",
        "sentences = sent_tokenize(text)\n",
        "# Tokenize each sentence into words\n",
        "tokenized_sentences = [word_tokenize(sentence) for sentence in sentences]\n",
        "# Train a Word2Vec model using the Skip-Gram method\n",
        "model = Word2Vec(sentences=tokenized_sentences, vector_size=100, window=5, sg=1, min_count=1)\n",
        "# Get the vector representation of the word \"language\"\n",
        "vector = model.wv['language']\n",
        "print(\"Vector representation of 'language':\")\n",
        "print(vector)\n",
        "# Find the most similar words to \"language\"\n",
        "similar_words = model.wv.most_similar('language')\n",
        "print(\"\\\\\\\\nMost similar words to 'language':\")\n",
        "print(similar_words)"
      ],
      "metadata": {
        "colab": {
          "base_uri": "https://localhost:8080/"
        },
        "id": "jOyxq93UX-XT",
        "outputId": "e93f9783-6b3e-4ba4-ea42-bb9d0374ee1b"
      },
      "execution_count": 60,
      "outputs": [
        {
          "output_type": "stream",
          "name": "stdout",
          "text": [
            "Vector representation of 'language':\n",
            "[ 8.1647830e-03 -4.4392534e-03  8.9852605e-03  8.2543846e-03\n",
            " -4.4353479e-03  3.0018380e-04  4.2772931e-03 -3.9227321e-03\n",
            " -5.5586640e-03 -6.5160277e-03 -6.6734268e-04 -2.9576739e-04\n",
            "  4.4631935e-03 -2.4747793e-03 -1.6972213e-04  2.4612199e-03\n",
            "  4.8704613e-03 -3.1922078e-05 -6.3433647e-03 -9.2599820e-03\n",
            "  2.7697855e-05  6.6637774e-03  1.4687976e-03 -8.9636538e-03\n",
            " -7.9432996e-03  6.5522329e-03 -3.7834151e-03  6.2565589e-03\n",
            " -6.6815778e-03  8.4790923e-03 -6.5186596e-03  3.2855824e-03\n",
            " -1.0585743e-03 -6.7872177e-03 -3.2887415e-03 -1.1553480e-03\n",
            " -5.4661031e-03 -1.2145373e-03 -7.5678900e-03  2.6507692e-03\n",
            "  9.0718893e-03 -2.3742754e-03 -9.7581628e-04  3.5141055e-03\n",
            "  8.6691538e-03 -5.9190691e-03 -6.8887942e-03 -2.9343485e-03\n",
            "  9.1488501e-03  8.6569443e-04 -8.6803576e-03 -1.4481951e-03\n",
            "  9.4766747e-03 -7.5529935e-03 -5.3584087e-03  9.3188183e-03\n",
            " -8.9710299e-03  3.8286408e-03  6.7009183e-04  6.6618081e-03\n",
            "  8.3130375e-03 -2.8512811e-03 -3.9896583e-03  8.8950079e-03\n",
            "  2.0921403e-03  6.2471251e-03 -9.4485292e-03  9.5937531e-03\n",
            " -1.3493883e-03 -6.0555749e-03  2.9935071e-03 -4.5763238e-04\n",
            "  4.7069234e-03 -2.2810646e-03 -4.1379612e-03  2.2782139e-03\n",
            "  8.3536915e-03 -4.9933954e-03  2.6652399e-03 -7.9932073e-03\n",
            " -6.7760893e-03 -4.6473576e-04 -8.7663606e-03  2.7916853e-03\n",
            "  1.5982877e-03 -2.3202309e-03  5.0066905e-03  9.7487774e-03\n",
            "  8.4545743e-03 -1.8833906e-03  2.0538520e-03 -4.0025222e-03\n",
            " -8.2429731e-03  6.2774643e-03 -1.9454330e-03 -6.6590559e-04\n",
            " -1.7698966e-03 -4.5383689e-03  4.0630628e-03 -4.2700218e-03]\n",
            "\\\\nMost similar words to 'language':\n",
            "[('artificial', 0.31914129853248596), ('I', 0.1746877282857895), ('enjoy', 0.11932589113712311), ('Language', 0.11120645701885223), ('exciting', 0.10893489420413971), ('machine', 0.10575925558805466), ('subset', 0.0964822843670845), ('.', 0.09334516525268555), ('of', 0.08080197125673294), ('related', 0.08039160817861557)]\n"
          ]
        },
        {
          "output_type": "stream",
          "name": "stderr",
          "text": [
            "[nltk_data] Downloading package punkt to /root/nltk_data...\n",
            "[nltk_data]   Package punkt is already up-to-date!\n"
          ]
        }
      ]
    },
    {
      "cell_type": "markdown",
      "source": [
        "**3.3.3 GloVe (Kelime Gösterimi için Küresel Vektörler)**"
      ],
      "metadata": {
        "id": "5ZcF44UiZPOR"
      }
    },
    {
      "cell_type": "markdown",
      "source": [
        "GloVe (Kelime Temsili için Küresel Vektörler), Stanford Üniversitesi'ndeki araştırmacılar tarafından geliştirilen yaygın olarak kullanılan bir kelime yerleştirme tekniğidir. Bağlam kelimelerini tahmin etmeye dayanan Word2Vec'in aksine, GloVe kelime eş-oluşum matrislerinin matris çarpanlamasına dayanır.\n",
        "Bu yaklaşım, bir metin gövdesinin istatistiksel bilgilerini yakalar ve kelimeleri sürekli bir vektör uzayında temsil ederek kelimeler arasındaki anlamsal ilişkileri etkili bir şekilde kodlar."
      ],
      "metadata": {
        "id": "8JQ4HlBXZR3Y"
      }
    },
    {
      "cell_type": "markdown",
      "source": [
        "**GloVe Nasıl Çalışır?**"
      ],
      "metadata": {
        "id": "GlI0y3RwZTRD"
      }
    },
    {
      "cell_type": "markdown",
      "source": [
        "GloVe, bir korpusta birlikte görünen kelime çiftlerinin sıklığını yakalayan büyük bir matris oluşturur. Ana fikir, kelimelerin vektör gösterimlerini öğrenmek için eş zamanlı ortaya çıkma olasılıklarından yararlanmaktır. Eş zamanlı ortaya çıkma matrisindeki her bir öğe, bir kelime çiftinin korpusta belirli bir bağlam penceresinde ne sıklıkla birlikte göründüğünü gösterir. Bu matris oluşturulduktan sonra, GloVe boyutluluğunu azaltmak için matris çarpanlarına ayırma tekniklerini kullanır ve yoğun ve anlamlı kelime vektörleri elde edilir."
      ],
      "metadata": {
        "id": "S38_EgqEZWLB"
      }
    },
    {
      "cell_type": "markdown",
      "source": [
        "![image.png](data:image/png;base64,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)"
      ],
      "metadata": {
        "id": "Qs1eu69OZivm"
      }
    },
    {
      "cell_type": "markdown",
      "source": [
        "**Küresel Bağlam :** GloVe, eş-oluşum matrisinden yararlanarak küresel istatistiksel bilgileri yakalar ve bu sayede korpusun genel yapısının anlaşılmasında etkili olur.\n",
        "\n",
        "**Anlamsal İlişkiler :**  Ortaya çıkan kelime vektörleri, kelimeler arasındaki karmaşık anlamsal ilişkileri yakalayabilir.\n",
        "\n",
        "**Verimli Eğitim :** GloVe eğitimi hesaplama açısından verimlidir ve paralel hale getirilebilir, bu da büyük kurumlarla iyi ölçeklenebilir olmasını sağlar."
      ],
      "metadata": {
        "id": "gGYi5xA4ZskC"
      }
    },
    {
      "cell_type": "code",
      "source": [
        "import gensim.downloader as api\n",
        "# Load pre-trained GloVe embeddings\n",
        "glove_model = api.load(\"glove-wiki-gigaword-100\")\n",
        "# Get the vector representation of the word \"language\"\n",
        "vector = glove_model['language']\n",
        "print(\"Vector representation of 'language':\")\n",
        "print(vector)\n",
        "# Find the most similar words to \"language\"\n",
        "similar_words = glove_model.most_similar('language')\n",
        "print(\"\\\\\\\\nMost similar words to 'language':\")\n",
        "print(similar_words)"
      ],
      "metadata": {
        "colab": {
          "base_uri": "https://localhost:8080/"
        },
        "id": "6Mf1wgR9Z2zV",
        "outputId": "48ddd26a-139a-48e4-ae5c-06ca31a27407"
      },
      "execution_count": 61,
      "outputs": [
        {
          "output_type": "stream",
          "name": "stdout",
          "text": [
            "[==================================================] 100.0% 128.1/128.1MB downloaded\n",
            "Vector representation of 'language':\n",
            "[ 0.18519   0.34111   0.36097   0.27093  -0.031335  0.83923  -0.50534\n",
            " -0.80062   0.40695   0.82488  -0.98239  -0.6354   -0.21382   0.079889\n",
            " -0.29557   0.17075   0.17479  -0.74214  -0.2677    0.21074  -0.41795\n",
            "  0.027713  0.71123   0.2063   -0.12266  -0.80088   0.22942   0.041037\n",
            " -0.56901   0.097472 -0.59139   1.0524   -0.66803  -0.70471   0.69757\n",
            " -0.11137  -0.27816   0.047361  0.020305 -0.184    -1.0254    0.11297\n",
            " -0.79547   0.41642  -0.2508   -0.3188    0.37044  -0.26873  -0.36185\n",
            " -0.096621 -0.029956  0.67308   0.53102   0.62816  -0.11507  -1.5524\n",
            " -0.30628  -0.4253    1.8887    0.3247    0.60202   0.81163  -0.46029\n",
            " -1.4061    0.80229   0.2019    0.60938   0.063545  0.21925  -0.043372\n",
            " -0.36648   0.61308   1.0207   -0.39014   0.1717    0.61272  -0.80342\n",
            "  0.71295  -1.0938   -0.50546  -0.99668  -1.6701   -0.31804  -0.62934\n",
            " -2.0226    0.79405  -0.16994  -0.37627   0.57998   0.16643   0.1356\n",
            "  0.0943   -0.24154   0.7123   -0.4201    0.24735  -0.94449  -1.0794\n",
            "  0.3413    0.34704 ]\n",
            "\\\\nMost similar words to 'language':\n",
            "[('languages', 0.8260655403137207), ('word', 0.7464082837104797), ('spoken', 0.7381494045257568), ('arabic', 0.7318817377090454), ('english', 0.7214903831481934), ('dialect', 0.6912703514099121), ('vocabulary', 0.6908208727836609), ('text', 0.685594916343689), ('translation', 0.6810674667358398), ('words', 0.6715823411941528)]\n"
          ]
        }
      ]
    },
    {
      "cell_type": "markdown",
      "source": [
        "**Word2Vec : Hızlı**\n",
        "\n",
        "**Glove : Harika Bağlam**"
      ],
      "metadata": {
        "id": "XN85r34JaJzx"
      }
    },
    {
      "cell_type": "markdown",
      "source": [
        "## **3.4 BERT Gömmelerine Giriş**"
      ],
      "metadata": {
        "id": "jmr39Q0TiGP_"
      }
    },
    {
      "cell_type": "markdown",
      "source": [
        "BERT, Bidirectional Encoder Representations from Transformers (Transformatörlerden Çift Yönlü Kodlayıcı Temsilleri) anlamına gelir ve Google tarafından geliştirilen ve Doğal Dil İşleme (NLP) alanında önemli bir devrim yaratan son teknoloji bir modeldir. Bu model, makinelerin insan dilini nasıl anladığı ve işlediği konusunda yeni bir paradigma sunarak son yıllardaki en etkili gelişmelerden biri haline gelmiştir."
      ],
      "metadata": {
        "id": "r2By5nxuiYIf"
      }
    },
    {
      "cell_type": "markdown",
      "source": [
        "Word2Vec ve GloVe gibi, bağlamdan bağımsız olarak aynı kalan sözcüklerin statik gösterimlerini sağlayan geleneksel sözcük yerleştirmelerinin aksine, BERT bağlam-farkında yerleştirmeler üretir. Bu, bir sözcüğün gösteriminin bir cümledeki bağlamına bağlı olarak değişebileceği anlamına gelir ve bu da dilin daha ayrıntılı ve kesin bir şekilde anlaşılmasını sağlar. Örneğin, \"banka\" sözcüğü \"nehir kıyısı\" ve \"banka hesabı\" bağlamlarında farklı yerleştirmelere sahip olacak ve farklı anlamları etkili bir şekilde yakalayacaktır."
      ],
      "metadata": {
        "id": "jE0xwkvEifMQ"
      }
    },
    {
      "cell_type": "markdown",
      "source": [
        "Bu bölümde, BERT yerleştirmelerinin temellerine derinlemesine inecek ve onları bu kadar güçlü kılan temel mekanizmaları keşfedeceğiz. Ayrıntılı açıklamalar ve örneklerle nasıl çalıştıklarını anlayacağız ve ayrıca bunları Python'da adım adım nasıl uygulayacağımızı öğreneceğiz. Bu bölümün sonunda, BERT hakkında kapsamlı bir anlayışa sahip olacak ve çeşitli NLP görevlerine nasıl uygulanabileceğini öğreneceksiniz."
      ],
      "metadata": {
        "id": "4Lgr9Jtbij8J"
      }
    },
    {
      "cell_type": "markdown",
      "source": [
        "**3.4.1 BERT'i Anlamak**"
      ],
      "metadata": {
        "id": "5Sosr3b3ilsy"
      }
    },
    {
      "cell_type": "markdown",
      "source": [
        "Transformers'tan Çift Yönlü Kodlayıcı Temsilleri anlamına gelen BERT, Google tarafından geliştirilen gelişmiş bir dil modelidir. Giriş metnini çift yönlü bir şekilde işlemek için öz dikkat mekanizmalarından yararlanan devrim niteliğinde bir çerçeve olan Transformer mimarisine dayanmaktadır. Bu benzersiz yetenek, BERT'in bir kelimenin hem sol hem de sağ bağlamına aynı anda bakmasını sağlayarak, kelimeler arasındaki daha ayrıntılı anlamları ve karmaşık ilişkileri yakalama yeteneği sağlar."
      ],
      "metadata": {
        "id": "NTkdB9NIirQP"
      }
    },
    {
      "cell_type": "markdown",
      "source": [
        "**BERT'in Temel Özellikleri**"
      ],
      "metadata": {
        "id": "Aq0zh8wZitAH"
      }
    },
    {
      "cell_type": "markdown",
      "source": [
        "BERT'in öne çıkan özelliklerinden biri, bir kelimenin cümlede hem öncesinde hem de sonrasında tüm bağlamını ele alabilmesidir. Çevresindeki kelimelere her iki yönde de bakabilme yeteneği, BERT'in cümlenin bağlamında her kelimenin anlamı hakkında daha derin ve daha ayrıntılı bir anlayış kazanmasını sağlar. Geleneksel modeller genellikle metni tek bir yönde (soldan sağa veya sağdan sola) işler, bu da bağlamı anlamalarını sınırlayabilir. Buna karşılık, BERT'in çift yönlü yaklaşımı, kelimeler arasındaki olası anlamların ve ilişkilerin tüm aralığını yakalamasını sağlar."
      ],
      "metadata": {
        "id": "hWTiUNCji0y5"
      }
    },
    {
      "cell_type": "markdown",
      "source": [
        "Örneğin, \"Banka mevduatların güvende kalacağını garanti edebilir.\" cümlesini ele alalım. Bu cümlede, \"banka\" kelimesi bir finans kuruluşunu veya bir nehrin kıyısını ifade ediyor olabilir. Tek yönlü bir model, sadece bir tarafındaki kelimeleri dikkate aldığı için \"banka\"nın anlamını belirsizleştirmekte zorlanabilir. Ancak, BERT, bu bağlamda \"banka\"nın bir finans kuruluşunu ifade ettiğini anlamak için hem \"banka\"dan önceki (\"The\") hem de sonraki (\"can guarantee deposits will stay safe\") kelimeleri olmak üzere cümlenin tamamına bakar."
      ],
      "metadata": {
        "id": "LEgdAXRwi7ro"
      }
    },
    {
      "cell_type": "markdown",
      "source": [
        "Bu çift yönlü bağlam yeteneği, BERT'i soru cevaplama, metin sınıflandırması ve adlandırılmış varlık tanıma gibi çeşitli doğal dil işleme görevleri için oldukça etkili hale getirir. BERT, tüm bağlamı anlayarak kelimelerin daha doğru ve anlamlı temsillerini sağlayabilir ve bu da bu görevlerde daha iyi performansa yol açar."
      ],
      "metadata": {
        "id": "68UWXBlWi-RS"
      }
    },
    {
      "cell_type": "markdown",
      "source": [
        "**Önceden Eğitilmiş Modeller**"
      ],
      "metadata": {
        "id": "EH3pmR0si_mW"
      }
    },
    {
      "cell_type": "markdown",
      "source": [
        "BERT, tüm Wikipedia ve BooksCorpus gibi büyük veri kümeleri üzerinde kapsamlı bir şekilde eğitilmiş önceden eğitilmiş modeller içerir. Bu ön eğitim aşaması, BERT'in çok çeşitli dilsel bağlamlardan ve nüanslardan öğrenerek dil hakkında derin bir anlayış edinmesini sağlar. Sonuç olarak, BERT çeşitli doğal dil işleme (NLP) görevlerinin performansını önemli ölçüde artırabilen zengin, bağlamsal bilgileri yakalar.\n",
        "Bu önceden eğitilmiş modelleri kullanmanın avantajı, çok çeşitli uygulamalar için güçlü bir temel oluşturmalarıdır. BERT önceden eğitildikten sonra, nispeten daha küçük veri kümelerine sahip belirli görevler için ince ayar yapılabilir. Bu ince ayar süreci, BERT'in kapsamlı dil bilgisini, metin sınıflandırması, adlandırılmış varlık tanıma, soru cevaplama veya başka herhangi bir NLP uygulaması olsun, söz konusu görevin belirli ihtiyaçlarına göre uyarlar."
      ],
      "metadata": {
        "id": "FO5HtgcpjGNK"
      }
    },
    {
      "cell_type": "markdown",
      "source": [
        "Önceden eğitilmiş modellerden yararlanarak BERT, sıfırdan bir model eğitmeye kıyasla daha az hesaplama kaynağı ve eğitim süresiyle en son teknoloji performansına ulaşabilir. Bu, BERT'i NLP sistemlerinin doğruluğunu ve güvenilirliğini iyileştirmek için oldukça verimli ve etkili bir araç haline getirir."
      ],
      "metadata": {
        "id": "LNwiC-eQjI6k"
      }
    },
    {
      "cell_type": "markdown",
      "source": [
        "**Transformatör Mimarisi**"
      ],
      "metadata": {
        "id": "20tbzbJ4jKnN"
      }
    },
    {
      "cell_type": "markdown",
      "source": [
        "Transformer Mimarisi , Doğal Dil İşleme (NLP) alanında devrim yaratan BERT'in (Transformatörlerden Çift Yönlü Kodlayıcı Temsilleri) temel bir bileşenidir. BERT, özünde, bir cümledeki kelimeler arasındaki karmaşık ilişkileri yakalamak için tasarlanmış sofistike bir sinir ağı mimarisi olan çok katmanlı bir Transformer kodlayıcı kullanır. Bu mimari, modelin aynı cümle içinde farklı kelimelerin birbirlerine göre önemini tartmasına olanak tanıyan öz-dikkat mekanizmalarından yararlanır.\n",
        "Öz-dikkat mekanizmaları, modelin giriş metninin ilgili kısımlarına, konumlarından bağımsız olarak odaklanmasını sağladığı için önemlidir. Bu, BERT'in yalnızca bitişik kelimeleri dikkate almak yerine, tüm cümlenin bağlamında her kelimeyi anlayabildiği anlamına gelir. Örneğin, \"The bank can guarantee deposits will stay safe\" cümlesinde, \"bank\" kelimesi bir finans kurumu veya bir nehrin kıyısı anlamına gelebilir. BERT'in öz-dikkat mekanizmaları, \"banka\"nın bir finans kurumunu ifade ettiğini çıkarmak için çevredeki kelimelere (\"can guarantee deposits will stay safe\") bakmasına olanak tanır.\n",
        "Transformer kodlayıcının çok katmanlı yönü, BERT'in giriş metnini birkaç katmanda işlemesi ve her katmanın metnin bağlamı ve anlamının anlaşılmasını iyileştirmesi anlamına gelir. Bu derin işleme, BERT'in kelimeler arasındaki daha ayrıntılı ilişkileri ve bağımlılıkları yakalamasını sağlayarak, soru cevaplama, metin sınıflandırması ve adlandırılmış varlık tanıma gibi çeşitli NLP görevleri için oldukça etkili hale getirir."
      ],
      "metadata": {
        "id": "DNEuWXOnjU3K"
      }
    },
    {
      "cell_type": "markdown",
      "source": [
        "Özetle, BERT'deki Transformer mimarisi, çok katmanlı tasarımı ve öz-dikkat mekanizmalarıyla, bir cümledeki kelimeler arasındaki karmaşık ilişkileri anlamak için güçlü bir çerçeve sunar. Bu, BERT'in daha doğru ve bağlam-farkında yerleştirmeler sunmasını sağlayarak modern NLP uygulamalarının yeteneklerini önemli ölçüde ilerletir.\n",
        "Genel olarak, BERT'in yenilikçi tasarımı ve kapsamlı veri kümeleri üzerinde ön eğitimi, onu doğal dil işleme alanında en güçlü ve çok yönlü araçlardan biri haline getirmiştir."
      ],
      "metadata": {
        "id": "UomVRLNDjYTv"
      }
    },
    {
      "cell_type": "markdown",
      "source": [
        "**3.4.2 BERT Nasıl Çalışır**"
      ],
      "metadata": {
        "id": "I2izFKhZjZp6"
      }
    },
    {
      "cell_type": "markdown",
      "source": [
        "**Ön eğitim :** Bu aşamada, BERT iki gözetimsiz görev kullanılarak büyük bir gövde üzerinde eğitilir:"
      ],
      "metadata": {
        "id": "7P0qXhHDjdRv"
      }
    },
    {
      "cell_type": "markdown",
      "source": [
        "Maskelenmiş Dil Modelleme (MLM) : Bu görev, giriş metnindeki bazı belirteçleri (kelimeler) rastgele maskelemeyi ve ardından diğer maskelenmemiş belirteçlerin sağladığı bağlama göre maskelenmiş belirteçleri tahmin etmeyi içerir.\n",
        "\n",
        "\n",
        "\n"
      ],
      "metadata": {
        "id": "HWelI8vxjgUp"
      }
    },
    {
      "cell_type": "markdown",
      "source": [
        "Örneğin, \"Hızlı kahverengi tilki tembel köpeğin üzerinden atlar\" cümlesinde, eğer \"tilki\" kelimesi maskelenmişse, BERT, çevredeki \"Hızlı kahverengi\" ve \"tembel köpeğin üzerinden atlar\" kelimeleri temelinde maskelenmiş kelimenin \"tilki\" olduğunu tahmin etmeye çalışacaktır. Bu, BERT'in kelimeler ve bağlamları arasındaki ilişkileri öğrenmesine yardımcı olur ve bu da kelimelerin farklı bağlamlardaki anlamlarını anlamasını sağlar."
      ],
      "metadata": {
        "id": "S8GxDLZhjl7y"
      }
    },
    {
      "cell_type": "markdown",
      "source": [
        "Sonraki Cümle Tahmini (NSP) : Bu görev, verilen bir cümlenin önceki bir cümle bağlamında bir sonraki cümle olup olmadığını tahmin etmeyi içerir. Örneğin, \"The sky is blue.\" ve \"It is a beautiful day.\" olmak üzere iki cümle verildiğinde, BERT ikinci cümlenin mantıksal olarak birincisini takip edip etmediğini tahmin edecektir."
      ],
      "metadata": {
        "id": "eFFtVIcIjp-k"
      }
    },
    {
      "cell_type": "markdown",
      "source": [
        "Bu görev, BERT'in cümleler arasındaki ilişkiyi anlamasına yardımcı olur ve soru cevaplama ve metin özetleme gibi birden fazla cümle boyunca bağlamı anlamayı gerektiren görevleri ele alma becerisini geliştirir.\n",
        "Bu iki görev—MLM ve NSP—BERT'in derin, bağlamsal dil gösterimlerini öğrenmesini sağlamada kritik öneme sahiptir. BERT, büyük ve çeşitli bir gövdede önceden eğitim alarak, dil hakkında zengin bir anlayış edinir ve bu daha sonra nispeten daha küçük etiketli veri kümeleriyle belirli NLP görevleri için ince ayarlanabilir."
      ],
      "metadata": {
        "id": "qLWPmCFDjttR"
      }
    },
    {
      "cell_type": "markdown",
      "source": [
        "**İnce ayar**"
      ],
      "metadata": {
        "id": "m8_L797Zjvmc"
      }
    },
    {
      "cell_type": "markdown",
      "source": [
        "İnce ayar, büyük bir korpustan çok çeşitli dil kalıpları öğrenmiş önceden eğitilmiş bir BERT modelinin alınmasını ve belirli bir alt akış görevine uyarlanmasını içerir. Bu süreç, BERT'in ön eğitim aşamasında edindiği genel dil anlayışından yararlanır ve göreve özgü etiketli verileri kullanarak belirli bir görevde iyi performans göstermesi için onu uzmanlaştırır.\n",
        "Örneğin, e-postaları spam veya spam değil olarak sınıflandırmak istediğiniz bir metin sınıflandırma göreviniz olduğunu varsayalım. Genel dil nüanslarını anlayan önceden eğitilmiş bir BERT modeliyle başlarsınız. İnce ayar sırasında, bu modeli her e-postanın spam veya spam değil olarak işaretlendiği etiketli e-posta veri kümeniz üzerinde daha fazla eğitirsiniz. Model, ön eğitim aşamasında kazandığı geniş dil anlayışını kaybetmeden bu belirli görev için optimize etmek üzere parametrelerini hafifçe ayarlar.\n",
        "İnce ayar süreci genellikle BERT modelinin üstüne göreve özgü bir katman eklemeyi içerir. Metin sınıflandırması durumunda, bu BERT yerleştirmelerini alan ve her sınıf için (spam veya spam değil) bir olasılık üreten basit bir sınıflandırma katmanı olabilir. Daha sonra model, bu görevdeki hatayı en aza indirmek için ağırlıklarını ayarlamak üzere etiketli verilerinizi kullanarak ek eğitimden geçer.\n",
        "Genel olarak ince ayar, BERT'in önceden eğitilmiş dil anlayışını ve göreve özgü verileri kullanarak adlandırılmış varlık tanıma, duygu analizi ve soru cevaplama dahil olmak üzere çok çeşitli NLP görevlerine uyarlanmasına olanak tanıyan güçlü bir tekniktir."
      ],
      "metadata": {
        "id": "1p1KdLPCj8N0"
      }
    },
    {
      "cell_type": "markdown",
      "source": [
        "**3.4.3 Python'da BERT Gömme İşlemlerinin Uygulanması**"
      ],
      "metadata": {
        "id": "K_NfIojgj-iZ"
      }
    },
    {
      "cell_type": "code",
      "source": [
        "from transformers import BertTokenizer, BertModel\n",
        "import torch\n",
        "# Load pre-trained BERT model and tokenizer\n",
        "tokenizer = BertTokenizer.from_pretrained('bert-base-uncased')\n",
        "model = BertModel.from_pretrained('bert-base-uncased')\n",
        "# Sample text\n",
        "text = \"Natural Language Processing is fascinating.\"\n",
        "# Tokenize the text\n",
        "inputs = tokenizer(text, return_tensors='pt')\n",
        "# Generate BERT embeddings\n",
        "with torch.no_grad():\n",
        "    outputs = model(**inputs)\n",
        "# Get the embeddings for the [CLS] token (representing the entire input text)\n",
        "cls_embeddings = outputs.last_hidden_state[:, 0, :]\n",
        "print(\"BERT Embeddings for the text:\")\n",
        "print(cls_embeddings)"
      ],
      "metadata": {
        "colab": {
          "base_uri": "https://localhost:8080/",
          "height": 1000,
          "referenced_widgets": [
            "7733efb47c9d43f389ba525cf1f8fcfa",
            "b6db5321982a4b5fb44fad370df121de",
            "a8a5a24331d741b68402c9f0ecb1d491",
            "33a0dc2db5cc4a288b31a108c47f8d1e",
            "94c8f2f0bcc945c7b2d9b7dbbb57d0c6",
            "617af5e2f37a42f6acc1325ea36617c4",
            "2478e89b3bf845588f1a1bb5ebe08606",
            "93f7cc07f4f24a679a6007e710b00008",
            "1d25207fa7c74056954057c4a8cd9063",
            "2046dfd4ee0641c7858fa6149803a895",
            "2e54cc3cba334b3a8794ae19df23e12b",
            "8bcaa6ccefdb4b3fb9668eb9ed08aac4",
            "cf28e1da9e124555a889b7882d7b2703",
            "75c40f4ed730461c9936c63d0da77b73",
            "53ca0b5c9c9a4d71a699c6cfc8efb4b8",
            "218bcb7861184e43beba7b04003a70c1",
            "180076eb099f4b009ad998822e5bc8e3",
            "f2d770befe514aad8b90fe5dfa0a08bb",
            "ddf79a6c2afb4570bf4497db834ae46c",
            "89466be60beb4383bce1fd49f1bc4319",
            "35c81b039beb4bbb9c4b11d0a35ce891",
            "55b2a3f978084d4a8c8405c49cdf61e6",
            "8d7d1c3f798b4a6881d6b975a5783eba",
            "aafb6b11316341a1bc6f94e5fe32db4c",
            "7f5b830a6560419e82766ec29ae9b190",
            "348f82c1a61b4435b4e15223f981ade0",
            "1dbf7a31dc414437b26b244b326d0275",
            "ef7ecc7c86824936bc07976bc471745e",
            "6e2903725fe5439d8cb3a2ef5d09f256",
            "6532de3bc61f4e96af1397dc3d681fe2",
            "b184253b08cf491bbbb536a2cd99b214",
            "06337c5e1ca840b58e7ed3671987d37b",
            "47c32b6fb44b43069c8354e78f07070c",
            "c1704c4b531946a19a9d6c3645258229",
            "558882a08a604264a7bee04485472451",
            "6cf1799d3bb247189549b45755b28a54",
            "981c20806dc54153b8afa730ab1feba4",
            "42d293a9482a4807bf6b5341998691de",
            "acb769c76d8041d29ac7266c6647519a",
            "6df176a21e86436db42f782ff2a3153e",
            "c5b6aff8eefa48ca95cba1313d9f1dc3",
            "8c1e323e5cfe431b8585ac97618f9cee",
            "c905316867fe40fa8556d14652ec08f2",
            "91dffb1746884945b8f9c13f4f558d13",
            "ff6f1f5fcbe740c1a877ee7691ec3480",
            "41c130fbc30c4a49ba8013c4970a12eb",
            "c08697699dba4f908c74b540e94400f3",
            "f1111ebe96ea42c2a99cdfdd0200ac09",
            "af6a994d0fe741639bd1a8acb32c4a54",
            "d56291e8a9364d62a69592d8ee6950b1",
            "d82ee661d5d04d8ca90dc6520c055df6",
            "7ed828cc3de94a5280a73fc7cc5219ce",
            "30606e5b1105466c8dbe2bbb78022dde",
            "678139656c1c4c2095ba787e8796cc10",
            "1d73567a4713403b8c84eb61265f72b1"
          ]
        },
        "id": "VTkweYoRkBLh",
        "outputId": "b48340a7-7e23-4b29-fdf3-68e8612b293a"
      },
      "execution_count": 63,
      "outputs": [
        {
          "output_type": "stream",
          "name": "stderr",
          "text": [
            "/usr/local/lib/python3.11/dist-packages/huggingface_hub/utils/_auth.py:94: UserWarning: \n",
            "The secret `HF_TOKEN` does not exist in your Colab secrets.\n",
            "To authenticate with the Hugging Face Hub, create a token in your settings tab (https://huggingface.co/settings/tokens), set it as secret in your Google Colab and restart your session.\n",
            "You will be able to reuse this secret in all of your notebooks.\n",
            "Please note that authentication is recommended but still optional to access public models or datasets.\n",
            "  warnings.warn(\n"
          ]
        },
        {
          "output_type": "display_data",
          "data": {
            "text/plain": [
              "tokenizer_config.json:   0%|          | 0.00/48.0 [00:00<?, ?B/s]"
            ],
            "application/vnd.jupyter.widget-view+json": {
              "version_major": 2,
              "version_minor": 0,
              "model_id": "7733efb47c9d43f389ba525cf1f8fcfa"
            }
          },
          "metadata": {}
        },
        {
          "output_type": "display_data",
          "data": {
            "text/plain": [
              "vocab.txt:   0%|          | 0.00/232k [00:00<?, ?B/s]"
            ],
            "application/vnd.jupyter.widget-view+json": {
              "version_major": 2,
              "version_minor": 0,
              "model_id": "8bcaa6ccefdb4b3fb9668eb9ed08aac4"
            }
          },
          "metadata": {}
        },
        {
          "output_type": "display_data",
          "data": {
            "text/plain": [
              "tokenizer.json:   0%|          | 0.00/466k [00:00<?, ?B/s]"
            ],
            "application/vnd.jupyter.widget-view+json": {
              "version_major": 2,
              "version_minor": 0,
              "model_id": "8d7d1c3f798b4a6881d6b975a5783eba"
            }
          },
          "metadata": {}
        },
        {
          "output_type": "display_data",
          "data": {
            "text/plain": [
              "config.json:   0%|          | 0.00/570 [00:00<?, ?B/s]"
            ],
            "application/vnd.jupyter.widget-view+json": {
              "version_major": 2,
              "version_minor": 0,
              "model_id": "c1704c4b531946a19a9d6c3645258229"
            }
          },
          "metadata": {}
        },
        {
          "output_type": "display_data",
          "data": {
            "text/plain": [
              "model.safetensors:   0%|          | 0.00/440M [00:00<?, ?B/s]"
            ],
            "application/vnd.jupyter.widget-view+json": {
              "version_major": 2,
              "version_minor": 0,
              "model_id": "ff6f1f5fcbe740c1a877ee7691ec3480"
            }
          },
          "metadata": {}
        },
        {
          "output_type": "stream",
          "name": "stdout",
          "text": [
            "BERT Embeddings for the text:\n",
            "tensor([[-2.4658e-02, -6.5673e-02, -4.3086e-01, -5.1209e-02, -4.5322e-01,\n",
            "         -4.1327e-01,  1.1380e-01,  6.7173e-01,  1.7407e-01, -3.5378e-01,\n",
            "          1.4670e-01,  2.3846e-01,  7.6190e-02,  1.3937e-01,  3.3285e-01,\n",
            "         -2.9205e-02, -1.9838e-01,  5.1026e-01,  1.7924e-01, -1.1977e-01,\n",
            "         -8.9951e-02, -7.1361e-02,  1.9587e-03, -1.0274e-01,  2.4622e-01,\n",
            "         -2.9206e-01,  2.0009e-02,  5.4749e-02,  1.4952e-01,  1.1108e-02,\n",
            "         -2.4750e-01,  1.4734e-01, -1.3964e-01, -2.7418e-01,  2.9148e-01,\n",
            "         -1.6308e-01, -1.1783e-03, -1.9783e-01,  1.0173e-01, -1.6218e-02,\n",
            "         -3.8234e-01,  6.9981e-02,  3.8682e-03, -8.9786e-02, -2.9237e-01,\n",
            "         -2.0613e-01, -2.8409e+00, -1.7206e-01, -3.0833e-01, -1.2089e-01,\n",
            "          2.4094e-01, -3.8010e-01,  4.5728e-01,  3.5725e-01,  1.5959e-01,\n",
            "          4.2263e-01, -3.8424e-01,  5.8968e-01,  1.8457e-01,  1.8144e-01,\n",
            "          2.1552e-01, -3.5909e-02, -2.4594e-01, -2.6387e-01, -1.0629e-01,\n",
            "          8.2477e-02, -1.0024e-01,  2.1133e-01, -3.4524e-01,  3.7746e-01,\n",
            "         -3.7187e-01, -4.5090e-01,  5.0168e-01, -3.3836e-02, -1.9158e-01,\n",
            "          4.5021e-02,  6.7851e-02,  7.0415e-02, -3.2284e-01, -1.5279e-01,\n",
            "         -1.1451e-01,  6.1031e-01,  3.5016e-01, -1.4402e-01,  2.8993e-01,\n",
            "          5.0090e-01, -6.0562e-01, -2.4024e-01,  4.0916e-01,  3.7144e-01,\n",
            "         -2.9888e-01, -1.3763e-01, -1.2646e-01,  4.9147e-01,  5.4380e-01,\n",
            "         -5.1151e-02, -8.2769e-02, -1.5871e-01, -8.5113e-02,  6.9598e-01,\n",
            "          2.2183e-01,  2.4438e-02,  2.6859e-01, -2.5951e-01,  2.9390e-01,\n",
            "          1.6369e-01, -9.0264e-02, -2.8970e-01,  1.1937e-02, -3.0214e+00,\n",
            "          2.5286e-01, -1.9421e-01, -1.4087e-01, -1.0677e-01, -3.2840e-01,\n",
            "          5.1384e-01,  5.7305e-01,  1.7462e-01,  2.5881e-01, -7.9956e-03,\n",
            "          8.1907e-03,  3.4740e-01, -1.3832e-01, -8.0140e-02, -2.3932e-01,\n",
            "          1.9374e-02,  3.6976e-01, -6.7063e-02,  4.6129e-01,  1.2579e-01,\n",
            "          3.7208e-01,  6.5321e-01,  2.4493e-01, -2.8015e-01, -1.8189e-01,\n",
            "          8.7559e-02,  5.3233e-01, -1.2901e-01, -2.3554e-01, -2.6906e-02,\n",
            "         -4.1747e-01, -2.8695e-01, -3.1027e+00,  1.6305e-02,  5.1216e-01,\n",
            "          1.7796e-02, -2.2575e-01, -8.3714e-02,  2.3215e-01,  1.7126e-01,\n",
            "          1.6699e-01,  5.7634e-02, -2.0424e-01,  5.9992e-02, -1.8697e-01,\n",
            "         -8.3287e-02, -2.8885e-01, -3.2980e-01,  6.0772e-01,  2.4498e-01,\n",
            "         -1.9407e-01, -5.3417e-01, -4.3755e-02, -1.6281e-01, -4.7869e-01,\n",
            "          1.8393e-01,  5.1007e-01,  5.8273e-01, -6.0804e-02,  6.2003e-02,\n",
            "         -1.5550e-01,  2.7678e-01,  2.3602e-01, -1.0622e-01, -1.0385e-02,\n",
            "         -2.6462e-01,  3.4843e-02,  3.6989e-01,  3.7379e-01, -4.3794e-02,\n",
            "         -1.7588e-01,  2.6062e-01,  2.3093e-01,  3.5529e-02,  5.8064e-01,\n",
            "         -1.6548e-01,  1.7834e-01, -3.8286e-01, -5.7071e-01,  2.4263e-01,\n",
            "         -7.5551e-02, -2.6817e-01,  2.7427e-01, -1.4841e-01,  5.6925e-01,\n",
            "          1.5056e-01,  1.6567e-01, -5.3513e-01,  1.3025e-01,  4.3929e-01,\n",
            "         -6.8879e-03, -2.2841e-01, -1.3950e-01,  5.5335e-02, -7.4994e-02,\n",
            "          3.7873e+00,  1.2620e-01,  9.3537e-02, -4.0772e-02,  5.9890e-02,\n",
            "         -2.7843e-01,  8.2948e-02, -4.7756e-02, -2.2290e-01, -5.1879e-02,\n",
            "          1.2151e-01,  3.6344e-01,  1.8130e-01, -4.5165e-01,  4.4197e-02,\n",
            "          2.3823e-02,  2.9130e-01, -3.8937e-01,  2.0042e-01, -3.3339e-01,\n",
            "         -7.3365e-02, -1.4707e-01,  8.7599e-01,  2.0120e-01, -1.2176e+00,\n",
            "         -1.0857e-01, -1.1869e-01, -2.6213e-01,  3.5827e-01, -3.3664e-01,\n",
            "         -5.3067e-01, -2.8803e-01, -4.9267e-01,  7.9335e-02, -1.7828e-02,\n",
            "         -1.3214e-01,  2.0051e-02, -8.1947e-02,  5.4334e-02, -1.5860e-01,\n",
            "          1.8161e-01,  1.2944e-01, -2.1276e-01,  3.8160e-01, -1.6617e-01,\n",
            "          5.6468e-01,  6.1525e-02,  3.8647e-01, -2.7245e-01,  6.2612e-02,\n",
            "          1.7409e-01,  1.5424e-01,  3.2046e-02, -1.2388e-01, -3.5894e-03,\n",
            "         -2.6709e-02, -4.8056e-02,  3.5710e-01,  3.9096e-02, -6.6714e-01,\n",
            "         -5.5095e-01,  7.3952e-02, -3.7088e-01,  1.4254e-01, -1.6726e-01,\n",
            "          2.4131e-01, -5.8063e-01, -1.4818e-01, -4.1235e+00,  8.7593e-02,\n",
            "         -2.9539e-01,  3.8348e-02,  2.7162e-02, -3.5078e-01,  5.0999e-02,\n",
            "          3.6437e-01,  3.1862e-01, -4.0062e-01,  4.3655e-01, -1.2439e-01,\n",
            "         -1.8900e-01,  1.5258e-01, -4.3385e-01,  4.1306e-01, -6.9447e-03,\n",
            "         -2.6373e-01, -4.3360e-01, -1.4181e-01,  1.4355e-01, -1.2855e-02,\n",
            "         -2.6097e-01,  2.0757e-01,  7.6486e-02, -3.2679e-01, -7.5514e-02,\n",
            "         -2.9813e-01,  9.7219e-02, -1.1566e-01, -5.7480e-02, -3.9055e-01,\n",
            "         -3.2790e-02,  1.6080e-02,  3.3451e-02, -1.8880e+00,  4.3483e-01,\n",
            "         -2.9792e-01, -1.9873e-01,  5.0966e-02,  5.1410e-02,  3.1203e-01,\n",
            "         -2.6792e-01, -5.3256e-01, -2.3004e-02,  3.8123e-01, -2.4275e-02,\n",
            "         -5.6810e-02,  2.0524e-01,  3.9949e-01,  1.1773e-01,  3.0458e-01,\n",
            "         -6.1406e-02,  6.3717e-02,  2.3329e-01,  5.9915e-02,  4.0249e-01,\n",
            "          1.4006e-01, -1.2037e-01,  4.0880e-01,  4.2050e-01, -3.5343e-01,\n",
            "         -1.1308e-01, -3.5340e-01,  1.2269e-01,  5.8919e-02,  5.0089e-03,\n",
            "          2.7123e-01, -1.6107e-01, -6.8720e-01, -6.6776e-02,  3.1825e-01,\n",
            "          2.7801e-01,  6.3365e-01, -6.0286e-02, -9.6696e-02,  5.9988e-01,\n",
            "          1.8642e-01,  2.0099e-01,  3.1455e-01, -1.1199e-01, -1.0971e-01,\n",
            "         -1.5431e-01,  1.1758e-01, -5.3687e-02, -1.8234e-01,  4.5866e-02,\n",
            "          1.2421e+00,  3.4149e-01,  1.1388e-01, -6.9477e-02,  4.0011e-01,\n",
            "          5.3383e-02,  3.4232e-01,  3.1684e-01,  7.8110e-01, -5.4244e-01,\n",
            "          2.4164e-01, -2.9758e-01, -3.7938e-02, -5.2027e-01,  3.2909e-02,\n",
            "         -3.5186e-01, -1.0046e-01,  3.5323e-01,  2.6103e-01,  3.0636e-01,\n",
            "         -3.4951e-01, -1.0467e+00,  1.4942e-01,  9.7165e-02, -4.2114e-01,\n",
            "          7.5086e-02,  3.2111e-01,  2.7509e-01, -3.6959e-02, -1.1346e-01,\n",
            "         -7.8825e-01,  3.0350e-01, -2.0726e-01, -1.8775e-02, -1.9294e-01,\n",
            "          6.2309e-02, -6.1624e-01, -2.4890e-01, -7.3450e-02,  2.1901e-01,\n",
            "          1.1469e-01,  2.7996e-01, -7.1349e-02, -2.0523e-01,  4.0812e-01,\n",
            "         -7.2485e-01,  3.0009e-01, -4.4443e-01, -3.5143e-01, -4.0226e-01,\n",
            "         -4.1009e-01,  2.4788e-01, -2.2940e-01, -2.6962e-01, -3.7401e-01,\n",
            "          2.0028e-01,  2.0418e-01,  1.3217e-01, -3.7141e-01, -1.9042e-01,\n",
            "          2.3957e-01,  2.0240e-01,  8.3678e-01, -8.3818e-02,  1.1162e-01,\n",
            "          4.2466e-01,  1.6202e-01, -4.5374e-02,  3.4786e-01,  2.1525e-01,\n",
            "         -1.0249e-01,  9.6005e-02, -5.1344e-01, -5.0171e-02, -3.7572e-02,\n",
            "         -1.0744e-02, -8.5512e-01, -3.0216e-01,  9.2405e-02, -2.6673e-01,\n",
            "         -4.4614e-01, -2.1891e-01, -1.4413e-02, -6.1542e-01, -1.3524e-01,\n",
            "          4.2615e-01,  2.1191e-01,  4.6464e-02,  3.2363e-01, -2.0364e-01,\n",
            "         -2.4382e-01,  2.5680e-01, -6.2171e-02,  5.6331e-01, -2.4010e-02,\n",
            "         -2.8484e-02, -3.2124e-01,  4.2745e-01,  2.4455e-02, -1.5116e-01,\n",
            "         -3.2177e-01, -7.1951e-02,  3.9345e-01,  1.6251e-02, -4.7637e-02,\n",
            "          1.3886e-01,  2.2600e-01,  1.2649e-02,  4.4684e-01,  1.6172e-01,\n",
            "         -1.4049e+00,  1.8866e-01,  6.1520e-01, -2.3381e-01,  8.9111e-03,\n",
            "         -1.6038e-02, -4.5166e-01,  7.8908e-01,  1.4890e-01,  2.6187e-02,\n",
            "         -1.8346e-01, -9.9769e-02,  2.4384e-01, -2.9813e-02,  1.3693e-01,\n",
            "         -3.6526e-02, -9.5421e-02, -1.3319e-01, -5.4050e-02, -2.4914e-01,\n",
            "         -1.3476e-01,  4.7515e-01, -1.8527e-01,  1.0904e-01,  3.4168e-01,\n",
            "         -3.6199e-02, -3.3164e-01,  2.0542e-01,  7.1113e-02,  4.4386e-01,\n",
            "         -2.4836e-01, -4.3100e-01, -7.5318e-01, -1.6777e-01,  3.9142e-01,\n",
            "         -1.4719e-01,  2.4589e-02, -1.5388e-01,  5.8382e-01,  6.5818e-01,\n",
            "         -2.5308e-01,  3.6469e-01,  3.2163e-01, -9.9760e-02,  4.9075e-02,\n",
            "          1.6616e-01, -2.6073e-01,  3.8747e-01, -2.0507e-01, -3.4128e-01,\n",
            "          8.3898e-02, -3.8165e-01, -1.5678e-01,  7.6048e-02,  3.8001e-01,\n",
            "         -8.4129e-02, -1.3983e-01,  2.1911e-01, -7.3230e-01,  2.7318e-02,\n",
            "          1.6493e-01, -4.4796e-01, -4.6284e-01, -1.5793e-02, -3.4997e-01,\n",
            "         -7.7228e-01, -2.0475e-01, -2.7844e-01, -3.0016e-01,  4.0698e-02,\n",
            "          5.9879e-01, -8.2227e-02, -3.2058e-01,  2.1501e-01, -2.7661e-01,\n",
            "          3.1242e-01,  2.4021e-01, -1.7896e-02,  3.6568e-01, -3.7637e-02,\n",
            "          2.4189e-03, -1.5274e-01,  1.3928e-01,  3.1390e-01,  3.4545e-01,\n",
            "          8.6811e-02, -4.0483e-01, -3.5965e-01,  3.6719e-02, -2.8021e-01,\n",
            "         -3.7848e-01, -6.1606e-01,  5.7418e-01, -8.0868e-03,  2.4379e-02,\n",
            "          3.1536e-02,  2.1212e-01,  9.8678e-02,  1.3905e-02, -1.2632e-01,\n",
            "         -4.7600e-01,  5.6904e-01,  2.6862e-01,  5.1500e-02,  1.5033e-02,\n",
            "          6.2981e-01,  7.2151e-01,  4.0250e-01, -2.4051e-01, -2.7629e-01,\n",
            "         -1.8755e-01,  1.5131e-01, -2.0563e-01, -4.0670e-01,  2.6010e-01,\n",
            "         -2.2233e-01,  3.1974e-01, -5.0988e-01,  2.4287e+00,  3.3365e-01,\n",
            "          5.7491e-01, -7.7150e-01,  5.1962e-01, -3.8839e-02, -3.3894e-02,\n",
            "          2.9216e-01, -4.5472e-01,  3.0020e-01, -4.5730e-01,  1.0360e-01,\n",
            "         -9.1641e-02,  2.7010e-01,  2.8691e-01,  3.7187e-01, -1.5547e-01,\n",
            "         -1.6400e-01, -7.4280e-01, -8.4467e-02, -5.7271e-01,  5.6361e-01,\n",
            "          3.4395e-01, -2.9289e-01,  1.3757e-01,  3.1413e-01,  1.2506e-01,\n",
            "          3.7839e-01,  2.3468e-01,  1.4630e-01, -3.6637e-01,  3.3510e-01,\n",
            "          2.2461e-01,  4.5084e-01, -3.0994e-01,  3.6739e-01,  8.1410e-02,\n",
            "         -1.9731e-01, -3.8703e-02,  2.1404e-01,  2.4584e-01, -5.5277e-01,\n",
            "          3.2124e-01,  2.1027e-01, -1.8577e-01,  8.8646e-01, -1.1521e-01,\n",
            "         -4.4985e-01,  5.2659e-01,  4.2852e-01,  9.7223e-02,  3.5397e-01,\n",
            "         -3.3906e-01,  7.6514e-02, -1.7696e-01, -3.0187e-01,  1.3177e-01,\n",
            "         -3.7240e-02, -1.0377e-01,  4.9404e-01, -1.2859e-03,  3.1962e-01,\n",
            "          2.8183e-01, -2.6173e-01, -1.1654e-01, -7.4810e-02, -2.4406e-01,\n",
            "          4.8421e-01,  2.5231e-01, -3.3445e-01,  3.4127e-01,  2.7978e-01,\n",
            "          4.2259e-01,  1.7082e-01,  4.6856e-01,  1.3449e-01,  4.3647e-01,\n",
            "         -1.9030e-01,  3.6287e-02, -3.2524e+00, -1.5422e-01,  2.0235e-01,\n",
            "          4.4459e-01,  1.7723e-03,  4.4244e-01,  7.2247e-01, -1.9337e-01,\n",
            "          1.1129e-01, -2.0866e-01,  1.0958e-01,  1.2435e-01,  5.1191e-01,\n",
            "          1.8623e-01, -8.0413e-02,  2.5013e-01,  1.6267e-01, -6.0493e-01,\n",
            "          1.7849e-02, -2.6995e-01,  9.5507e-02, -3.9566e-03,  1.1172e-01,\n",
            "         -1.6959e-01, -4.4939e-01,  2.6034e-01,  2.9603e-01, -2.9708e-01,\n",
            "          2.5717e-01,  4.2609e-01,  1.6011e-02,  2.1914e-01,  4.4474e-02,\n",
            "          1.3157e-01, -1.4703e-01, -2.1660e-02, -2.4463e-01, -2.3884e-01,\n",
            "          2.6401e-01,  1.8387e-01, -2.0546e-01,  5.9106e-01, -1.2054e-01,\n",
            "          2.2942e-01, -5.2967e-02, -3.9050e-01,  6.2783e-01, -1.5047e-01,\n",
            "          6.3794e-01, -3.7866e-01, -2.3240e-01,  2.1090e-01,  1.8431e-01,\n",
            "         -1.9023e-01,  3.5496e-01,  2.1846e-02,  3.9321e-01, -1.2653e-01,\n",
            "          1.2129e-01, -3.3545e-01, -7.0364e-02,  2.0256e-01,  1.0702e-01,\n",
            "          8.8086e-02,  3.9214e-01, -4.5985e-01,  1.4197e-02,  6.5159e-02,\n",
            "         -1.8939e-01, -1.5418e-01, -2.7882e-01, -2.3732e-01,  9.3481e-01,\n",
            "          1.5762e-01,  1.1273e-01,  2.7707e-01,  2.6955e-01,  1.7441e-01,\n",
            "          3.5510e-01, -1.5407e-02, -2.1267e-01, -1.8495e-01, -5.1953e-01,\n",
            "          7.0269e-02,  3.9076e-01, -8.3726e+00, -3.8622e-01,  2.1487e-02,\n",
            "         -6.2515e-01,  1.9880e-02, -6.5419e-01, -2.9034e-02, -3.3429e-02,\n",
            "          1.0138e-01,  6.5252e-02,  1.1035e-02,  3.2263e-01,  1.9578e-01,\n",
            "         -3.6279e-01, -2.7663e-02,  6.6780e-01]])\n"
          ]
        }
      ]
    },
    {
      "cell_type": "markdown",
      "source": [
        "Bu Python kod parçası, transformatörler kütüphanesinden önceden eğitilmiş bir BERT modelinin belirli bir metin için yerleştirmeler üretmek üzere nasıl kullanılacağını gösterir. Aşağıda kodun adım adım açıklaması bulunmaktadır:"
      ],
      "metadata": {
        "id": "-BjLLSeakPRr"
      }
    },
    {
      "cell_type": "markdown",
      "source": [
        "**3.4.4 Belirli Görevler için BERT'in İnce Ayarlanması**"
      ],
      "metadata": {
        "id": "69P_HuynkTGI"
      }
    },
    {
      "cell_type": "code",
      "source": [
        "from transformers import BertTokenizer, BertForSequenceClassification, Trainer, TrainingArguments\n",
        "from sklearn.model_selection import train_test_split\n",
        "import torch\n",
        "\n",
        "# Sample text corpus and labels\n",
        "documents = [\n",
        "    \"Natural Language Processing is fascinating.\",\n",
        "    \"Machine learning models are essential for AI.\",\n",
        "    \"I love learning about deep learning.\",\n",
        "    \"NLP and AI are closely related fields.\",\n",
        "    \"Artificial Intelligence is transforming industries.\"\n",
        "]\n",
        "labels = [1, 0, 1, 1, 0]  # 1 for NLP-related, 0 for AI-related\n",
        "\n",
        "# Split the data into training and testing sets\n",
        "train_texts, test_texts, train_labels, test_labels = train_test_split(documents, labels, test_size=0.2, random_state=42)\n",
        "\n",
        "# Load pre-trained BERT tokenizer and model for sequence classification\n",
        "tokenizer = BertTokenizer.from_pretrained('bert-base-uncased')\n",
        "model = BertForSequenceClassification.from_pretrained('bert-base-uncased', num_labels=2)\n",
        "\n",
        "# Tokenize the text data\n",
        "train_inputs = tokenizer(train_texts, padding=True, truncation=True, return_tensors='pt')\n",
        "test_inputs = tokenizer(test_texts, padding=True, truncation=True, return_tensors='pt')\n",
        "\n",
        "# Create a dataset class\n",
        "class TextDataset(torch.utils.data.Dataset):\n",
        "    def __init__(self, inputs, labels):\n",
        "        self.inputs = inputs\n",
        "        self.labels = torch.tensor(labels)\n",
        "\n",
        "    def __len__(self):\n",
        "        return len(self.labels)\n",
        "\n",
        "    def __getitem__(self, idx):\n",
        "        item = {key: val[idx] for key, val in self.inputs.items()}\n",
        "        item['labels'] = self.labels[idx]\n",
        "        return item\n",
        "\n",
        "train_dataset = TextDataset(train_inputs, train_labels)\n",
        "test_dataset = TextDataset(test_inputs, test_labels)\n",
        "\n",
        "# Define training arguments\n",
        "training_args = TrainingArguments(\n",
        "    output_dir='./results',\n",
        "    run_name='my_nlp_classification_run',  # Set a different run name\n",
        "    num_train_epochs=3,\n",
        "    per_device_train_batch_size=4,\n",
        "    per_device_eval_batch_size=4,\n",
        "    warmup_steps=10,\n",
        "    weight_decay=0.01,\n",
        "    logging_dir='./logs',\n",
        "    logging_steps=10,\n",
        ")\n",
        "\n",
        "# Initialize the Trainer\n",
        "trainer = Trainer(\n",
        "    model=model,\n",
        "    args=training_args,\n",
        "    train_dataset=train_dataset,\n",
        "    eval_dataset=test_dataset,\n",
        ")\n",
        "\n",
        "# Train the model\n",
        "trainer.train()\n",
        "\n",
        "# Evaluate the model\n",
        "results = trainer.evaluate()\n",
        "print(\"Evaluation results:\")\n",
        "print(results)"
      ],
      "metadata": {
        "colab": {
          "base_uri": "https://localhost:8080/",
          "height": 428
        },
        "id": "5oemGjzonh5p",
        "outputId": "ed65e383-1191-43ce-b2c5-60f25ce03798"
      },
      "execution_count": 92,
      "outputs": [
        {
          "output_type": "stream",
          "name": "stderr",
          "text": [
            "Some weights of BertForSequenceClassification were not initialized from the model checkpoint at bert-base-uncased and are newly initialized: ['classifier.bias', 'classifier.weight']\n",
            "You should probably TRAIN this model on a down-stream task to be able to use it for predictions and inference.\n"
          ]
        },
        {
          "output_type": "display_data",
          "data": {
            "text/plain": [
              "<IPython.core.display.Javascript object>"
            ],
            "application/javascript": [
              "\n",
              "        window._wandbApiKey = new Promise((resolve, reject) => {\n",
              "            function loadScript(url) {\n",
              "            return new Promise(function(resolve, reject) {\n",
              "                let newScript = document.createElement(\"script\");\n",
              "                newScript.onerror = reject;\n",
              "                newScript.onload = resolve;\n",
              "                document.body.appendChild(newScript);\n",
              "                newScript.src = url;\n",
              "            });\n",
              "            }\n",
              "            loadScript(\"https://cdn.jsdelivr.net/npm/postmate/build/postmate.min.js\").then(() => {\n",
              "            const iframe = document.createElement('iframe')\n",
              "            iframe.style.cssText = \"width:0;height:0;border:none\"\n",
              "            document.body.appendChild(iframe)\n",
              "            const handshake = new Postmate({\n",
              "                container: iframe,\n",
              "                url: 'https://wandb.ai/authorize'\n",
              "            });\n",
              "            const timeout = setTimeout(() => reject(\"Couldn't auto authenticate\"), 5000)\n",
              "            handshake.then(function(child) {\n",
              "                child.on('authorize', data => {\n",
              "                    clearTimeout(timeout)\n",
              "                    resolve(data)\n",
              "                });\n",
              "            });\n",
              "            })\n",
              "        });\n",
              "    "
            ]
          },
          "metadata": {}
        },
        {
          "output_type": "stream",
          "name": "stderr",
          "text": [
            "\u001b[34m\u001b[1mwandb\u001b[0m: Logging into wandb.ai. (Learn how to deploy a W&B server locally: https://wandb.me/wandb-server)\n",
            "\u001b[34m\u001b[1mwandb\u001b[0m: You can find your API key in your browser here: https://wandb.ai/authorize\n",
            "wandb: Paste an API key from your profile and hit enter:"
          ]
        },
        {
          "name": "stdout",
          "output_type": "stream",
          "text": [
            " ··········\n"
          ]
        },
        {
          "output_type": "stream",
          "name": "stderr",
          "text": [
            "\u001b[34m\u001b[1mwandb\u001b[0m: \u001b[33mWARNING\u001b[0m If you're specifying your api key in code, ensure this code is not shared publicly.\n",
            "\u001b[34m\u001b[1mwandb\u001b[0m: \u001b[33mWARNING\u001b[0m Consider setting the WANDB_API_KEY environment variable, or running `wandb login` from the command line.\n",
            "\u001b[34m\u001b[1mwandb\u001b[0m: No netrc file found, creating one.\n",
            "\u001b[34m\u001b[1mwandb\u001b[0m: Appending key for api.wandb.ai to your netrc file: /root/.netrc\n",
            "\u001b[34m\u001b[1mwandb\u001b[0m: Currently logged in as: \u001b[33mahmetyildirir1\u001b[0m to \u001b[32mhttps://api.wandb.ai\u001b[0m. Use \u001b[1m`wandb login --relogin`\u001b[0m to force relogin\n"
          ]
        },
        {
          "output_type": "display_data",
          "data": {
            "text/plain": [
              "<IPython.core.display.HTML object>"
            ],
            "text/html": [
              "Tracking run with wandb version 0.19.7"
            ]
          },
          "metadata": {}
        },
        {
          "output_type": "display_data",
          "data": {
            "text/plain": [
              "<IPython.core.display.HTML object>"
            ],
            "text/html": [
              "Run data is saved locally in <code>/content/wandb/run-20250307_080103-er54raee</code>"
            ]
          },
          "metadata": {}
        },
        {
          "output_type": "display_data",
          "data": {
            "text/plain": [
              "<IPython.core.display.HTML object>"
            ],
            "text/html": [
              "Syncing run <strong><a href='https://wandb.ai/ahmetyildirir1/huggingface/runs/er54raee' target=\"_blank\">my_nlp_classification_run</a></strong> to <a href='https://wandb.ai/ahmetyildirir1/huggingface' target=\"_blank\">Weights & Biases</a> (<a href='https://wandb.me/developer-guide' target=\"_blank\">docs</a>)<br>"
            ]
          },
          "metadata": {}
        },
        {
          "output_type": "display_data",
          "data": {
            "text/plain": [
              "<IPython.core.display.HTML object>"
            ],
            "text/html": [
              " View project at <a href='https://wandb.ai/ahmetyildirir1/huggingface' target=\"_blank\">https://wandb.ai/ahmetyildirir1/huggingface</a>"
            ]
          },
          "metadata": {}
        },
        {
          "output_type": "display_data",
          "data": {
            "text/plain": [
              "<IPython.core.display.HTML object>"
            ],
            "text/html": [
              " View run at <a href='https://wandb.ai/ahmetyildirir1/huggingface/runs/er54raee' target=\"_blank\">https://wandb.ai/ahmetyildirir1/huggingface/runs/er54raee</a>"
            ]
          },
          "metadata": {}
        },
        {
          "output_type": "display_data",
          "data": {
            "text/plain": [
              "<IPython.core.display.HTML object>"
            ],
            "text/html": [
              "\n",
              "    <div>\n",
              "      \n",
              "      <progress value='3' max='3' style='width:300px; height:20px; vertical-align: middle;'></progress>\n",
              "      [3/3 00:10, Epoch 3/3]\n",
              "    </div>\n",
              "    <table border=\"1\" class=\"dataframe\">\n",
              "  <thead>\n",
              " <tr style=\"text-align: left;\">\n",
              "      <th>Step</th>\n",
              "      <th>Training Loss</th>\n",
              "    </tr>\n",
              "  </thead>\n",
              "  <tbody>\n",
              "  </tbody>\n",
              "</table><p>"
            ]
          },
          "metadata": {}
        },
        {
          "output_type": "display_data",
          "data": {
            "text/plain": [
              "<IPython.core.display.HTML object>"
            ],
            "text/html": [
              "\n",
              "    <div>\n",
              "      \n",
              "      <progress value='1' max='1' style='width:300px; height:20px; vertical-align: middle;'></progress>\n",
              "      [1/1 : < :]\n",
              "    </div>\n",
              "    "
            ]
          },
          "metadata": {}
        },
        {
          "output_type": "stream",
          "name": "stdout",
          "text": [
            "Evaluation results:\n",
            "{'eval_loss': 0.8129863739013672, 'eval_runtime': 0.1619, 'eval_samples_per_second': 6.176, 'eval_steps_per_second': 6.176, 'epoch': 3.0}\n"
          ]
        }
      ]
    },
    {
      "cell_type": "code",
      "source": [
        "# Function to make predictions\n",
        "def predict(texts):\n",
        "    # Tokenize the input texts\n",
        "    inputs = tokenizer(texts, padding=True, truncation=True, return_tensors='pt')\n",
        "\n",
        "    # Get the model predictions\n",
        "    with torch.no_grad():\n",
        "        outputs = model(**inputs)\n",
        "\n",
        "    # Get the predicted class labels\n",
        "    predictions = torch.argmax(outputs.logits, dim=-1)\n",
        "\n",
        "    return predictions\n",
        "\n",
        "# Sample texts to predict\n",
        "sample_texts = [\n",
        "    \"I find NLP very interesting.\",\n",
        "    \"lost last pencil\"\n",
        "]\n",
        "\n",
        "# Make predictions\n",
        "predictions = predict(sample_texts)\n",
        "\n",
        "# Map the predictions to the corresponding labels\n",
        "label_map = {0: \"AI-related\", 1: \"NLP-related\"}\n",
        "predicted_labels = [label_map[pred.item()] for pred in predictions]\n",
        "\n",
        "print(\"Predictions:\")\n",
        "for text, label in zip(sample_texts, predicted_labels):\n",
        "    print(f\"Text: {text} -> Prediction: {label}\")"
      ],
      "metadata": {
        "colab": {
          "base_uri": "https://localhost:8080/"
        },
        "id": "COvbBDWAoIUw",
        "outputId": "5f71e9ba-0322-4a38-eb05-26a87223153f"
      },
      "execution_count": 96,
      "outputs": [
        {
          "output_type": "stream",
          "name": "stdout",
          "text": [
            "Predictions:\n",
            "Text: I find NLP very interesting. -> Prediction: NLP-related\n",
            "Text: lost last pencil -> Prediction: NLP-related\n"
          ]
        }
      ]
    },
    {
      "cell_type": "markdown",
      "source": [
        "Burada fine-tuning yaparken View project at https://wandb.ai/ahmetyildirir1/huggingface sitesinden aslında model eğitimi incelenebilir."
      ],
      "metadata": {
        "id": "bEIe9r3xpasd"
      }
    },
    {
      "cell_type": "markdown",
      "source": [
        "**3.4.5 BERT'in Avantajları ve Sınırlamaları**"
      ],
      "metadata": {
        "id": "hSO9058KpvQb"
      }
    },
    {
      "cell_type": "markdown",
      "source": [
        "**Bağlam Farkında Gömmeler :** BERT'in temel faydalarından biri, bir cümle içindeki her kelimenin bağlamını hesaba katan gömmeler üretme yeteneğidir. Bu, BERT'in metnin daha ayrıntılı ve doğru bir temsilini sunmasını, geleneksel gömmelerin kaçırabileceği kelimeler arasındaki ince anlamları ve ilişkileri yakalamasını sağlar.\n",
        "\n",
        "**Son Teknoloji Performans :** BERT, çok çeşitli NLP kıyaslamaları ve görevlerinde son teknoloji performans elde ederek doğal dil işleme alanında yeni standartlar belirledi. Bu, BERT'in doğruluğunun ve verimliliğinin defalarca kanıtlandığı soru cevaplama, duygu analizi ve adlandırılmış varlık tanıma gibi görevleri içerir.\n",
        "\n",
        "**Transfer Öğrenmesi:** BERT'in bir diğer önemli avantajı transfer öğrenmesini desteklemesidir. Büyük veri kümeleri üzerinde eğitilmiş önceden eğitilmiş BERT modelleri, nispeten az miktarda etiketli veri içeren belirli görevlerde ince ayarlanabilir. Bu, BERT modellerini oldukça çok yönlü ve verimli hale getirir ve minimum ek eğitimle çeşitli uygulamalara uyarlanmalarına olanak tanır."
      ],
      "metadata": {
        "id": "Fj3mF_fhp9P2"
      }
    },
    {
      "cell_type": "markdown",
      "source": [
        "**Zorlukları**"
      ],
      "metadata": {
        "id": "YaWOB9fjqUAU"
      }
    },
    {
      "cell_type": "markdown",
      "source": [
        "**Hesaplama Yoğunluğu :** BERT modelleri büyüktür ve eğitim ve çıkarım için önemli hesaplama kaynakları gerektirir. Bu, BERT'i etkili bir şekilde kullanmak için genellikle GPU'lar veya TPU'lar gibi yüksek performanslı donanımlara erişime ihtiyaç duyulduğu anlamına gelir; bu da maliyetli olabilir ve herkes tarafından erişilebilir olmayabilir. Ek olarak, eğitim süreci güçlü hesaplama kaynaklarıyla bile önemli miktarda zaman alabilir."
      ],
      "metadata": {
        "id": "-F-iSaBmqRxE"
      }
    },
    {
      "cell_type": "markdown",
      "source": [
        "**Karmaşıklık**: BERT'in mimarisi ve eğitim süreci, geleneksel kelime yerleştirmelerine kıyasla daha karmaşıktır. Daha basit modellerin aksine, BERT, her biri ince ayarlanması gereken çok sayıda parametreye sahip birden fazla dönüştürücü katmanı içerir. Bu karmaşıklık, doğal dil işleme (NLP) konusunda yeni olan veya makine öğrenimi konusunda derin bir anlayışa sahip olmayan kişiler için bir engel olabilir. Ayrıca, BERT modellerinin uygulanması ve optimizasyonu daha yüksek düzeyde uzmanlık ve deneyim gerektirir."
      ],
      "metadata": {
        "id": "Pkzk_oZLqMVb"
      }
    }
  ]
}
