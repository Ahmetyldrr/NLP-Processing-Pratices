{
  "nbformat": 4,
  "nbformat_minor": 0,
  "metadata": {
    "colab": {
      "provenance": [],
      "toc_visible": true,
      "include_colab_link": true
    },
    "kernelspec": {
      "name": "python3",
      "display_name": "Python 3"
    },
    "language_info": {
      "name": "python"
    },
    "widgets": {
      "application/vnd.jupyter.widget-state+json": {
        "f61c8b1c91604ba9b031cd31c473681f": {
          "model_module": "@jupyter-widgets/controls",
          "model_name": "HBoxModel",
          "model_module_version": "1.5.0",
          "state": {
            "_dom_classes": [],
            "_model_module": "@jupyter-widgets/controls",
            "_model_module_version": "1.5.0",
            "_model_name": "HBoxModel",
            "_view_count": null,
            "_view_module": "@jupyter-widgets/controls",
            "_view_module_version": "1.5.0",
            "_view_name": "HBoxView",
            "box_style": "",
            "children": [
              "IPY_MODEL_4bcb86a4540b4dfd89c41b4b28967318",
              "IPY_MODEL_7d6c9c7a3b6940e6b7006264770db6f3",
              "IPY_MODEL_48b7a17eeed54938aaa0529448ba9133"
            ],
            "layout": "IPY_MODEL_81dfad701632497caa00ed87a2c59ac4"
          }
        },
        "4bcb86a4540b4dfd89c41b4b28967318": {
          "model_module": "@jupyter-widgets/controls",
          "model_name": "HTMLModel",
          "model_module_version": "1.5.0",
          "state": {
            "_dom_classes": [],
            "_model_module": "@jupyter-widgets/controls",
            "_model_module_version": "1.5.0",
            "_model_name": "HTMLModel",
            "_view_count": null,
            "_view_module": "@jupyter-widgets/controls",
            "_view_module_version": "1.5.0",
            "_view_name": "HTMLView",
            "description": "",
            "description_tooltip": null,
            "layout": "IPY_MODEL_67ddae784b6f4df590ee3796ef75aa2d",
            "placeholder": "​",
            "style": "IPY_MODEL_26becb767c2d4a78a97876fc98647438",
            "value": "Downloading https://raw.githubusercontent.com/stanfordnlp/stanza-resources/main/resources_1.10.0.json: "
          }
        },
        "7d6c9c7a3b6940e6b7006264770db6f3": {
          "model_module": "@jupyter-widgets/controls",
          "model_name": "FloatProgressModel",
          "model_module_version": "1.5.0",
          "state": {
            "_dom_classes": [],
            "_model_module": "@jupyter-widgets/controls",
            "_model_module_version": "1.5.0",
            "_model_name": "FloatProgressModel",
            "_view_count": null,
            "_view_module": "@jupyter-widgets/controls",
            "_view_module_version": "1.5.0",
            "_view_name": "ProgressView",
            "bar_style": "success",
            "description": "",
            "description_tooltip": null,
            "layout": "IPY_MODEL_3c5ce9f09803423b9e2f962da3d2495c",
            "max": 52557,
            "min": 0,
            "orientation": "horizontal",
            "style": "IPY_MODEL_def0b167255c476e93082741fb2e3d61",
            "value": 52557
          }
        },
        "48b7a17eeed54938aaa0529448ba9133": {
          "model_module": "@jupyter-widgets/controls",
          "model_name": "HTMLModel",
          "model_module_version": "1.5.0",
          "state": {
            "_dom_classes": [],
            "_model_module": "@jupyter-widgets/controls",
            "_model_module_version": "1.5.0",
            "_model_name": "HTMLModel",
            "_view_count": null,
            "_view_module": "@jupyter-widgets/controls",
            "_view_module_version": "1.5.0",
            "_view_name": "HTMLView",
            "description": "",
            "description_tooltip": null,
            "layout": "IPY_MODEL_1c3168dc84fa48d69b844f8780f0e5b6",
            "placeholder": "​",
            "style": "IPY_MODEL_16cf8c56603a426cb0ace3191cd874b4",
            "value": " 424k/? [00:00&lt;00:00, 17.2MB/s]"
          }
        },
        "81dfad701632497caa00ed87a2c59ac4": {
          "model_module": "@jupyter-widgets/base",
          "model_name": "LayoutModel",
          "model_module_version": "1.2.0",
          "state": {
            "_model_module": "@jupyter-widgets/base",
            "_model_module_version": "1.2.0",
            "_model_name": "LayoutModel",
            "_view_count": null,
            "_view_module": "@jupyter-widgets/base",
            "_view_module_version": "1.2.0",
            "_view_name": "LayoutView",
            "align_content": null,
            "align_items": null,
            "align_self": null,
            "border": null,
            "bottom": null,
            "display": null,
            "flex": null,
            "flex_flow": null,
            "grid_area": null,
            "grid_auto_columns": null,
            "grid_auto_flow": null,
            "grid_auto_rows": null,
            "grid_column": null,
            "grid_gap": null,
            "grid_row": null,
            "grid_template_areas": null,
            "grid_template_columns": null,
            "grid_template_rows": null,
            "height": null,
            "justify_content": null,
            "justify_items": null,
            "left": null,
            "margin": null,
            "max_height": null,
            "max_width": null,
            "min_height": null,
            "min_width": null,
            "object_fit": null,
            "object_position": null,
            "order": null,
            "overflow": null,
            "overflow_x": null,
            "overflow_y": null,
            "padding": null,
            "right": null,
            "top": null,
            "visibility": null,
            "width": null
          }
        },
        "67ddae784b6f4df590ee3796ef75aa2d": {
          "model_module": "@jupyter-widgets/base",
          "model_name": "LayoutModel",
          "model_module_version": "1.2.0",
          "state": {
            "_model_module": "@jupyter-widgets/base",
            "_model_module_version": "1.2.0",
            "_model_name": "LayoutModel",
            "_view_count": null,
            "_view_module": "@jupyter-widgets/base",
            "_view_module_version": "1.2.0",
            "_view_name": "LayoutView",
            "align_content": null,
            "align_items": null,
            "align_self": null,
            "border": null,
            "bottom": null,
            "display": null,
            "flex": null,
            "flex_flow": null,
            "grid_area": null,
            "grid_auto_columns": null,
            "grid_auto_flow": null,
            "grid_auto_rows": null,
            "grid_column": null,
            "grid_gap": null,
            "grid_row": null,
            "grid_template_areas": null,
            "grid_template_columns": null,
            "grid_template_rows": null,
            "height": null,
            "justify_content": null,
            "justify_items": null,
            "left": null,
            "margin": null,
            "max_height": null,
            "max_width": null,
            "min_height": null,
            "min_width": null,
            "object_fit": null,
            "object_position": null,
            "order": null,
            "overflow": null,
            "overflow_x": null,
            "overflow_y": null,
            "padding": null,
            "right": null,
            "top": null,
            "visibility": null,
            "width": null
          }
        },
        "26becb767c2d4a78a97876fc98647438": {
          "model_module": "@jupyter-widgets/controls",
          "model_name": "DescriptionStyleModel",
          "model_module_version": "1.5.0",
          "state": {
            "_model_module": "@jupyter-widgets/controls",
            "_model_module_version": "1.5.0",
            "_model_name": "DescriptionStyleModel",
            "_view_count": null,
            "_view_module": "@jupyter-widgets/base",
            "_view_module_version": "1.2.0",
            "_view_name": "StyleView",
            "description_width": ""
          }
        },
        "3c5ce9f09803423b9e2f962da3d2495c": {
          "model_module": "@jupyter-widgets/base",
          "model_name": "LayoutModel",
          "model_module_version": "1.2.0",
          "state": {
            "_model_module": "@jupyter-widgets/base",
            "_model_module_version": "1.2.0",
            "_model_name": "LayoutModel",
            "_view_count": null,
            "_view_module": "@jupyter-widgets/base",
            "_view_module_version": "1.2.0",
            "_view_name": "LayoutView",
            "align_content": null,
            "align_items": null,
            "align_self": null,
            "border": null,
            "bottom": null,
            "display": null,
            "flex": null,
            "flex_flow": null,
            "grid_area": null,
            "grid_auto_columns": null,
            "grid_auto_flow": null,
            "grid_auto_rows": null,
            "grid_column": null,
            "grid_gap": null,
            "grid_row": null,
            "grid_template_areas": null,
            "grid_template_columns": null,
            "grid_template_rows": null,
            "height": null,
            "justify_content": null,
            "justify_items": null,
            "left": null,
            "margin": null,
            "max_height": null,
            "max_width": null,
            "min_height": null,
            "min_width": null,
            "object_fit": null,
            "object_position": null,
            "order": null,
            "overflow": null,
            "overflow_x": null,
            "overflow_y": null,
            "padding": null,
            "right": null,
            "top": null,
            "visibility": null,
            "width": null
          }
        },
        "def0b167255c476e93082741fb2e3d61": {
          "model_module": "@jupyter-widgets/controls",
          "model_name": "ProgressStyleModel",
          "model_module_version": "1.5.0",
          "state": {
            "_model_module": "@jupyter-widgets/controls",
            "_model_module_version": "1.5.0",
            "_model_name": "ProgressStyleModel",
            "_view_count": null,
            "_view_module": "@jupyter-widgets/base",
            "_view_module_version": "1.2.0",
            "_view_name": "StyleView",
            "bar_color": null,
            "description_width": ""
          }
        },
        "1c3168dc84fa48d69b844f8780f0e5b6": {
          "model_module": "@jupyter-widgets/base",
          "model_name": "LayoutModel",
          "model_module_version": "1.2.0",
          "state": {
            "_model_module": "@jupyter-widgets/base",
            "_model_module_version": "1.2.0",
            "_model_name": "LayoutModel",
            "_view_count": null,
            "_view_module": "@jupyter-widgets/base",
            "_view_module_version": "1.2.0",
            "_view_name": "LayoutView",
            "align_content": null,
            "align_items": null,
            "align_self": null,
            "border": null,
            "bottom": null,
            "display": null,
            "flex": null,
            "flex_flow": null,
            "grid_area": null,
            "grid_auto_columns": null,
            "grid_auto_flow": null,
            "grid_auto_rows": null,
            "grid_column": null,
            "grid_gap": null,
            "grid_row": null,
            "grid_template_areas": null,
            "grid_template_columns": null,
            "grid_template_rows": null,
            "height": null,
            "justify_content": null,
            "justify_items": null,
            "left": null,
            "margin": null,
            "max_height": null,
            "max_width": null,
            "min_height": null,
            "min_width": null,
            "object_fit": null,
            "object_position": null,
            "order": null,
            "overflow": null,
            "overflow_x": null,
            "overflow_y": null,
            "padding": null,
            "right": null,
            "top": null,
            "visibility": null,
            "width": null
          }
        },
        "16cf8c56603a426cb0ace3191cd874b4": {
          "model_module": "@jupyter-widgets/controls",
          "model_name": "DescriptionStyleModel",
          "model_module_version": "1.5.0",
          "state": {
            "_model_module": "@jupyter-widgets/controls",
            "_model_module_version": "1.5.0",
            "_model_name": "DescriptionStyleModel",
            "_view_count": null,
            "_view_module": "@jupyter-widgets/base",
            "_view_module_version": "1.2.0",
            "_view_name": "StyleView",
            "description_width": ""
          }
        },
        "062cd625c9b141088d34c45b963075b0": {
          "model_module": "@jupyter-widgets/controls",
          "model_name": "HBoxModel",
          "model_module_version": "1.5.0",
          "state": {
            "_dom_classes": [],
            "_model_module": "@jupyter-widgets/controls",
            "_model_module_version": "1.5.0",
            "_model_name": "HBoxModel",
            "_view_count": null,
            "_view_module": "@jupyter-widgets/controls",
            "_view_module_version": "1.5.0",
            "_view_name": "HBoxView",
            "box_style": "",
            "children": [
              "IPY_MODEL_1d1d7e21a87543aeb3f6fce57224730b",
              "IPY_MODEL_94139cb9dee24ecea0b2eb7d339eb6ff",
              "IPY_MODEL_6950c540bd0247b597ed323bd6da4842"
            ],
            "layout": "IPY_MODEL_05905e33e2fd4bfaba7caf0c0052d4aa"
          }
        },
        "1d1d7e21a87543aeb3f6fce57224730b": {
          "model_module": "@jupyter-widgets/controls",
          "model_name": "HTMLModel",
          "model_module_version": "1.5.0",
          "state": {
            "_dom_classes": [],
            "_model_module": "@jupyter-widgets/controls",
            "_model_module_version": "1.5.0",
            "_model_name": "HTMLModel",
            "_view_count": null,
            "_view_module": "@jupyter-widgets/controls",
            "_view_module_version": "1.5.0",
            "_view_name": "HTMLView",
            "description": "",
            "description_tooltip": null,
            "layout": "IPY_MODEL_72636503678947ce910d2319c2f378b0",
            "placeholder": "​",
            "style": "IPY_MODEL_d1237a424dac43dc9e586a78859ed928",
            "value": "Downloading https://huggingface.co/stanfordnlp/stanza-tr/resolve/v1.10.0/models/default.zip: 100%"
          }
        },
        "94139cb9dee24ecea0b2eb7d339eb6ff": {
          "model_module": "@jupyter-widgets/controls",
          "model_name": "FloatProgressModel",
          "model_module_version": "1.5.0",
          "state": {
            "_dom_classes": [],
            "_model_module": "@jupyter-widgets/controls",
            "_model_module_version": "1.5.0",
            "_model_name": "FloatProgressModel",
            "_view_count": null,
            "_view_module": "@jupyter-widgets/controls",
            "_view_module_version": "1.5.0",
            "_view_name": "ProgressView",
            "bar_style": "success",
            "description": "",
            "description_tooltip": null,
            "layout": "IPY_MODEL_26fc20ac953c49cf8e0700cf4ee34c9a",
            "max": 338797365,
            "min": 0,
            "orientation": "horizontal",
            "style": "IPY_MODEL_7c116bdb509c4426b147e3fe75d233e1",
            "value": 338797365
          }
        },
        "6950c540bd0247b597ed323bd6da4842": {
          "model_module": "@jupyter-widgets/controls",
          "model_name": "HTMLModel",
          "model_module_version": "1.5.0",
          "state": {
            "_dom_classes": [],
            "_model_module": "@jupyter-widgets/controls",
            "_model_module_version": "1.5.0",
            "_model_name": "HTMLModel",
            "_view_count": null,
            "_view_module": "@jupyter-widgets/controls",
            "_view_module_version": "1.5.0",
            "_view_name": "HTMLView",
            "description": "",
            "description_tooltip": null,
            "layout": "IPY_MODEL_d688ab1f07cb4de9b83ab1ee67f9c001",
            "placeholder": "​",
            "style": "IPY_MODEL_d31dc4ca11d442379d997e685512af49",
            "value": " 339M/339M [00:02&lt;00:00, 173MB/s]"
          }
        },
        "05905e33e2fd4bfaba7caf0c0052d4aa": {
          "model_module": "@jupyter-widgets/base",
          "model_name": "LayoutModel",
          "model_module_version": "1.2.0",
          "state": {
            "_model_module": "@jupyter-widgets/base",
            "_model_module_version": "1.2.0",
            "_model_name": "LayoutModel",
            "_view_count": null,
            "_view_module": "@jupyter-widgets/base",
            "_view_module_version": "1.2.0",
            "_view_name": "LayoutView",
            "align_content": null,
            "align_items": null,
            "align_self": null,
            "border": null,
            "bottom": null,
            "display": null,
            "flex": null,
            "flex_flow": null,
            "grid_area": null,
            "grid_auto_columns": null,
            "grid_auto_flow": null,
            "grid_auto_rows": null,
            "grid_column": null,
            "grid_gap": null,
            "grid_row": null,
            "grid_template_areas": null,
            "grid_template_columns": null,
            "grid_template_rows": null,
            "height": null,
            "justify_content": null,
            "justify_items": null,
            "left": null,
            "margin": null,
            "max_height": null,
            "max_width": null,
            "min_height": null,
            "min_width": null,
            "object_fit": null,
            "object_position": null,
            "order": null,
            "overflow": null,
            "overflow_x": null,
            "overflow_y": null,
            "padding": null,
            "right": null,
            "top": null,
            "visibility": null,
            "width": null
          }
        },
        "72636503678947ce910d2319c2f378b0": {
          "model_module": "@jupyter-widgets/base",
          "model_name": "LayoutModel",
          "model_module_version": "1.2.0",
          "state": {
            "_model_module": "@jupyter-widgets/base",
            "_model_module_version": "1.2.0",
            "_model_name": "LayoutModel",
            "_view_count": null,
            "_view_module": "@jupyter-widgets/base",
            "_view_module_version": "1.2.0",
            "_view_name": "LayoutView",
            "align_content": null,
            "align_items": null,
            "align_self": null,
            "border": null,
            "bottom": null,
            "display": null,
            "flex": null,
            "flex_flow": null,
            "grid_area": null,
            "grid_auto_columns": null,
            "grid_auto_flow": null,
            "grid_auto_rows": null,
            "grid_column": null,
            "grid_gap": null,
            "grid_row": null,
            "grid_template_areas": null,
            "grid_template_columns": null,
            "grid_template_rows": null,
            "height": null,
            "justify_content": null,
            "justify_items": null,
            "left": null,
            "margin": null,
            "max_height": null,
            "max_width": null,
            "min_height": null,
            "min_width": null,
            "object_fit": null,
            "object_position": null,
            "order": null,
            "overflow": null,
            "overflow_x": null,
            "overflow_y": null,
            "padding": null,
            "right": null,
            "top": null,
            "visibility": null,
            "width": null
          }
        },
        "d1237a424dac43dc9e586a78859ed928": {
          "model_module": "@jupyter-widgets/controls",
          "model_name": "DescriptionStyleModel",
          "model_module_version": "1.5.0",
          "state": {
            "_model_module": "@jupyter-widgets/controls",
            "_model_module_version": "1.5.0",
            "_model_name": "DescriptionStyleModel",
            "_view_count": null,
            "_view_module": "@jupyter-widgets/base",
            "_view_module_version": "1.2.0",
            "_view_name": "StyleView",
            "description_width": ""
          }
        },
        "26fc20ac953c49cf8e0700cf4ee34c9a": {
          "model_module": "@jupyter-widgets/base",
          "model_name": "LayoutModel",
          "model_module_version": "1.2.0",
          "state": {
            "_model_module": "@jupyter-widgets/base",
            "_model_module_version": "1.2.0",
            "_model_name": "LayoutModel",
            "_view_count": null,
            "_view_module": "@jupyter-widgets/base",
            "_view_module_version": "1.2.0",
            "_view_name": "LayoutView",
            "align_content": null,
            "align_items": null,
            "align_self": null,
            "border": null,
            "bottom": null,
            "display": null,
            "flex": null,
            "flex_flow": null,
            "grid_area": null,
            "grid_auto_columns": null,
            "grid_auto_flow": null,
            "grid_auto_rows": null,
            "grid_column": null,
            "grid_gap": null,
            "grid_row": null,
            "grid_template_areas": null,
            "grid_template_columns": null,
            "grid_template_rows": null,
            "height": null,
            "justify_content": null,
            "justify_items": null,
            "left": null,
            "margin": null,
            "max_height": null,
            "max_width": null,
            "min_height": null,
            "min_width": null,
            "object_fit": null,
            "object_position": null,
            "order": null,
            "overflow": null,
            "overflow_x": null,
            "overflow_y": null,
            "padding": null,
            "right": null,
            "top": null,
            "visibility": null,
            "width": null
          }
        },
        "7c116bdb509c4426b147e3fe75d233e1": {
          "model_module": "@jupyter-widgets/controls",
          "model_name": "ProgressStyleModel",
          "model_module_version": "1.5.0",
          "state": {
            "_model_module": "@jupyter-widgets/controls",
            "_model_module_version": "1.5.0",
            "_model_name": "ProgressStyleModel",
            "_view_count": null,
            "_view_module": "@jupyter-widgets/base",
            "_view_module_version": "1.2.0",
            "_view_name": "StyleView",
            "bar_color": null,
            "description_width": ""
          }
        },
        "d688ab1f07cb4de9b83ab1ee67f9c001": {
          "model_module": "@jupyter-widgets/base",
          "model_name": "LayoutModel",
          "model_module_version": "1.2.0",
          "state": {
            "_model_module": "@jupyter-widgets/base",
            "_model_module_version": "1.2.0",
            "_model_name": "LayoutModel",
            "_view_count": null,
            "_view_module": "@jupyter-widgets/base",
            "_view_module_version": "1.2.0",
            "_view_name": "LayoutView",
            "align_content": null,
            "align_items": null,
            "align_self": null,
            "border": null,
            "bottom": null,
            "display": null,
            "flex": null,
            "flex_flow": null,
            "grid_area": null,
            "grid_auto_columns": null,
            "grid_auto_flow": null,
            "grid_auto_rows": null,
            "grid_column": null,
            "grid_gap": null,
            "grid_row": null,
            "grid_template_areas": null,
            "grid_template_columns": null,
            "grid_template_rows": null,
            "height": null,
            "justify_content": null,
            "justify_items": null,
            "left": null,
            "margin": null,
            "max_height": null,
            "max_width": null,
            "min_height": null,
            "min_width": null,
            "object_fit": null,
            "object_position": null,
            "order": null,
            "overflow": null,
            "overflow_x": null,
            "overflow_y": null,
            "padding": null,
            "right": null,
            "top": null,
            "visibility": null,
            "width": null
          }
        },
        "d31dc4ca11d442379d997e685512af49": {
          "model_module": "@jupyter-widgets/controls",
          "model_name": "DescriptionStyleModel",
          "model_module_version": "1.5.0",
          "state": {
            "_model_module": "@jupyter-widgets/controls",
            "_model_module_version": "1.5.0",
            "_model_name": "DescriptionStyleModel",
            "_view_count": null,
            "_view_module": "@jupyter-widgets/base",
            "_view_module_version": "1.2.0",
            "_view_name": "StyleView",
            "description_width": ""
          }
        },
        "0c706cb3752144a28ef7ed33f8568f3e": {
          "model_module": "@jupyter-widgets/controls",
          "model_name": "HBoxModel",
          "model_module_version": "1.5.0",
          "state": {
            "_dom_classes": [],
            "_model_module": "@jupyter-widgets/controls",
            "_model_module_version": "1.5.0",
            "_model_name": "HBoxModel",
            "_view_count": null,
            "_view_module": "@jupyter-widgets/controls",
            "_view_module_version": "1.5.0",
            "_view_name": "HBoxView",
            "box_style": "",
            "children": [
              "IPY_MODEL_a14da9193859400e909c67a5c76c6640",
              "IPY_MODEL_c9e18153ad1b4406bde35d6df1cb5def",
              "IPY_MODEL_032fab84d47e4f869674f8d2368197d3"
            ],
            "layout": "IPY_MODEL_1ff52a1a96a045a480a759a949e9116e"
          }
        },
        "a14da9193859400e909c67a5c76c6640": {
          "model_module": "@jupyter-widgets/controls",
          "model_name": "HTMLModel",
          "model_module_version": "1.5.0",
          "state": {
            "_dom_classes": [],
            "_model_module": "@jupyter-widgets/controls",
            "_model_module_version": "1.5.0",
            "_model_name": "HTMLModel",
            "_view_count": null,
            "_view_module": "@jupyter-widgets/controls",
            "_view_module_version": "1.5.0",
            "_view_name": "HTMLView",
            "description": "",
            "description_tooltip": null,
            "layout": "IPY_MODEL_de78abca1c9f456d84f6de9c4c64a973",
            "placeholder": "​",
            "style": "IPY_MODEL_309b3c5bba9149c1ae54f3f504e15f70",
            "value": "Downloading https://raw.githubusercontent.com/stanfordnlp/stanza-resources/main/resources_1.10.0.json: "
          }
        },
        "c9e18153ad1b4406bde35d6df1cb5def": {
          "model_module": "@jupyter-widgets/controls",
          "model_name": "FloatProgressModel",
          "model_module_version": "1.5.0",
          "state": {
            "_dom_classes": [],
            "_model_module": "@jupyter-widgets/controls",
            "_model_module_version": "1.5.0",
            "_model_name": "FloatProgressModel",
            "_view_count": null,
            "_view_module": "@jupyter-widgets/controls",
            "_view_module_version": "1.5.0",
            "_view_name": "ProgressView",
            "bar_style": "success",
            "description": "",
            "description_tooltip": null,
            "layout": "IPY_MODEL_5e06ca169e2d492695422538055580f9",
            "max": 52557,
            "min": 0,
            "orientation": "horizontal",
            "style": "IPY_MODEL_84814a72256e4381b8143d8c465ed7d3",
            "value": 52557
          }
        },
        "032fab84d47e4f869674f8d2368197d3": {
          "model_module": "@jupyter-widgets/controls",
          "model_name": "HTMLModel",
          "model_module_version": "1.5.0",
          "state": {
            "_dom_classes": [],
            "_model_module": "@jupyter-widgets/controls",
            "_model_module_version": "1.5.0",
            "_model_name": "HTMLModel",
            "_view_count": null,
            "_view_module": "@jupyter-widgets/controls",
            "_view_module_version": "1.5.0",
            "_view_name": "HTMLView",
            "description": "",
            "description_tooltip": null,
            "layout": "IPY_MODEL_05350b4f68de4fc5b1ce8f52a3ef0bf2",
            "placeholder": "​",
            "style": "IPY_MODEL_496e773f2f1e473cb15dd1eef08fc770",
            "value": " 424k/? [00:00&lt;00:00, 17.9MB/s]"
          }
        },
        "1ff52a1a96a045a480a759a949e9116e": {
          "model_module": "@jupyter-widgets/base",
          "model_name": "LayoutModel",
          "model_module_version": "1.2.0",
          "state": {
            "_model_module": "@jupyter-widgets/base",
            "_model_module_version": "1.2.0",
            "_model_name": "LayoutModel",
            "_view_count": null,
            "_view_module": "@jupyter-widgets/base",
            "_view_module_version": "1.2.0",
            "_view_name": "LayoutView",
            "align_content": null,
            "align_items": null,
            "align_self": null,
            "border": null,
            "bottom": null,
            "display": null,
            "flex": null,
            "flex_flow": null,
            "grid_area": null,
            "grid_auto_columns": null,
            "grid_auto_flow": null,
            "grid_auto_rows": null,
            "grid_column": null,
            "grid_gap": null,
            "grid_row": null,
            "grid_template_areas": null,
            "grid_template_columns": null,
            "grid_template_rows": null,
            "height": null,
            "justify_content": null,
            "justify_items": null,
            "left": null,
            "margin": null,
            "max_height": null,
            "max_width": null,
            "min_height": null,
            "min_width": null,
            "object_fit": null,
            "object_position": null,
            "order": null,
            "overflow": null,
            "overflow_x": null,
            "overflow_y": null,
            "padding": null,
            "right": null,
            "top": null,
            "visibility": null,
            "width": null
          }
        },
        "de78abca1c9f456d84f6de9c4c64a973": {
          "model_module": "@jupyter-widgets/base",
          "model_name": "LayoutModel",
          "model_module_version": "1.2.0",
          "state": {
            "_model_module": "@jupyter-widgets/base",
            "_model_module_version": "1.2.0",
            "_model_name": "LayoutModel",
            "_view_count": null,
            "_view_module": "@jupyter-widgets/base",
            "_view_module_version": "1.2.0",
            "_view_name": "LayoutView",
            "align_content": null,
            "align_items": null,
            "align_self": null,
            "border": null,
            "bottom": null,
            "display": null,
            "flex": null,
            "flex_flow": null,
            "grid_area": null,
            "grid_auto_columns": null,
            "grid_auto_flow": null,
            "grid_auto_rows": null,
            "grid_column": null,
            "grid_gap": null,
            "grid_row": null,
            "grid_template_areas": null,
            "grid_template_columns": null,
            "grid_template_rows": null,
            "height": null,
            "justify_content": null,
            "justify_items": null,
            "left": null,
            "margin": null,
            "max_height": null,
            "max_width": null,
            "min_height": null,
            "min_width": null,
            "object_fit": null,
            "object_position": null,
            "order": null,
            "overflow": null,
            "overflow_x": null,
            "overflow_y": null,
            "padding": null,
            "right": null,
            "top": null,
            "visibility": null,
            "width": null
          }
        },
        "309b3c5bba9149c1ae54f3f504e15f70": {
          "model_module": "@jupyter-widgets/controls",
          "model_name": "DescriptionStyleModel",
          "model_module_version": "1.5.0",
          "state": {
            "_model_module": "@jupyter-widgets/controls",
            "_model_module_version": "1.5.0",
            "_model_name": "DescriptionStyleModel",
            "_view_count": null,
            "_view_module": "@jupyter-widgets/base",
            "_view_module_version": "1.2.0",
            "_view_name": "StyleView",
            "description_width": ""
          }
        },
        "5e06ca169e2d492695422538055580f9": {
          "model_module": "@jupyter-widgets/base",
          "model_name": "LayoutModel",
          "model_module_version": "1.2.0",
          "state": {
            "_model_module": "@jupyter-widgets/base",
            "_model_module_version": "1.2.0",
            "_model_name": "LayoutModel",
            "_view_count": null,
            "_view_module": "@jupyter-widgets/base",
            "_view_module_version": "1.2.0",
            "_view_name": "LayoutView",
            "align_content": null,
            "align_items": null,
            "align_self": null,
            "border": null,
            "bottom": null,
            "display": null,
            "flex": null,
            "flex_flow": null,
            "grid_area": null,
            "grid_auto_columns": null,
            "grid_auto_flow": null,
            "grid_auto_rows": null,
            "grid_column": null,
            "grid_gap": null,
            "grid_row": null,
            "grid_template_areas": null,
            "grid_template_columns": null,
            "grid_template_rows": null,
            "height": null,
            "justify_content": null,
            "justify_items": null,
            "left": null,
            "margin": null,
            "max_height": null,
            "max_width": null,
            "min_height": null,
            "min_width": null,
            "object_fit": null,
            "object_position": null,
            "order": null,
            "overflow": null,
            "overflow_x": null,
            "overflow_y": null,
            "padding": null,
            "right": null,
            "top": null,
            "visibility": null,
            "width": null
          }
        },
        "84814a72256e4381b8143d8c465ed7d3": {
          "model_module": "@jupyter-widgets/controls",
          "model_name": "ProgressStyleModel",
          "model_module_version": "1.5.0",
          "state": {
            "_model_module": "@jupyter-widgets/controls",
            "_model_module_version": "1.5.0",
            "_model_name": "ProgressStyleModel",
            "_view_count": null,
            "_view_module": "@jupyter-widgets/base",
            "_view_module_version": "1.2.0",
            "_view_name": "StyleView",
            "bar_color": null,
            "description_width": ""
          }
        },
        "05350b4f68de4fc5b1ce8f52a3ef0bf2": {
          "model_module": "@jupyter-widgets/base",
          "model_name": "LayoutModel",
          "model_module_version": "1.2.0",
          "state": {
            "_model_module": "@jupyter-widgets/base",
            "_model_module_version": "1.2.0",
            "_model_name": "LayoutModel",
            "_view_count": null,
            "_view_module": "@jupyter-widgets/base",
            "_view_module_version": "1.2.0",
            "_view_name": "LayoutView",
            "align_content": null,
            "align_items": null,
            "align_self": null,
            "border": null,
            "bottom": null,
            "display": null,
            "flex": null,
            "flex_flow": null,
            "grid_area": null,
            "grid_auto_columns": null,
            "grid_auto_flow": null,
            "grid_auto_rows": null,
            "grid_column": null,
            "grid_gap": null,
            "grid_row": null,
            "grid_template_areas": null,
            "grid_template_columns": null,
            "grid_template_rows": null,
            "height": null,
            "justify_content": null,
            "justify_items": null,
            "left": null,
            "margin": null,
            "max_height": null,
            "max_width": null,
            "min_height": null,
            "min_width": null,
            "object_fit": null,
            "object_position": null,
            "order": null,
            "overflow": null,
            "overflow_x": null,
            "overflow_y": null,
            "padding": null,
            "right": null,
            "top": null,
            "visibility": null,
            "width": null
          }
        },
        "496e773f2f1e473cb15dd1eef08fc770": {
          "model_module": "@jupyter-widgets/controls",
          "model_name": "DescriptionStyleModel",
          "model_module_version": "1.5.0",
          "state": {
            "_model_module": "@jupyter-widgets/controls",
            "_model_module_version": "1.5.0",
            "_model_name": "DescriptionStyleModel",
            "_view_count": null,
            "_view_module": "@jupyter-widgets/base",
            "_view_module_version": "1.2.0",
            "_view_name": "StyleView",
            "description_width": ""
          }
        }
      }
    }
  },
  "cells": [
    {
      "cell_type": "markdown",
      "metadata": {
        "id": "view-in-github",
        "colab_type": "text"
      },
      "source": [
        "<a href=\"https://colab.research.google.com/github/Ahmetyldrr/NLP-Processing-Pratices/blob/main/Part2_Advanced_NLP_Models.ipynb\" target=\"_parent\"><img src=\"https://colab.research.google.com/assets/colab-badge.svg\" alt=\"Open In Colab\"/></a>"
      ]
    },
    {
      "cell_type": "code",
      "execution_count": null,
      "metadata": {
        "id": "XKBDMJfHQ_VN"
      },
      "outputs": [],
      "source": []
    },
    {
      "cell_type": "markdown",
      "source": [
        "# **Chapter 4: Language Modeling**"
      ],
      "metadata": {
        "id": "83Nlb5cZRUtk"
      }
    },
    {
      "cell_type": "markdown",
      "source": [
        "## **4.1 N-grams**"
      ],
      "metadata": {
        "id": "vVtXoaXURZJw"
      }
    },
    {
      "cell_type": "markdown",
      "source": [
        "Metin oluşturmasında önemlidir."
      ],
      "metadata": {
        "id": "h_Br9cgPRpF_"
      }
    },
    {
      "cell_type": "markdown",
      "source": [
        " Tutarlı ve bağlamsal olarak uygun cümlelerin oluşturulmasını sağlarlar"
      ],
      "metadata": {
        "id": "De9BtH-zRu5n"
      }
    },
    {
      "cell_type": "markdown",
      "source": [
        "Bitişik kelime dizilerinin sağladığı bağlamı dikkate alarak metnin bir dilden diğerine doğru şekilde çevrilmesine yardımcı olurlar"
      ],
      "metadata": {
        "id": "NrDSeUcORz4o"
      }
    },
    {
      "cell_type": "markdown",
      "source": [
        "**Unigram (1-gram): \"Doğal\"**\n",
        "\n",
        "Örneğin, unigramlar bireysel kelime sıklıklarını yakalayarak bir metindeki en yaygın kelimelere dair içgörü sağlar.\n",
        "\n",
        "Öte yandan bigramlar, bitişik kelime çiftleri arasındaki ilişkileri yakalayarak ortak kelime kombinasyonlarını ortaya çıkarır.\n",
        "\n",
        "**Bigram (2-gram): \"Doğal Dil\"**\n",
        "\n",
        "**Trigram (3-gram): \"Doğal Dil İşleme\"**\n",
        "\n",
        "Trigramlar ve daha yüksek dereceli N-gramlar daha da karmaşık ilişkileri yakalayarak üç veya daha fazla kelimeden oluşan dizilerin bağlamda nasıl birlikte kullanıldığını gösterir."
      ],
      "metadata": {
        "id": "_o9paB8vR6z7"
      }
    },
    {
      "cell_type": "markdown",
      "source": [
        "N-gramların kullanımı, metin tahmini, makine çevirisi ve konuşma tanıma gibi çeşitli uygulamalarda hayati öneme sahiptir"
      ],
      "metadata": {
        "id": "pxJY2wbYSN8K"
      }
    },
    {
      "cell_type": "markdown",
      "source": [
        "N-gramları analiz ederek, metnin sözdizimsel ve anlamsal özellikleri daha iyi anlaşılabilir; bu da daha doğru ve etkili dil modelleri oluşturmak için önemlidir. Bu nedenle, N-gramları anlamak ve kullanmak, NLP görevlerinin performansını önemli ölçüde artırabilir."
      ],
      "metadata": {
        "id": "dJCpWUt_UZ6V"
      }
    },
    {
      "cell_type": "code",
      "source": [
        "from nltk import ngrams\n",
        "from collections import Counter\n",
        "import nltk\n",
        "nltk.download('all')\n",
        "z"
      ],
      "metadata": {
        "colab": {
          "base_uri": "https://localhost:8080/"
        },
        "collapsed": true,
        "id": "_KiAkl2_Ucpe",
        "outputId": "1c9b9ccc-6563-422a-8dad-dad6ffe83247"
      },
      "execution_count": null,
      "outputs": [
        {
          "output_type": "stream",
          "name": "stderr",
          "text": [
            "[nltk_data] Downloading collection 'all'\n",
            "[nltk_data]    | \n",
            "[nltk_data]    | Downloading package abc to /root/nltk_data...\n",
            "[nltk_data]    |   Unzipping corpora/abc.zip.\n",
            "[nltk_data]    | Downloading package alpino to /root/nltk_data...\n",
            "[nltk_data]    |   Unzipping corpora/alpino.zip.\n",
            "[nltk_data]    | Downloading package averaged_perceptron_tagger to\n",
            "[nltk_data]    |     /root/nltk_data...\n",
            "[nltk_data]    |   Unzipping taggers/averaged_perceptron_tagger.zip.\n",
            "[nltk_data]    | Downloading package averaged_perceptron_tagger_eng to\n",
            "[nltk_data]    |     /root/nltk_data...\n",
            "[nltk_data]    |   Unzipping\n",
            "[nltk_data]    |       taggers/averaged_perceptron_tagger_eng.zip.\n",
            "[nltk_data]    | Downloading package averaged_perceptron_tagger_ru to\n",
            "[nltk_data]    |     /root/nltk_data...\n",
            "[nltk_data]    |   Unzipping\n",
            "[nltk_data]    |       taggers/averaged_perceptron_tagger_ru.zip.\n",
            "[nltk_data]    | Downloading package averaged_perceptron_tagger_rus to\n",
            "[nltk_data]    |     /root/nltk_data...\n",
            "[nltk_data]    |   Unzipping\n",
            "[nltk_data]    |       taggers/averaged_perceptron_tagger_rus.zip.\n",
            "[nltk_data]    | Downloading package basque_grammars to\n",
            "[nltk_data]    |     /root/nltk_data...\n",
            "[nltk_data]    |   Unzipping grammars/basque_grammars.zip.\n",
            "[nltk_data]    | Downloading package bcp47 to /root/nltk_data...\n",
            "[nltk_data]    | Downloading package biocreative_ppi to\n",
            "[nltk_data]    |     /root/nltk_data...\n",
            "[nltk_data]    |   Unzipping corpora/biocreative_ppi.zip.\n",
            "[nltk_data]    | Downloading package bllip_wsj_no_aux to\n",
            "[nltk_data]    |     /root/nltk_data...\n",
            "[nltk_data]    |   Unzipping models/bllip_wsj_no_aux.zip.\n",
            "[nltk_data]    | Downloading package book_grammars to\n",
            "[nltk_data]    |     /root/nltk_data...\n",
            "[nltk_data]    |   Unzipping grammars/book_grammars.zip.\n",
            "[nltk_data]    | Downloading package brown to /root/nltk_data...\n",
            "[nltk_data]    |   Unzipping corpora/brown.zip.\n",
            "[nltk_data]    | Downloading package brown_tei to /root/nltk_data...\n",
            "[nltk_data]    |   Unzipping corpora/brown_tei.zip.\n",
            "[nltk_data]    | Downloading package cess_cat to /root/nltk_data...\n",
            "[nltk_data]    |   Unzipping corpora/cess_cat.zip.\n",
            "[nltk_data]    | Downloading package cess_esp to /root/nltk_data...\n",
            "[nltk_data]    |   Unzipping corpora/cess_esp.zip.\n",
            "[nltk_data]    | Downloading package chat80 to /root/nltk_data...\n",
            "[nltk_data]    |   Unzipping corpora/chat80.zip.\n",
            "[nltk_data]    | Downloading package city_database to\n",
            "[nltk_data]    |     /root/nltk_data...\n",
            "[nltk_data]    |   Unzipping corpora/city_database.zip.\n",
            "[nltk_data]    | Downloading package cmudict to /root/nltk_data...\n",
            "[nltk_data]    |   Unzipping corpora/cmudict.zip.\n",
            "[nltk_data]    | Downloading package comparative_sentences to\n",
            "[nltk_data]    |     /root/nltk_data...\n",
            "[nltk_data]    |   Unzipping corpora/comparative_sentences.zip.\n",
            "[nltk_data]    | Downloading package comtrans to /root/nltk_data...\n",
            "[nltk_data]    | Downloading package conll2000 to /root/nltk_data...\n",
            "[nltk_data]    |   Unzipping corpora/conll2000.zip.\n",
            "[nltk_data]    | Downloading package conll2002 to /root/nltk_data...\n",
            "[nltk_data]    |   Unzipping corpora/conll2002.zip.\n",
            "[nltk_data]    | Downloading package conll2007 to /root/nltk_data...\n",
            "[nltk_data]    | Downloading package crubadan to /root/nltk_data...\n",
            "[nltk_data]    |   Unzipping corpora/crubadan.zip.\n",
            "[nltk_data]    | Downloading package dependency_treebank to\n",
            "[nltk_data]    |     /root/nltk_data...\n",
            "[nltk_data]    |   Unzipping corpora/dependency_treebank.zip.\n",
            "[nltk_data]    | Downloading package dolch to /root/nltk_data...\n",
            "[nltk_data]    |   Unzipping corpora/dolch.zip.\n",
            "[nltk_data]    | Downloading package europarl_raw to\n",
            "[nltk_data]    |     /root/nltk_data...\n",
            "[nltk_data]    |   Unzipping corpora/europarl_raw.zip.\n",
            "[nltk_data]    | Downloading package extended_omw to\n",
            "[nltk_data]    |     /root/nltk_data...\n",
            "[nltk_data]    | Downloading package floresta to /root/nltk_data...\n",
            "[nltk_data]    |   Unzipping corpora/floresta.zip.\n",
            "[nltk_data]    | Downloading package framenet_v15 to\n",
            "[nltk_data]    |     /root/nltk_data...\n",
            "[nltk_data]    |   Unzipping corpora/framenet_v15.zip.\n",
            "[nltk_data]    | Downloading package framenet_v17 to\n",
            "[nltk_data]    |     /root/nltk_data...\n",
            "[nltk_data]    |   Unzipping corpora/framenet_v17.zip.\n",
            "[nltk_data]    | Downloading package gazetteers to /root/nltk_data...\n",
            "[nltk_data]    |   Unzipping corpora/gazetteers.zip.\n",
            "[nltk_data]    | Downloading package genesis to /root/nltk_data...\n",
            "[nltk_data]    |   Unzipping corpora/genesis.zip.\n",
            "[nltk_data]    | Downloading package gutenberg to /root/nltk_data...\n",
            "[nltk_data]    |   Unzipping corpora/gutenberg.zip.\n",
            "[nltk_data]    | Downloading package ieer to /root/nltk_data...\n",
            "[nltk_data]    |   Unzipping corpora/ieer.zip.\n",
            "[nltk_data]    | Downloading package inaugural to /root/nltk_data...\n",
            "[nltk_data]    |   Unzipping corpora/inaugural.zip.\n",
            "[nltk_data]    | Downloading package indian to /root/nltk_data...\n",
            "[nltk_data]    |   Unzipping corpora/indian.zip.\n",
            "[nltk_data]    | Downloading package jeita to /root/nltk_data...\n",
            "[nltk_data]    | Downloading package kimmo to /root/nltk_data...\n",
            "[nltk_data]    |   Unzipping corpora/kimmo.zip.\n",
            "[nltk_data]    | Downloading package knbc to /root/nltk_data...\n",
            "[nltk_data]    | Downloading package large_grammars to\n",
            "[nltk_data]    |     /root/nltk_data...\n",
            "[nltk_data]    |   Unzipping grammars/large_grammars.zip.\n",
            "[nltk_data]    | Downloading package lin_thesaurus to\n",
            "[nltk_data]    |     /root/nltk_data...\n",
            "[nltk_data]    |   Unzipping corpora/lin_thesaurus.zip.\n",
            "[nltk_data]    | Downloading package mac_morpho to /root/nltk_data...\n",
            "[nltk_data]    |   Unzipping corpora/mac_morpho.zip.\n",
            "[nltk_data]    | Downloading package machado to /root/nltk_data...\n",
            "[nltk_data]    | Downloading package masc_tagged to /root/nltk_data...\n",
            "[nltk_data]    | Downloading package maxent_ne_chunker to\n",
            "[nltk_data]    |     /root/nltk_data...\n",
            "[nltk_data]    |   Unzipping chunkers/maxent_ne_chunker.zip.\n",
            "[nltk_data]    | Downloading package maxent_ne_chunker_tab to\n",
            "[nltk_data]    |     /root/nltk_data...\n",
            "[nltk_data]    |   Unzipping chunkers/maxent_ne_chunker_tab.zip.\n",
            "[nltk_data]    | Downloading package maxent_treebank_pos_tagger to\n",
            "[nltk_data]    |     /root/nltk_data...\n",
            "[nltk_data]    |   Unzipping taggers/maxent_treebank_pos_tagger.zip.\n",
            "[nltk_data]    | Downloading package maxent_treebank_pos_tagger_tab to\n",
            "[nltk_data]    |     /root/nltk_data...\n",
            "[nltk_data]    |   Unzipping\n",
            "[nltk_data]    |       taggers/maxent_treebank_pos_tagger_tab.zip.\n",
            "[nltk_data]    | Downloading package moses_sample to\n",
            "[nltk_data]    |     /root/nltk_data...\n",
            "[nltk_data]    |   Unzipping models/moses_sample.zip.\n",
            "[nltk_data]    | Downloading package movie_reviews to\n",
            "[nltk_data]    |     /root/nltk_data...\n",
            "[nltk_data]    |   Unzipping corpora/movie_reviews.zip.\n",
            "[nltk_data]    | Downloading package mte_teip5 to /root/nltk_data...\n",
            "[nltk_data]    |   Unzipping corpora/mte_teip5.zip.\n",
            "[nltk_data]    | Downloading package mwa_ppdb to /root/nltk_data...\n",
            "[nltk_data]    |   Unzipping misc/mwa_ppdb.zip.\n",
            "[nltk_data]    | Downloading package names to /root/nltk_data...\n",
            "[nltk_data]    |   Unzipping corpora/names.zip.\n",
            "[nltk_data]    | Downloading package nombank.1.0 to /root/nltk_data...\n",
            "[nltk_data]    | Downloading package nonbreaking_prefixes to\n",
            "[nltk_data]    |     /root/nltk_data...\n",
            "[nltk_data]    |   Unzipping corpora/nonbreaking_prefixes.zip.\n",
            "[nltk_data]    | Downloading package nps_chat to /root/nltk_data...\n",
            "[nltk_data]    |   Unzipping corpora/nps_chat.zip.\n",
            "[nltk_data]    | Downloading package omw to /root/nltk_data...\n",
            "[nltk_data]    | Downloading package omw-1.4 to /root/nltk_data...\n",
            "[nltk_data]    | Downloading package opinion_lexicon to\n",
            "[nltk_data]    |     /root/nltk_data...\n",
            "[nltk_data]    |   Unzipping corpora/opinion_lexicon.zip.\n",
            "[nltk_data]    | Downloading package panlex_swadesh to\n",
            "[nltk_data]    |     /root/nltk_data...\n",
            "[nltk_data]    | Downloading package paradigms to /root/nltk_data...\n",
            "[nltk_data]    |   Unzipping corpora/paradigms.zip.\n",
            "[nltk_data]    | Downloading package pe08 to /root/nltk_data...\n",
            "[nltk_data]    |   Unzipping corpora/pe08.zip.\n",
            "[nltk_data]    | Downloading package perluniprops to\n",
            "[nltk_data]    |     /root/nltk_data...\n",
            "[nltk_data]    |   Unzipping misc/perluniprops.zip.\n",
            "[nltk_data]    | Downloading package pil to /root/nltk_data...\n",
            "[nltk_data]    |   Unzipping corpora/pil.zip.\n",
            "[nltk_data]    | Downloading package pl196x to /root/nltk_data...\n",
            "[nltk_data]    |   Unzipping corpora/pl196x.zip.\n",
            "[nltk_data]    | Downloading package porter_test to /root/nltk_data...\n",
            "[nltk_data]    |   Unzipping stemmers/porter_test.zip.\n",
            "[nltk_data]    | Downloading package ppattach to /root/nltk_data...\n",
            "[nltk_data]    |   Unzipping corpora/ppattach.zip.\n",
            "[nltk_data]    | Downloading package problem_reports to\n",
            "[nltk_data]    |     /root/nltk_data...\n",
            "[nltk_data]    |   Unzipping corpora/problem_reports.zip.\n",
            "[nltk_data]    | Downloading package product_reviews_1 to\n",
            "[nltk_data]    |     /root/nltk_data...\n",
            "[nltk_data]    |   Unzipping corpora/product_reviews_1.zip.\n",
            "[nltk_data]    | Downloading package product_reviews_2 to\n",
            "[nltk_data]    |     /root/nltk_data...\n",
            "[nltk_data]    |   Unzipping corpora/product_reviews_2.zip.\n",
            "[nltk_data]    | Downloading package propbank to /root/nltk_data...\n",
            "[nltk_data]    | Downloading package pros_cons to /root/nltk_data...\n",
            "[nltk_data]    |   Unzipping corpora/pros_cons.zip.\n",
            "[nltk_data]    | Downloading package ptb to /root/nltk_data...\n",
            "[nltk_data]    |   Unzipping corpora/ptb.zip.\n",
            "[nltk_data]    | Downloading package punkt to /root/nltk_data...\n",
            "[nltk_data]    |   Package punkt is already up-to-date!\n",
            "[nltk_data]    | Downloading package punkt_tab to /root/nltk_data...\n",
            "[nltk_data]    |   Unzipping tokenizers/punkt_tab.zip.\n",
            "[nltk_data]    | Downloading package qc to /root/nltk_data...\n",
            "[nltk_data]    |   Unzipping corpora/qc.zip.\n",
            "[nltk_data]    | Downloading package reuters to /root/nltk_data...\n",
            "[nltk_data]    | Downloading package rslp to /root/nltk_data...\n",
            "[nltk_data]    |   Unzipping stemmers/rslp.zip.\n",
            "[nltk_data]    | Downloading package rte to /root/nltk_data...\n",
            "[nltk_data]    |   Unzipping corpora/rte.zip.\n",
            "[nltk_data]    | Downloading package sample_grammars to\n",
            "[nltk_data]    |     /root/nltk_data...\n",
            "[nltk_data]    |   Unzipping grammars/sample_grammars.zip.\n",
            "[nltk_data]    | Downloading package semcor to /root/nltk_data...\n",
            "[nltk_data]    | Downloading package senseval to /root/nltk_data...\n",
            "[nltk_data]    |   Unzipping corpora/senseval.zip.\n",
            "[nltk_data]    | Downloading package sentence_polarity to\n",
            "[nltk_data]    |     /root/nltk_data...\n",
            "[nltk_data]    |   Unzipping corpora/sentence_polarity.zip.\n",
            "[nltk_data]    | Downloading package sentiwordnet to\n",
            "[nltk_data]    |     /root/nltk_data...\n",
            "[nltk_data]    |   Unzipping corpora/sentiwordnet.zip.\n",
            "[nltk_data]    | Downloading package shakespeare to /root/nltk_data...\n",
            "[nltk_data]    |   Unzipping corpora/shakespeare.zip.\n",
            "[nltk_data]    | Downloading package sinica_treebank to\n",
            "[nltk_data]    |     /root/nltk_data...\n",
            "[nltk_data]    |   Unzipping corpora/sinica_treebank.zip.\n",
            "[nltk_data]    | Downloading package smultron to /root/nltk_data...\n",
            "[nltk_data]    |   Unzipping corpora/smultron.zip.\n",
            "[nltk_data]    | Downloading package snowball_data to\n",
            "[nltk_data]    |     /root/nltk_data...\n",
            "[nltk_data]    | Downloading package spanish_grammars to\n",
            "[nltk_data]    |     /root/nltk_data...\n",
            "[nltk_data]    |   Unzipping grammars/spanish_grammars.zip.\n",
            "[nltk_data]    | Downloading package state_union to /root/nltk_data...\n",
            "[nltk_data]    |   Unzipping corpora/state_union.zip.\n",
            "[nltk_data]    | Downloading package stopwords to /root/nltk_data...\n",
            "[nltk_data]    |   Unzipping corpora/stopwords.zip.\n",
            "[nltk_data]    | Downloading package subjectivity to\n",
            "[nltk_data]    |     /root/nltk_data...\n",
            "[nltk_data]    |   Unzipping corpora/subjectivity.zip.\n",
            "[nltk_data]    | Downloading package swadesh to /root/nltk_data...\n",
            "[nltk_data]    |   Unzipping corpora/swadesh.zip.\n",
            "[nltk_data]    | Downloading package switchboard to /root/nltk_data...\n",
            "[nltk_data]    |   Unzipping corpora/switchboard.zip.\n",
            "[nltk_data]    | Downloading package tagsets to /root/nltk_data...\n",
            "[nltk_data]    |   Unzipping help/tagsets.zip.\n",
            "[nltk_data]    | Downloading package tagsets_json to\n",
            "[nltk_data]    |     /root/nltk_data...\n",
            "[nltk_data]    |   Unzipping help/tagsets_json.zip.\n",
            "[nltk_data]    | Downloading package timit to /root/nltk_data...\n",
            "[nltk_data]    |   Unzipping corpora/timit.zip.\n",
            "[nltk_data]    | Downloading package toolbox to /root/nltk_data...\n",
            "[nltk_data]    |   Unzipping corpora/toolbox.zip.\n",
            "[nltk_data]    | Downloading package treebank to /root/nltk_data...\n",
            "[nltk_data]    |   Unzipping corpora/treebank.zip.\n",
            "[nltk_data]    | Downloading package twitter_samples to\n",
            "[nltk_data]    |     /root/nltk_data...\n",
            "[nltk_data]    |   Unzipping corpora/twitter_samples.zip.\n",
            "[nltk_data]    | Downloading package udhr to /root/nltk_data...\n",
            "[nltk_data]    |   Unzipping corpora/udhr.zip.\n",
            "[nltk_data]    | Downloading package udhr2 to /root/nltk_data...\n",
            "[nltk_data]    |   Unzipping corpora/udhr2.zip.\n",
            "[nltk_data]    | Downloading package unicode_samples to\n",
            "[nltk_data]    |     /root/nltk_data...\n",
            "[nltk_data]    |   Unzipping corpora/unicode_samples.zip.\n",
            "[nltk_data]    | Downloading package universal_tagset to\n",
            "[nltk_data]    |     /root/nltk_data...\n",
            "[nltk_data]    |   Unzipping taggers/universal_tagset.zip.\n",
            "[nltk_data]    | Downloading package universal_treebanks_v20 to\n",
            "[nltk_data]    |     /root/nltk_data...\n",
            "[nltk_data]    | Downloading package vader_lexicon to\n",
            "[nltk_data]    |     /root/nltk_data...\n",
            "[nltk_data]    | Downloading package verbnet to /root/nltk_data...\n",
            "[nltk_data]    |   Unzipping corpora/verbnet.zip.\n",
            "[nltk_data]    | Downloading package verbnet3 to /root/nltk_data...\n",
            "[nltk_data]    |   Unzipping corpora/verbnet3.zip.\n",
            "[nltk_data]    | Downloading package webtext to /root/nltk_data...\n",
            "[nltk_data]    |   Unzipping corpora/webtext.zip.\n",
            "[nltk_data]    | Downloading package wmt15_eval to /root/nltk_data...\n",
            "[nltk_data]    |   Unzipping models/wmt15_eval.zip.\n",
            "[nltk_data]    | Downloading package word2vec_sample to\n",
            "[nltk_data]    |     /root/nltk_data...\n",
            "[nltk_data]    |   Unzipping models/word2vec_sample.zip.\n",
            "[nltk_data]    | Downloading package wordnet to /root/nltk_data...\n",
            "[nltk_data]    | Downloading package wordnet2021 to /root/nltk_data...\n",
            "[nltk_data]    | Downloading package wordnet2022 to /root/nltk_data...\n",
            "[nltk_data]    |   Unzipping corpora/wordnet2022.zip.\n",
            "[nltk_data]    | Downloading package wordnet31 to /root/nltk_data...\n",
            "[nltk_data]    | Downloading package wordnet_ic to /root/nltk_data...\n",
            "[nltk_data]    |   Unzipping corpora/wordnet_ic.zip.\n",
            "[nltk_data]    | Downloading package words to /root/nltk_data...\n",
            "[nltk_data]    |   Unzipping corpora/words.zip.\n",
            "[nltk_data]    | Downloading package ycoe to /root/nltk_data...\n"
          ]
        },
        {
          "output_type": "stream",
          "name": "stdout",
          "text": [
            "Unigrams:\n",
            "['Natural', 'Language', 'Processing', 'is', 'a', 'fascinating', 'field', 'of', 'study', '.']\n",
            "\\\\nBigrams:\n",
            "['Natural Language', 'Language Processing', 'Processing is', 'is a', 'a fascinating', 'fascinating field', 'field of', 'of study', 'study .']\n",
            "\\\\nTrigrams:\n",
            "['Natural Language Processing', 'Language Processing is', 'Processing is a', 'is a fascinating', 'a fascinating field', 'fascinating field of', 'field of study', 'of study .']\n"
          ]
        },
        {
          "output_type": "stream",
          "name": "stderr",
          "text": [
            "[nltk_data]    |   Unzipping corpora/ycoe.zip.\n",
            "[nltk_data]    | \n",
            "[nltk_data]  Done downloading collection all\n"
          ]
        }
      ]
    },
    {
      "cell_type": "code",
      "source": [
        "\n",
        "# Sample text\n",
        "text = \"Natural Language Processing is a fascinating field of study.\"\n",
        "\n",
        "# Tokenize the text into words\n",
        "tokens = nltk.word_tokenize(text)\n",
        "# Function to generate N-grams\n",
        "def generate_ngrams(tokens, n):\n",
        "    n_grams = ngrams(tokens, n)\n",
        "    return [' '.join(grams) for grams in n_grams]\n",
        "    # Generate unigrams, bigrams, and trigrams\n",
        "unigrams = generate_ngrams(tokens, 1)\n",
        "bigrams = generate_ngrams(tokens, 2)\n",
        "trigrams = generate_ngrams(tokens, 3)\n",
        "\n",
        "print(\"Unigrams:\")\n",
        "print(unigrams)\n",
        "print(\"\\\\\\\\nBigrams:\")\n",
        "print(bigrams)\n",
        "print(\"\\\\\\\\nTrigrams:\")\n",
        "print(trigrams)"
      ],
      "metadata": {
        "colab": {
          "base_uri": "https://localhost:8080/"
        },
        "id": "5GK19cYMUlxn",
        "outputId": "62138d69-098e-43ae-a0df-719697ebc928"
      },
      "execution_count": null,
      "outputs": [
        {
          "output_type": "stream",
          "name": "stdout",
          "text": [
            "Unigrams:\n",
            "['Natural', 'Language', 'Processing', 'is', 'a', 'fascinating', 'field', 'of', 'study', '.']\n",
            "\\\\nBigrams:\n",
            "['Natural Language', 'Language Processing', 'Processing is', 'is a', 'a fascinating', 'fascinating field', 'field of', 'of study', 'study .']\n",
            "\\\\nTrigrams:\n",
            "['Natural Language Processing', 'Language Processing is', 'Processing is a', 'is a fascinating', 'a fascinating field', 'fascinating field of', 'field of study', 'of study .']\n"
          ]
        }
      ]
    },
    {
      "cell_type": "markdown",
      "source": [
        "**4.1.3 N-gram Dil Modelleri**"
      ],
      "metadata": {
        "id": "N9AXWmn2U4j1"
      }
    },
    {
      "cell_type": "markdown",
      "source": [
        "![image.png](data:image/png;base64,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)"
      ],
      "metadata": {
        "id": "4nRaVVHzVEvt"
      }
    },
    {
      "cell_type": "markdown",
      "source": [
        "![image.png](data:image/png;base64,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)"
      ],
      "metadata": {
        "id": "HUWaciiMVcUX"
      }
    },
    {
      "cell_type": "markdown",
      "source": [
        "**N-gram Modelleriyle İlgili Zorluklar**"
      ],
      "metadata": {
        "id": "SXddjuZFVfyR"
      }
    },
    {
      "cell_type": "markdown",
      "source": [
        "**Seyreklik :** N arttıkça, olası N-gram sayısı üssel olarak artar ve bu da veri seyrekliğine yol açar. Bu, birçok N-gramın eğitim gövdesinde görünmeyebileceği ve bu da olasılıklarını doğru bir şekilde tahmin etmeyi zorlaştıracağı anlamına gelir. Örneğin, bir trigram modeliniz varsa (N=3), olası trigram sayısı son derece büyük olabilir ve bu trigramların çoğu eğitim verilerinizde asla gerçekleşmeyebilir ve bu da güvenilir olasılık tahminleri sağlamayı zorlaştırır.\n",
        "\n",
        "**Bağlam Sınırlaması :** N-gram modelleri yalnızca sabit bir bağlam penceresi (N-1 kelime) yakalar ve bu da dildeki uzun menzilli bağımlılıkları yakalamak için yetersiz olabilir. Örneğin, bir bigram modeli kullanıyorsanız, bir sonraki kelimeyi tahmin etmek için yalnızca önceki kelimeyi dikkate alır ve bu, özellikle karmaşık veya uzun metinlerde bir cümlenin tam bağlamını anlamak için yeterli olmayabilir.\n",
        "\n",
        "**Bellek Kullanımı :** Yüksek mertebeli N-gram modelleri, tüm olası N-gramların olasılıklarını depolamak için önemli miktarda bellek gerektirir. N değeri ne kadar yüksekse, bu olasılıkları depolamak için o kadar fazla belleğe ihtiyaç duyulur ve bu da önemli bir hesaplama yükü haline gelebilir. Örneğin, 4-gramlık bir modelin, dört kelimenin tüm olası dizilerinin olasılıklarını depolaması gerekir ve bu da büyük kelime dağarcıkları için pratik olmayabilir."
      ],
      "metadata": {
        "id": "dJk5TQAIVljQ"
      }
    },
    {
      "cell_type": "markdown",
      "source": [
        "**Kullanım Alanları**"
      ],
      "metadata": {
        "id": "6HkSc7z0Xi5h"
      }
    },
    {
      "cell_type": "markdown",
      "source": [
        "**Metin Tahmini :** N-gram modelleri bir dizideki bir sonraki kelimeyi tahmin etmede etkilidir. Bu yetenek genellikle mobil cihazlardaki tahmini metin girişinde kullanılır, burada model kullanıcının girdisini tamamlamak için önceki kelimelerin bağlamına göre olası kelimeler önerir. Bu özellik yazma verimliliğini ve doğruluğunu artırır.\n",
        "\n",
        "**Konuşma Tanıma :** Konuşmadan metne sistemleri alanında, N-gram modelleri transkripsiyonların doğruluğunu önemli ölçüde artırır. En olası kelime dizilerini tahmin ederek, bu modeller olası olmayan kelime kombinasyonlarını filtrelemeye yardımcı olur, böylece konuşma tanıma yazılımının çıktısını iyileştirir ve daha güvenilir hale getirir.\n",
        "\n",
        "**Makine Çevirisi :** Metni bir dilden diğerine çevirirken, N-gram modelleri bitişik kelime dizilerinin sağladığı bağlamı dikkate alarak önemli bir rol oynar. Bu bağlamsal anlayış, yalnızca doğru değil aynı zamanda bağlamsal olarak uygun çeviriler üretmeye yardımcı olur ve orijinal metnin anlamının korunmasını sağlar.\n",
        "\n",
        "**Metin Oluşturma :** N-gram modelleri tutarlı ve bağlamsal olarak uygun cümleler oluşturmak için de kullanılır. Bu, doğal sesli dil üretme yeteneğinin önemli olduğu sohbet robotları ve otomatik içerik oluşturma gibi uygulamalarda özellikle yararlıdır. Büyük metin korpuslarındaki kalıpları analiz ederek, N-gram modelleri insan dili kullanımını taklit eden cümleler oluşturabilir ve böylece kullanıcı deneyimini iyileştirebilir."
      ],
      "metadata": {
        "id": "skkaUSTEXUHM"
      }
    },
    {
      "cell_type": "markdown",
      "source": [
        "**4.1.4 N-gram Dil Modelinin Eğitimi**"
      ],
      "metadata": {
        "id": "aHi4h5IPXWet"
      }
    },
    {
      "cell_type": "code",
      "source": [
        "import nltk\n",
        "nltk.download('all')"
      ],
      "metadata": {
        "colab": {
          "base_uri": "https://localhost:8080/"
        },
        "id": "oc_D5RZvVcv8",
        "outputId": "fae5df87-1983-4e02-8a7d-8370ed16aa47"
      },
      "execution_count": null,
      "outputs": [
        {
          "output_type": "stream",
          "name": "stderr",
          "text": [
            "[nltk_data] Downloading collection 'all'\n",
            "[nltk_data]    | \n",
            "[nltk_data]    | Downloading package abc to /root/nltk_data...\n",
            "[nltk_data]    |   Package abc is already up-to-date!\n",
            "[nltk_data]    | Downloading package alpino to /root/nltk_data...\n",
            "[nltk_data]    |   Package alpino is already up-to-date!\n",
            "[nltk_data]    | Downloading package averaged_perceptron_tagger to\n",
            "[nltk_data]    |     /root/nltk_data...\n",
            "[nltk_data]    |   Package averaged_perceptron_tagger is already up-\n",
            "[nltk_data]    |       to-date!\n",
            "[nltk_data]    | Downloading package averaged_perceptron_tagger_eng to\n",
            "[nltk_data]    |     /root/nltk_data...\n",
            "[nltk_data]    |   Package averaged_perceptron_tagger_eng is already\n",
            "[nltk_data]    |       up-to-date!\n",
            "[nltk_data]    | Downloading package averaged_perceptron_tagger_ru to\n",
            "[nltk_data]    |     /root/nltk_data...\n",
            "[nltk_data]    |   Package averaged_perceptron_tagger_ru is already\n",
            "[nltk_data]    |       up-to-date!\n",
            "[nltk_data]    | Downloading package averaged_perceptron_tagger_rus to\n",
            "[nltk_data]    |     /root/nltk_data...\n",
            "[nltk_data]    |   Package averaged_perceptron_tagger_rus is already\n",
            "[nltk_data]    |       up-to-date!\n",
            "[nltk_data]    | Downloading package basque_grammars to\n",
            "[nltk_data]    |     /root/nltk_data...\n",
            "[nltk_data]    |   Package basque_grammars is already up-to-date!\n",
            "[nltk_data]    | Downloading package bcp47 to /root/nltk_data...\n",
            "[nltk_data]    |   Package bcp47 is already up-to-date!\n",
            "[nltk_data]    | Downloading package biocreative_ppi to\n",
            "[nltk_data]    |     /root/nltk_data...\n",
            "[nltk_data]    |   Package biocreative_ppi is already up-to-date!\n",
            "[nltk_data]    | Downloading package bllip_wsj_no_aux to\n",
            "[nltk_data]    |     /root/nltk_data...\n",
            "[nltk_data]    |   Package bllip_wsj_no_aux is already up-to-date!\n",
            "[nltk_data]    | Downloading package book_grammars to\n",
            "[nltk_data]    |     /root/nltk_data...\n",
            "[nltk_data]    |   Package book_grammars is already up-to-date!\n",
            "[nltk_data]    | Downloading package brown to /root/nltk_data...\n",
            "[nltk_data]    |   Package brown is already up-to-date!\n",
            "[nltk_data]    | Downloading package brown_tei to /root/nltk_data...\n",
            "[nltk_data]    |   Package brown_tei is already up-to-date!\n",
            "[nltk_data]    | Downloading package cess_cat to /root/nltk_data...\n",
            "[nltk_data]    |   Package cess_cat is already up-to-date!\n",
            "[nltk_data]    | Downloading package cess_esp to /root/nltk_data...\n",
            "[nltk_data]    |   Package cess_esp is already up-to-date!\n",
            "[nltk_data]    | Downloading package chat80 to /root/nltk_data...\n",
            "[nltk_data]    |   Package chat80 is already up-to-date!\n",
            "[nltk_data]    | Downloading package city_database to\n",
            "[nltk_data]    |     /root/nltk_data...\n",
            "[nltk_data]    |   Package city_database is already up-to-date!\n",
            "[nltk_data]    | Downloading package cmudict to /root/nltk_data...\n",
            "[nltk_data]    |   Package cmudict is already up-to-date!\n",
            "[nltk_data]    | Downloading package comparative_sentences to\n",
            "[nltk_data]    |     /root/nltk_data...\n",
            "[nltk_data]    |   Package comparative_sentences is already up-to-\n",
            "[nltk_data]    |       date!\n",
            "[nltk_data]    | Downloading package comtrans to /root/nltk_data...\n",
            "[nltk_data]    |   Package comtrans is already up-to-date!\n",
            "[nltk_data]    | Downloading package conll2000 to /root/nltk_data...\n",
            "[nltk_data]    |   Package conll2000 is already up-to-date!\n",
            "[nltk_data]    | Downloading package conll2002 to /root/nltk_data...\n",
            "[nltk_data]    |   Package conll2002 is already up-to-date!\n",
            "[nltk_data]    | Downloading package conll2007 to /root/nltk_data...\n",
            "[nltk_data]    |   Package conll2007 is already up-to-date!\n",
            "[nltk_data]    | Downloading package crubadan to /root/nltk_data...\n",
            "[nltk_data]    |   Package crubadan is already up-to-date!\n",
            "[nltk_data]    | Downloading package dependency_treebank to\n",
            "[nltk_data]    |     /root/nltk_data...\n",
            "[nltk_data]    |   Package dependency_treebank is already up-to-date!\n",
            "[nltk_data]    | Downloading package dolch to /root/nltk_data...\n",
            "[nltk_data]    |   Package dolch is already up-to-date!\n",
            "[nltk_data]    | Downloading package europarl_raw to\n",
            "[nltk_data]    |     /root/nltk_data...\n",
            "[nltk_data]    |   Package europarl_raw is already up-to-date!\n",
            "[nltk_data]    | Downloading package extended_omw to\n",
            "[nltk_data]    |     /root/nltk_data...\n",
            "[nltk_data]    |   Package extended_omw is already up-to-date!\n",
            "[nltk_data]    | Downloading package floresta to /root/nltk_data...\n",
            "[nltk_data]    |   Package floresta is already up-to-date!\n",
            "[nltk_data]    | Downloading package framenet_v15 to\n",
            "[nltk_data]    |     /root/nltk_data...\n",
            "[nltk_data]    |   Package framenet_v15 is already up-to-date!\n",
            "[nltk_data]    | Downloading package framenet_v17 to\n",
            "[nltk_data]    |     /root/nltk_data...\n",
            "[nltk_data]    |   Package framenet_v17 is already up-to-date!\n",
            "[nltk_data]    | Downloading package gazetteers to /root/nltk_data...\n",
            "[nltk_data]    |   Package gazetteers is already up-to-date!\n",
            "[nltk_data]    | Downloading package genesis to /root/nltk_data...\n",
            "[nltk_data]    |   Package genesis is already up-to-date!\n",
            "[nltk_data]    | Downloading package gutenberg to /root/nltk_data...\n",
            "[nltk_data]    |   Package gutenberg is already up-to-date!\n",
            "[nltk_data]    | Downloading package ieer to /root/nltk_data...\n",
            "[nltk_data]    |   Package ieer is already up-to-date!\n",
            "[nltk_data]    | Downloading package inaugural to /root/nltk_data...\n",
            "[nltk_data]    |   Package inaugural is already up-to-date!\n",
            "[nltk_data]    | Downloading package indian to /root/nltk_data...\n",
            "[nltk_data]    |   Package indian is already up-to-date!\n",
            "[nltk_data]    | Downloading package jeita to /root/nltk_data...\n",
            "[nltk_data]    |   Package jeita is already up-to-date!\n",
            "[nltk_data]    | Downloading package kimmo to /root/nltk_data...\n",
            "[nltk_data]    |   Package kimmo is already up-to-date!\n",
            "[nltk_data]    | Downloading package knbc to /root/nltk_data...\n",
            "[nltk_data]    |   Package knbc is already up-to-date!\n",
            "[nltk_data]    | Downloading package large_grammars to\n",
            "[nltk_data]    |     /root/nltk_data...\n",
            "[nltk_data]    |   Package large_grammars is already up-to-date!\n",
            "[nltk_data]    | Downloading package lin_thesaurus to\n",
            "[nltk_data]    |     /root/nltk_data...\n",
            "[nltk_data]    |   Package lin_thesaurus is already up-to-date!\n",
            "[nltk_data]    | Downloading package mac_morpho to /root/nltk_data...\n",
            "[nltk_data]    |   Package mac_morpho is already up-to-date!\n",
            "[nltk_data]    | Downloading package machado to /root/nltk_data...\n",
            "[nltk_data]    |   Package machado is already up-to-date!\n",
            "[nltk_data]    | Downloading package masc_tagged to /root/nltk_data...\n",
            "[nltk_data]    |   Package masc_tagged is already up-to-date!\n",
            "[nltk_data]    | Downloading package maxent_ne_chunker to\n",
            "[nltk_data]    |     /root/nltk_data...\n",
            "[nltk_data]    |   Package maxent_ne_chunker is already up-to-date!\n",
            "[nltk_data]    | Downloading package maxent_ne_chunker_tab to\n",
            "[nltk_data]    |     /root/nltk_data...\n",
            "[nltk_data]    |   Package maxent_ne_chunker_tab is already up-to-\n",
            "[nltk_data]    |       date!\n",
            "[nltk_data]    | Downloading package maxent_treebank_pos_tagger to\n",
            "[nltk_data]    |     /root/nltk_data...\n",
            "[nltk_data]    |   Package maxent_treebank_pos_tagger is already up-\n",
            "[nltk_data]    |       to-date!\n",
            "[nltk_data]    | Downloading package maxent_treebank_pos_tagger_tab to\n",
            "[nltk_data]    |     /root/nltk_data...\n",
            "[nltk_data]    |   Package maxent_treebank_pos_tagger_tab is already\n",
            "[nltk_data]    |       up-to-date!\n",
            "[nltk_data]    | Downloading package moses_sample to\n",
            "[nltk_data]    |     /root/nltk_data...\n",
            "[nltk_data]    |   Package moses_sample is already up-to-date!\n",
            "[nltk_data]    | Downloading package movie_reviews to\n",
            "[nltk_data]    |     /root/nltk_data...\n",
            "[nltk_data]    |   Package movie_reviews is already up-to-date!\n",
            "[nltk_data]    | Downloading package mte_teip5 to /root/nltk_data...\n",
            "[nltk_data]    |   Package mte_teip5 is already up-to-date!\n",
            "[nltk_data]    | Downloading package mwa_ppdb to /root/nltk_data...\n",
            "[nltk_data]    |   Package mwa_ppdb is already up-to-date!\n",
            "[nltk_data]    | Downloading package names to /root/nltk_data...\n",
            "[nltk_data]    |   Package names is already up-to-date!\n",
            "[nltk_data]    | Downloading package nombank.1.0 to /root/nltk_data...\n",
            "[nltk_data]    |   Package nombank.1.0 is already up-to-date!\n",
            "[nltk_data]    | Downloading package nonbreaking_prefixes to\n",
            "[nltk_data]    |     /root/nltk_data...\n",
            "[nltk_data]    |   Package nonbreaking_prefixes is already up-to-date!\n",
            "[nltk_data]    | Downloading package nps_chat to /root/nltk_data...\n",
            "[nltk_data]    |   Package nps_chat is already up-to-date!\n",
            "[nltk_data]    | Downloading package omw to /root/nltk_data...\n",
            "[nltk_data]    |   Package omw is already up-to-date!\n",
            "[nltk_data]    | Downloading package omw-1.4 to /root/nltk_data...\n",
            "[nltk_data]    |   Package omw-1.4 is already up-to-date!\n",
            "[nltk_data]    | Downloading package opinion_lexicon to\n",
            "[nltk_data]    |     /root/nltk_data...\n",
            "[nltk_data]    |   Package opinion_lexicon is already up-to-date!\n",
            "[nltk_data]    | Downloading package panlex_swadesh to\n",
            "[nltk_data]    |     /root/nltk_data...\n",
            "[nltk_data]    |   Package panlex_swadesh is already up-to-date!\n",
            "[nltk_data]    | Downloading package paradigms to /root/nltk_data...\n",
            "[nltk_data]    |   Package paradigms is already up-to-date!\n",
            "[nltk_data]    | Downloading package pe08 to /root/nltk_data...\n",
            "[nltk_data]    |   Package pe08 is already up-to-date!\n",
            "[nltk_data]    | Downloading package perluniprops to\n",
            "[nltk_data]    |     /root/nltk_data...\n",
            "[nltk_data]    |   Package perluniprops is already up-to-date!\n",
            "[nltk_data]    | Downloading package pil to /root/nltk_data...\n",
            "[nltk_data]    |   Package pil is already up-to-date!\n",
            "[nltk_data]    | Downloading package pl196x to /root/nltk_data...\n",
            "[nltk_data]    |   Package pl196x is already up-to-date!\n",
            "[nltk_data]    | Downloading package porter_test to /root/nltk_data...\n",
            "[nltk_data]    |   Package porter_test is already up-to-date!\n",
            "[nltk_data]    | Downloading package ppattach to /root/nltk_data...\n",
            "[nltk_data]    |   Package ppattach is already up-to-date!\n",
            "[nltk_data]    | Downloading package problem_reports to\n",
            "[nltk_data]    |     /root/nltk_data...\n",
            "[nltk_data]    |   Package problem_reports is already up-to-date!\n",
            "[nltk_data]    | Downloading package product_reviews_1 to\n",
            "[nltk_data]    |     /root/nltk_data...\n",
            "[nltk_data]    |   Package product_reviews_1 is already up-to-date!\n",
            "[nltk_data]    | Downloading package product_reviews_2 to\n",
            "[nltk_data]    |     /root/nltk_data...\n",
            "[nltk_data]    |   Package product_reviews_2 is already up-to-date!\n",
            "[nltk_data]    | Downloading package propbank to /root/nltk_data...\n",
            "[nltk_data]    |   Package propbank is already up-to-date!\n",
            "[nltk_data]    | Downloading package pros_cons to /root/nltk_data...\n",
            "[nltk_data]    |   Package pros_cons is already up-to-date!\n",
            "[nltk_data]    | Downloading package ptb to /root/nltk_data...\n",
            "[nltk_data]    |   Package ptb is already up-to-date!\n",
            "[nltk_data]    | Downloading package punkt to /root/nltk_data...\n",
            "[nltk_data]    |   Package punkt is already up-to-date!\n",
            "[nltk_data]    | Downloading package punkt_tab to /root/nltk_data...\n",
            "[nltk_data]    |   Package punkt_tab is already up-to-date!\n",
            "[nltk_data]    | Downloading package qc to /root/nltk_data...\n",
            "[nltk_data]    |   Package qc is already up-to-date!\n",
            "[nltk_data]    | Downloading package reuters to /root/nltk_data...\n",
            "[nltk_data]    |   Package reuters is already up-to-date!\n",
            "[nltk_data]    | Downloading package rslp to /root/nltk_data...\n",
            "[nltk_data]    |   Package rslp is already up-to-date!\n",
            "[nltk_data]    | Downloading package rte to /root/nltk_data...\n",
            "[nltk_data]    |   Package rte is already up-to-date!\n",
            "[nltk_data]    | Downloading package sample_grammars to\n",
            "[nltk_data]    |     /root/nltk_data...\n",
            "[nltk_data]    |   Package sample_grammars is already up-to-date!\n",
            "[nltk_data]    | Downloading package semcor to /root/nltk_data...\n",
            "[nltk_data]    |   Package semcor is already up-to-date!\n",
            "[nltk_data]    | Downloading package senseval to /root/nltk_data...\n",
            "[nltk_data]    |   Package senseval is already up-to-date!\n",
            "[nltk_data]    | Downloading package sentence_polarity to\n",
            "[nltk_data]    |     /root/nltk_data...\n",
            "[nltk_data]    |   Package sentence_polarity is already up-to-date!\n",
            "[nltk_data]    | Downloading package sentiwordnet to\n",
            "[nltk_data]    |     /root/nltk_data...\n",
            "[nltk_data]    |   Package sentiwordnet is already up-to-date!\n",
            "[nltk_data]    | Downloading package shakespeare to /root/nltk_data...\n",
            "[nltk_data]    |   Package shakespeare is already up-to-date!\n",
            "[nltk_data]    | Downloading package sinica_treebank to\n",
            "[nltk_data]    |     /root/nltk_data...\n",
            "[nltk_data]    |   Package sinica_treebank is already up-to-date!\n",
            "[nltk_data]    | Downloading package smultron to /root/nltk_data...\n",
            "[nltk_data]    |   Package smultron is already up-to-date!\n",
            "[nltk_data]    | Downloading package snowball_data to\n",
            "[nltk_data]    |     /root/nltk_data...\n",
            "[nltk_data]    |   Package snowball_data is already up-to-date!\n",
            "[nltk_data]    | Downloading package spanish_grammars to\n",
            "[nltk_data]    |     /root/nltk_data...\n",
            "[nltk_data]    |   Package spanish_grammars is already up-to-date!\n",
            "[nltk_data]    | Downloading package state_union to /root/nltk_data...\n",
            "[nltk_data]    |   Package state_union is already up-to-date!\n",
            "[nltk_data]    | Downloading package stopwords to /root/nltk_data...\n",
            "[nltk_data]    |   Package stopwords is already up-to-date!\n",
            "[nltk_data]    | Downloading package subjectivity to\n",
            "[nltk_data]    |     /root/nltk_data...\n",
            "[nltk_data]    |   Package subjectivity is already up-to-date!\n",
            "[nltk_data]    | Downloading package swadesh to /root/nltk_data...\n",
            "[nltk_data]    |   Package swadesh is already up-to-date!\n",
            "[nltk_data]    | Downloading package switchboard to /root/nltk_data...\n",
            "[nltk_data]    |   Package switchboard is already up-to-date!\n",
            "[nltk_data]    | Downloading package tagsets to /root/nltk_data...\n",
            "[nltk_data]    |   Package tagsets is already up-to-date!\n",
            "[nltk_data]    | Downloading package tagsets_json to\n",
            "[nltk_data]    |     /root/nltk_data...\n",
            "[nltk_data]    |   Package tagsets_json is already up-to-date!\n",
            "[nltk_data]    | Downloading package timit to /root/nltk_data...\n",
            "[nltk_data]    |   Package timit is already up-to-date!\n",
            "[nltk_data]    | Downloading package toolbox to /root/nltk_data...\n",
            "[nltk_data]    |   Package toolbox is already up-to-date!\n",
            "[nltk_data]    | Downloading package treebank to /root/nltk_data...\n",
            "[nltk_data]    |   Package treebank is already up-to-date!\n",
            "[nltk_data]    | Downloading package twitter_samples to\n",
            "[nltk_data]    |     /root/nltk_data...\n",
            "[nltk_data]    |   Package twitter_samples is already up-to-date!\n",
            "[nltk_data]    | Downloading package udhr to /root/nltk_data...\n",
            "[nltk_data]    |   Package udhr is already up-to-date!\n",
            "[nltk_data]    | Downloading package udhr2 to /root/nltk_data...\n",
            "[nltk_data]    |   Package udhr2 is already up-to-date!\n",
            "[nltk_data]    | Downloading package unicode_samples to\n",
            "[nltk_data]    |     /root/nltk_data...\n",
            "[nltk_data]    |   Package unicode_samples is already up-to-date!\n",
            "[nltk_data]    | Downloading package universal_tagset to\n",
            "[nltk_data]    |     /root/nltk_data...\n",
            "[nltk_data]    |   Package universal_tagset is already up-to-date!\n",
            "[nltk_data]    | Downloading package universal_treebanks_v20 to\n",
            "[nltk_data]    |     /root/nltk_data...\n",
            "[nltk_data]    |   Package universal_treebanks_v20 is already up-to-\n",
            "[nltk_data]    |       date!\n",
            "[nltk_data]    | Downloading package vader_lexicon to\n",
            "[nltk_data]    |     /root/nltk_data...\n",
            "[nltk_data]    |   Package vader_lexicon is already up-to-date!\n",
            "[nltk_data]    | Downloading package verbnet to /root/nltk_data...\n",
            "[nltk_data]    |   Package verbnet is already up-to-date!\n",
            "[nltk_data]    | Downloading package verbnet3 to /root/nltk_data...\n",
            "[nltk_data]    |   Package verbnet3 is already up-to-date!\n",
            "[nltk_data]    | Downloading package webtext to /root/nltk_data...\n",
            "[nltk_data]    |   Package webtext is already up-to-date!\n",
            "[nltk_data]    | Downloading package wmt15_eval to /root/nltk_data...\n",
            "[nltk_data]    |   Package wmt15_eval is already up-to-date!\n",
            "[nltk_data]    | Downloading package word2vec_sample to\n",
            "[nltk_data]    |     /root/nltk_data...\n",
            "[nltk_data]    |   Package word2vec_sample is already up-to-date!\n",
            "[nltk_data]    | Downloading package wordnet to /root/nltk_data...\n",
            "[nltk_data]    |   Package wordnet is already up-to-date!\n",
            "[nltk_data]    | Downloading package wordnet2021 to /root/nltk_data...\n",
            "[nltk_data]    |   Package wordnet2021 is already up-to-date!\n",
            "[nltk_data]    | Downloading package wordnet2022 to /root/nltk_data...\n",
            "[nltk_data]    |   Package wordnet2022 is already up-to-date!\n",
            "[nltk_data]    | Downloading package wordnet31 to /root/nltk_data...\n",
            "[nltk_data]    |   Package wordnet31 is already up-to-date!\n",
            "[nltk_data]    | Downloading package wordnet_ic to /root/nltk_data...\n",
            "[nltk_data]    |   Package wordnet_ic is already up-to-date!\n",
            "[nltk_data]    | Downloading package words to /root/nltk_data...\n",
            "[nltk_data]    |   Package words is already up-to-date!\n",
            "[nltk_data]    | Downloading package ycoe to /root/nltk_data...\n",
            "[nltk_data]    |   Package ycoe is already up-to-date!\n",
            "[nltk_data]    | \n",
            "[nltk_data]  Done downloading collection all\n"
          ]
        },
        {
          "output_type": "execute_result",
          "data": {
            "text/plain": [
              "True"
            ]
          },
          "metadata": {},
          "execution_count": 4
        }
      ]
    },
    {
      "cell_type": "code",
      "source": [
        "corpus = [\n",
        "\"Natural Language Processing is a fascinating field of study.\",\n",
        "\"Machine learning and NLP are closely related.\",\n",
        "\"Language models are essential for NLP tasks.\"\n",
        "]\n",
        "# Tokenize the text into words\n",
        "tokenized_corpus = [nltk.word_tokenize(sentence) for sentence in corpus]\n",
        "tokenized_corpus"
      ],
      "metadata": {
        "colab": {
          "base_uri": "https://localhost:8080/"
        },
        "id": "lSYa2nCkVGrx",
        "outputId": "a3456a48-da50-4629-b834-9db0778a3589"
      },
      "execution_count": null,
      "outputs": [
        {
          "output_type": "execute_result",
          "data": {
            "text/plain": [
              "[['Natural',\n",
              "  'Language',\n",
              "  'Processing',\n",
              "  'is',\n",
              "  'a',\n",
              "  'fascinating',\n",
              "  'field',\n",
              "  'of',\n",
              "  'study',\n",
              "  '.'],\n",
              " ['Machine', 'learning', 'and', 'NLP', 'are', 'closely', 'related', '.'],\n",
              " ['Language', 'models', 'are', 'essential', 'for', 'NLP', 'tasks', '.']]"
            ]
          },
          "metadata": {},
          "execution_count": 6
        }
      ]
    },
    {
      "cell_type": "markdown",
      "source": [
        "**N-gram Oluşturma** : Metin belirteçlere ayrıldıktan sonraki adım, bu belirteçlerden N-gram oluşturmaktır. N-gramlar, metinden N öğenin bitişik dizileridir."
      ],
      "metadata": {
        "id": "ZgTD8mkKYClv"
      }
    },
    {
      "cell_type": "code",
      "source": [
        "from nltk.util import ngrams\n",
        "# Example of generating bigrams (N=2)\n",
        "bigrams = [ngrams(sentence, 2) for sentence in tokenized_corpus]\n",
        "bigrams"
      ],
      "metadata": {
        "colab": {
          "base_uri": "https://localhost:8080/"
        },
        "id": "iL-Me3AdX883",
        "outputId": "837151f5-df9c-456e-ceb4-765a387bc7ab"
      },
      "execution_count": null,
      "outputs": [
        {
          "output_type": "execute_result",
          "data": {
            "text/plain": [
              "[<generator object ngrams at 0x7f6b1b521030>,\n",
              " <generator object ngrams at 0x7f6b1b5209d0>,\n",
              " <generator object ngrams at 0x7f6b1b521250>]"
            ]
          },
          "metadata": {},
          "execution_count": 7
        }
      ]
    },
    {
      "cell_type": "markdown",
      "source": [
        "**Counting N-gram Occurrences:** Bir N-gram modelinin eğitiminin özü, korpustaki her N-gram'ın oluşumunu saymaktır. Bu, belirteçleştirilmiş metinde yineleme yapmayı ve her N-gram'ın ne sıklıkta göründüğünü kaydetmeyi içerir."
      ],
      "metadata": {
        "id": "fVl7fNJLYO0E"
      }
    },
    {
      "cell_type": "code",
      "source": [
        "from collections import defaultdict\n",
        "def count_ngrams(tokenized_corpus, n):\n",
        "    counts = defaultdict(lambda: defaultdict(int))\n",
        "    for sentence in tokenized_corpus:\n",
        "        for ngram in ngrams(sentence, n):\n",
        "            counts[ngram[:-1]][ngram[-1]] += 1\n",
        "    return counts\n",
        "# Count bigrams\n",
        "bigram_counts = count_ngrams(tokenized_corpus, 2)\n",
        "bigram_counts"
      ],
      "metadata": {
        "colab": {
          "base_uri": "https://localhost:8080/"
        },
        "id": "dgy3esUmYWUZ",
        "outputId": "7a647e15-dac6-4bc2-e0c3-f5ef0add7df7"
      },
      "execution_count": null,
      "outputs": [
        {
          "output_type": "execute_result",
          "data": {
            "text/plain": [
              "defaultdict(<function __main__.count_ngrams.<locals>.<lambda>()>,\n",
              "            {('Natural',): defaultdict(int, {'Language': 1}),\n",
              "             ('Language',): defaultdict(int, {'Processing': 1, 'models': 1}),\n",
              "             ('Processing',): defaultdict(int, {'is': 1}),\n",
              "             ('is',): defaultdict(int, {'a': 1}),\n",
              "             ('a',): defaultdict(int, {'fascinating': 1}),\n",
              "             ('fascinating',): defaultdict(int, {'field': 1}),\n",
              "             ('field',): defaultdict(int, {'of': 1}),\n",
              "             ('of',): defaultdict(int, {'study': 1}),\n",
              "             ('study',): defaultdict(int, {'.': 1}),\n",
              "             ('Machine',): defaultdict(int, {'learning': 1}),\n",
              "             ('learning',): defaultdict(int, {'and': 1}),\n",
              "             ('and',): defaultdict(int, {'NLP': 1}),\n",
              "             ('NLP',): defaultdict(int, {'are': 1, 'tasks': 1}),\n",
              "             ('are',): defaultdict(int, {'closely': 1, 'essential': 1}),\n",
              "             ('closely',): defaultdict(int, {'related': 1}),\n",
              "             ('related',): defaultdict(int, {'.': 1}),\n",
              "             ('models',): defaultdict(int, {'are': 1}),\n",
              "             ('essential',): defaultdict(int, {'for': 1}),\n",
              "             ('for',): defaultdict(int, {'NLP': 1}),\n",
              "             ('tasks',): defaultdict(int, {'.': 1})})"
            ]
          },
          "metadata": {},
          "execution_count": 10
        }
      ]
    },
    {
      "cell_type": "markdown",
      "source": [
        "**Olasılıkları Hesaplama :** N-gramları saydıktan sonraki adım olasılıklarını hesaplamaktır. Bu, sayımları normalleştirerek yapılır, yani her N-gramın sayısı aynı öneki (bağlam) paylaşan toplam N-gram sayısına bölünür."
      ],
      "metadata": {
        "id": "AwWSq3bwYeNg"
      }
    },
    {
      "cell_type": "code",
      "source": [
        "def calculate_probabilities(counts):\n",
        "    probabilities = defaultdict(dict)\n",
        "    for context in counts:\n",
        "        total_count = float(sum(counts[context].values()))\n",
        "        for word in counts[context]:\n",
        "            probabilities[context][word] = counts[context][word] / total_count\n",
        "    return probabilities\n",
        "# Calculate bigram probabilities\n",
        "bigram_probabilities = calculate_probabilities(bigram_counts)\n",
        "bigram_probabilities"
      ],
      "metadata": {
        "colab": {
          "base_uri": "https://localhost:8080/"
        },
        "id": "iuh3695lYhHF",
        "outputId": "6b690059-a9fc-48e0-c2d1-234884d62cd6"
      },
      "execution_count": null,
      "outputs": [
        {
          "output_type": "execute_result",
          "data": {
            "text/plain": [
              "defaultdict(dict,\n",
              "            {('Natural',): {'Language': 1.0},\n",
              "             ('Language',): {'Processing': 0.5, 'models': 0.5},\n",
              "             ('Processing',): {'is': 1.0},\n",
              "             ('is',): {'a': 1.0},\n",
              "             ('a',): {'fascinating': 1.0},\n",
              "             ('fascinating',): {'field': 1.0},\n",
              "             ('field',): {'of': 1.0},\n",
              "             ('of',): {'study': 1.0},\n",
              "             ('study',): {'.': 1.0},\n",
              "             ('Machine',): {'learning': 1.0},\n",
              "             ('learning',): {'and': 1.0},\n",
              "             ('and',): {'NLP': 1.0},\n",
              "             ('NLP',): {'are': 0.5, 'tasks': 0.5},\n",
              "             ('are',): {'closely': 0.5, 'essential': 0.5},\n",
              "             ('closely',): {'related': 1.0},\n",
              "             ('related',): {'.': 1.0},\n",
              "             ('models',): {'are': 1.0},\n",
              "             ('essential',): {'for': 1.0},\n",
              "             ('for',): {'NLP': 1.0},\n",
              "             ('tasks',): {'.': 1.0}})"
            ]
          },
          "metadata": {},
          "execution_count": 11
        }
      ]
    },
    {
      "cell_type": "markdown",
      "source": [
        "**Modeli Kullanma :** Hesaplanan N-gram olasılıklarıyla, model artık belirli bir bağlamı takip eden bir kelimenin olasılığını tahmin edebilir. Bu, metin oluşturma ve konuşma tanıma gibi görevler için yararlıdır."
      ],
      "metadata": {
        "id": "lmLCqHYaYwSG"
      }
    },
    {
      "cell_type": "code",
      "source": [
        "def get_ngram_probability(model, context, word):\n",
        "    return model[context].get(word, 0)\n",
        "# Example: Get probability of \"NLP\" following \"for\"\n",
        "probability = get_ngram_probability(bigram_probabilities, ('for',), 'NLP')\n",
        "print(\"Bigram Probability (NLP | for):\", probability)"
      ],
      "metadata": {
        "colab": {
          "base_uri": "https://localhost:8080/"
        },
        "id": "epZ-VXaAYzmG",
        "outputId": "bf8c4207-4fdd-43a4-e238-b2115af8ca6f"
      },
      "execution_count": null,
      "outputs": [
        {
          "output_type": "stream",
          "name": "stdout",
          "text": [
            "Bigram Probability (NLP | for): 1.0\n"
          ]
        }
      ]
    },
    {
      "cell_type": "markdown",
      "source": [],
      "metadata": {
        "id": "jsAVGqp6Y64q"
      }
    },
    {
      "cell_type": "code",
      "source": [
        "from collections import defaultdict\n",
        "import nltk\n",
        "from nltk.util import ngrams\n",
        "\n",
        "# Sample text corpus\n",
        "corpus = [\n",
        "    \"Natural Language processing is a fascinating field of study.\",\n",
        "    \"Machine learning and NLP are closely related.\",\n",
        "    \"Language models are essential for NLP tasks language models\"\n",
        "]\n",
        "\n",
        "# Tokenize the text into words\n",
        "tokenized_corpus = [nltk.word_tokenize(sentence) for sentence in corpus]\n",
        "\n",
        "# Function to calculate bigram probabilities\n",
        "def train_bigram_model(tokenized_corpus):\n",
        "    model = defaultdict(lambda: defaultdict(lambda: 0))\n",
        "    # Count bigrams\n",
        "    for sentence in tokenized_corpus:\n",
        "        for w1, w2 in ngrams(sentence, 2):\n",
        "            model[w1][w2] += 1\n",
        "    # Calculate probabilities\n",
        "    for w1 in model:\n",
        "        total_count = float(sum(model[w1].values()))\n",
        "        for w2 in model[w1]:\n",
        "            model[w1][w2] /= total_count\n",
        "    return model\n",
        "\n",
        "# Train the bigram model\n",
        "bigram_model = train_bigram_model(tokenized_corpus)\n",
        "\n",
        "# Function to get the probability of a bigram\n",
        "def get_bigram_probability(bigram_model, w1, w2):\n",
        "    return bigram_model[w1][w2]\n",
        "\n",
        "print(\"Bigram Probability (NLP | for):\")\n",
        "print(get_bigram_probability(bigram_model, 'Language', 'models'))"
      ],
      "metadata": {
        "colab": {
          "base_uri": "https://localhost:8080/"
        },
        "id": "TxxukJGSY7BU",
        "outputId": "8168b8ad-6bf2-42bf-a92a-e5408e298103"
      },
      "execution_count": null,
      "outputs": [
        {
          "output_type": "stream",
          "name": "stdout",
          "text": [
            "Bigram Probability (NLP | for):\n",
            "0.5\n"
          ]
        }
      ]
    },
    {
      "cell_type": "markdown",
      "source": [
        "**4.1.5 N-gram Modellerinin Sınırlamaları**"
      ],
      "metadata": {
        "id": "B7HqihgtbWLc"
      }
    },
    {
      "cell_type": "markdown",
      "source": [
        "**Seyreklik Sorunları :**\n",
        "\n",
        "N değeri arttıkça, olası N-gram sayısı üssel olarak artar. Bu, birçok olası N-gramın eğitim korpusunda görünmeyebileceği veri seyrekliğine neden olur. Örneğin, bir trigram modelinde, olası trigram sayısı son derece büyüktür ve bu trigramların çoğu eğitim verilerinde asla ortaya çıkmayabilir. Bu, olasılıklarını doğru bir şekilde tahmin etmeyi zorlaştırır ve güvenilir olmayan tahminlere yol açar.\n",
        "\n",
        "**Bağlam Sınırlaması :**\n",
        "\n",
        "N-gram modelleri yalnızca sabit bir bağlam penceresini, özellikle önceki N-1 kelimeyi yakalar. Bu sabit pencere, metindeki uzun menzilli bağımlılıkları yakalamak için yetersiz olabilir. Örneğin, bir bigram modelinde, bir sonraki kelimeyi tahmin ederken yalnızca hemen önceki kelime dikkate alınır. Bu, özellikle önemli bilgilerin birkaç kelime veya cümleye yayılabileceği karmaşık veya uzun metinlerde, bir cümlenin tam bağlamını anlamada önemli bir sınırlama olabilir.\n",
        "\n",
        "**Bellek Kullanımı :**\n",
        "\n",
        "Daha yüksek mertebeli N-gram modelleri, tüm olası N-gramların olasılıklarını depolamak için önemli miktarda bellek gerektirir. N değeri ne kadar büyükse, bu olasılıkları depolamak için o kadar fazla bellek gerekir. Örneğin, 4-gramlık bir modelin, dört kelimenin tüm olası dizilerinin olasılıklarını depolaması gerekir; bu da hesaplama açısından pahalı ve büyük kelime dağarcıkları için pratik olmayabilir.\n",
        "\n",
        "**Genelleme Eksikliği :**\n",
        "\n",
        "N-gram modelleri, görülmemiş verilere genelleme yapmakta zorluk çekebilir. Eğitim verilerinde gözlemlenen belirli dizilere çok fazla güvenirler, bu da yeni veya biraz farklı dizilerde iyi performans gösteremeyebilecekleri anlamına gelir. Bu genelleme eksikliği, dil kullanımının oldukça değişken ve bağlama bağlı olduğu gerçek dünya uygulamalarında etkinliklerini sınırlayabilir.\n",
        "\n",
        "**Kelime Dışı Kelimelerin Ele Alınması :**\n",
        "\n",
        "N-gram modelleri, eğitim sırasında görülmeyen kelimeler olan kelime dışı (OOV) kelimeleri işlemekte zorluk çeker. Bu, model yeni kelimeler veya ifadelerle karşılaştığında, bunlarla ilişkili önceden bilgisi veya olasılıkları olmadığı için düşük performansla sonuçlanabilir.\n",
        "\n",
        "**Anlamsal Anlamı Yakalayamama :**\n",
        "\n",
        "N-gram modelleri yalnızca kelime dizileri temelinde çalışır ve kelimelerin altta yatan semantik anlamını yakalamaz. Kelimeleri anlamlarını veya ilişkilerini anlamadan bağımsız belirteçler olarak ele alırlar ve bu da dilin daha derin bir şekilde anlaşılmasını gerektiren görevleri yerine getirme yeteneklerini sınırlayabilir."
      ],
      "metadata": {
        "id": "zTNhKu1CbZSK"
      }
    },
    {
      "cell_type": "markdown",
      "source": [
        "## **4.2 Gizli Markov Modelleri**"
      ],
      "metadata": {
        "id": "cm3j9B2mbzJQ"
      }
    },
    {
      "cell_type": "markdown",
      "source": [
        "Gizli Markov Modelleri (HMM'ler), özellikle Doğal Dil İşleme (NLP) alanında dizi analizi için yaygın olarak kullanılan güçlü ve çok yönlü istatistiksel modellerdir. Bu modeller son derece etkili olduklarını kanıtlamıştır ve sözcük türü etiketleme, adlandırılmış varlık tanıma ve konuşma tanıma dahil ancak bunlarla sınırlı olmamak üzere çeşitli uygulamalarda yaygın olarak kullanılmaktadır. HMM'leri kullanarak, kelimeler veya etiketler gibi gözlemlenebilir olayların dizilerini ve bu gözlemlenebilir olayları oluşturmaktan sorumlu olan altta yatan gizli durumları modelleyebilirsiniz."
      ],
      "metadata": {
        "id": "JgmZeJFYb6LT"
      }
    },
    {
      "cell_type": "markdown",
      "source": [
        "HMM'lerin gücü, diziler ve gizli durumları arasındaki olasılıksal ilişkileri yakalama becerisinde yatar; bu, gerçek durum dizisinin doğrudan gözlemlenemediği sıralı verilerle uğraşırken özellikle yararlı olabilir."
      ],
      "metadata": {
        "id": "_gSVAhFAb-oG"
      }
    },
    {
      "cell_type": "markdown",
      "source": [
        "Tür-sözcük etiketlemesi bağlamında, HMM'ler hem gözlemlenen sözcük dizisine hem de tür-sözcük etiketlerinin gizli durum dizisine dayanarak bir cümledeki her kelimenin dilbilgisi kategorisini tahmin etmek için kullanılabilir. Benzer şekilde, adlandırılmış varlık tanımada, HMM'ler bir metindeki kişilerin, kuruluşların ve yerlerin adları gibi varlıkları tanımlamaya ve sınıflandırmaya yardımcı olur.\n",
        "Konuşma tanıma için HMM'ler, konuşulan sözcüklerin dizisini ve bunlara karşılık gelen gizli fonetik durumları modelleyerek konuşulan dili metne dönüştürmek için kullanılır.\n",
        "Genel olarak Gizli Markov Modelleri, NLP uygulayıcılarının araç setinin temel taşlarından biridir ve çok çeşitli dizi analizi problemlerini ele almak için sağlam bir çerçeve sunar."
      ],
      "metadata": {
        "id": "xhNQpbyycFf5"
      }
    },
    {
      "cell_type": "markdown",
      "source": [
        "**4.2.1 Gizli Markov Modellerini Anlamak**"
      ],
      "metadata": {
        "id": "4hPF9k8_cIWD"
      }
    },
    {
      "cell_type": "markdown",
      "source": [
        "**states**"
      ],
      "metadata": {
        "id": "ksP7NGs0cO_s"
      }
    },
    {
      "cell_type": "markdown",
      "source": [
        "Bunlar gözlemlenebilir olayları üreten gizli değişkenlerdir. Örneğin, sözcük türü etiketlemede, gizli durumlar isimler, fiiller, sıfatlar vb. gibi sözcük türleri olabilir. Bu durumlar bir gözlemci tarafından doğrudan görülemez ancak gözlemlenebilir sonuçları etkiler.\n",
        "Gizli durum kavramı, Gizli Markov Modelleri (HMM) gibi modellerde çok önemlidir. Bu modellerde gerçek durum dizisi (örneğin, sözcük türleri dizisi) doğrudan gözlemlenemez ancak gözlemlenen verilerden (örneğin, sözcük dizisi) çıkarılması gerekir.\n",
        "Bu gizli durumlar, veri dizisindeki altta yatan yapıyı ve bağımlılıkları anlamaya yardımcı olarak daha doğru tahminler ve analizler yapılmasını sağlar."
      ],
      "metadata": {
        "id": "TirVPOQpcU2U"
      }
    },
    {
      "cell_type": "markdown",
      "source": [
        "**Gözlemler - observaiton**\n",
        "\n",
        "Bunlar gizli durumlar tarafından üretilen gözlemlenebilir olaylardır. Örneğin, bir cümledeki kelimeler. Gözlemler, gerçekten görebildiğimiz ve ölçebildiğimiz veri noktalarıdır ve gizli durumları çıkarsamak için temel görevi görürler.\n",
        "Gözlemler, bir cümledeki kelimeler gibi gizli durumlar tarafından üretilen görünür olaylardır. Bunlar gözlemleyebileceğimiz ve ölçebileceğimiz veri noktalarıdır ve gizli durumları çıkarsamaya yardımcı olurlar. Gözlemler, Gizli Markov Modeli'ndeki (HMM) gizli durumları çıkarsamanın temelini oluşturur.\n",
        "Örneğin, sözcük türü etiketlemesinde, bir cümledeki gözlemlenen kelimeler gözlemlerdir, altta yatan dil bilgisi kategorileri (isimler, fiiller, vb.) ise gizli durumlardır. Gözlem dizisini analiz ederek, HMM'leri kullanarak gizli durumların en olası dizisini tahmin edebilir ve metnin yapısı ve anlamı hakkında değerli içgörüler sağlayabiliriz."
      ],
      "metadata": {
        "id": "xuLmCEHQccMR"
      }
    },
    {
      "cell_type": "markdown",
      "source": [
        "**Geçiş Olasılıkları**\n",
        "\n",
        "Geçiş olasılıkları, bir sistemde bir durumdan diğerine geçme olasılığını ifade eder. Bunlar, ardışık adımlarda gizli durumlar arasında geçiş yapma şanslarını tanımlamak için kullanılır. Örneğin, bir dil modelinde bu, bir fiil durumundan bir isim durumuna geçiş yapma olasılığını gösterebilir.\n",
        "Bu olasılıklar, durumların sırasını ve akışını anlamanın önemli olduğu Doğal Dil İşleme (NLP) gibi çeşitli uygulamalarda kritik öneme sahiptir. Gizli Markov Modeli (HMM) bağlamında, geçiş olasılıkları, mevcut duruma dayalı olarak bir sonraki durumu tahmin etmeye yardımcı olur ve böylece modelin veri dizilerini etkili bir şekilde oluşturmasına veya analiz etmesine olanak tanır.\n",
        "Örneğin, bir sözcük türü etiketleme görevinde, geçiş olasılıkları bir isimden bir fiile veya bir sıfattan bir isme geçme olasılığını tanımlayabilir. Bu bilgi, modelin cümlelerin dilbilgisi yapısını anlamasına yardımcı olur ve daha doğru tahminler yapmasını sağlar.\n",
        "Özetle, geçiş olasılıkları, sıralı verilerle ilgilenen modellerde temel bir bileşendir ve farklı durumlar arasındaki akışı tahmin etmek için istatistiksel bir temel sağlar. Dil modelleme, konuşma tanıma ve diğer birçok NLP görevi gibi durum dizilerinin anlaşılmasını gerektiren uygulamalar için olmazsa olmazdır.\n",
        "\n",
        "**Emisyon Olasılıkları**\n",
        "\n",
        "Emisyon olasılıkları, gözlemlenebilir bir olayın gizli bir durumdan üretilme olasılığını tanımlar. \"Koş\" kelimesi gibi belirli bir gözlemin fiil durumu gibi belirli bir gizli durum tarafından üretilme olasılığını niceliksel olarak belirler. Örneğin, bir sözcük türü etiketleme görevinde, emisyon olasılıkları belirli bir sözcüğün belirli bir dilbilgisi kategorisiyle ilişkilendirilme olasılığını belirlemeye yardımcı olur.\n",
        "Bu olasılıklar, gizli durumlar ile gözlenen veriler arasındaki ilişkiyi anlamak için çok önemlidir ve modelin, gözlenen kelime dizisine dayanarak gizli durumların dizisi hakkında bilinçli tahminlerde bulunmasını sağlar.\n",
        "Emisyon olasılıklarını doğru bir şekilde tahmin ederek, Gizli Markov Modelleri (HMM'ler) gibi modellerin konuşma tanıma, adlandırılmış varlık tanıma ve diğer dizi analizi uygulamaları gibi görevlerdeki performansını artırabiliriz.\n",
        "\n",
        "**İlk Olasılıklar**\n",
        "\n",
        "Başlangıç ​​Olasılıkları, bir sistemin her bir durumunda başlama şanslarıdır. Gözlem dizisinin başlangıcında sistemin belirli bir durumda olma olasılığını gösterirler. Bu başlangıç ​​dağılımı, modelin durum dizisini kurmak için önemlidir.\n",
        "Gizli Markov Modelleri (HMM'ler) bağlamında, başlangıç ​​olasılıkları gizli durum dizisinin başlangıç ​​noktasını belirlemeye yardımcı olur. Örneğin, bir HMM'yi sözcük türü etiketleme için kullanıyorsanız, başlangıç ​​olasılıkları bir cümlenin bir isimle mi yoksa bir fiille mi başladığını temsil edebilir.\n",
        "Başlangıç ​​olasılıkları, her bir elemanın belirli bir durumda başlama olasılığına karşılık geldiği bir vektör olarak gösterilir. Bu olasılıklar, modelin tüm olası başlangıç ​​durumlarını hesaba kattığından emin olmak için bire toplanmalıdır.\n",
        "Başlangıç ​​olasılıklarını doğru bir şekilde tanımlamak, HMM'nin performansı için çok önemlidir, çünkü modelin gözlemlenen verilerden gizli durumların sırasını doğru bir şekilde tahmin etme yeteneğini etkiler. Başlangıç ​​olasılıkları iyi tahmin edilmezse, model başlangıç ​​durumu hakkında yanlış varsayımlarda bulunabilir ve bu da potansiyel olarak daha az doğru tahminlere yol açabilir.\n",
        "\n",
        "Özetlemek gerekirse, başlangıç ​​olasılıkları HMM'lerin temel bir bileşenidir, gizli durum dizisinin başlangıç ​​noktasını sağlar ve modelin tahmin doğruluğunu önemli ölçüde etkiler.\n",
        "Bu bileşenler birlikte bir HMM'nin omurgasını oluşturur ve veri dizilerini modellemesini ve gözlemlenebilir desenler üreten gizli süreçleri ortaya çıkarmasını sağlar. Bu öğeler arasındaki etkileşim, sıralı verilerin etkili bir şekilde analiz edilmesini ve tahmin edilmesini sağlar ve HMM'leri çeşitli uygulamalarda güçlü bir araç haline getirir."
      ],
      "metadata": {
        "id": "lMSnR8sXcuK5"
      }
    },
    {
      "cell_type": "markdown",
      "source": [
        "![image.png](data:image/png;base64,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)"
      ],
      "metadata": {
        "id": "D60qF1nddDNe"
      }
    },
    {
      "cell_type": "code",
      "source": [
        "!pip install hmmlearn"
      ],
      "metadata": {
        "colab": {
          "base_uri": "https://localhost:8080/"
        },
        "id": "g1M2rVqLm9pE",
        "outputId": "966a1813-4679-4b5e-9bb6-39639d602ced"
      },
      "execution_count": null,
      "outputs": [
        {
          "output_type": "stream",
          "name": "stdout",
          "text": [
            "Collecting hmmlearn\n",
            "  Downloading hmmlearn-0.3.3-cp311-cp311-manylinux_2_17_x86_64.manylinux2014_x86_64.whl.metadata (3.0 kB)\n",
            "Requirement already satisfied: numpy>=1.10 in /usr/local/lib/python3.11/dist-packages (from hmmlearn) (1.26.4)\n",
            "Requirement already satisfied: scikit-learn!=0.22.0,>=0.16 in /usr/local/lib/python3.11/dist-packages (from hmmlearn) (1.6.1)\n",
            "Requirement already satisfied: scipy>=0.19 in /usr/local/lib/python3.11/dist-packages (from hmmlearn) (1.13.1)\n",
            "Requirement already satisfied: joblib>=1.2.0 in /usr/local/lib/python3.11/dist-packages (from scikit-learn!=0.22.0,>=0.16->hmmlearn) (1.4.2)\n",
            "Requirement already satisfied: threadpoolctl>=3.1.0 in /usr/local/lib/python3.11/dist-packages (from scikit-learn!=0.22.0,>=0.16->hmmlearn) (3.5.0)\n",
            "Downloading hmmlearn-0.3.3-cp311-cp311-manylinux_2_17_x86_64.manylinux2014_x86_64.whl (165 kB)\n",
            "\u001b[?25l   \u001b[90m━━━━━━━━━━━━━━━━━━━━━━━━━━━━━━━━━━━━━━━━\u001b[0m \u001b[32m0.0/165.9 kB\u001b[0m \u001b[31m?\u001b[0m eta \u001b[36m-:--:--\u001b[0m\r\u001b[2K   \u001b[91m━━━━━━━━━━━━━━━━━━━━━━━━━━━━━━━━━━━━━━━\u001b[0m\u001b[91m╸\u001b[0m \u001b[32m163.8/165.9 kB\u001b[0m \u001b[31m5.2 MB/s\u001b[0m eta \u001b[36m0:00:01\u001b[0m\r\u001b[2K   \u001b[90m━━━━━━━━━━━━━━━━━━━━━━━━━━━━━━━━━━━━━━━━\u001b[0m \u001b[32m165.9/165.9 kB\u001b[0m \u001b[31m3.7 MB/s\u001b[0m eta \u001b[36m0:00:00\u001b[0m\n",
            "\u001b[?25hInstalling collected packages: hmmlearn\n",
            "Successfully installed hmmlearn-0.3.3\n"
          ]
        }
      ]
    },
    {
      "cell_type": "code",
      "source": [
        "import numpy as np\n",
        "from hmmlearn import hmm\n",
        "\n",
        "# Define the states and observations\n",
        "states = [\"Noun\", \"Verb\"]\n",
        "n_states = len(states)\n",
        "observations = [\"I\", \"run\", \"to\", \"the\", \"store\"]\n",
        "n_observations = len(observations)\n",
        "\n",
        "# Transition probability matrix (A)\n",
        "transition_probability = np.array([\n",
        "    [0.7, 0.3],  # From Noun to [Noun, Verb]\n",
        "    [0.4, 0.6]   # From Verb to [Noun, Verb]\n",
        "])\n",
        "\n",
        "# Emission probability matrix (B)\n",
        "emission_probability = np.array([\n",
        "    [0.2, 0.3, 0.2, 0.1, 0.2],  # From Noun to [\"I\", \"run\", \"to\", \"the\", \"store\"]\n",
        "    [0.1, 0.6, 0.1, 0.1, 0.1]   # From Verb to [\"I\", \"run\", \"to\", \"the\", \"store\"]\n",
        "])\n",
        "\n",
        "# Initial probability vector (pi)\n",
        "start_probability = np.array([0.6, 0.4])  # [Noun, Verb]\n",
        "\n",
        "# Create the HMM model WITHOUT n_trials\n",
        "model = hmm.MultinomialHMM(n_components=n_states)\n",
        "model.startprob_ = start_probability\n",
        "model.transmat_ = transition_probability\n",
        "model.emissionprob_ = emission_probability\n",
        "\n",
        "# Encode the observations to integers\n",
        "observation_sequence = [0, 1, 2, 3, 4]  # \"I\", \"run\", \"to\", \"the\", \"store\"\n",
        "observation_sequence = np.array(observation_sequence).reshape(-1, 1)\n",
        "\n",
        "# Specify the number of features explicitly\n",
        "model.n_features = n_observations\n",
        "\n",
        "# No need to fit the model if you are directly specifying parameters\n",
        "\n",
        "\n",
        "logprob, hidden_states = model.decode(observation_sequence, algorithm=\"viterbi\")\n",
        "\n",
        "print(\"Observations:\", [observations[i] for i in observation_sequence.flatten()])\n",
        "print(\"Hidden states:\", [states[i] for i in hidden_states])\n"
      ],
      "metadata": {
        "id": "vBUr3IGSnu7i"
      },
      "execution_count": null,
      "outputs": []
    },
    {
      "cell_type": "markdown",
      "source": [
        "## **4.3 Tekrarlayan Sinir Ağları (RNN'ler)**"
      ],
      "metadata": {
        "id": "pl_QW4V0n0EA"
      }
    },
    {
      "cell_type": "markdown",
      "source": [
        "Tekrarlayan Sinir Ağları (RNN'ler), sıralı verileri işlemek için özel olarak tasarlanmış büyüleyici ve oldukça uzmanlaşmış bir sinir ağı sınıfıdır. Zamansal bağımlılıkları dikkate almadan girdileri basit bir şekilde işleyen geleneksel ileri beslemeli sinir ağlarının aksine, RNN'ler yönlendirilmiş döngüler oluşturan bağlantılara sahiptir. Bu benzersiz yapı, zaman içinde önceki girdiler hakkında bilgileri etkili bir şekilde yakalayan ve koruyan gizli bir durumu korumalarını sağlar.\n",
        "Geçmiş girdileri hatırlama yeteneği, RNN'leri özellikle zaman serisi verilerini içeren ve veri noktalarının sırasının ve zamanlamasının kritik olduğu çok çeşitli görevler için uygun hale getirir. Örneğin, doğal dil işlemede (NLP), RNN'ler bir cümledeki önceki kelimelerin sağladığı bağlamı dikkate alarak metni anlayabilir ve üretebilir.\n",
        "Ek olarak, konuşma tanıma, video analizi ve finansal tahmin gibi verilerin zamansal veya ardışık düzeninin önemli olduğu diğer alanları ele almada da ustadırlar. RNN'lerin çok yönlülüğü ve güçlü yetenekleri, onları birçok gelişmiş makine öğrenimi uygulamasında paha biçilmez bir araç haline getirir."
      ],
      "metadata": {
        "id": "uUzszH3DoCL2"
      }
    },
    {
      "cell_type": "code",
      "source": [
        "import numpy as np\n",
        "import tensorflow as tf\n",
        "from tensorflow.keras.models import Sequential\n",
        "from tensorflow.keras.layers import Dense, SimpleRNN\n",
        "from tensorflow.keras.utils import to_categorical\n",
        "\n",
        "# Sample text corpus\n",
        "text = \"merhaba işe yaramazlar\"\n",
        "\n",
        "# Create a character-level vocabulary\n",
        "chars = sorted(set(text))\n",
        "char_to_idx = {char: idx for idx, char in enumerate(chars)}\n",
        "idx_to_char = {idx: char for char, idx in char_to_idx.items()}\n",
        "\n",
        "# Create input-output pairs for training\n",
        "sequence_length = 2\n",
        "X = []\n",
        "y = []\n",
        "for i in range(len(text) - sequence_length):\n",
        "    X.append([char_to_idx[char] for char in text[i:i + sequence_length]])\n",
        "    y.append(char_to_idx[text[i + sequence_length]])\n",
        "\n",
        "X = np.array(X)\n",
        "y = to_categorical(y, num_classes=len(chars))\n",
        "\n",
        "# Reshape input to be compatible with RNN input\n",
        "X = X.reshape((X.shape[0], X.shape[1], 1))\n",
        "\n",
        "# Define the RNN model\n",
        "model = Sequential()\n",
        "model.add(SimpleRNN(20, input_shape=(sequence_length, 1)))\n",
        "model.add(Dense(len(chars), activation='softmax'))\n",
        "\n",
        "# Compile the model\n",
        "model.compile(optimizer='adam', loss='categorical_crossentropy')\n",
        "\n",
        "# Train the model\n",
        "model.fit(X, y, epochs=500, verbose=2)\n",
        "\n"
      ],
      "metadata": {
        "colab": {
          "base_uri": "https://localhost:8080/"
        },
        "collapsed": true,
        "id": "ByltdWJApOMp",
        "outputId": "a50e1019-e07e-4eee-e7cd-a5c9a7e2b5c7"
      },
      "execution_count": null,
      "outputs": [
        {
          "output_type": "stream",
          "name": "stdout",
          "text": [
            "Epoch 1/500\n",
            "1/1 - 2s - 2s/step - loss: 2.3282\n",
            "Epoch 2/500\n",
            "1/1 - 0s - 60ms/step - loss: 2.3142\n",
            "Epoch 3/500\n",
            "1/1 - 0s - 61ms/step - loss: 2.3004\n",
            "Epoch 4/500\n",
            "1/1 - 0s - 61ms/step - loss: 2.2870\n",
            "Epoch 5/500\n",
            "1/1 - 0s - 60ms/step - loss: 2.2738\n",
            "Epoch 6/500\n",
            "1/1 - 0s - 72ms/step - loss: 2.2610\n",
            "Epoch 7/500\n",
            "1/1 - 0s - 44ms/step - loss: 2.2484\n",
            "Epoch 8/500\n",
            "1/1 - 0s - 46ms/step - loss: 2.2361\n",
            "Epoch 9/500\n",
            "1/1 - 0s - 46ms/step - loss: 2.2241\n",
            "Epoch 10/500\n",
            "1/1 - 0s - 61ms/step - loss: 2.2123\n",
            "Epoch 11/500\n",
            "1/1 - 0s - 61ms/step - loss: 2.2007\n",
            "Epoch 12/500\n",
            "1/1 - 0s - 59ms/step - loss: 2.1894\n",
            "Epoch 13/500\n",
            "1/1 - 0s - 46ms/step - loss: 2.1782\n",
            "Epoch 14/500\n",
            "1/1 - 0s - 60ms/step - loss: 2.1673\n",
            "Epoch 15/500\n",
            "1/1 - 0s - 48ms/step - loss: 2.1565\n",
            "Epoch 16/500\n",
            "1/1 - 0s - 46ms/step - loss: 2.1459\n",
            "Epoch 17/500\n",
            "1/1 - 0s - 59ms/step - loss: 2.1354\n",
            "Epoch 18/500\n",
            "1/1 - 0s - 62ms/step - loss: 2.1252\n",
            "Epoch 19/500\n",
            "1/1 - 0s - 59ms/step - loss: 2.1150\n",
            "Epoch 20/500\n",
            "1/1 - 0s - 62ms/step - loss: 2.1051\n",
            "Epoch 21/500\n",
            "1/1 - 0s - 58ms/step - loss: 2.0953\n",
            "Epoch 22/500\n",
            "1/1 - 0s - 59ms/step - loss: 2.0856\n",
            "Epoch 23/500\n",
            "1/1 - 0s - 53ms/step - loss: 2.0761\n",
            "Epoch 24/500\n",
            "1/1 - 0s - 74ms/step - loss: 2.0667\n",
            "Epoch 25/500\n",
            "1/1 - 0s - 53ms/step - loss: 2.0575\n",
            "Epoch 26/500\n",
            "1/1 - 0s - 61ms/step - loss: 2.0485\n",
            "Epoch 27/500\n",
            "1/1 - 0s - 46ms/step - loss: 2.0396\n",
            "Epoch 28/500\n",
            "1/1 - 0s - 61ms/step - loss: 2.0308\n",
            "Epoch 29/500\n",
            "1/1 - 0s - 60ms/step - loss: 2.0222\n",
            "Epoch 30/500\n",
            "1/1 - 0s - 59ms/step - loss: 2.0137\n",
            "Epoch 31/500\n",
            "1/1 - 0s - 44ms/step - loss: 2.0054\n",
            "Epoch 32/500\n",
            "1/1 - 0s - 46ms/step - loss: 1.9972\n",
            "Epoch 33/500\n",
            "1/1 - 0s - 60ms/step - loss: 1.9891\n",
            "Epoch 34/500\n",
            "1/1 - 0s - 62ms/step - loss: 1.9812\n",
            "Epoch 35/500\n",
            "1/1 - 0s - 62ms/step - loss: 1.9734\n",
            "Epoch 36/500\n",
            "1/1 - 0s - 59ms/step - loss: 1.9657\n",
            "Epoch 37/500\n",
            "1/1 - 0s - 59ms/step - loss: 1.9581\n",
            "Epoch 38/500\n",
            "1/1 - 0s - 61ms/step - loss: 1.9507\n",
            "Epoch 39/500\n",
            "1/1 - 0s - 60ms/step - loss: 1.9434\n",
            "Epoch 40/500\n",
            "1/1 - 0s - 68ms/step - loss: 1.9362\n",
            "Epoch 41/500\n",
            "1/1 - 0s - 135ms/step - loss: 1.9291\n",
            "Epoch 42/500\n",
            "1/1 - 0s - 48ms/step - loss: 1.9221\n",
            "Epoch 43/500\n",
            "1/1 - 0s - 48ms/step - loss: 1.9152\n",
            "Epoch 44/500\n",
            "1/1 - 0s - 45ms/step - loss: 1.9084\n",
            "Epoch 45/500\n",
            "1/1 - 0s - 62ms/step - loss: 1.9018\n",
            "Epoch 46/500\n",
            "1/1 - 0s - 47ms/step - loss: 1.8952\n",
            "Epoch 47/500\n",
            "1/1 - 0s - 59ms/step - loss: 1.8887\n",
            "Epoch 48/500\n",
            "1/1 - 0s - 59ms/step - loss: 1.8823\n",
            "Epoch 49/500\n",
            "1/1 - 0s - 45ms/step - loss: 1.8760\n",
            "Epoch 50/500\n",
            "1/1 - 0s - 60ms/step - loss: 1.8697\n",
            "Epoch 51/500\n",
            "1/1 - 0s - 60ms/step - loss: 1.8635\n",
            "Epoch 52/500\n",
            "1/1 - 0s - 60ms/step - loss: 1.8574\n",
            "Epoch 53/500\n",
            "1/1 - 0s - 62ms/step - loss: 1.8514\n",
            "Epoch 54/500\n",
            "1/1 - 0s - 61ms/step - loss: 1.8455\n",
            "Epoch 55/500\n",
            "1/1 - 0s - 72ms/step - loss: 1.8396\n",
            "Epoch 56/500\n",
            "1/1 - 0s - 128ms/step - loss: 1.8338\n",
            "Epoch 57/500\n",
            "1/1 - 0s - 60ms/step - loss: 1.8280\n",
            "Epoch 58/500\n",
            "1/1 - 0s - 59ms/step - loss: 1.8223\n",
            "Epoch 59/500\n",
            "1/1 - 0s - 58ms/step - loss: 1.8167\n",
            "Epoch 60/500\n",
            "1/1 - 0s - 60ms/step - loss: 1.8111\n",
            "Epoch 61/500\n",
            "1/1 - 0s - 44ms/step - loss: 1.8056\n",
            "Epoch 62/500\n",
            "1/1 - 0s - 60ms/step - loss: 1.8002\n",
            "Epoch 63/500\n",
            "1/1 - 0s - 46ms/step - loss: 1.7948\n",
            "Epoch 64/500\n",
            "1/1 - 0s - 58ms/step - loss: 1.7894\n",
            "Epoch 65/500\n",
            "1/1 - 0s - 62ms/step - loss: 1.7841\n",
            "Epoch 66/500\n",
            "1/1 - 0s - 58ms/step - loss: 1.7789\n",
            "Epoch 67/500\n",
            "1/1 - 0s - 59ms/step - loss: 1.7737\n",
            "Epoch 68/500\n",
            "1/1 - 0s - 61ms/step - loss: 1.7686\n",
            "Epoch 69/500\n",
            "1/1 - 0s - 61ms/step - loss: 1.7635\n",
            "Epoch 70/500\n",
            "1/1 - 0s - 67ms/step - loss: 1.7585\n",
            "Epoch 71/500\n",
            "1/1 - 0s - 59ms/step - loss: 1.7535\n",
            "Epoch 72/500\n",
            "1/1 - 0s - 61ms/step - loss: 1.7486\n",
            "Epoch 73/500\n",
            "1/1 - 0s - 45ms/step - loss: 1.7437\n",
            "Epoch 74/500\n",
            "1/1 - 0s - 61ms/step - loss: 1.7389\n",
            "Epoch 75/500\n",
            "1/1 - 0s - 60ms/step - loss: 1.7342\n",
            "Epoch 76/500\n",
            "1/1 - 0s - 61ms/step - loss: 1.7294\n",
            "Epoch 77/500\n",
            "1/1 - 0s - 60ms/step - loss: 1.7248\n",
            "Epoch 78/500\n",
            "1/1 - 0s - 48ms/step - loss: 1.7202\n",
            "Epoch 79/500\n",
            "1/1 - 0s - 43ms/step - loss: 1.7156\n",
            "Epoch 80/500\n",
            "1/1 - 0s - 61ms/step - loss: 1.7111\n",
            "Epoch 81/500\n",
            "1/1 - 0s - 45ms/step - loss: 1.7067\n",
            "Epoch 82/500\n",
            "1/1 - 0s - 61ms/step - loss: 1.7023\n",
            "Epoch 83/500\n",
            "1/1 - 0s - 45ms/step - loss: 1.6980\n",
            "Epoch 84/500\n",
            "1/1 - 0s - 61ms/step - loss: 1.6937\n",
            "Epoch 85/500\n",
            "1/1 - 0s - 62ms/step - loss: 1.6895\n",
            "Epoch 86/500\n",
            "1/1 - 0s - 60ms/step - loss: 1.6853\n",
            "Epoch 87/500\n",
            "1/1 - 0s - 67ms/step - loss: 1.6811\n",
            "Epoch 88/500\n",
            "1/1 - 0s - 55ms/step - loss: 1.6770\n",
            "Epoch 89/500\n",
            "1/1 - 0s - 58ms/step - loss: 1.6730\n",
            "Epoch 90/500\n",
            "1/1 - 0s - 61ms/step - loss: 1.6690\n",
            "Epoch 91/500\n",
            "1/1 - 0s - 64ms/step - loss: 1.6650\n",
            "Epoch 92/500\n",
            "1/1 - 0s - 51ms/step - loss: 1.6611\n",
            "Epoch 93/500\n",
            "1/1 - 0s - 47ms/step - loss: 1.6573\n",
            "Epoch 94/500\n",
            "1/1 - 0s - 61ms/step - loss: 1.6534\n",
            "Epoch 95/500\n",
            "1/1 - 0s - 44ms/step - loss: 1.6496\n",
            "Epoch 96/500\n",
            "1/1 - 0s - 61ms/step - loss: 1.6459\n",
            "Epoch 97/500\n",
            "1/1 - 0s - 45ms/step - loss: 1.6422\n",
            "Epoch 98/500\n",
            "1/1 - 0s - 72ms/step - loss: 1.6385\n",
            "Epoch 99/500\n",
            "1/1 - 0s - 68ms/step - loss: 1.6348\n",
            "Epoch 100/500\n",
            "1/1 - 0s - 69ms/step - loss: 1.6312\n",
            "Epoch 101/500\n",
            "1/1 - 0s - 140ms/step - loss: 1.6276\n",
            "Epoch 102/500\n",
            "1/1 - 0s - 138ms/step - loss: 1.6241\n",
            "Epoch 103/500\n",
            "1/1 - 0s - 141ms/step - loss: 1.6205\n",
            "Epoch 104/500\n",
            "1/1 - 0s - 68ms/step - loss: 1.6170\n",
            "Epoch 105/500\n",
            "1/1 - 0s - 71ms/step - loss: 1.6135\n",
            "Epoch 106/500\n",
            "1/1 - 0s - 68ms/step - loss: 1.6100\n",
            "Epoch 107/500\n",
            "1/1 - 0s - 140ms/step - loss: 1.6066\n",
            "Epoch 108/500\n",
            "1/1 - 0s - 141ms/step - loss: 1.6032\n",
            "Epoch 109/500\n",
            "1/1 - 0s - 144ms/step - loss: 1.5998\n",
            "Epoch 110/500\n",
            "1/1 - 0s - 141ms/step - loss: 1.5964\n",
            "Epoch 111/500\n",
            "1/1 - 0s - 144ms/step - loss: 1.5930\n",
            "Epoch 112/500\n",
            "1/1 - 0s - 81ms/step - loss: 1.5897\n",
            "Epoch 113/500\n",
            "1/1 - 0s - 68ms/step - loss: 1.5863\n",
            "Epoch 114/500\n",
            "1/1 - 0s - 141ms/step - loss: 1.5830\n",
            "Epoch 115/500\n",
            "1/1 - 0s - 63ms/step - loss: 1.5797\n",
            "Epoch 116/500\n",
            "1/1 - 0s - 44ms/step - loss: 1.5764\n",
            "Epoch 117/500\n",
            "1/1 - 0s - 44ms/step - loss: 1.5731\n",
            "Epoch 118/500\n",
            "1/1 - 0s - 60ms/step - loss: 1.5698\n",
            "Epoch 119/500\n",
            "1/1 - 0s - 62ms/step - loss: 1.5665\n",
            "Epoch 120/500\n",
            "1/1 - 0s - 45ms/step - loss: 1.5632\n",
            "Epoch 121/500\n",
            "1/1 - 0s - 59ms/step - loss: 1.5599\n",
            "Epoch 122/500\n",
            "1/1 - 0s - 61ms/step - loss: 1.5566\n",
            "Epoch 123/500\n",
            "1/1 - 0s - 66ms/step - loss: 1.5533\n",
            "Epoch 124/500\n",
            "1/1 - 0s - 55ms/step - loss: 1.5500\n",
            "Epoch 125/500\n",
            "1/1 - 0s - 44ms/step - loss: 1.5467\n",
            "Epoch 126/500\n",
            "1/1 - 0s - 44ms/step - loss: 1.5433\n",
            "Epoch 127/500\n",
            "1/1 - 0s - 62ms/step - loss: 1.5400\n",
            "Epoch 128/500\n",
            "1/1 - 0s - 59ms/step - loss: 1.5366\n",
            "Epoch 129/500\n",
            "1/1 - 0s - 44ms/step - loss: 1.5332\n",
            "Epoch 130/500\n",
            "1/1 - 0s - 45ms/step - loss: 1.5297\n",
            "Epoch 131/500\n",
            "1/1 - 0s - 60ms/step - loss: 1.5263\n",
            "Epoch 132/500\n",
            "1/1 - 0s - 43ms/step - loss: 1.5228\n",
            "Epoch 133/500\n",
            "1/1 - 0s - 63ms/step - loss: 1.5192\n",
            "Epoch 134/500\n",
            "1/1 - 0s - 45ms/step - loss: 1.5157\n",
            "Epoch 135/500\n",
            "1/1 - 0s - 58ms/step - loss: 1.5121\n",
            "Epoch 136/500\n",
            "1/1 - 0s - 60ms/step - loss: 1.5084\n",
            "Epoch 137/500\n",
            "1/1 - 0s - 60ms/step - loss: 1.5048\n",
            "Epoch 138/500\n",
            "1/1 - 0s - 60ms/step - loss: 1.5011\n",
            "Epoch 139/500\n",
            "1/1 - 0s - 44ms/step - loss: 1.4974\n",
            "Epoch 140/500\n",
            "1/1 - 0s - 60ms/step - loss: 1.4937\n",
            "Epoch 141/500\n",
            "1/1 - 0s - 54ms/step - loss: 1.4900\n",
            "Epoch 142/500\n",
            "1/1 - 0s - 55ms/step - loss: 1.4863\n",
            "Epoch 143/500\n",
            "1/1 - 0s - 45ms/step - loss: 1.4827\n",
            "Epoch 144/500\n",
            "1/1 - 0s - 60ms/step - loss: 1.4790\n",
            "Epoch 145/500\n",
            "1/1 - 0s - 45ms/step - loss: 1.4755\n",
            "Epoch 146/500\n",
            "1/1 - 0s - 60ms/step - loss: 1.4719\n",
            "Epoch 147/500\n",
            "1/1 - 0s - 58ms/step - loss: 1.4684\n",
            "Epoch 148/500\n",
            "1/1 - 0s - 60ms/step - loss: 1.4650\n",
            "Epoch 149/500\n",
            "1/1 - 0s - 43ms/step - loss: 1.4617\n",
            "Epoch 150/500\n",
            "1/1 - 0s - 44ms/step - loss: 1.4583\n",
            "Epoch 151/500\n",
            "1/1 - 0s - 60ms/step - loss: 1.4551\n",
            "Epoch 152/500\n",
            "1/1 - 0s - 60ms/step - loss: 1.4519\n",
            "Epoch 153/500\n",
            "1/1 - 0s - 60ms/step - loss: 1.4487\n",
            "Epoch 154/500\n",
            "1/1 - 0s - 62ms/step - loss: 1.4456\n",
            "Epoch 155/500\n",
            "1/1 - 0s - 60ms/step - loss: 1.4425\n",
            "Epoch 156/500\n",
            "1/1 - 0s - 45ms/step - loss: 1.4394\n",
            "Epoch 157/500\n",
            "1/1 - 0s - 43ms/step - loss: 1.4363\n",
            "Epoch 158/500\n",
            "1/1 - 0s - 67ms/step - loss: 1.4332\n",
            "Epoch 159/500\n",
            "1/1 - 0s - 59ms/step - loss: 1.4302\n",
            "Epoch 160/500\n",
            "1/1 - 0s - 57ms/step - loss: 1.4271\n",
            "Epoch 161/500\n",
            "1/1 - 0s - 46ms/step - loss: 1.4241\n",
            "Epoch 162/500\n",
            "1/1 - 0s - 46ms/step - loss: 1.4210\n",
            "Epoch 163/500\n",
            "1/1 - 0s - 64ms/step - loss: 1.4180\n",
            "Epoch 164/500\n",
            "1/1 - 0s - 55ms/step - loss: 1.4150\n",
            "Epoch 165/500\n",
            "1/1 - 0s - 46ms/step - loss: 1.4120\n",
            "Epoch 166/500\n",
            "1/1 - 0s - 59ms/step - loss: 1.4090\n",
            "Epoch 167/500\n",
            "1/1 - 0s - 62ms/step - loss: 1.4059\n",
            "Epoch 168/500\n",
            "1/1 - 0s - 45ms/step - loss: 1.4029\n",
            "Epoch 169/500\n",
            "1/1 - 0s - 59ms/step - loss: 1.4000\n",
            "Epoch 170/500\n",
            "1/1 - 0s - 47ms/step - loss: 1.3970\n",
            "Epoch 171/500\n",
            "1/1 - 0s - 45ms/step - loss: 1.3940\n",
            "Epoch 172/500\n",
            "1/1 - 0s - 45ms/step - loss: 1.3910\n",
            "Epoch 173/500\n",
            "1/1 - 0s - 61ms/step - loss: 1.3881\n",
            "Epoch 174/500\n",
            "1/1 - 0s - 44ms/step - loss: 1.3851\n",
            "Epoch 175/500\n",
            "1/1 - 0s - 60ms/step - loss: 1.3822\n",
            "Epoch 176/500\n",
            "1/1 - 0s - 67ms/step - loss: 1.3792\n",
            "Epoch 177/500\n",
            "1/1 - 0s - 57ms/step - loss: 1.3763\n",
            "Epoch 178/500\n",
            "1/1 - 0s - 45ms/step - loss: 1.3734\n",
            "Epoch 179/500\n",
            "1/1 - 0s - 46ms/step - loss: 1.3705\n",
            "Epoch 180/500\n",
            "1/1 - 0s - 60ms/step - loss: 1.3676\n",
            "Epoch 181/500\n",
            "1/1 - 0s - 60ms/step - loss: 1.3647\n",
            "Epoch 182/500\n",
            "1/1 - 0s - 59ms/step - loss: 1.3618\n",
            "Epoch 183/500\n",
            "1/1 - 0s - 61ms/step - loss: 1.3589\n",
            "Epoch 184/500\n",
            "1/1 - 0s - 59ms/step - loss: 1.3560\n",
            "Epoch 185/500\n",
            "1/1 - 0s - 62ms/step - loss: 1.3531\n",
            "Epoch 186/500\n",
            "1/1 - 0s - 59ms/step - loss: 1.3502\n",
            "Epoch 187/500\n",
            "1/1 - 0s - 66ms/step - loss: 1.3473\n",
            "Epoch 188/500\n",
            "1/1 - 0s - 58ms/step - loss: 1.3445\n",
            "Epoch 189/500\n",
            "1/1 - 0s - 58ms/step - loss: 1.3416\n",
            "Epoch 190/500\n",
            "1/1 - 0s - 61ms/step - loss: 1.3387\n",
            "Epoch 191/500\n",
            "1/1 - 0s - 60ms/step - loss: 1.3359\n",
            "Epoch 192/500\n",
            "1/1 - 0s - 65ms/step - loss: 1.3330\n",
            "Epoch 193/500\n",
            "1/1 - 0s - 53ms/step - loss: 1.3302\n",
            "Epoch 194/500\n",
            "1/1 - 0s - 45ms/step - loss: 1.3273\n",
            "Epoch 195/500\n",
            "1/1 - 0s - 61ms/step - loss: 1.3245\n",
            "Epoch 196/500\n",
            "1/1 - 0s - 61ms/step - loss: 1.3216\n",
            "Epoch 197/500\n",
            "1/1 - 0s - 62ms/step - loss: 1.3188\n",
            "Epoch 198/500\n",
            "1/1 - 0s - 53ms/step - loss: 1.3160\n",
            "Epoch 199/500\n",
            "1/1 - 0s - 52ms/step - loss: 1.3132\n",
            "Epoch 200/500\n",
            "1/1 - 0s - 60ms/step - loss: 1.3103\n",
            "Epoch 201/500\n",
            "1/1 - 0s - 60ms/step - loss: 1.3075\n",
            "Epoch 202/500\n",
            "1/1 - 0s - 60ms/step - loss: 1.3047\n",
            "Epoch 203/500\n",
            "1/1 - 0s - 60ms/step - loss: 1.3019\n",
            "Epoch 204/500\n",
            "1/1 - 0s - 44ms/step - loss: 1.2991\n",
            "Epoch 205/500\n",
            "1/1 - 0s - 61ms/step - loss: 1.2963\n",
            "Epoch 206/500\n",
            "1/1 - 0s - 61ms/step - loss: 1.2935\n",
            "Epoch 207/500\n",
            "1/1 - 0s - 61ms/step - loss: 1.2907\n",
            "Epoch 208/500\n",
            "1/1 - 0s - 60ms/step - loss: 1.2879\n",
            "Epoch 209/500\n",
            "1/1 - 0s - 54ms/step - loss: 1.2851\n",
            "Epoch 210/500\n",
            "1/1 - 0s - 55ms/step - loss: 1.2823\n",
            "Epoch 211/500\n",
            "1/1 - 0s - 58ms/step - loss: 1.2795\n",
            "Epoch 212/500\n",
            "1/1 - 0s - 63ms/step - loss: 1.2768\n",
            "Epoch 213/500\n",
            "1/1 - 0s - 46ms/step - loss: 1.2740\n",
            "Epoch 214/500\n",
            "1/1 - 0s - 60ms/step - loss: 1.2712\n",
            "Epoch 215/500\n",
            "1/1 - 0s - 48ms/step - loss: 1.2685\n",
            "Epoch 216/500\n",
            "1/1 - 0s - 56ms/step - loss: 1.2657\n",
            "Epoch 217/500\n",
            "1/1 - 0s - 43ms/step - loss: 1.2630\n",
            "Epoch 218/500\n",
            "1/1 - 0s - 61ms/step - loss: 1.2602\n",
            "Epoch 219/500\n",
            "1/1 - 0s - 59ms/step - loss: 1.2575\n",
            "Epoch 220/500\n",
            "1/1 - 0s - 61ms/step - loss: 1.2547\n",
            "Epoch 221/500\n",
            "1/1 - 0s - 50ms/step - loss: 1.2520\n",
            "Epoch 222/500\n",
            "1/1 - 0s - 60ms/step - loss: 1.2493\n",
            "Epoch 223/500\n",
            "1/1 - 0s - 48ms/step - loss: 1.2466\n",
            "Epoch 224/500\n",
            "1/1 - 0s - 59ms/step - loss: 1.2438\n",
            "Epoch 225/500\n",
            "1/1 - 0s - 46ms/step - loss: 1.2411\n",
            "Epoch 226/500\n",
            "1/1 - 0s - 69ms/step - loss: 1.2384\n",
            "Epoch 227/500\n",
            "1/1 - 0s - 55ms/step - loss: 1.2357\n",
            "Epoch 228/500\n",
            "1/1 - 0s - 60ms/step - loss: 1.2330\n",
            "Epoch 229/500\n",
            "1/1 - 0s - 58ms/step - loss: 1.2304\n",
            "Epoch 230/500\n",
            "1/1 - 0s - 61ms/step - loss: 1.2277\n",
            "Epoch 231/500\n",
            "1/1 - 0s - 61ms/step - loss: 1.2250\n",
            "Epoch 232/500\n",
            "1/1 - 0s - 60ms/step - loss: 1.2223\n",
            "Epoch 233/500\n",
            "1/1 - 0s - 61ms/step - loss: 1.2197\n",
            "Epoch 234/500\n",
            "1/1 - 0s - 46ms/step - loss: 1.2170\n",
            "Epoch 235/500\n",
            "1/1 - 0s - 45ms/step - loss: 1.2144\n",
            "Epoch 236/500\n",
            "1/1 - 0s - 60ms/step - loss: 1.2117\n",
            "Epoch 237/500\n",
            "1/1 - 0s - 60ms/step - loss: 1.2091\n",
            "Epoch 238/500\n",
            "1/1 - 0s - 61ms/step - loss: 1.2065\n",
            "Epoch 239/500\n",
            "1/1 - 0s - 58ms/step - loss: 1.2038\n",
            "Epoch 240/500\n",
            "1/1 - 0s - 44ms/step - loss: 1.2012\n",
            "Epoch 241/500\n",
            "1/1 - 0s - 60ms/step - loss: 1.1986\n",
            "Epoch 242/500\n",
            "1/1 - 0s - 59ms/step - loss: 1.1960\n",
            "Epoch 243/500\n",
            "1/1 - 0s - 64ms/step - loss: 1.1934\n",
            "Epoch 244/500\n",
            "1/1 - 0s - 55ms/step - loss: 1.1908\n",
            "Epoch 245/500\n",
            "1/1 - 0s - 44ms/step - loss: 1.1883\n",
            "Epoch 246/500\n",
            "1/1 - 0s - 45ms/step - loss: 1.1857\n",
            "Epoch 247/500\n",
            "1/1 - 0s - 61ms/step - loss: 1.1831\n",
            "Epoch 248/500\n",
            "1/1 - 0s - 60ms/step - loss: 1.1806\n",
            "Epoch 249/500\n",
            "1/1 - 0s - 48ms/step - loss: 1.1780\n",
            "Epoch 250/500\n",
            "1/1 - 0s - 47ms/step - loss: 1.1755\n",
            "Epoch 251/500\n",
            "1/1 - 0s - 60ms/step - loss: 1.1729\n",
            "Epoch 252/500\n",
            "1/1 - 0s - 46ms/step - loss: 1.1704\n",
            "Epoch 253/500\n",
            "1/1 - 0s - 47ms/step - loss: 1.1679\n",
            "Epoch 254/500\n",
            "1/1 - 0s - 58ms/step - loss: 1.1654\n",
            "Epoch 255/500\n",
            "1/1 - 0s - 49ms/step - loss: 1.1628\n",
            "Epoch 256/500\n",
            "1/1 - 0s - 45ms/step - loss: 1.1603\n",
            "Epoch 257/500\n",
            "1/1 - 0s - 43ms/step - loss: 1.1579\n",
            "Epoch 258/500\n",
            "1/1 - 0s - 43ms/step - loss: 1.1554\n",
            "Epoch 259/500\n",
            "1/1 - 0s - 44ms/step - loss: 1.1529\n",
            "Epoch 260/500\n",
            "1/1 - 0s - 59ms/step - loss: 1.1504\n",
            "Epoch 261/500\n",
            "1/1 - 0s - 68ms/step - loss: 1.1480\n",
            "Epoch 262/500\n",
            "1/1 - 0s - 59ms/step - loss: 1.1455\n",
            "Epoch 263/500\n",
            "1/1 - 0s - 57ms/step - loss: 1.1431\n",
            "Epoch 264/500\n",
            "1/1 - 0s - 61ms/step - loss: 1.1406\n",
            "Epoch 265/500\n",
            "1/1 - 0s - 49ms/step - loss: 1.1382\n",
            "Epoch 266/500\n",
            "1/1 - 0s - 60ms/step - loss: 1.1357\n",
            "Epoch 267/500\n",
            "1/1 - 0s - 60ms/step - loss: 1.1333\n",
            "Epoch 268/500\n",
            "1/1 - 0s - 45ms/step - loss: 1.1309\n",
            "Epoch 269/500\n",
            "1/1 - 0s - 72ms/step - loss: 1.1285\n",
            "Epoch 270/500\n",
            "1/1 - 0s - 45ms/step - loss: 1.1261\n",
            "Epoch 271/500\n",
            "1/1 - 0s - 59ms/step - loss: 1.1237\n",
            "Epoch 272/500\n",
            "1/1 - 0s - 44ms/step - loss: 1.1213\n",
            "Epoch 273/500\n",
            "1/1 - 0s - 45ms/step - loss: 1.1190\n",
            "Epoch 274/500\n",
            "1/1 - 0s - 46ms/step - loss: 1.1166\n",
            "Epoch 275/500\n",
            "1/1 - 0s - 59ms/step - loss: 1.1143\n",
            "Epoch 276/500\n",
            "1/1 - 0s - 47ms/step - loss: 1.1119\n",
            "Epoch 277/500\n",
            "1/1 - 0s - 59ms/step - loss: 1.1096\n",
            "Epoch 278/500\n",
            "1/1 - 0s - 61ms/step - loss: 1.1072\n",
            "Epoch 279/500\n",
            "1/1 - 0s - 55ms/step - loss: 1.1049\n",
            "Epoch 280/500\n",
            "1/1 - 0s - 50ms/step - loss: 1.1026\n",
            "Epoch 281/500\n",
            "1/1 - 0s - 44ms/step - loss: 1.1003\n",
            "Epoch 282/500\n",
            "1/1 - 0s - 61ms/step - loss: 1.0979\n",
            "Epoch 283/500\n",
            "1/1 - 0s - 61ms/step - loss: 1.0956\n",
            "Epoch 284/500\n",
            "1/1 - 0s - 60ms/step - loss: 1.0934\n",
            "Epoch 285/500\n",
            "1/1 - 0s - 61ms/step - loss: 1.0911\n",
            "Epoch 286/500\n",
            "1/1 - 0s - 59ms/step - loss: 1.0888\n",
            "Epoch 287/500\n",
            "1/1 - 0s - 64ms/step - loss: 1.0865\n",
            "Epoch 288/500\n",
            "1/1 - 0s - 72ms/step - loss: 1.0843\n",
            "Epoch 289/500\n",
            "1/1 - 0s - 63ms/step - loss: 1.0820\n",
            "Epoch 290/500\n",
            "1/1 - 0s - 138ms/step - loss: 1.0797\n",
            "Epoch 291/500\n",
            "1/1 - 0s - 77ms/step - loss: 1.0775\n",
            "Epoch 292/500\n",
            "1/1 - 0s - 63ms/step - loss: 1.0753\n",
            "Epoch 293/500\n",
            "1/1 - 0s - 90ms/step - loss: 1.0730\n",
            "Epoch 294/500\n",
            "1/1 - 0s - 64ms/step - loss: 1.0708\n",
            "Epoch 295/500\n",
            "1/1 - 0s - 61ms/step - loss: 1.0686\n",
            "Epoch 296/500\n",
            "1/1 - 0s - 141ms/step - loss: 1.0664\n",
            "Epoch 297/500\n",
            "1/1 - 0s - 67ms/step - loss: 1.0642\n",
            "Epoch 298/500\n",
            "1/1 - 0s - 148ms/step - loss: 1.0620\n",
            "Epoch 299/500\n",
            "1/1 - 0s - 81ms/step - loss: 1.0598\n",
            "Epoch 300/500\n",
            "1/1 - 0s - 65ms/step - loss: 1.0576\n",
            "Epoch 301/500\n",
            "1/1 - 0s - 62ms/step - loss: 1.0554\n",
            "Epoch 302/500\n",
            "1/1 - 0s - 144ms/step - loss: 1.0533\n",
            "Epoch 303/500\n",
            "1/1 - 0s - 79ms/step - loss: 1.0511\n",
            "Epoch 304/500\n",
            "1/1 - 0s - 131ms/step - loss: 1.0489\n",
            "Epoch 305/500\n",
            "1/1 - 0s - 73ms/step - loss: 1.0468\n",
            "Epoch 306/500\n",
            "1/1 - 0s - 74ms/step - loss: 1.0446\n",
            "Epoch 307/500\n",
            "1/1 - 0s - 137ms/step - loss: 1.0425\n",
            "Epoch 308/500\n",
            "1/1 - 0s - 68ms/step - loss: 1.0404\n",
            "Epoch 309/500\n",
            "1/1 - 0s - 129ms/step - loss: 1.0382\n",
            "Epoch 310/500\n",
            "1/1 - 0s - 60ms/step - loss: 1.0361\n",
            "Epoch 311/500\n",
            "1/1 - 0s - 59ms/step - loss: 1.0340\n",
            "Epoch 312/500\n",
            "1/1 - 0s - 44ms/step - loss: 1.0319\n",
            "Epoch 313/500\n",
            "1/1 - 0s - 44ms/step - loss: 1.0297\n",
            "Epoch 314/500\n",
            "1/1 - 0s - 62ms/step - loss: 1.0276\n",
            "Epoch 315/500\n",
            "1/1 - 0s - 61ms/step - loss: 1.0255\n",
            "Epoch 316/500\n",
            "1/1 - 0s - 60ms/step - loss: 1.0235\n",
            "Epoch 317/500\n",
            "1/1 - 0s - 57ms/step - loss: 1.0214\n",
            "Epoch 318/500\n",
            "1/1 - 0s - 45ms/step - loss: 1.0193\n",
            "Epoch 319/500\n",
            "1/1 - 0s - 62ms/step - loss: 1.0172\n",
            "Epoch 320/500\n",
            "1/1 - 0s - 60ms/step - loss: 1.0151\n",
            "Epoch 321/500\n",
            "1/1 - 0s - 45ms/step - loss: 1.0131\n",
            "Epoch 322/500\n",
            "1/1 - 0s - 48ms/step - loss: 1.0110\n",
            "Epoch 323/500\n",
            "1/1 - 0s - 58ms/step - loss: 1.0089\n",
            "Epoch 324/500\n",
            "1/1 - 0s - 62ms/step - loss: 1.0069\n",
            "Epoch 325/500\n",
            "1/1 - 0s - 44ms/step - loss: 1.0048\n",
            "Epoch 326/500\n",
            "1/1 - 0s - 67ms/step - loss: 1.0028\n",
            "Epoch 327/500\n",
            "1/1 - 0s - 50ms/step - loss: 1.0007\n",
            "Epoch 328/500\n",
            "1/1 - 0s - 46ms/step - loss: 0.9987\n",
            "Epoch 329/500\n",
            "1/1 - 0s - 62ms/step - loss: 0.9967\n",
            "Epoch 330/500\n",
            "1/1 - 0s - 50ms/step - loss: 0.9946\n",
            "Epoch 331/500\n",
            "1/1 - 0s - 58ms/step - loss: 0.9926\n",
            "Epoch 332/500\n",
            "1/1 - 0s - 43ms/step - loss: 0.9906\n",
            "Epoch 333/500\n",
            "1/1 - 0s - 69ms/step - loss: 0.9886\n",
            "Epoch 334/500\n",
            "1/1 - 0s - 53ms/step - loss: 0.9865\n",
            "Epoch 335/500\n",
            "1/1 - 0s - 59ms/step - loss: 0.9845\n",
            "Epoch 336/500\n",
            "1/1 - 0s - 61ms/step - loss: 0.9825\n",
            "Epoch 337/500\n",
            "1/1 - 0s - 59ms/step - loss: 0.9805\n",
            "Epoch 338/500\n",
            "1/1 - 0s - 61ms/step - loss: 0.9785\n",
            "Epoch 339/500\n",
            "1/1 - 0s - 61ms/step - loss: 0.9765\n",
            "Epoch 340/500\n",
            "1/1 - 0s - 57ms/step - loss: 0.9745\n",
            "Epoch 341/500\n",
            "1/1 - 0s - 61ms/step - loss: 0.9726\n",
            "Epoch 342/500\n",
            "1/1 - 0s - 60ms/step - loss: 0.9706\n",
            "Epoch 343/500\n",
            "1/1 - 0s - 70ms/step - loss: 0.9686\n",
            "Epoch 344/500\n",
            "1/1 - 0s - 51ms/step - loss: 0.9666\n",
            "Epoch 345/500\n",
            "1/1 - 0s - 59ms/step - loss: 0.9647\n",
            "Epoch 346/500\n",
            "1/1 - 0s - 62ms/step - loss: 0.9627\n",
            "Epoch 347/500\n",
            "1/1 - 0s - 48ms/step - loss: 0.9607\n",
            "Epoch 348/500\n",
            "1/1 - 0s - 61ms/step - loss: 0.9588\n",
            "Epoch 349/500\n",
            "1/1 - 0s - 64ms/step - loss: 0.9568\n",
            "Epoch 350/500\n",
            "1/1 - 0s - 56ms/step - loss: 0.9549\n",
            "Epoch 351/500\n",
            "1/1 - 0s - 57ms/step - loss: 0.9529\n",
            "Epoch 352/500\n",
            "1/1 - 0s - 61ms/step - loss: 0.9510\n",
            "Epoch 353/500\n",
            "1/1 - 0s - 49ms/step - loss: 0.9490\n",
            "Epoch 354/500\n",
            "1/1 - 0s - 50ms/step - loss: 0.9471\n",
            "Epoch 355/500\n",
            "1/1 - 0s - 44ms/step - loss: 0.9452\n",
            "Epoch 356/500\n",
            "1/1 - 0s - 61ms/step - loss: 0.9432\n",
            "Epoch 357/500\n",
            "1/1 - 0s - 44ms/step - loss: 0.9413\n",
            "Epoch 358/500\n",
            "1/1 - 0s - 60ms/step - loss: 0.9394\n",
            "Epoch 359/500\n",
            "1/1 - 0s - 61ms/step - loss: 0.9375\n",
            "Epoch 360/500\n",
            "1/1 - 0s - 60ms/step - loss: 0.9355\n",
            "Epoch 361/500\n",
            "1/1 - 0s - 57ms/step - loss: 0.9336\n",
            "Epoch 362/500\n",
            "1/1 - 0s - 46ms/step - loss: 0.9317\n",
            "Epoch 363/500\n",
            "1/1 - 0s - 59ms/step - loss: 0.9298\n",
            "Epoch 364/500\n",
            "1/1 - 0s - 60ms/step - loss: 0.9279\n",
            "Epoch 365/500\n",
            "1/1 - 0s - 62ms/step - loss: 0.9260\n",
            "Epoch 366/500\n",
            "1/1 - 0s - 56ms/step - loss: 0.9241\n",
            "Epoch 367/500\n",
            "1/1 - 0s - 61ms/step - loss: 0.9222\n",
            "Epoch 368/500\n",
            "1/1 - 0s - 54ms/step - loss: 0.9204\n",
            "Epoch 369/500\n",
            "1/1 - 0s - 60ms/step - loss: 0.9185\n",
            "Epoch 370/500\n",
            "1/1 - 0s - 63ms/step - loss: 0.9166\n",
            "Epoch 371/500\n",
            "1/1 - 0s - 57ms/step - loss: 0.9147\n",
            "Epoch 372/500\n",
            "1/1 - 0s - 61ms/step - loss: 0.9129\n",
            "Epoch 373/500\n",
            "1/1 - 0s - 61ms/step - loss: 0.9110\n",
            "Epoch 374/500\n",
            "1/1 - 0s - 61ms/step - loss: 0.9091\n",
            "Epoch 375/500\n",
            "1/1 - 0s - 45ms/step - loss: 0.9073\n",
            "Epoch 376/500\n",
            "1/1 - 0s - 60ms/step - loss: 0.9054\n",
            "Epoch 377/500\n",
            "1/1 - 0s - 60ms/step - loss: 0.9036\n",
            "Epoch 378/500\n",
            "1/1 - 0s - 60ms/step - loss: 0.9017\n",
            "Epoch 379/500\n",
            "1/1 - 0s - 61ms/step - loss: 0.8999\n",
            "Epoch 380/500\n",
            "1/1 - 0s - 46ms/step - loss: 0.8980\n",
            "Epoch 381/500\n",
            "1/1 - 0s - 46ms/step - loss: 0.8962\n",
            "Epoch 382/500\n",
            "1/1 - 0s - 61ms/step - loss: 0.8944\n",
            "Epoch 383/500\n",
            "1/1 - 0s - 68ms/step - loss: 0.8926\n",
            "Epoch 384/500\n",
            "1/1 - 0s - 50ms/step - loss: 0.8907\n",
            "Epoch 385/500\n",
            "1/1 - 0s - 46ms/step - loss: 0.8889\n",
            "Epoch 386/500\n",
            "1/1 - 0s - 63ms/step - loss: 0.8871\n",
            "Epoch 387/500\n",
            "1/1 - 0s - 59ms/step - loss: 0.8853\n",
            "Epoch 388/500\n",
            "1/1 - 0s - 60ms/step - loss: 0.8835\n",
            "Epoch 389/500\n",
            "1/1 - 0s - 46ms/step - loss: 0.8817\n",
            "Epoch 390/500\n",
            "1/1 - 0s - 49ms/step - loss: 0.8799\n",
            "Epoch 391/500\n",
            "1/1 - 0s - 45ms/step - loss: 0.8781\n",
            "Epoch 392/500\n",
            "1/1 - 0s - 60ms/step - loss: 0.8763\n",
            "Epoch 393/500\n",
            "1/1 - 0s - 62ms/step - loss: 0.8745\n",
            "Epoch 394/500\n",
            "1/1 - 0s - 58ms/step - loss: 0.8727\n",
            "Epoch 395/500\n",
            "1/1 - 0s - 72ms/step - loss: 0.8710\n",
            "Epoch 396/500\n",
            "1/1 - 0s - 48ms/step - loss: 0.8692\n",
            "Epoch 397/500\n",
            "1/1 - 0s - 59ms/step - loss: 0.8674\n",
            "Epoch 398/500\n",
            "1/1 - 0s - 60ms/step - loss: 0.8656\n",
            "Epoch 399/500\n",
            "1/1 - 0s - 46ms/step - loss: 0.8639\n",
            "Epoch 400/500\n",
            "1/1 - 0s - 69ms/step - loss: 0.8621\n",
            "Epoch 401/500\n",
            "1/1 - 0s - 57ms/step - loss: 0.8604\n",
            "Epoch 402/500\n",
            "1/1 - 0s - 46ms/step - loss: 0.8586\n",
            "Epoch 403/500\n",
            "1/1 - 0s - 63ms/step - loss: 0.8569\n",
            "Epoch 404/500\n",
            "1/1 - 0s - 50ms/step - loss: 0.8551\n",
            "Epoch 405/500\n",
            "1/1 - 0s - 58ms/step - loss: 0.8534\n",
            "Epoch 406/500\n",
            "1/1 - 0s - 45ms/step - loss: 0.8517\n",
            "Epoch 407/500\n",
            "1/1 - 0s - 52ms/step - loss: 0.8499\n",
            "Epoch 408/500\n",
            "1/1 - 0s - 45ms/step - loss: 0.8482\n",
            "Epoch 409/500\n",
            "1/1 - 0s - 61ms/step - loss: 0.8465\n",
            "Epoch 410/500\n",
            "1/1 - 0s - 44ms/step - loss: 0.8448\n",
            "Epoch 411/500\n",
            "1/1 - 0s - 60ms/step - loss: 0.8430\n",
            "Epoch 412/500\n",
            "1/1 - 0s - 44ms/step - loss: 0.8413\n",
            "Epoch 413/500\n",
            "1/1 - 0s - 67ms/step - loss: 0.8396\n",
            "Epoch 414/500\n",
            "1/1 - 0s - 50ms/step - loss: 0.8379\n",
            "Epoch 415/500\n",
            "1/1 - 0s - 46ms/step - loss: 0.8362\n",
            "Epoch 416/500\n",
            "1/1 - 0s - 59ms/step - loss: 0.8345\n",
            "Epoch 417/500\n",
            "1/1 - 0s - 66ms/step - loss: 0.8328\n",
            "Epoch 418/500\n",
            "1/1 - 0s - 62ms/step - loss: 0.8312\n",
            "Epoch 419/500\n",
            "1/1 - 0s - 50ms/step - loss: 0.8295\n",
            "Epoch 420/500\n",
            "1/1 - 0s - 59ms/step - loss: 0.8278\n",
            "Epoch 421/500\n",
            "1/1 - 0s - 52ms/step - loss: 0.8261\n",
            "Epoch 422/500\n",
            "1/1 - 0s - 59ms/step - loss: 0.8245\n",
            "Epoch 423/500\n",
            "1/1 - 0s - 61ms/step - loss: 0.8228\n",
            "Epoch 424/500\n",
            "1/1 - 0s - 47ms/step - loss: 0.8211\n",
            "Epoch 425/500\n",
            "1/1 - 0s - 57ms/step - loss: 0.8195\n",
            "Epoch 426/500\n",
            "1/1 - 0s - 60ms/step - loss: 0.8178\n",
            "Epoch 427/500\n",
            "1/1 - 0s - 61ms/step - loss: 0.8162\n",
            "Epoch 428/500\n",
            "1/1 - 0s - 59ms/step - loss: 0.8145\n",
            "Epoch 429/500\n",
            "1/1 - 0s - 61ms/step - loss: 0.8129\n",
            "Epoch 430/500\n",
            "1/1 - 0s - 47ms/step - loss: 0.8112\n",
            "Epoch 431/500\n",
            "1/1 - 0s - 54ms/step - loss: 0.8096\n",
            "Epoch 432/500\n",
            "1/1 - 0s - 58ms/step - loss: 0.8080\n",
            "Epoch 433/500\n",
            "1/1 - 0s - 60ms/step - loss: 0.8063\n",
            "Epoch 434/500\n",
            "1/1 - 0s - 49ms/step - loss: 0.8047\n",
            "Epoch 435/500\n",
            "1/1 - 0s - 55ms/step - loss: 0.8031\n",
            "Epoch 436/500\n",
            "1/1 - 0s - 56ms/step - loss: 0.8015\n",
            "Epoch 437/500\n",
            "1/1 - 0s - 63ms/step - loss: 0.7998\n",
            "Epoch 438/500\n",
            "1/1 - 0s - 49ms/step - loss: 0.7982\n",
            "Epoch 439/500\n",
            "1/1 - 0s - 58ms/step - loss: 0.7966\n",
            "Epoch 440/500\n",
            "1/1 - 0s - 60ms/step - loss: 0.7950\n",
            "Epoch 441/500\n",
            "1/1 - 0s - 48ms/step - loss: 0.7934\n",
            "Epoch 442/500\n",
            "1/1 - 0s - 44ms/step - loss: 0.7918\n",
            "Epoch 443/500\n",
            "1/1 - 0s - 61ms/step - loss: 0.7902\n",
            "Epoch 444/500\n",
            "1/1 - 0s - 60ms/step - loss: 0.7886\n",
            "Epoch 445/500\n",
            "1/1 - 0s - 60ms/step - loss: 0.7870\n",
            "Epoch 446/500\n",
            "1/1 - 0s - 61ms/step - loss: 0.7855\n",
            "Epoch 447/500\n",
            "1/1 - 0s - 61ms/step - loss: 0.7839\n",
            "Epoch 448/500\n",
            "1/1 - 0s - 55ms/step - loss: 0.7823\n",
            "Epoch 449/500\n",
            "1/1 - 0s - 53ms/step - loss: 0.7807\n",
            "Epoch 450/500\n",
            "1/1 - 0s - 61ms/step - loss: 0.7791\n",
            "Epoch 451/500\n",
            "1/1 - 0s - 52ms/step - loss: 0.7776\n",
            "Epoch 452/500\n",
            "1/1 - 0s - 59ms/step - loss: 0.7760\n",
            "Epoch 453/500\n",
            "1/1 - 0s - 57ms/step - loss: 0.7744\n",
            "Epoch 454/500\n",
            "1/1 - 0s - 60ms/step - loss: 0.7728\n",
            "Epoch 455/500\n",
            "1/1 - 0s - 61ms/step - loss: 0.7713\n",
            "Epoch 456/500\n",
            "1/1 - 0s - 60ms/step - loss: 0.7697\n",
            "Epoch 457/500\n",
            "1/1 - 0s - 60ms/step - loss: 0.7682\n",
            "Epoch 458/500\n",
            "1/1 - 0s - 61ms/step - loss: 0.7666\n",
            "Epoch 459/500\n",
            "1/1 - 0s - 44ms/step - loss: 0.7651\n",
            "Epoch 460/500\n",
            "1/1 - 0s - 45ms/step - loss: 0.7635\n",
            "Epoch 461/500\n",
            "1/1 - 0s - 45ms/step - loss: 0.7620\n",
            "Epoch 462/500\n",
            "1/1 - 0s - 60ms/step - loss: 0.7604\n",
            "Epoch 463/500\n",
            "1/1 - 0s - 60ms/step - loss: 0.7589\n",
            "Epoch 464/500\n",
            "1/1 - 0s - 45ms/step - loss: 0.7573\n",
            "Epoch 465/500\n",
            "1/1 - 0s - 60ms/step - loss: 0.7558\n",
            "Epoch 466/500\n",
            "1/1 - 0s - 60ms/step - loss: 0.7542\n",
            "Epoch 467/500\n",
            "1/1 - 0s - 61ms/step - loss: 0.7527\n",
            "Epoch 468/500\n",
            "1/1 - 0s - 56ms/step - loss: 0.7512\n",
            "Epoch 469/500\n",
            "1/1 - 0s - 58ms/step - loss: 0.7496\n",
            "Epoch 470/500\n",
            "1/1 - 0s - 53ms/step - loss: 0.7481\n",
            "Epoch 471/500\n",
            "1/1 - 0s - 46ms/step - loss: 0.7466\n",
            "Epoch 472/500\n",
            "1/1 - 0s - 61ms/step - loss: 0.7450\n",
            "Epoch 473/500\n",
            "1/1 - 0s - 58ms/step - loss: 0.7435\n",
            "Epoch 474/500\n",
            "1/1 - 0s - 61ms/step - loss: 0.7420\n",
            "Epoch 475/500\n",
            "1/1 - 0s - 61ms/step - loss: 0.7404\n",
            "Epoch 476/500\n",
            "1/1 - 0s - 45ms/step - loss: 0.7389\n",
            "Epoch 477/500\n",
            "1/1 - 0s - 47ms/step - loss: 0.7374\n",
            "Epoch 478/500\n",
            "1/1 - 0s - 63ms/step - loss: 0.7359\n",
            "Epoch 479/500\n",
            "1/1 - 0s - 77ms/step - loss: 0.7343\n",
            "Epoch 480/500\n",
            "1/1 - 0s - 71ms/step - loss: 0.7328\n",
            "Epoch 481/500\n",
            "1/1 - 0s - 159ms/step - loss: 0.7313\n",
            "Epoch 482/500\n",
            "1/1 - 0s - 72ms/step - loss: 0.7298\n",
            "Epoch 483/500\n",
            "1/1 - 0s - 79ms/step - loss: 0.7283\n",
            "Epoch 484/500\n",
            "1/1 - 0s - 68ms/step - loss: 0.7268\n",
            "Epoch 485/500\n",
            "1/1 - 0s - 143ms/step - loss: 0.7253\n",
            "Epoch 486/500\n",
            "1/1 - 0s - 142ms/step - loss: 0.7237\n",
            "Epoch 487/500\n",
            "1/1 - 0s - 139ms/step - loss: 0.7222\n",
            "Epoch 488/500\n",
            "1/1 - 0s - 139ms/step - loss: 0.7207\n",
            "Epoch 489/500\n",
            "1/1 - 0s - 142ms/step - loss: 0.7192\n",
            "Epoch 490/500\n",
            "1/1 - 0s - 90ms/step - loss: 0.7177\n",
            "Epoch 491/500\n",
            "1/1 - 0s - 72ms/step - loss: 0.7162\n",
            "Epoch 492/500\n",
            "1/1 - 0s - 69ms/step - loss: 0.7147\n",
            "Epoch 493/500\n",
            "1/1 - 0s - 143ms/step - loss: 0.7132\n",
            "Epoch 494/500\n",
            "1/1 - 0s - 141ms/step - loss: 0.7117\n",
            "Epoch 495/500\n",
            "1/1 - 0s - 132ms/step - loss: 0.7102\n",
            "Epoch 496/500\n",
            "1/1 - 0s - 58ms/step - loss: 0.7087\n",
            "Epoch 497/500\n",
            "1/1 - 0s - 51ms/step - loss: 0.7072\n",
            "Epoch 498/500\n",
            "1/1 - 0s - 50ms/step - loss: 0.7057\n",
            "Epoch 499/500\n",
            "1/1 - 0s - 48ms/step - loss: 0.7043\n",
            "Epoch 500/500\n",
            "1/1 - 0s - 59ms/step - loss: 0.7028\n"
          ]
        },
        {
          "output_type": "execute_result",
          "data": {
            "text/plain": [
              "<keras.src.callbacks.history.History at 0x7f6ab88e7fd0>"
            ]
          },
          "metadata": {},
          "execution_count": 59
        }
      ]
    },
    {
      "cell_type": "code",
      "source": [
        "# Function to generate text using the trained model\n",
        "def generate_text(model, start_string, num_generate):\n",
        "    input_eval = [char_to_idx[s] for s in start_string]\n",
        "    input_eval = np.array(input_eval).reshape((1, len(input_eval), 1))\n",
        "    text_generated = []\n",
        "    for i in range(num_generate):\n",
        "        print(i)\n",
        "        predictions = model.predict(input_eval)\n",
        "        predicted_id = np.argmax(predictions[0])\n",
        "        input_eval = np.append(input_eval[:, 1:, :], [[[predicted_id]]], axis=1)\n",
        "        input_eval = input_eval.reshape((1, -1, 1))  # Ensure dimensions match\n",
        "        text_generated.append(idx_to_char[predicted_id])\n",
        "\n",
        "    return start_string + ''.join(text_generated)\n",
        "\n"
      ],
      "metadata": {
        "id": "2zt-hIddpaRD"
      },
      "execution_count": null,
      "outputs": []
    },
    {
      "cell_type": "code",
      "source": [
        "# Generate new text\n",
        "start_string = \"merhaba işe ya\"\n",
        "generated_text = generate_text(model, start_string, 2)\n",
        "print(\"Generated text:\")\n",
        "print(generated_text)"
      ],
      "metadata": {
        "colab": {
          "base_uri": "https://localhost:8080/"
        },
        "id": "dFP6imudpctT",
        "outputId": "f1e7756f-80d9-4520-e761-035c3d279c49"
      },
      "execution_count": null,
      "outputs": [
        {
          "output_type": "stream",
          "name": "stdout",
          "text": [
            "0\n",
            "\u001b[1m1/1\u001b[0m \u001b[32m━━━━━━━━━━━━━━━━━━━━\u001b[0m\u001b[37m\u001b[0m \u001b[1m0s\u001b[0m 54ms/step\n",
            "1\n",
            "\u001b[1m1/1\u001b[0m \u001b[32m━━━━━━━━━━━━━━━━━━━━\u001b[0m\u001b[37m\u001b[0m \u001b[1m0s\u001b[0m 56ms/step\n",
            "Generated text:\n",
            "merhaba işe yarl\n"
          ]
        }
      ]
    },
    {
      "cell_type": "markdown",
      "source": [
        "## **4.4 Long Short-Term Memory Networks (LSTMs)**"
      ],
      "metadata": {
        "id": "VP3isTNZsszR"
      }
    },
    {
      "cell_type": "markdown",
      "source": [
        "Uzun Kısa Süreli Bellek Ağları (LSTM'ler), standart RNN'lerin sıklıkla uğraştığı uzun vadeli bağımlılıklar ve kaybolan eğim sorunuyla ilişkili zorlukları ele almak üzere özel olarak tasarlanmış özel bir Yinelemeli Sinir Ağları (RNN'ler) türüdür.\n",
        "Bu ağlar, uzun süreler boyunca bilgileri koruyabilen bellek hücrelerini bir araya getirerek verilerdeki uzun menzilli zamansal bağımlılıkları etkili bir şekilde yakalamalarına ve kullanmalarına olanak tanır. LSTM'ler, daha doğru dil modelleri ve makine çeviri sistemleri sağladıkları doğal dil işleme; gelişmiş doğruluk ve sağlamlığa katkıda bulundukları konuşma tanıma; ve geçmiş verilerden öğrenerek güvenilir tahminler sağladıkları zaman serisi tahmini dahil ancak bunlarla sınırlı olmamak üzere, dizi tabanlı çok çeşitli görevlerde oldukça başarılı olmuştur. Uzun vadeli bağlamsal bilgileri koruma ve işleme yetenekleri, LSTM'leri yapay zeka ve makine öğrenimi alanında paha biçilmez bir araç haline getirir."
      ],
      "metadata": {
        "id": "ck9w1Mnvs5_P"
      }
    },
    {
      "cell_type": "code",
      "source": [
        "import numpy as np\n",
        "import tensorflow as tf\n",
        "from tensorflow.keras.models import Sequential\n",
        "from tensorflow.keras.layers import Dense, LSTM\n",
        "from tensorflow.keras.utils import to_categorical\n",
        "\n",
        "# Sample text corpus\n",
        "text = \"hello world\"\n",
        "\n",
        "# Create a character-level vocabulary\n",
        "chars = sorted(set(text))\n",
        "char_to_idx = {char: idx for idx, char in enumerate(chars)}\n",
        "idx_to_char = {idx: char for char, idx in char_to_idx.items()}\n",
        "\n",
        "# Create input-output pairs for training\n",
        "sequence_length = 3\n",
        "X = []\n",
        "y = []\n",
        "for i in range(len(text) - sequence_length):\n",
        "    X.append([char_to_idx[char] for char in text[i:i + sequence_length]])\n",
        "    y.append(char_to_idx[text[i + sequence_length]])\n",
        "\n",
        "X = np.array(X)\n",
        "y = to_categorical(y, num_classes=len(chars))\n",
        "\n",
        "# Reshape input to be compatible with LSTM input\n",
        "X = X.reshape((X.shape[0], X.shape[1], 1))\n",
        "\n",
        "# Define the LSTM model\n",
        "model = Sequential()\n",
        "model.add(LSTM(50, input_shape=(sequence_length, 1)))\n",
        "model.add(Dense(len(chars), activation='softmax'))\n",
        "\n",
        "# Compile the model\n",
        "model.compile(optimizer='adam', loss='categorical_crossentropy')\n",
        "\n",
        "# Train the model\n",
        "model.fit(X, y, epochs=200, verbose=0)\n"
      ],
      "metadata": {
        "collapsed": true,
        "colab": {
          "base_uri": "https://localhost:8080/"
        },
        "id": "NaIb61wktLHJ",
        "outputId": "8c913f2d-d4d8-4ac6-8474-a96e8c099dcc"
      },
      "execution_count": null,
      "outputs": [
        {
          "output_type": "execute_result",
          "data": {
            "text/plain": [
              "<keras.src.callbacks.history.History at 0x7f6aa38248d0>"
            ]
          },
          "metadata": {},
          "execution_count": 88
        }
      ]
    },
    {
      "cell_type": "code",
      "source": [
        "\n",
        "# Function to generate text using the trained model\n",
        "def generate_text(model, start_string, num_generate):\n",
        "    input_eval = [char_to_idx[s] for s in start_string]\n",
        "    input_eval = np.array(input_eval).reshape((1, len(input_eval), 1))\n",
        "    text_generated = []\n",
        "    for i in range(num_generate):\n",
        "        print(i)\n",
        "        predictions = model.predict(input_eval)\n",
        "        predicted_id = np.argmax(predictions[0])\n",
        "        input_eval = np.append(input_eval[:, 1:, :], [[[predicted_id]]], axis=1)\n",
        "        input_eval = input_eval.reshape((1, -1, 1))  # Ensure dimensions match\n",
        "        text_generated.append(idx_to_char[predicted_id])\n",
        "\n",
        "    return start_string + ''.join(text_generated)\n",
        "\n"
      ],
      "metadata": {
        "id": "Lg7ZpVyKtOtg"
      },
      "execution_count": null,
      "outputs": []
    },
    {
      "cell_type": "code",
      "source": [
        "# Generate new text\n",
        "start_string = \"hel\"\n",
        "generated_text = generate_text(model, start_string, 1)\n",
        "print(\"Generated text:\")\n",
        "print(generated_text)"
      ],
      "metadata": {
        "colab": {
          "base_uri": "https://localhost:8080/"
        },
        "id": "6ZllT5oHtQN_",
        "outputId": "5befce63-1421-42ef-8d18-3941e0eef6b6"
      },
      "execution_count": null,
      "outputs": [
        {
          "output_type": "stream",
          "name": "stdout",
          "text": [
            "0\n",
            "\u001b[1m1/1\u001b[0m \u001b[32m━━━━━━━━━━━━━━━━━━━━\u001b[0m\u001b[37m\u001b[0m \u001b[1m0s\u001b[0m 36ms/step\n",
            "Generated text:\n",
            "hell\n"
          ]
        }
      ]
    },
    {
      "cell_type": "markdown",
      "source": [
        "**4.4.4 LSTM'lerin Uygulamaları**\n",
        "\n",
        "Uzun Kısa Süreli Bellek (LSTM) ağları, sıralı verilerdeki uzun vadeli bağımlılıkları etkili bir şekilde yakalayıp kullanarak birçok alanda devrim yaratmıştır. Burada, LSTM'lerin çeşitli alanlardaki bazı temel uygulamalarını inceliyoruz:\n",
        "\n",
        "**1. Metin Oluşturma**\n",
        "\n",
        "LSTM'ler, amacın tutarlı ve bağlamsal olarak alakalı metin dizileri oluşturmak olduğu metin oluşturma görevlerinde yaygın olarak kullanılır. LSTM'ler, büyük metin korpuslarında eğitim vererek, eğitim verilerinin stilini ve yapısını taklit eden yeni metinler üretebilir. Bunun yaratıcı yazma, otomatik içerik oluşturma ve hatta sohbet robotlarında uygulamaları vardır.\n",
        "\n",
        "**2. Makine Çevirisi**\n",
        "\n",
        "Makine çevirisinde, LSTM'ler metni bir dilden diğerine çevirmek için kullanılır. Sözdizimi ve anlambilim gibi dilin karmaşıklıklarını ele almada özellikle etkilidirler ve bu da onları Google Translate gibi çeviri sistemleri oluşturmak için uygun hale getirir. Sıradan sıraya mimariyi kullanarak, LSTM'ler giriş sıralarını (kaynak dil) çıkış sıralarına (hedef dil) yüksek doğrulukla eşleyebilir.\n",
        "\n",
        "**3. Konuşma Tanıma**\n",
        "\n",
        "LSTM'ler, konuşulan dili yazılı metne dönüştüren konuşma tanıma sistemlerinde önemli bir rol oynar. Bu sistemlerin ses sinyallerindeki zamansal bağımlılıkları hesaba katması gerekir, bu da LSTM'leri ideal bir seçim haline getirir. Uygulamalar arasında Siri ve Alexa gibi sanal asistanlar, transkripsiyon hizmetleri ve sesle kontrol edilen uygulamalar bulunur.\n",
        "\n",
        "**4. Zaman Serisi Tahmini**\n",
        "\n",
        "Zaman serisi tahmininde, LSTM'ler geçmiş verilere dayalı gelecekteki değerleri tahmin etmek için kullanılır. Bu, finans (hisse senedi fiyatı tahmini), hava durumu tahmini ve sağlık (hasta sağlık ölçümlerini tahmin etme) gibi çeşitli sektörlerde değerlidir. LSTM'lerin geçmiş bilgileri uzun süreler boyunca hatırlama yeteneği, onları bu görevler için oldukça uygun hale getirir.\n",
        "\n",
        "**5. Duygu Analizi**\n",
        "\n",
        "Duygu analizi, metnin duygusunu olumlu, olumsuz veya nötr olarak sınıflandırmayı içerir. LSTM'ler, metinde ifade edilen bağlamı ve duyguyu anlamak için kullanılır; bu, sosyal medya izleme, müşteri geri bildirim analizi ve pazar araştırması gibi uygulamalar için faydalıdır. LSTM'ler, kelime dizisini analiz ederek, bir metin parçasında iletilen duyguyu doğru bir şekilde belirleyebilir.\n",
        "\n",
        "**6. Video Analizi**\n",
        "\n",
        "Video analizinde, LSTM'ler kare dizilerini anlamak ve tahmin etmek için kullanılır. Bunun video altyazılama, etkinlik tanıma ve anormallik tespitinde uygulamaları vardır. Video karelerini sıralı veri olarak işleyerek, LSTM'ler zamansal örüntüleri yakalayabilir ve anlamlı içgörüler sağlayabilir.\n",
        "\n",
        "**7. El Yazısı Tanıma**\n",
        "\n",
        "LSTM'ler ayrıca el yazısı tanıma sistemlerinde de kullanılır ve bu sistemler el yazısı metinlerini dijital metne dönüştürür. Bu sistemler tarihi belgeleri dijitalleştirmede, not alma uygulamalarında ve posta adresi tanımada kullanılır. LSTM'ler el yazısı vuruşlarının ardışık doğasını etkili bir şekilde işleyebilir ve bu da onları bu görev için ideal hale getirir.\n",
        "\n",
        "**8. Sağlık**\n",
        "\n",
        "Sağlık hizmetlerinde LSTM'ler, hastalık ilerlemesini, hasta sonuçlarını ve tedavi yanıtlarını tahmin etme gibi çeşitli öngörücü modelleme görevlerinde uygulanır. LSTM'ler, uzunlamasına hasta verilerini analiz ederek, klinik karar alma ve kişiselleştirilmiş tıpta yardımcı olan değerli öngörüler sağlayabilir.\n",
        "\n",
        "**9. Müzik Üretimi**\n",
        "\n",
        "LSTM'ler mevcut bestelerden öğrenerek müzik üretmek için kullanılır. Belirli bir stilde veya türde yeni parçalar yaratabilirler ve bu da onları besteciler, oyun geliştiricileri ve eğlence endüstrileri için kullanışlı hale getirir. LSTM'ler müzikteki zamansal bağımlılıkları yakalayarak melodik ve armonik olarak tutarlı besteler üretebilir.\n",
        "\n",
        "**10. Anomali Tespiti**\n",
        "\n",
        "Anomali tespitinde, LSTM'ler sıralı verilerdeki alışılmadık kalıpları belirlemek için kullanılır. Bu, dolandırıcılık tespiti, ağ güvenliği ve üretim süreci izleme gibi uygulamalarda faydalıdır. Normal kalıpları öğrenerek, LSTM'ler potansiyel anomalileri gösteren sapmaları etkili bir şekilde tespit edebilir.\n",
        "Özetle, LSTM'ler uzun vadeli bağımlılıkları ve ardışık verileri işleme yeteneklerini kullanarak farklı alanlarda geniş bir uygulama yelpazesine sahiptir. Çok yönlülükleri ve etkililikleri onları modern makine öğrenimi ve yapay zeka cephaneliğinde güçlü bir araç haline getirir."
      ],
      "metadata": {
        "id": "6UAqZ_qfuMnr"
      }
    },
    {
      "cell_type": "markdown",
      "source": [
        "# Chapter 5 - Syntax and Parsing"
      ],
      "metadata": {
        "id": "aDKQpRn10XyN"
      }
    },
    {
      "cell_type": "markdown",
      "source": [
        "## **5.1 Konuşma Türleri (POS) Etiketleme**"
      ],
      "metadata": {
        "id": "KEYQOJtV19hn"
      }
    },
    {
      "cell_type": "markdown",
      "source": [
        "Konuşma Türleri (POS) etiketleme, bir cümledeki her kelimeye isimler, fiiller, sıfatlar ve zarflar gibi dilbilgisi kategorileri atamanın karmaşık sürecidir."
      ],
      "metadata": {
        "id": "y8VzmR8x2C_7"
      }
    },
    {
      "cell_type": "markdown",
      "source": [
        "her kelimenin belirli bağlamındaki rolünü doğru bir şekilde belirlemek için karmaşık algoritmalar ve dil kuralları içerir."
      ],
      "metadata": {
        "id": "Yerd8Hyk2GAi"
      }
    },
    {
      "cell_type": "markdown",
      "source": [
        "POS etiketleme, cümlelerin sözdizimsel yapısını anlamak için önemlidir ve dilin daha derin bir şekilde anlaşılmasını sağlar."
      ],
      "metadata": {
        "id": "AQp9-WPA2Iz7"
      }
    },
    {
      "cell_type": "markdown",
      "source": [
        " Cümlelerin dilbilgisi yapısını analiz etmeyi içeren ayrıştırma; kişilerin, kuruluşların veya yerlerin adları gibi belirli varlıkların tanımlandığı adlandırılmış varlık tanıma; ve metni bir dilden diğerine doğru bir şekilde çevirmek için cümle yapısının kapsamlı bir şekilde anlaşılmasını gerektiren makine çevirisi gibi daha gelişmiş Doğal Dil İşleme (NLP) görevleri için önemli bir temel görevi görür."
      ],
      "metadata": {
        "id": "TPp4VkkB2MdI"
      }
    },
    {
      "cell_type": "markdown",
      "source": [
        "**5.1.1 Konuşma Bölümleri Etiketlemeyi Anlama**"
      ],
      "metadata": {
        "id": "xNr58aSg2PI1"
      }
    },
    {
      "cell_type": "markdown",
      "source": [
        "**İsim (NN) :** Bunlar insanların, yerlerin, şeylerin veya soyut kavramların adlarıdır. Örneğin, \"köpek\", \"şehir\" veya \"mutluluk\" gibi kelimeler bu kategoriye girer.\n",
        "\n",
        "**Fiil (VB) :** Bu kelimeler eylemleri veya varoluş durumlarını temsil eder. Örnekler arasında özne ne yaptığını veya durumunu gösteren \"koşmak\", \"olmak\" ve \"düşünmek\" bulunur.\n",
        "\n",
        "**Sıfat (JJ) :** Sıfatlar, isimleri tanımlayan veya değiştiren, onlar hakkında daha fazla bilgi sağlayan kelimelerdir. Örneğin, \"büyük\", \"mavi\" veya \"ilginç\" ayrıntı ekleyen sıfatlardır.\n",
        "\n",
        "**Zarf (RB) :** Zarflar, fiilleri, sıfatları veya diğer zarfları değiştiren, genellikle bir şeyin nasıl, ne zaman, nerede veya ne ölçüde gerçekleştiğini belirten kelimelerdir. Örnekler \"hızlıca\", \"çok\" ve \"nadiren\"dir.\n",
        "\n",
        "**Zamir (PRP) :** Zamirler, tekrarı önlemek ve cümleleri basitleştirmek için isimlerin yerini alan kelimelerdir. Örnekler arasında \"o\", \"onlar\", \"o\" ve \"biz\" bulunur.\n",
        "\n",
        "**Edat (IN) :** Edatlar, bir cümledeki isimler (veya zamirler) ile diğer kelimeler arasındaki ilişkileri gösteren kelimelerdir ve genellikle yön, yer veya zamanı belirtir. Örnekler arasında \"on\", \"in\", \"under\" ve \"before\" bulunur."
      ],
      "metadata": {
        "id": "uUHx0nUB2S0F"
      }
    },
    {
      "cell_type": "markdown",
      "source": [
        "**5.1.2 Python'da POS Etiketlemeyi Uygulama**"
      ],
      "metadata": {
        "id": "xHIss_562dvN"
      }
    },
    {
      "cell_type": "code",
      "source": [
        "import nltk\n",
        "from nltk import word_tokenize, pos_tag\n",
        "\n",
        "nltk.download('all', quiet=True)\n"
      ],
      "metadata": {
        "colab": {
          "base_uri": "https://localhost:8080/"
        },
        "id": "SHk-D3Iq2gaS",
        "outputId": "6670f19c-fadd-4d75-e979-968587797861"
      },
      "execution_count": null,
      "outputs": [
        {
          "output_type": "execute_result",
          "data": {
            "text/plain": [
              "True"
            ]
          },
          "metadata": {},
          "execution_count": 97
        }
      ]
    },
    {
      "cell_type": "code",
      "source": [
        "nltk.download('averaged_perceptron_tagger')\n",
        "# Sample text\n",
        "text = \"Natural Language Processing with Python is fascinating.\"\n",
        "# Tokenize the text into words\n",
        "tokens = word_tokenize(text)\n",
        "# Perform POS tagging\n",
        "pos_tags = pos_tag(tokens)\n",
        "print(\"POS Tags:\")\n",
        "print(pos_tags)"
      ],
      "metadata": {
        "colab": {
          "base_uri": "https://localhost:8080/"
        },
        "id": "QD9js2gl2i_8",
        "outputId": "8698a0c4-7888-4819-bf43-5ebb548ebbba"
      },
      "execution_count": null,
      "outputs": [
        {
          "output_type": "stream",
          "name": "stderr",
          "text": [
            "[nltk_data] Downloading package averaged_perceptron_tagger to\n",
            "[nltk_data]     /root/nltk_data...\n",
            "[nltk_data]   Package averaged_perceptron_tagger is already up-to-\n",
            "[nltk_data]       date!\n"
          ]
        },
        {
          "output_type": "stream",
          "name": "stdout",
          "text": [
            "POS Tags:\n",
            "[('Natural', 'JJ'), ('Language', 'NNP'), ('Processing', 'NNP'), ('with', 'IN'), ('Python', 'NNP'), ('is', 'VBZ'), ('fascinating', 'VBG'), ('.', '.')]\n"
          ]
        }
      ]
    },
    {
      "cell_type": "code",
      "source": [
        "!pip install trnlp\n",
        "\n",
        "from trnlp import TrnlpTokenizer\n",
        "from trnlp import TrnlpWordTokenizer\n",
        "from trnlp import TrnlpNormalizer\n",
        "from trnlp import TrnlpWordNet\n",
        "from trnlp import TrnlpPosTagger\n",
        "\n",
        "# Örnek Türkçe metin\n",
        "text = \"Doğal Dil İşleme ile Python kullanarak metin analizi yapmak oldukça ilgi çekici.\"\n",
        "\n",
        "# Metni kelimelere ayır\n",
        "tokenizer = TrnlpWordTokenizer()\n",
        "tokens = tokenizer.word_tokenize(text)\n",
        "\n",
        "# POS etiketleme işlemi\n",
        "pos_tagger = TrnlpPosTagger()\n",
        "pos_tags = pos_tagger.pos_tag(tokens)\n",
        "\n",
        "print(\"POS Tags:\")\n",
        "print(pos_tags)"
      ],
      "metadata": {
        "colab": {
          "base_uri": "https://localhost:8080/",
          "height": 575
        },
        "id": "aZor_hAq24Fn",
        "outputId": "d71cc215-15c7-482e-b8c4-be9725a58bd7"
      },
      "execution_count": null,
      "outputs": [
        {
          "output_type": "stream",
          "name": "stdout",
          "text": [
            "Collecting trnlp\n",
            "  Downloading trnlp-0.2.3a0.tar.gz (10.1 MB)\n",
            "\u001b[2K     \u001b[90m━━━━━━━━━━━━━━━━━━━━━━━━━━━━━━━━━━━━━━━━\u001b[0m \u001b[32m10.1/10.1 MB\u001b[0m \u001b[31m30.6 MB/s\u001b[0m eta \u001b[36m0:00:00\u001b[0m\n",
            "\u001b[?25h  Preparing metadata (setup.py) ... \u001b[?25l\u001b[?25hdone\n",
            "Building wheels for collected packages: trnlp\n",
            "  Building wheel for trnlp (setup.py) ... \u001b[?25l\u001b[?25hdone\n",
            "  Created wheel for trnlp: filename=trnlp-0.2.3a0-py3-none-any.whl size=10168260 sha256=c45972ff4f6cb5cb754acdb988dd01ce83b53512f8b4c1d381e983bb262a19d3\n",
            "  Stored in directory: /root/.cache/pip/wheels/f5/75/d1/fb5c7ad584aafd96ae8d425dcdb7e64296f729fcb2eeccf26b\n",
            "Successfully built trnlp\n",
            "Installing collected packages: trnlp\n",
            "Successfully installed trnlp-0.2.3a0\n"
          ]
        },
        {
          "output_type": "error",
          "ename": "ImportError",
          "evalue": "cannot import name 'TrnlpTokenizer' from 'trnlp' (/usr/local/lib/python3.11/dist-packages/trnlp/__init__.py)",
          "traceback": [
            "\u001b[0;31m---------------------------------------------------------------------------\u001b[0m",
            "\u001b[0;31mImportError\u001b[0m                               Traceback (most recent call last)",
            "\u001b[0;32m<ipython-input-99-2baa2894748b>\u001b[0m in \u001b[0;36m<cell line: 0>\u001b[0;34m()\u001b[0m\n\u001b[1;32m      1\u001b[0m \u001b[0mget_ipython\u001b[0m\u001b[0;34m(\u001b[0m\u001b[0;34m)\u001b[0m\u001b[0;34m.\u001b[0m\u001b[0msystem\u001b[0m\u001b[0;34m(\u001b[0m\u001b[0;34m'pip install trnlp'\u001b[0m\u001b[0;34m)\u001b[0m\u001b[0;34m\u001b[0m\u001b[0;34m\u001b[0m\u001b[0m\n\u001b[1;32m      2\u001b[0m \u001b[0;34m\u001b[0m\u001b[0m\n\u001b[0;32m----> 3\u001b[0;31m \u001b[0;32mfrom\u001b[0m \u001b[0mtrnlp\u001b[0m \u001b[0;32mimport\u001b[0m \u001b[0mTrnlpTokenizer\u001b[0m\u001b[0;34m\u001b[0m\u001b[0;34m\u001b[0m\u001b[0m\n\u001b[0m\u001b[1;32m      4\u001b[0m \u001b[0;32mfrom\u001b[0m \u001b[0mtrnlp\u001b[0m \u001b[0;32mimport\u001b[0m \u001b[0mTrnlpWordTokenizer\u001b[0m\u001b[0;34m\u001b[0m\u001b[0;34m\u001b[0m\u001b[0m\n\u001b[1;32m      5\u001b[0m \u001b[0;32mfrom\u001b[0m \u001b[0mtrnlp\u001b[0m \u001b[0;32mimport\u001b[0m \u001b[0mTrnlpNormalizer\u001b[0m\u001b[0;34m\u001b[0m\u001b[0;34m\u001b[0m\u001b[0m\n",
            "\u001b[0;31mImportError\u001b[0m: cannot import name 'TrnlpTokenizer' from 'trnlp' (/usr/local/lib/python3.11/dist-packages/trnlp/__init__.py)",
            "",
            "\u001b[0;31m---------------------------------------------------------------------------\u001b[0;32m\nNOTE: If your import is failing due to a missing package, you can\nmanually install dependencies using either !pip or !apt.\n\nTo view examples of installing some common dependencies, click the\n\"Open Examples\" button below.\n\u001b[0;31m---------------------------------------------------------------------------\u001b[0m\n"
          ],
          "errorDetails": {
            "actions": [
              {
                "action": "open_url",
                "actionText": "Open Examples",
                "url": "/notebooks/snippets/importing_libraries.ipynb"
              }
            ]
          }
        }
      ]
    },
    {
      "cell_type": "code",
      "source": [
        "import stanza\n",
        "\n",
        "# Stanza Türkçe modeli indir\n",
        "stanza.download('tr')\n",
        "\n",
        "# Türkçe NLP pipeline oluştur\n",
        "nlp = stanza.Pipeline('tr')\n",
        "\n",
        "# Örnek Türkçe metin\n",
        "text = \"Doğal Dil İşleme ile Python kullanarak metin analizi yapmak oldukça ilgi çekici.\"\n",
        "\n",
        "# Metni işle\n",
        "doc = nlp(text)\n",
        "\n",
        "# POS etiketleme sonuçlarını yazdır\n",
        "print(\"POS Tags:\")\n",
        "for sentence in doc.sentences:\n",
        "    for word in sentence.words:\n",
        "        print(f\"{word.text}\\t{word.pos}\")"
      ],
      "metadata": {
        "colab": {
          "base_uri": "https://localhost:8080/",
          "height": 384
        },
        "id": "IbTbiebf3Api",
        "outputId": "96ab3ef1-ce6a-4165-ebd4-0cb2e75d359a"
      },
      "execution_count": null,
      "outputs": [
        {
          "output_type": "error",
          "ename": "ModuleNotFoundError",
          "evalue": "No module named 'stanza'",
          "traceback": [
            "\u001b[0;31m---------------------------------------------------------------------------\u001b[0m",
            "\u001b[0;31mModuleNotFoundError\u001b[0m                       Traceback (most recent call last)",
            "\u001b[0;32m<ipython-input-101-1269de6666b4>\u001b[0m in \u001b[0;36m<cell line: 0>\u001b[0;34m()\u001b[0m\n\u001b[0;32m----> 1\u001b[0;31m \u001b[0;32mimport\u001b[0m \u001b[0mstanza\u001b[0m\u001b[0;34m\u001b[0m\u001b[0;34m\u001b[0m\u001b[0m\n\u001b[0m\u001b[1;32m      2\u001b[0m \u001b[0;34m\u001b[0m\u001b[0m\n\u001b[1;32m      3\u001b[0m \u001b[0;31m# Stanza Türkçe modeli indir\u001b[0m\u001b[0;34m\u001b[0m\u001b[0;34m\u001b[0m\u001b[0m\n\u001b[1;32m      4\u001b[0m \u001b[0mstanza\u001b[0m\u001b[0;34m.\u001b[0m\u001b[0mdownload\u001b[0m\u001b[0;34m(\u001b[0m\u001b[0;34m'tr'\u001b[0m\u001b[0;34m)\u001b[0m\u001b[0;34m\u001b[0m\u001b[0;34m\u001b[0m\u001b[0m\n\u001b[1;32m      5\u001b[0m \u001b[0;34m\u001b[0m\u001b[0m\n",
            "\u001b[0;31mModuleNotFoundError\u001b[0m: No module named 'stanza'",
            "",
            "\u001b[0;31m---------------------------------------------------------------------------\u001b[0;32m\nNOTE: If your import is failing due to a missing package, you can\nmanually install dependencies using either !pip or !apt.\n\nTo view examples of installing some common dependencies, click the\n\"Open Examples\" button below.\n\u001b[0;31m---------------------------------------------------------------------------\u001b[0m\n"
          ],
          "errorDetails": {
            "actions": [
              {
                "action": "open_url",
                "actionText": "Open Examples",
                "url": "/notebooks/snippets/importing_libraries.ipynb"
              }
            ]
          }
        }
      ]
    },
    {
      "cell_type": "code",
      "source": [
        "!pip install stanza"
      ],
      "metadata": {
        "colab": {
          "base_uri": "https://localhost:8080/"
        },
        "collapsed": true,
        "id": "b7lI9DmA3MMw",
        "outputId": "8d3fcf4e-0e3f-474c-c4cb-3178d68b6cf1"
      },
      "execution_count": null,
      "outputs": [
        {
          "output_type": "stream",
          "name": "stdout",
          "text": [
            "Collecting stanza\n",
            "  Downloading stanza-1.10.1-py3-none-any.whl.metadata (13 kB)\n",
            "Collecting emoji (from stanza)\n",
            "  Downloading emoji-2.14.1-py3-none-any.whl.metadata (5.7 kB)\n",
            "Requirement already satisfied: numpy in /usr/local/lib/python3.11/dist-packages (from stanza) (1.26.4)\n",
            "Requirement already satisfied: protobuf>=3.15.0 in /usr/local/lib/python3.11/dist-packages (from stanza) (4.25.6)\n",
            "Requirement already satisfied: requests in /usr/local/lib/python3.11/dist-packages (from stanza) (2.32.3)\n",
            "Requirement already satisfied: networkx in /usr/local/lib/python3.11/dist-packages (from stanza) (3.4.2)\n",
            "Requirement already satisfied: torch>=1.3.0 in /usr/local/lib/python3.11/dist-packages (from stanza) (2.5.1+cu124)\n",
            "Requirement already satisfied: tqdm in /usr/local/lib/python3.11/dist-packages (from stanza) (4.67.1)\n",
            "Requirement already satisfied: filelock in /usr/local/lib/python3.11/dist-packages (from torch>=1.3.0->stanza) (3.17.0)\n",
            "Requirement already satisfied: typing-extensions>=4.8.0 in /usr/local/lib/python3.11/dist-packages (from torch>=1.3.0->stanza) (4.12.2)\n",
            "Requirement already satisfied: jinja2 in /usr/local/lib/python3.11/dist-packages (from torch>=1.3.0->stanza) (3.1.5)\n",
            "Requirement already satisfied: fsspec in /usr/local/lib/python3.11/dist-packages (from torch>=1.3.0->stanza) (2024.10.0)\n",
            "Collecting nvidia-cuda-nvrtc-cu12==12.4.127 (from torch>=1.3.0->stanza)\n",
            "  Downloading nvidia_cuda_nvrtc_cu12-12.4.127-py3-none-manylinux2014_x86_64.whl.metadata (1.5 kB)\n",
            "Collecting nvidia-cuda-runtime-cu12==12.4.127 (from torch>=1.3.0->stanza)\n",
            "  Downloading nvidia_cuda_runtime_cu12-12.4.127-py3-none-manylinux2014_x86_64.whl.metadata (1.5 kB)\n",
            "Collecting nvidia-cuda-cupti-cu12==12.4.127 (from torch>=1.3.0->stanza)\n",
            "  Downloading nvidia_cuda_cupti_cu12-12.4.127-py3-none-manylinux2014_x86_64.whl.metadata (1.6 kB)\n",
            "Collecting nvidia-cudnn-cu12==9.1.0.70 (from torch>=1.3.0->stanza)\n",
            "  Downloading nvidia_cudnn_cu12-9.1.0.70-py3-none-manylinux2014_x86_64.whl.metadata (1.6 kB)\n",
            "Collecting nvidia-cublas-cu12==12.4.5.8 (from torch>=1.3.0->stanza)\n",
            "  Downloading nvidia_cublas_cu12-12.4.5.8-py3-none-manylinux2014_x86_64.whl.metadata (1.5 kB)\n",
            "Collecting nvidia-cufft-cu12==11.2.1.3 (from torch>=1.3.0->stanza)\n",
            "  Downloading nvidia_cufft_cu12-11.2.1.3-py3-none-manylinux2014_x86_64.whl.metadata (1.5 kB)\n",
            "Collecting nvidia-curand-cu12==10.3.5.147 (from torch>=1.3.0->stanza)\n",
            "  Downloading nvidia_curand_cu12-10.3.5.147-py3-none-manylinux2014_x86_64.whl.metadata (1.5 kB)\n",
            "Collecting nvidia-cusolver-cu12==11.6.1.9 (from torch>=1.3.0->stanza)\n",
            "  Downloading nvidia_cusolver_cu12-11.6.1.9-py3-none-manylinux2014_x86_64.whl.metadata (1.6 kB)\n",
            "Collecting nvidia-cusparse-cu12==12.3.1.170 (from torch>=1.3.0->stanza)\n",
            "  Downloading nvidia_cusparse_cu12-12.3.1.170-py3-none-manylinux2014_x86_64.whl.metadata (1.6 kB)\n",
            "Requirement already satisfied: nvidia-nccl-cu12==2.21.5 in /usr/local/lib/python3.11/dist-packages (from torch>=1.3.0->stanza) (2.21.5)\n",
            "Requirement already satisfied: nvidia-nvtx-cu12==12.4.127 in /usr/local/lib/python3.11/dist-packages (from torch>=1.3.0->stanza) (12.4.127)\n",
            "Collecting nvidia-nvjitlink-cu12==12.4.127 (from torch>=1.3.0->stanza)\n",
            "  Downloading nvidia_nvjitlink_cu12-12.4.127-py3-none-manylinux2014_x86_64.whl.metadata (1.5 kB)\n",
            "Requirement already satisfied: triton==3.1.0 in /usr/local/lib/python3.11/dist-packages (from torch>=1.3.0->stanza) (3.1.0)\n",
            "Requirement already satisfied: sympy==1.13.1 in /usr/local/lib/python3.11/dist-packages (from torch>=1.3.0->stanza) (1.13.1)\n",
            "Requirement already satisfied: mpmath<1.4,>=1.1.0 in /usr/local/lib/python3.11/dist-packages (from sympy==1.13.1->torch>=1.3.0->stanza) (1.3.0)\n",
            "Requirement already satisfied: charset-normalizer<4,>=2 in /usr/local/lib/python3.11/dist-packages (from requests->stanza) (3.4.1)\n",
            "Requirement already satisfied: idna<4,>=2.5 in /usr/local/lib/python3.11/dist-packages (from requests->stanza) (3.10)\n",
            "Requirement already satisfied: urllib3<3,>=1.21.1 in /usr/local/lib/python3.11/dist-packages (from requests->stanza) (2.3.0)\n",
            "Requirement already satisfied: certifi>=2017.4.17 in /usr/local/lib/python3.11/dist-packages (from requests->stanza) (2025.1.31)\n",
            "Requirement already satisfied: MarkupSafe>=2.0 in /usr/local/lib/python3.11/dist-packages (from jinja2->torch>=1.3.0->stanza) (3.0.2)\n",
            "Downloading stanza-1.10.1-py3-none-any.whl (1.1 MB)\n",
            "\u001b[2K   \u001b[90m━━━━━━━━━━━━━━━━━━━━━━━━━━━━━━━━━━━━━━━━\u001b[0m \u001b[32m1.1/1.1 MB\u001b[0m \u001b[31m9.2 MB/s\u001b[0m eta \u001b[36m0:00:00\u001b[0m\n",
            "\u001b[?25hDownloading nvidia_cublas_cu12-12.4.5.8-py3-none-manylinux2014_x86_64.whl (363.4 MB)\n",
            "\u001b[2K   \u001b[90m━━━━━━━━━━━━━━━━━━━━━━━━━━━━━━━━━━━━━━━━\u001b[0m \u001b[32m363.4/363.4 MB\u001b[0m \u001b[31m1.3 MB/s\u001b[0m eta \u001b[36m0:00:00\u001b[0m\n",
            "\u001b[?25hDownloading nvidia_cuda_cupti_cu12-12.4.127-py3-none-manylinux2014_x86_64.whl (13.8 MB)\n",
            "\u001b[2K   \u001b[90m━━━━━━━━━━━━━━━━━━━━━━━━━━━━━━━━━━━━━━━━\u001b[0m \u001b[32m13.8/13.8 MB\u001b[0m \u001b[31m62.2 MB/s\u001b[0m eta \u001b[36m0:00:00\u001b[0m\n",
            "\u001b[?25hDownloading nvidia_cuda_nvrtc_cu12-12.4.127-py3-none-manylinux2014_x86_64.whl (24.6 MB)\n",
            "\u001b[2K   \u001b[90m━━━━━━━━━━━━━━━━━━━━━━━━━━━━━━━━━━━━━━━━\u001b[0m \u001b[32m24.6/24.6 MB\u001b[0m \u001b[31m52.0 MB/s\u001b[0m eta \u001b[36m0:00:00\u001b[0m\n",
            "\u001b[?25hDownloading nvidia_cuda_runtime_cu12-12.4.127-py3-none-manylinux2014_x86_64.whl (883 kB)\n",
            "\u001b[2K   \u001b[90m━━━━━━━━━━━━━━━━━━━━━━━━━━━━━━━━━━━━━━━━\u001b[0m \u001b[32m883.7/883.7 kB\u001b[0m \u001b[31m30.4 MB/s\u001b[0m eta \u001b[36m0:00:00\u001b[0m\n",
            "\u001b[?25hDownloading nvidia_cudnn_cu12-9.1.0.70-py3-none-manylinux2014_x86_64.whl (664.8 MB)\n",
            "\u001b[2K   \u001b[90m━━━━━━━━━━━━━━━━━━━━━━━━━━━━━━━━━━━━━━━━\u001b[0m \u001b[32m664.8/664.8 MB\u001b[0m \u001b[31m2.7 MB/s\u001b[0m eta \u001b[36m0:00:00\u001b[0m\n",
            "\u001b[?25hDownloading nvidia_cufft_cu12-11.2.1.3-py3-none-manylinux2014_x86_64.whl (211.5 MB)\n",
            "\u001b[2K   \u001b[90m━━━━━━━━━━━━━━━━━━━━━━━━━━━━━━━━━━━━━━━━\u001b[0m \u001b[32m211.5/211.5 MB\u001b[0m \u001b[31m6.2 MB/s\u001b[0m eta \u001b[36m0:00:00\u001b[0m\n",
            "\u001b[?25hDownloading nvidia_curand_cu12-10.3.5.147-py3-none-manylinux2014_x86_64.whl (56.3 MB)\n",
            "\u001b[2K   \u001b[90m━━━━━━━━━━━━━━━━━━━━━━━━━━━━━━━━━━━━━━━━\u001b[0m \u001b[32m56.3/56.3 MB\u001b[0m \u001b[31m10.3 MB/s\u001b[0m eta \u001b[36m0:00:00\u001b[0m\n",
            "\u001b[?25hDownloading nvidia_cusolver_cu12-11.6.1.9-py3-none-manylinux2014_x86_64.whl (127.9 MB)\n",
            "\u001b[2K   \u001b[90m━━━━━━━━━━━━━━━━━━━━━━━━━━━━━━━━━━━━━━━━\u001b[0m \u001b[32m127.9/127.9 MB\u001b[0m \u001b[31m7.7 MB/s\u001b[0m eta \u001b[36m0:00:00\u001b[0m\n",
            "\u001b[?25hDownloading nvidia_cusparse_cu12-12.3.1.170-py3-none-manylinux2014_x86_64.whl (207.5 MB)\n",
            "\u001b[2K   \u001b[90m━━━━━━━━━━━━━━━━━━━━━━━━━━━━━━━━━━━━━━━━\u001b[0m \u001b[32m207.5/207.5 MB\u001b[0m \u001b[31m5.2 MB/s\u001b[0m eta \u001b[36m0:00:00\u001b[0m\n",
            "\u001b[?25hDownloading nvidia_nvjitlink_cu12-12.4.127-py3-none-manylinux2014_x86_64.whl (21.1 MB)\n",
            "\u001b[2K   \u001b[90m━━━━━━━━━━━━━━━━━━━━━━━━━━━━━━━━━━━━━━━━\u001b[0m \u001b[32m21.1/21.1 MB\u001b[0m \u001b[31m68.7 MB/s\u001b[0m eta \u001b[36m0:00:00\u001b[0m\n",
            "\u001b[?25hDownloading emoji-2.14.1-py3-none-any.whl (590 kB)\n",
            "\u001b[2K   \u001b[90m━━━━━━━━━━━━━━━━━━━━━━━━━━━━━━━━━━━━━━━━\u001b[0m \u001b[32m590.6/590.6 kB\u001b[0m \u001b[31m33.3 MB/s\u001b[0m eta \u001b[36m0:00:00\u001b[0m\n",
            "\u001b[?25hInstalling collected packages: nvidia-nvjitlink-cu12, nvidia-curand-cu12, nvidia-cufft-cu12, nvidia-cuda-runtime-cu12, nvidia-cuda-nvrtc-cu12, nvidia-cuda-cupti-cu12, nvidia-cublas-cu12, emoji, nvidia-cusparse-cu12, nvidia-cudnn-cu12, nvidia-cusolver-cu12, stanza\n",
            "  Attempting uninstall: nvidia-nvjitlink-cu12\n",
            "    Found existing installation: nvidia-nvjitlink-cu12 12.5.82\n",
            "    Uninstalling nvidia-nvjitlink-cu12-12.5.82:\n",
            "      Successfully uninstalled nvidia-nvjitlink-cu12-12.5.82\n",
            "  Attempting uninstall: nvidia-curand-cu12\n",
            "    Found existing installation: nvidia-curand-cu12 10.3.6.82\n",
            "    Uninstalling nvidia-curand-cu12-10.3.6.82:\n",
            "      Successfully uninstalled nvidia-curand-cu12-10.3.6.82\n",
            "  Attempting uninstall: nvidia-cufft-cu12\n",
            "    Found existing installation: nvidia-cufft-cu12 11.2.3.61\n",
            "    Uninstalling nvidia-cufft-cu12-11.2.3.61:\n",
            "      Successfully uninstalled nvidia-cufft-cu12-11.2.3.61\n",
            "  Attempting uninstall: nvidia-cuda-runtime-cu12\n",
            "    Found existing installation: nvidia-cuda-runtime-cu12 12.5.82\n",
            "    Uninstalling nvidia-cuda-runtime-cu12-12.5.82:\n",
            "      Successfully uninstalled nvidia-cuda-runtime-cu12-12.5.82\n",
            "  Attempting uninstall: nvidia-cuda-nvrtc-cu12\n",
            "    Found existing installation: nvidia-cuda-nvrtc-cu12 12.5.82\n",
            "    Uninstalling nvidia-cuda-nvrtc-cu12-12.5.82:\n",
            "      Successfully uninstalled nvidia-cuda-nvrtc-cu12-12.5.82\n",
            "  Attempting uninstall: nvidia-cuda-cupti-cu12\n",
            "    Found existing installation: nvidia-cuda-cupti-cu12 12.5.82\n",
            "    Uninstalling nvidia-cuda-cupti-cu12-12.5.82:\n",
            "      Successfully uninstalled nvidia-cuda-cupti-cu12-12.5.82\n",
            "  Attempting uninstall: nvidia-cublas-cu12\n",
            "    Found existing installation: nvidia-cublas-cu12 12.5.3.2\n",
            "    Uninstalling nvidia-cublas-cu12-12.5.3.2:\n",
            "      Successfully uninstalled nvidia-cublas-cu12-12.5.3.2\n",
            "  Attempting uninstall: nvidia-cusparse-cu12\n",
            "    Found existing installation: nvidia-cusparse-cu12 12.5.1.3\n",
            "    Uninstalling nvidia-cusparse-cu12-12.5.1.3:\n",
            "      Successfully uninstalled nvidia-cusparse-cu12-12.5.1.3\n",
            "  Attempting uninstall: nvidia-cudnn-cu12\n",
            "    Found existing installation: nvidia-cudnn-cu12 9.3.0.75\n",
            "    Uninstalling nvidia-cudnn-cu12-9.3.0.75:\n",
            "      Successfully uninstalled nvidia-cudnn-cu12-9.3.0.75\n",
            "  Attempting uninstall: nvidia-cusolver-cu12\n",
            "    Found existing installation: nvidia-cusolver-cu12 11.6.3.83\n",
            "    Uninstalling nvidia-cusolver-cu12-11.6.3.83:\n",
            "      Successfully uninstalled nvidia-cusolver-cu12-11.6.3.83\n",
            "Successfully installed emoji-2.14.1 nvidia-cublas-cu12-12.4.5.8 nvidia-cuda-cupti-cu12-12.4.127 nvidia-cuda-nvrtc-cu12-12.4.127 nvidia-cuda-runtime-cu12-12.4.127 nvidia-cudnn-cu12-9.1.0.70 nvidia-cufft-cu12-11.2.1.3 nvidia-curand-cu12-10.3.5.147 nvidia-cusolver-cu12-11.6.1.9 nvidia-cusparse-cu12-12.3.1.170 nvidia-nvjitlink-cu12-12.4.127 stanza-1.10.1\n"
          ]
        }
      ]
    },
    {
      "cell_type": "code",
      "source": [
        "import stanza\n",
        "\n",
        "# Stanza Türkçe modeli indir\n",
        "stanza.download('tr')"
      ],
      "metadata": {
        "colab": {
          "base_uri": "https://localhost:8080/",
          "height": 150,
          "referenced_widgets": [
            "f61c8b1c91604ba9b031cd31c473681f",
            "4bcb86a4540b4dfd89c41b4b28967318",
            "7d6c9c7a3b6940e6b7006264770db6f3",
            "48b7a17eeed54938aaa0529448ba9133",
            "81dfad701632497caa00ed87a2c59ac4",
            "67ddae784b6f4df590ee3796ef75aa2d",
            "26becb767c2d4a78a97876fc98647438",
            "3c5ce9f09803423b9e2f962da3d2495c",
            "def0b167255c476e93082741fb2e3d61",
            "1c3168dc84fa48d69b844f8780f0e5b6",
            "16cf8c56603a426cb0ace3191cd874b4",
            "062cd625c9b141088d34c45b963075b0",
            "1d1d7e21a87543aeb3f6fce57224730b",
            "94139cb9dee24ecea0b2eb7d339eb6ff",
            "6950c540bd0247b597ed323bd6da4842",
            "05905e33e2fd4bfaba7caf0c0052d4aa",
            "72636503678947ce910d2319c2f378b0",
            "d1237a424dac43dc9e586a78859ed928",
            "26fc20ac953c49cf8e0700cf4ee34c9a",
            "7c116bdb509c4426b147e3fe75d233e1",
            "d688ab1f07cb4de9b83ab1ee67f9c001",
            "d31dc4ca11d442379d997e685512af49"
          ]
        },
        "id": "H8ZL3CTI3Rj0",
        "outputId": "9daf0401-e243-424b-80be-f330cea120a2"
      },
      "execution_count": null,
      "outputs": [
        {
          "output_type": "display_data",
          "data": {
            "text/plain": [
              "Downloading https://raw.githubusercontent.com/stanfordnlp/stanza-resources/main/resources_1.10.0.json:   0%|  …"
            ],
            "application/vnd.jupyter.widget-view+json": {
              "version_major": 2,
              "version_minor": 0,
              "model_id": "f61c8b1c91604ba9b031cd31c473681f"
            }
          },
          "metadata": {}
        },
        {
          "output_type": "stream",
          "name": "stderr",
          "text": [
            "INFO:stanza:Downloaded file to /root/stanza_resources/resources.json\n",
            "INFO:stanza:Downloading default packages for language: tr (Turkish) ...\n"
          ]
        },
        {
          "output_type": "display_data",
          "data": {
            "text/plain": [
              "Downloading https://huggingface.co/stanfordnlp/stanza-tr/resolve/v1.10.0/models/default.zip:   0%|          | …"
            ],
            "application/vnd.jupyter.widget-view+json": {
              "version_major": 2,
              "version_minor": 0,
              "model_id": "062cd625c9b141088d34c45b963075b0"
            }
          },
          "metadata": {}
        },
        {
          "output_type": "stream",
          "name": "stderr",
          "text": [
            "INFO:stanza:Downloaded file to /root/stanza_resources/tr/default.zip\n",
            "INFO:stanza:Finished downloading models and saved to /root/stanza_resources\n"
          ]
        }
      ]
    },
    {
      "cell_type": "code",
      "source": [
        "\n",
        "# Türkçe NLP pipeline oluştur\n",
        "nlp = stanza.Pipeline('tr')\n",
        "\n",
        "# Örnek Türkçe metin\n",
        "text = \"Doğal Dil İşleme ile Python kullanarak metin analizi yapmak oldukça ilgi çekici.\"\n",
        "\n",
        "# Metni işle\n",
        "doc = nlp(text)\n",
        "\n",
        "# POS etiketleme sonuçlarını yazdır\n",
        "print(\"POS Tags:\")\n",
        "for sentence in doc.sentences:\n",
        "    for word in sentence.words:\n",
        "        print(f\"{word.text}\\t{word.pos}\")"
      ],
      "metadata": {
        "colab": {
          "base_uri": "https://localhost:8080/",
          "height": 694,
          "referenced_widgets": [
            "0c706cb3752144a28ef7ed33f8568f3e",
            "a14da9193859400e909c67a5c76c6640",
            "c9e18153ad1b4406bde35d6df1cb5def",
            "032fab84d47e4f869674f8d2368197d3",
            "1ff52a1a96a045a480a759a949e9116e",
            "de78abca1c9f456d84f6de9c4c64a973",
            "309b3c5bba9149c1ae54f3f504e15f70",
            "5e06ca169e2d492695422538055580f9",
            "84814a72256e4381b8143d8c465ed7d3",
            "05350b4f68de4fc5b1ce8f52a3ef0bf2",
            "496e773f2f1e473cb15dd1eef08fc770"
          ]
        },
        "id": "mGrSE0hV3u5P",
        "outputId": "d37ad761-60f2-4662-ee8b-15fa6bd3d825"
      },
      "execution_count": null,
      "outputs": [
        {
          "output_type": "stream",
          "name": "stderr",
          "text": [
            "INFO:stanza:Checking for updates to resources.json in case models have been updated.  Note: this behavior can be turned off with download_method=None or download_method=DownloadMethod.REUSE_RESOURCES\n"
          ]
        },
        {
          "output_type": "display_data",
          "data": {
            "text/plain": [
              "Downloading https://raw.githubusercontent.com/stanfordnlp/stanza-resources/main/resources_1.10.0.json:   0%|  …"
            ],
            "application/vnd.jupyter.widget-view+json": {
              "version_major": 2,
              "version_minor": 0,
              "model_id": "0c706cb3752144a28ef7ed33f8568f3e"
            }
          },
          "metadata": {}
        },
        {
          "output_type": "stream",
          "name": "stderr",
          "text": [
            "INFO:stanza:Downloaded file to /root/stanza_resources/resources.json\n",
            "INFO:stanza:Loading these models for language: tr (Turkish):\n",
            "=============================\n",
            "| Processor | Package       |\n",
            "-----------------------------\n",
            "| tokenize  | imst          |\n",
            "| mwt       | imst          |\n",
            "| pos       | imst_charlm   |\n",
            "| lemma     | imst_nocharlm |\n",
            "| depparse  | imst_charlm   |\n",
            "| ner       | starlang      |\n",
            "=============================\n",
            "\n",
            "INFO:stanza:Using device: cpu\n",
            "INFO:stanza:Loading: tokenize\n",
            "INFO:stanza:Loading: mwt\n",
            "INFO:stanza:Loading: pos\n",
            "INFO:stanza:Loading: lemma\n",
            "INFO:stanza:Loading: depparse\n",
            "INFO:stanza:Loading: ner\n",
            "INFO:stanza:Done loading processors!\n"
          ]
        },
        {
          "output_type": "stream",
          "name": "stdout",
          "text": [
            "POS Tags:\n",
            "Doğal\tADJ\n",
            "Dil\tNOUN\n",
            "İşleme\tVERB\n",
            "ile\tCCONJ\n",
            "Python\tNOUN\n",
            "kullanarak\tVERB\n",
            "metin\tNOUN\n",
            "analizi\tNOUN\n",
            "yapmak\tVERB\n",
            "oldukça\tADV\n",
            "ilgi\tNOUN\n",
            "çekici\tNOUN\n",
            ".\tPUNCT\n"
          ]
        }
      ]
    },
    {
      "cell_type": "markdown",
      "source": [
        "**5.1.3 POS Etiketleyicilerinin Değerlendirilmesi**"
      ],
      "metadata": {
        "id": "YdFFSd4Z4MO3"
      }
    },
    {
      "cell_type": "markdown",
      "source": [
        "Kelime Parçası (POS) etiketleyicilerinin performansını değerlendirmek, çeşitli Doğal Dil İşleme (NLP) görevlerinde etkililiğini sağlamada önemli bir adımdır."
      ],
      "metadata": {
        "id": "lWNUPuGy4Pfq"
      }
    },
    {
      "cell_type": "markdown",
      "source": [
        " Bu değerlendirme için kullanılan birincil ölçütlerden biri , doğru şekilde etiketlenen kelimelerin oranını ölçen doğruluktur"
      ],
      "metadata": {
        "id": "ALfIkOpv4Rib"
      }
    },
    {
      "cell_type": "markdown",
      "source": [
        "Yüksek doğruluk, etiketleyicinin kelimelerin doğru dilbilgisi kategorilerini belirlemede iyi performans gösterdiğini gösterir."
      ],
      "metadata": {
        "id": "3sNA4ReL4TtX"
      }
    },
    {
      "cell_type": "markdown",
      "source": [
        "Önceki örnekte kullanılan gibi önceden eğitilmiş etiketleyiciler, büyük, açıklamalı metinler üzerinde eğitilmiş modellerle gelir. Bu metinler, her kelimenin doğru sözcük türüyle etiketlendiği çok miktarda metin verisi içerir. Kapsamlı ve çeşitli veri kümeleri üzerinde eğitildikleri için, önceden eğitilmiş etiketleyiciler genellikle yüksek doğruluk sağlar ve birçok standart uygulamada etkilidir."
      ],
      "metadata": {
        "id": "B2GX4SQg4XZC"
      }
    },
    {
      "cell_type": "markdown",
      "source": [
        "Ancak bu etiketleyicilerin performansı çeşitli faktörlere bağlı olarak önemli ölçüde değişebilir:"
      ],
      "metadata": {
        "id": "CmBZuuao4Zzz"
      }
    },
    {
      "cell_type": "markdown",
      "source": [
        "**Metin Alanı :**\n",
        "\n",
        " Metnin alanı veya türü, POS etiketleyicilerinin doğruluğunu etkileyebilir. Örneğin, haber makaleleri konusunda eğitilmiş bir etiketleyici, dil, stil ve kelime dağarcığı büyük ölçüde farklılık gösterebileceğinden sosyal medya metinlerinde iyi performans gösteremeyebilir.\n",
        "\n",
        "**Dil :**\n",
        "\n",
        "Metnin dili bir diğer kritik faktördür. Bazı önceden eğitilmiş etiketleyiciler birden fazla dille çalışmak üzere tasarlanmış olsa da, performansları belirli dile ve dilsel özelliklerine göre değişebilir.\n",
        "\n",
        "**Belirsizlik :**\n",
        "\n",
        " Doğal dil, bağlama bağlı olarak birden fazla konuşma bölümüne ait olabilen belirsiz sözcükler içerir. Örneğin, \"koşmak\" sözcüğü bir fiil (\"Her sabah koşarım\") veya bir isim (\"Koşuya çıktım\") olabilir. Bir POS etiketleyicisinin bu tür sözcükleri doğru şekilde belirsizleştirme yeteneği, yüksek doğruluk için önemlidir.\n",
        "\n",
        "**Eğitim Verilerinin Kalitesi :**\n",
        "\n",
        "Etiketleyiciyi eğitmek için kullanılan açıklamalı korpusların kalitesi ve temsililiği de önemli bir rol oynar. Yüksek kaliteli, iyi açıklamalı ve çeşitli eğitim verileri daha iyi performansa yol açabilir."
      ],
      "metadata": {
        "id": "2ZwFXG724bTc"
      }
    },
    {
      "cell_type": "markdown",
      "source": [
        "***Diğer Metriklerle Değerlendirme***\n",
        "\n",
        "Doğruluğun yanı sıra, POS etiketleyicilerini değerlendirmek için başka ölçümler de kullanılabilir:"
      ],
      "metadata": {
        "id": "kjGhclmG4pps"
      }
    },
    {
      "cell_type": "markdown",
      "source": [
        "**Kesinlik :**\n",
        "\n",
        " Etiketleyicinin belirli bir konuşma parçası olarak tanımladığı kelimeler arasında doğru etiketlenen kelimelerin oranını ölçer.\n",
        "\n",
        "**Hatırlama :**\n",
        "\n",
        "Etiketleyicinin belirli bir konuşma bölümünün gerçek örneklerinin oranını doğru bir şekilde belirlemesini ölçer.\n",
        "\n",
        "**F1 Puanı :**\n",
        "\n",
        "Etiketleyicinin performansının dengeli bir ölçümünü sağlayan, hassasiyet ve geri çağırmanın harmonik ortalaması."
      ],
      "metadata": {
        "id": "cSYkbO7B4sqR"
      }
    },
    {
      "cell_type": "markdown",
      "source": [
        "***Pratik Değerlendirme***"
      ],
      "metadata": {
        "id": "9tAqlMFj41WZ"
      }
    },
    {
      "cell_type": "code",
      "source": [
        "from nltk import pos_tag\n",
        "from nltk.corpus import treebank\n",
        "from sklearn.metrics import accuracy_score, precision_score, recall_score, f1_score\n",
        "import nltk\n",
        "nltk.download('treebank')\n",
        "# Load the treebank corpus\n",
        "test_data = treebank.tagged_sents()[3000:]\n",
        "test_sentences = [[word for word, tag in sent] for sent in test_data]\n",
        "gold_standard = [[tag for word, tag in sent] for sent in test_data]\n",
        "# Tag the test sentences using a pre-trained tagger\n",
        "tagger = nltk.PerceptronTagger()\n",
        "predicted_tags = [tagger.tag(sent) for sent in test_sentences]\n",
        "predicted_tags = [[tag for word, tag in sent] for sent in predicted_tags]\n",
        "# Flatten the lists to compute metrics\n",
        "gold_standard_flat = [tag for sent in gold_standard for tag in sent]\n",
        "predicted_tags_flat = [tag for sent in predicted_tags for tag in sent]\n",
        "# Compute evaluation metrics\n",
        "accuracy = accuracy_score(gold_standard_flat, predicted_tags_flat)\n",
        "precision = precision_score(gold_standard_flat, predicted_tags_flat, average='weighted')\n",
        "recall = recall_score(gold_standard_flat, predicted_tags_flat, average='weighted')\n",
        "f1 = f1_score(gold_standard_flat, predicted_tags_flat, average='weighted')\n",
        "print(\"Accuracy:\", accuracy)\n",
        "print(\"Precision:\", precision)\n",
        "print(\"Recall:\", recall)\n",
        "print(\"F1 Score:\", f1)"
      ],
      "metadata": {
        "colab": {
          "base_uri": "https://localhost:8080/"
        },
        "id": "zZT61Vm845E2",
        "outputId": "858e583e-1e21-416a-cf92-46c02c336f7e"
      },
      "execution_count": null,
      "outputs": [
        {
          "output_type": "stream",
          "name": "stderr",
          "text": [
            "[nltk_data] Downloading package treebank to /root/nltk_data...\n",
            "[nltk_data]   Package treebank is already up-to-date!\n",
            "/usr/local/lib/python3.11/dist-packages/sklearn/metrics/_classification.py:1565: UndefinedMetricWarning: Precision is ill-defined and being set to 0.0 in labels with no predicted samples. Use `zero_division` parameter to control this behavior.\n",
            "  _warn_prf(average, modifier, f\"{metric.capitalize()} is\", len(result))\n",
            "/usr/local/lib/python3.11/dist-packages/sklearn/metrics/_classification.py:1565: UndefinedMetricWarning: Recall is ill-defined and being set to 0.0 in labels with no true samples. Use `zero_division` parameter to control this behavior.\n",
            "  _warn_prf(average, modifier, f\"{metric.capitalize()} is\", len(result))\n"
          ]
        },
        {
          "output_type": "stream",
          "name": "stdout",
          "text": [
            "Accuracy: 0.8964817612777898\n",
            "Precision: 0.8470266295191433\n",
            "Recall: 0.8964817612777898\n",
            "F1 Score: 0.868165148433817\n"
          ]
        }
      ]
    },
    {
      "cell_type": "markdown",
      "source": [
        "Bu metrikler konsola yazdırılır ve POS etiketleyicinin performansını değerlendirmenize olanak tanır.\n",
        "Özetle, bu örnek nltk'den treebank corpus'u kullanarak bir POS etiketleyicisinin kapsamlı bir değerlendirmesini sağlar. Anahtar değerlendirme metriklerini hesaplayarak ve yazdırarak, etiketleyicinin belirli bir metindeki kelimelerin doğru dilbilgisi kategorilerini belirlemede ne kadar iyi performans gösterdiğini anlamaya yardımcı olur."
      ],
      "metadata": {
        "id": "i2d_txF65BAr"
      }
    },
    {
      "cell_type": "markdown",
      "source": [
        "POS etiketleyicilerini değerlendirmek, bunların etkinliğini ve sınırlamalarını anlamak için önemlidir. Doğruluk, kesinlik, geri çağırma ve F1 puanı gibi ölçümleri kullanarak, bir etiketleyicinin farklı alanlarda ve dillerde ne kadar iyi performans gösterdiğine dair içgörüler elde edilebilir.\n",
        "Bu değerlendirme, belirli NLP görevleri için uygun etiketleyicinin seçilmesine yardımcı olur ve seçilen etiketleyicinin istenen performans kriterlerini karşılamasını sağlar."
      ],
      "metadata": {
        "id": "kkVkQkVm5GYn"
      }
    },
    {
      "cell_type": "markdown",
      "source": [
        "***Örnek: Özel bir POS Etiketleyicisini Eğitmek***"
      ],
      "metadata": {
        "id": "3hF6Vhp_5JK6"
      }
    },
    {
      "cell_type": "code",
      "source": [
        "from nltk.tag import UnigramTagger, BigramTagger\n",
        "from nltk.corpus import treebank\n",
        "nltk.download('treebank')\n",
        "# Load the treebank corpus\n",
        "train_data = treebank.tagged_sents()[:3000]\n",
        "test_data = treebank.tagged_sents()[3000:]\n",
        "# Train a UnigramTagger\n",
        "unigram_tagger = UnigramTagger(train_data)\n",
        "# Evaluate the tagger\n",
        "accuracy = unigram_tagger.evaluate(test_data)\n",
        "print(\"Unigram Tagger Accuracy:\", accuracy)\n",
        "# Train a BigramTagger backed by the UnigramTagger\n",
        "bigram_tagger = BigramTagger(train_data, backoff=unigram_tagger)\n",
        "# Evaluate the tagger\n",
        "accuracy = bigram_tagger.evaluate(test_data)\n",
        "print(\"Bigram Tagger Accuracy:\", accuracy)"
      ],
      "metadata": {
        "colab": {
          "base_uri": "https://localhost:8080/"
        },
        "id": "_eawS_PQ5MF3",
        "outputId": "9c3965c3-d8b6-4677-b0a9-7bf33a024e61"
      },
      "execution_count": null,
      "outputs": [
        {
          "output_type": "stream",
          "name": "stderr",
          "text": [
            "[nltk_data] Downloading package treebank to /root/nltk_data...\n",
            "[nltk_data]   Package treebank is already up-to-date!\n",
            "<ipython-input-106-5d00b359d51f>:10: DeprecationWarning: \n",
            "  Function evaluate() has been deprecated.  Use accuracy(gold)\n",
            "  instead.\n",
            "  accuracy = unigram_tagger.evaluate(test_data)\n"
          ]
        },
        {
          "output_type": "stream",
          "name": "stdout",
          "text": [
            "Unigram Tagger Accuracy: 0.8571551910209367\n"
          ]
        },
        {
          "output_type": "stream",
          "name": "stderr",
          "text": [
            "<ipython-input-106-5d00b359d51f>:15: DeprecationWarning: \n",
            "  Function evaluate() has been deprecated.  Use accuracy(gold)\n",
            "  instead.\n",
            "  accuracy = bigram_tagger.evaluate(test_data)\n"
          ]
        },
        {
          "output_type": "stream",
          "name": "stdout",
          "text": [
            "Bigram Tagger Accuracy: 0.864839197064537\n"
          ]
        }
      ]
    },
    {
      "cell_type": "markdown",
      "source": [
        "***Özel POS Etiketleyicileri Eğitimi İçin Dikkat Edilmesi Gerekenler***"
      ],
      "metadata": {
        "id": "sw_rkaYQ5RUg"
      }
    },
    {
      "cell_type": "markdown",
      "source": [
        "**Açıklamalı Verilerin Kalitesi :**\n",
        "\n",
        "Özel POS etiketleyicinin performansı büyük ölçüde açıklamalı eğitim verilerinin kalitesine ve boyutuna bağlıdır. Yüksek kaliteli, iyi açıklamalı veriler daha iyi etiketleyici performansına yol açacaktır.\n",
        "\n",
        "**Hesaplama Kaynakları :**\n",
        "\n",
        " Özellikle büyük veri kümeleri veya gelişmiş modeller kullanan özel POS etiketleyicilerini eğitmek önemli miktarda hesaplama kaynağı gerektirebilir.\n",
        "\n",
        "**Değerlendirme ve Test :**\n",
        "\n",
        "Etkinliğini sağlamak için ayrı test veri kümelerini kullanarak özel POS etiketleyicisini kapsamlı bir şekilde değerlendirin. Doğruluk, kesinlik, geri çağırma ve F1 puanı gibi birden fazla ölçüm kullanmayı düşünün."
      ],
      "metadata": {
        "id": "nV61D7gc5TSH"
      }
    },
    {
      "cell_type": "markdown",
      "source": [
        "Özel POS etiketleyicileri eğiterek, belirli alanlardaki NLP uygulamalarının performansını artırabilir, daha doğru ve güvenilir sonuçlar elde edebilirsiniz."
      ],
      "metadata": {
        "id": "E5O_e_sj5hAJ"
      }
    },
    {
      "cell_type": "markdown",
      "source": [
        "***POS etiketleme uygulamaları***"
      ],
      "metadata": {
        "id": "nu4XClAG5qSG"
      }
    },
    {
      "cell_type": "markdown",
      "source": [
        "**Ayrıştırma :**\n",
        "\n",
        "Cümlelerin dilbilgisi yapısını anlamak birçok NLP görevi için çok önemlidir. Ayrıştırma, sözdizimsel yapılarını anlamak için cümleleri bileşenlerine ayırmayı içerir. POS etiketleme, her kelime için gerekli dilbilgisi etiketlerini sağlayarak bu sürece yardımcı olur ve bu da ayrıştırma ağaçlarının oluşturulmasına ve cümle sözdiziminin anlaşılmasına yardımcı olur.\n",
        "\n",
        "**Adlandırılmış Varlık Tanıma (NER) :**\n",
        "\n",
        "NER, metindeki varlıkları, örneğin kişilerin, kuruluşların, tarihlerin ve yerlerin adlarını tanımlamayı ve sınıflandırmayı içerir. POS etiketleme, farklı kelime türleri arasında ayrım yaparak bu süreçte yardımcı olur ve uygun isimleri ve diğer ilgili varlıkları tanımlamayı kolaylaştırır. Örneğin, \"Londra\"nın uygun bir isim olduğunu (NNP) fark etmek, onu bir yer olarak tanımlamaya yardımcı olabilir.\n",
        "\n",
        "\n",
        "**Duygu Analizi :**\n",
        "\n",
        "Duygu analizi, bir metin parçasının duygusunu veya duygusal tonunu belirlemeyi amaçlar. Duygu analizi sistemleri, sözcük türlerini etiketleyerek bir cümledeki farklı sözcüklerin rolünü daha iyi anlayabilir. Örneğin, sıfatlar (JJ) genellikle duygu bilgisi taşır (örneğin, \"mutlu\", \"üzgün\") ve bunların dilbilgisi rolünü anlamak duygu analizinin doğruluğunu artırabilir.\n",
        "\n",
        "**Bilgi Çıkarımı :**\n",
        "\n",
        "Bu, bir belgeden tarihleri, isimleri veya belirli nitelikleri çıkarmak gibi yapılandırılmamış metinden yapılandırılmış bilgileri çıkarmayı içerir. POS etiketleme, kelimelerin dilbilgisi rollerini belirlemeye yardımcı olarak ilgili bilgi parçalarını çıkarmayı kolaylaştırır. Örneğin, fiilleri (VB) ve bunlarla ilişkili özneleri ve nesneleri tanımlamak, metinden eylemleri ve varlıkları çıkarmaya yardımcı olabilir.\n",
        "\n",
        "**Makine Çevirisi :**\n",
        "\n",
        "Metni bir dilden diğerine çevirmek, cümle yapısının derinlemesine anlaşılmasını gerektirir. POS etiketleme, doğru çeviri için olmazsa olmaz olan kelimelerin dilbilgisi rollerini belirlemeye yardımcı olur. Makine çeviri sistemleri, konuşma bölümlerini anlayarak çeviri sırasında cümlelerin sözdizimsel ve anlamsal bütünlüğünü koruyabilir.\n",
        "\n",
        "**Metinden Konuşmaya Sistemleri :**\n",
        "\n",
        "Metinden konuşmaya dönüştürmede, cümlelerin dilbilgisi yapısını anlamak doğal sesli konuşma üretmeye yardımcı olur. POS etiketleme, bir cümlenin farklı bölümleri için doğru tonlama ve vurguyu belirlemeye yardımcı olur ve üretilen konuşmanın doğallığını artırır.\n",
        "\n",
        "**Dilbilgisi Kontrolü :**\n",
        "\n",
        "POS etiketleme, metindeki dilbilgisi hatalarını belirlemek için dilbilgisi kontrol araçlarında kullanılır. Bu araçlar, farklı kelimelerin rollerini anlayarak yanlış fiil zamanları, özne-fiil uyum hataları ve yanlış yerleştirilmiş sıfatlar gibi sorunları tespit edebilir ve düzeltme önerileri sunabilir."
      ],
      "metadata": {
        "id": "zvJ_8QRb5tQL"
      }
    },
    {
      "cell_type": "markdown",
      "source": [
        "## **5.2 Adlandırılmış Varlık Tanıma (NER)**"
      ],
      "metadata": {
        "id": "XXYjVhJgK3Kj"
      }
    },
    {
      "cell_type": "markdown",
      "source": [
        "Adlandırılmış Varlık Tanıma (NER), yapılandırılmamış metinde belirtilen adlandırılmış varlıkları tanımlamayı ve sınıflandırmayı amaçlayan bilgi çıkarma işleminin önemli bir alt görevidir. Bu varlıklar, kişilerin adları, kuruluşlar, konumlar, zaman ifadeleri, miktarlar, parasal değerler, yüzdeler ve daha fazlası gibi önceden tanımlanmış gruplara ayrılır."
      ],
      "metadata": {
        "id": "3T1xV6nIK_mx"
      }
    },
    {
      "cell_type": "markdown",
      "source": [
        "NER'in yetenekleri, yapılandırılmamış verilerden yapılandırılmış bilgi sağlayarak doğal dil işleme (NLP) görevlerinin performansını artırmaya kadar uzanır ve böylece daha kesin ve bağlamsal olarak farkında analizler mümkün olur"
      ],
      "metadata": {
        "id": "u2pyig0BLKYK"
      }
    },
    {
      "cell_type": "code",
      "source": [
        "import spacy\n",
        "# Load the pre-trained spaCy model\n",
        "nlp = spacy.load('en_core_web_sm')\n",
        "# Sample text\n",
        "text = \"Apple is looking at buying U.K. startup for 1 billion.\"\n",
        "# Process the text with the spaCy model\n",
        "doc = nlp(text)\n",
        "# Print named entities with their labels\n",
        "print(\"Named Entities:\")\n",
        "for ent in doc.ents:\n",
        "  print(ent.text, ent.label_)"
      ],
      "metadata": {
        "id": "AHyATjnuLoNC",
        "outputId": "0193e18d-e443-443b-b82e-454cb727dbf7",
        "colab": {
          "base_uri": "https://localhost:8080/"
        }
      },
      "execution_count": null,
      "outputs": [
        {
          "output_type": "stream",
          "name": "stdout",
          "text": [
            "Named Entities:\n",
            "Apple ORG\n",
            "U.K. GPE\n",
            "1 billion CARDINAL\n"
          ]
        }
      ]
    },
    {
      "cell_type": "code",
      "source": [
        "from sklearn.metrics import precision_score, recall_score, f1_score\n",
        "# True entities in the text (manually annotated)\n",
        "true_entities = [\"Apple\", \"U.K.\", \"startup\", \"1 billion\"]\n",
        "# Entities identified by the NER system\n",
        "predicted_entities = [\"Apple\", \"UK\", \"startup\", \"1B\"]\n",
        "# Calculate precision, recall, and F1 score\n",
        "precision = precision_score(true_entities, predicted_entities, average='micro')\n",
        "recall = recall_score(true_entities, predicted_entities, average='micro')\n",
        "f1 = f1_score(true_entities, predicted_entities, average='micro')\n",
        "print(f\"Precision: {precision}\")\n",
        "print(f\"Recall: {recall}\")\n",
        "print(f\"F1 Score: {f1}\")"
      ],
      "metadata": {
        "id": "tKWRLz6-MY67",
        "outputId": "ea007c04-ed2f-45d4-de6b-b0f1ca74a048",
        "colab": {
          "base_uri": "https://localhost:8080/"
        }
      },
      "execution_count": null,
      "outputs": [
        {
          "output_type": "stream",
          "name": "stdout",
          "text": [
            "Precision: 0.5\n",
            "Recall: 0.5\n",
            "F1 Score: 0.5\n"
          ]
        }
      ]
    },
    {
      "cell_type": "code",
      "source": [
        "import spacy\n",
        "from spacy.tokens import DocBin\n",
        "from spacy.training import Example\n",
        "from spacy.util import minibatch, compounding"
      ],
      "metadata": {
        "id": "g5q1KwlrMsg2"
      },
      "execution_count": null,
      "outputs": []
    },
    {
      "cell_type": "code",
      "source": [
        "nlp = spacy.blank(\"en\")"
      ],
      "metadata": {
        "id": "nEf1UuigMvWp"
      },
      "execution_count": null,
      "outputs": []
    },
    {
      "cell_type": "code",
      "source": [
        "ner = nlp.add_pipe(\"ner\")"
      ],
      "metadata": {
        "id": "aMukUxJSMxIK"
      },
      "execution_count": null,
      "outputs": []
    },
    {
      "cell_type": "code",
      "source": [
        "ner.add_label(\"GADGET\")"
      ],
      "metadata": {
        "id": "xzMlY6l9MzOy",
        "outputId": "907f6085-89cb-4e2f-f80c-11ff1f3b97d2",
        "colab": {
          "base_uri": "https://localhost:8080/"
        }
      },
      "execution_count": null,
      "outputs": [
        {
          "output_type": "execute_result",
          "data": {
            "text/plain": [
              "1"
            ]
          },
          "metadata": {},
          "execution_count": 11
        }
      ]
    },
    {
      "cell_type": "code",
      "source": [
        "TRAIN_DATA = [\n",
        "(\"Apple is releasing a new iPhone.\", {\"entities\": [(26, 32, \"GADGET\")]}),\n",
        "(\"The new iPad Pro is amazing.\", {\"entities\": [(8, 16, \"GADGET\")]}),\n",
        "]"
      ],
      "metadata": {
        "id": "6YBM2Mp4M23R"
      },
      "execution_count": null,
      "outputs": []
    },
    {
      "cell_type": "code",
      "source": [
        "doc_bin = DocBin()\n",
        "for text, annotations in TRAIN_DATA:\n",
        "   doc = nlp.make_doc(text)\n",
        "   example = Example.from_dict(doc, annotations)\n",
        "   doc_bin.add(example.reference)"
      ],
      "metadata": {
        "id": "T5nQZ724M5E6",
        "outputId": "a589c27c-2412-4382-c8f7-723ba1c2cec6",
        "colab": {
          "base_uri": "https://localhost:8080/"
        }
      },
      "execution_count": null,
      "outputs": [
        {
          "output_type": "stream",
          "name": "stderr",
          "text": [
            "/usr/local/lib/python3.11/dist-packages/spacy/training/iob_utils.py:149: UserWarning: [W030] Some entities could not be aligned in the text \"Apple is releasing a new iPhone.\" with entities \"[(26, 32, 'GADGET')]\". Use `spacy.training.offsets_to_biluo_tags(nlp.make_doc(text), entities)` to check the alignment. Misaligned entities ('-') will be ignored during training.\n",
            "  warnings.warn(\n"
          ]
        }
      ]
    },
    {
      "cell_type": "code",
      "source": [
        "examples = doc_bin.get_docs(nlp.vocab)"
      ],
      "metadata": {
        "id": "tmUL2xl9M_nL"
      },
      "execution_count": null,
      "outputs": []
    },
    {
      "cell_type": "code",
      "source": [
        "optimizer = nlp.begin_training()\n",
        "for epoch in range(10):\n",
        "  losses = {}\n",
        "  batches = minibatch(examples, size=compounding(4.0, 32.0, 1.001))\n",
        "  for batch in batches:\n",
        "    losses = {}\n",
        "      #nlp.update(batch, drop=0.5, losses=losses)\n",
        "  print(\"Losses\", losses)"
      ],
      "metadata": {
        "id": "0qbGe5y9NCAR",
        "outputId": "b85c6a76-15e1-408d-c7ae-b0e5ce48aa35",
        "colab": {
          "base_uri": "https://localhost:8080/"
        }
      },
      "execution_count": null,
      "outputs": [
        {
          "output_type": "stream",
          "name": "stdout",
          "text": [
            "Losses {}\n",
            "Losses {}\n",
            "Losses {}\n",
            "Losses {}\n",
            "Losses {}\n",
            "Losses {}\n",
            "Losses {}\n",
            "Losses {}\n",
            "Losses {}\n",
            "Losses {}\n"
          ]
        }
      ]
    },
    {
      "cell_type": "code",
      "source": [
        "doc = nlp(\"I just bought a new iPhone.\")\n",
        "print(\"Named Entities:\", [(ent.text, ent.label_) for ent in doc.ents])"
      ],
      "metadata": {
        "id": "9aTf1txwNepy",
        "outputId": "f4c169a6-f84a-43db-cc94-fb14607127e7",
        "colab": {
          "base_uri": "https://localhost:8080/"
        }
      },
      "execution_count": null,
      "outputs": [
        {
          "output_type": "stream",
          "name": "stdout",
          "text": [
            "Named Entities: []\n"
          ]
        }
      ]
    },
    {
      "cell_type": "code",
      "source": [
        "import spacy\n",
        "from spacy.tokens import DocBin\n",
        "from spacy.training import Example\n",
        "from spacy.util import minibatch, compounding\n",
        "\n",
        "# Create a blank English model\n",
        "nlp = spacy.blank(\"en\")\n",
        "\n",
        "# Create a new NER component and add it to the pipeline\n",
        "ner = nlp.add_pipe(\"ner\")\n",
        "\n",
        "# Add labels to the NER component\n",
        "ner.add_label(\"GADGET\")\n",
        "\n",
        "# Sample training data\n",
        "TRAIN_DATA = [\n",
        "    (\"Apple is releasing a new iPhone.\", {\"entities\": [(26, 32, \"GADGET\")]}),\n",
        "    (\"The new iPad Pro is amazing.\", {\"entities\": [(8, 16, \"GADGET\")]}),\n",
        "]\n",
        "\n",
        "# Convert the training data to spaCy's format\n",
        "doc_bin = DocBin()\n",
        "for text, annotations in TRAIN_DATA:\n",
        "    doc = nlp.make_doc(text)\n",
        "    example = Example.from_dict(doc, annotations)\n",
        "    doc_bin.add(example.reference)\n",
        "\n",
        "# Load the training data\n",
        "examples = doc_bin.get_docs(nlp.vocab)\n",
        "\n",
        "# Train the NER model\n",
        "optimizer = nlp.begin_training()\n",
        "for epoch in range(10):\n",
        "    losses = {}\n",
        "    batches = minibatch(examples, size=compounding(4.0, 32.0, 1.001))\n",
        "    for batch in batches:\n",
        "         nlp.update(batch, drop=0.5, losses=losses)\n",
        "    print(\"Losses\", losses)\n",
        "\n",
        "# Test the trained model\n",
        "doc = nlp(\"I just bought a new iPhone.\")\n",
        "print(\"Named Entities:\", [(ent.text, ent.label_) for ent in doc.ents])"
      ],
      "metadata": {
        "id": "MoZgPuSBci3P",
        "outputId": "10a5efb4-2f6c-4357-9929-b65f0aa02b7e",
        "colab": {
          "base_uri": "https://localhost:8080/",
          "height": 269
        }
      },
      "execution_count": 2,
      "outputs": [
        {
          "output_type": "error",
          "ename": "TypeError",
          "evalue": "[E978] The Language.update method takes a list of Example objects, but got: {<class 'spacy.tokens.doc.Doc'>}",
          "traceback": [
            "\u001b[0;31m---------------------------------------------------------------------------\u001b[0m",
            "\u001b[0;31mTypeError\u001b[0m                                 Traceback (most recent call last)",
            "\u001b[0;32m<ipython-input-2-75fad8946d7c>\u001b[0m in \u001b[0;36m<cell line: 0>\u001b[0;34m()\u001b[0m\n\u001b[1;32m     35\u001b[0m     \u001b[0mbatches\u001b[0m \u001b[0;34m=\u001b[0m \u001b[0mminibatch\u001b[0m\u001b[0;34m(\u001b[0m\u001b[0mexamples\u001b[0m\u001b[0;34m,\u001b[0m \u001b[0msize\u001b[0m\u001b[0;34m=\u001b[0m\u001b[0mcompounding\u001b[0m\u001b[0;34m(\u001b[0m\u001b[0;36m4.0\u001b[0m\u001b[0;34m,\u001b[0m \u001b[0;36m32.0\u001b[0m\u001b[0;34m,\u001b[0m \u001b[0;36m1.001\u001b[0m\u001b[0;34m)\u001b[0m\u001b[0;34m)\u001b[0m\u001b[0;34m\u001b[0m\u001b[0;34m\u001b[0m\u001b[0m\n\u001b[1;32m     36\u001b[0m     \u001b[0;32mfor\u001b[0m \u001b[0mbatch\u001b[0m \u001b[0;32min\u001b[0m \u001b[0mbatches\u001b[0m\u001b[0;34m:\u001b[0m\u001b[0;34m\u001b[0m\u001b[0;34m\u001b[0m\u001b[0m\n\u001b[0;32m---> 37\u001b[0;31m          \u001b[0mnlp\u001b[0m\u001b[0;34m.\u001b[0m\u001b[0mupdate\u001b[0m\u001b[0;34m(\u001b[0m\u001b[0mbatch\u001b[0m\u001b[0;34m,\u001b[0m \u001b[0mdrop\u001b[0m\u001b[0;34m=\u001b[0m\u001b[0;36m0.5\u001b[0m\u001b[0;34m,\u001b[0m \u001b[0mlosses\u001b[0m\u001b[0;34m=\u001b[0m\u001b[0mlosses\u001b[0m\u001b[0;34m)\u001b[0m\u001b[0;34m\u001b[0m\u001b[0;34m\u001b[0m\u001b[0m\n\u001b[0m\u001b[1;32m     38\u001b[0m     \u001b[0mprint\u001b[0m\u001b[0;34m(\u001b[0m\u001b[0;34m\"Losses\"\u001b[0m\u001b[0;34m,\u001b[0m \u001b[0mlosses\u001b[0m\u001b[0;34m)\u001b[0m\u001b[0;34m\u001b[0m\u001b[0;34m\u001b[0m\u001b[0m\n\u001b[1;32m     39\u001b[0m \u001b[0;34m\u001b[0m\u001b[0m\n",
            "\u001b[0;32m/usr/local/lib/python3.11/dist-packages/spacy/language.py\u001b[0m in \u001b[0;36mupdate\u001b[0;34m(self, examples, _, drop, sgd, losses, component_cfg, exclude, annotates)\u001b[0m\n\u001b[1;32m   1174\u001b[0m         \u001b[0;32mif\u001b[0m \u001b[0misinstance\u001b[0m\u001b[0;34m(\u001b[0m\u001b[0mexamples\u001b[0m\u001b[0;34m,\u001b[0m \u001b[0mlist\u001b[0m\u001b[0;34m)\u001b[0m \u001b[0;32mand\u001b[0m \u001b[0mlen\u001b[0m\u001b[0;34m(\u001b[0m\u001b[0mexamples\u001b[0m\u001b[0;34m)\u001b[0m \u001b[0;34m==\u001b[0m \u001b[0;36m0\u001b[0m\u001b[0;34m:\u001b[0m\u001b[0;34m\u001b[0m\u001b[0;34m\u001b[0m\u001b[0m\n\u001b[1;32m   1175\u001b[0m             \u001b[0;32mreturn\u001b[0m \u001b[0mlosses\u001b[0m\u001b[0;34m\u001b[0m\u001b[0;34m\u001b[0m\u001b[0m\n\u001b[0;32m-> 1176\u001b[0;31m         \u001b[0mvalidate_examples\u001b[0m\u001b[0;34m(\u001b[0m\u001b[0mexamples\u001b[0m\u001b[0;34m,\u001b[0m \u001b[0;34m\"Language.update\"\u001b[0m\u001b[0;34m)\u001b[0m\u001b[0;34m\u001b[0m\u001b[0;34m\u001b[0m\u001b[0m\n\u001b[0m\u001b[1;32m   1177\u001b[0m         \u001b[0mexamples\u001b[0m \u001b[0;34m=\u001b[0m \u001b[0m_copy_examples\u001b[0m\u001b[0;34m(\u001b[0m\u001b[0mexamples\u001b[0m\u001b[0;34m)\u001b[0m\u001b[0;34m\u001b[0m\u001b[0;34m\u001b[0m\u001b[0m\n\u001b[1;32m   1178\u001b[0m         \u001b[0;32mif\u001b[0m \u001b[0msgd\u001b[0m \u001b[0;32mis\u001b[0m \u001b[0;32mNone\u001b[0m\u001b[0;34m:\u001b[0m\u001b[0;34m\u001b[0m\u001b[0;34m\u001b[0m\u001b[0m\n",
            "\u001b[0;32m/usr/local/lib/python3.11/dist-packages/spacy/training/example.pyx\u001b[0m in \u001b[0;36mspacy.training.example.validate_examples\u001b[0;34m()\u001b[0m\n",
            "\u001b[0;31mTypeError\u001b[0m: [E978] The Language.update method takes a list of Example objects, but got: {<class 'spacy.tokens.doc.Doc'>}"
          ]
        }
      ]
    }
  ]
}