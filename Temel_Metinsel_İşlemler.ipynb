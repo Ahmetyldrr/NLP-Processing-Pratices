{
  "nbformat": 4,
  "nbformat_minor": 0,
  "metadata": {
    "colab": {
      "provenance": [],
      "toc_visible": true,
      "authorship_tag": "ABX9TyMdVa6qq6+n5g0LGBBmfRdC",
      "include_colab_link": true
    },
    "kernelspec": {
      "name": "python3",
      "display_name": "Python 3"
    },
    "language_info": {
      "name": "python"
    }
  },
  "cells": [
    {
      "cell_type": "markdown",
      "metadata": {
        "id": "view-in-github",
        "colab_type": "text"
      },
      "source": [
        "<a href=\"https://colab.research.google.com/github/Ahmetyldrr/NLP-Processing-Pratices/blob/main/Temel_Metinsel_%C4%B0%C5%9Flemler.ipynb\" target=\"_parent\"><img src=\"https://colab.research.google.com/assets/colab-badge.svg\" alt=\"Open In Colab\"/></a>"
      ]
    },
    {
      "cell_type": "markdown",
      "source": [],
      "metadata": {
        "id": "nV6CJ0TRRFtl"
      }
    },
    {
      "cell_type": "markdown",
      "source": [
        "# Temel Temizleme\n"
      ],
      "metadata": {
        "id": "dGO45bD1RHR6"
      }
    },
    {
      "cell_type": "markdown",
      "source": [
        "Metinlerin içinde bir çok karakter noktalama ve farklı durumlar vardır. Veri ön işleme aşamalarında temizleme yapılması gerekmektedir.\n",
        "Metin verilerinden anlam çıkarmak ve anlamlı içgörüler çıkarmak için kullanılır. Bu yöntemler, mevcut metinsel bilgilere dayanarak eğilimleri kategorize etmeye, özetlemeye ve tahmin etmeye yardımcı olur.\n",
        "\n",
        "\n",
        "\n"
      ],
      "metadata": {
        "id": "mpw55RgjRPYC"
      }
    }
  ]
}